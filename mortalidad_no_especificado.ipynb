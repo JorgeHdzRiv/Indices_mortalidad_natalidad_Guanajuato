{
 "cells": [
  {
   "attachments": {},
   "cell_type": "markdown",
   "metadata": {},
   "source": [
    "# Introduccion\n",
    "\n",
    "Anteriormente se realizo un archivo csv individual para trabajar con esta categoria en donde existen defunciones que no se sabe el lugar exacto donde ocurrieron y se dividieron en el atributo de municipio pero con el nombre de **No Especificado**"
   ]
  },
  {
   "cell_type": "code",
   "execution_count": 1,
   "metadata": {},
   "outputs": [],
   "source": [
    "import pandas as pd\n",
    "import plotly.express as px\n",
    "import numpy as np"
   ]
  },
  {
   "cell_type": "code",
   "execution_count": 2,
   "metadata": {},
   "outputs": [
    {
     "data": {
      "text/html": [
       "<div>\n",
       "<style scoped>\n",
       "    .dataframe tbody tr th:only-of-type {\n",
       "        vertical-align: middle;\n",
       "    }\n",
       "\n",
       "    .dataframe tbody tr th {\n",
       "        vertical-align: top;\n",
       "    }\n",
       "\n",
       "    .dataframe thead th {\n",
       "        text-align: right;\n",
       "    }\n",
       "</style>\n",
       "<table border=\"1\" class=\"dataframe\">\n",
       "  <thead>\n",
       "    <tr style=\"text-align: right;\">\n",
       "      <th></th>\n",
       "      <th>cve_entidad</th>\n",
       "      <th>desc_entidad</th>\n",
       "      <th>cve_municipio</th>\n",
       "      <th>desc_municipio</th>\n",
       "      <th>id_indicador</th>\n",
       "      <th>indicador</th>\n",
       "      <th>año</th>\n",
       "      <th>valor</th>\n",
       "      <th>unidad_medida</th>\n",
       "    </tr>\n",
       "  </thead>\n",
       "  <tbody>\n",
       "    <tr>\n",
       "      <th>10424</th>\n",
       "      <td>11</td>\n",
       "      <td>Guanajuato</td>\n",
       "      <td>996</td>\n",
       "      <td>No especificado</td>\n",
       "      <td>1002000030</td>\n",
       "      <td>Defunciones generales</td>\n",
       "      <td>1994</td>\n",
       "      <td>9.0</td>\n",
       "      <td>Defunciones</td>\n",
       "    </tr>\n",
       "    <tr>\n",
       "      <th>10425</th>\n",
       "      <td>11</td>\n",
       "      <td>Guanajuato</td>\n",
       "      <td>996</td>\n",
       "      <td>No especificado</td>\n",
       "      <td>1002000030</td>\n",
       "      <td>Defunciones generales</td>\n",
       "      <td>1995</td>\n",
       "      <td>6.0</td>\n",
       "      <td>Defunciones</td>\n",
       "    </tr>\n",
       "    <tr>\n",
       "      <th>10426</th>\n",
       "      <td>11</td>\n",
       "      <td>Guanajuato</td>\n",
       "      <td>996</td>\n",
       "      <td>No especificado</td>\n",
       "      <td>1002000030</td>\n",
       "      <td>Defunciones generales</td>\n",
       "      <td>1996</td>\n",
       "      <td>8.0</td>\n",
       "      <td>Defunciones</td>\n",
       "    </tr>\n",
       "    <tr>\n",
       "      <th>10427</th>\n",
       "      <td>11</td>\n",
       "      <td>Guanajuato</td>\n",
       "      <td>996</td>\n",
       "      <td>No especificado</td>\n",
       "      <td>1002000030</td>\n",
       "      <td>Defunciones generales</td>\n",
       "      <td>1997</td>\n",
       "      <td>0.0</td>\n",
       "      <td>Defunciones</td>\n",
       "    </tr>\n",
       "    <tr>\n",
       "      <th>10428</th>\n",
       "      <td>11</td>\n",
       "      <td>Guanajuato</td>\n",
       "      <td>996</td>\n",
       "      <td>No especificado</td>\n",
       "      <td>1002000030</td>\n",
       "      <td>Defunciones generales</td>\n",
       "      <td>1998</td>\n",
       "      <td>2.0</td>\n",
       "      <td>Defunciones</td>\n",
       "    </tr>\n",
       "    <tr>\n",
       "      <th>...</th>\n",
       "      <td>...</td>\n",
       "      <td>...</td>\n",
       "      <td>...</td>\n",
       "      <td>...</td>\n",
       "      <td>...</td>\n",
       "      <td>...</td>\n",
       "      <td>...</td>\n",
       "      <td>...</td>\n",
       "      <td>...</td>\n",
       "    </tr>\n",
       "    <tr>\n",
       "      <th>10639</th>\n",
       "      <td>11</td>\n",
       "      <td>Guanajuato</td>\n",
       "      <td>996</td>\n",
       "      <td>No especificado</td>\n",
       "      <td>1002000037</td>\n",
       "      <td>Defunciones de menores de un año de sexo no es...</td>\n",
       "      <td>2016</td>\n",
       "      <td>0.0</td>\n",
       "      <td>Defunciones</td>\n",
       "    </tr>\n",
       "    <tr>\n",
       "      <th>10640</th>\n",
       "      <td>11</td>\n",
       "      <td>Guanajuato</td>\n",
       "      <td>996</td>\n",
       "      <td>No especificado</td>\n",
       "      <td>1002000037</td>\n",
       "      <td>Defunciones de menores de un año de sexo no es...</td>\n",
       "      <td>2017</td>\n",
       "      <td>0.0</td>\n",
       "      <td>Defunciones</td>\n",
       "    </tr>\n",
       "    <tr>\n",
       "      <th>10641</th>\n",
       "      <td>11</td>\n",
       "      <td>Guanajuato</td>\n",
       "      <td>996</td>\n",
       "      <td>No especificado</td>\n",
       "      <td>1002000037</td>\n",
       "      <td>Defunciones de menores de un año de sexo no es...</td>\n",
       "      <td>2018</td>\n",
       "      <td>0.0</td>\n",
       "      <td>Defunciones</td>\n",
       "    </tr>\n",
       "    <tr>\n",
       "      <th>10642</th>\n",
       "      <td>11</td>\n",
       "      <td>Guanajuato</td>\n",
       "      <td>996</td>\n",
       "      <td>No especificado</td>\n",
       "      <td>1002000037</td>\n",
       "      <td>Defunciones de menores de un año de sexo no es...</td>\n",
       "      <td>2019</td>\n",
       "      <td>0.0</td>\n",
       "      <td>Defunciones</td>\n",
       "    </tr>\n",
       "    <tr>\n",
       "      <th>10643</th>\n",
       "      <td>11</td>\n",
       "      <td>Guanajuato</td>\n",
       "      <td>996</td>\n",
       "      <td>No especificado</td>\n",
       "      <td>1002000037</td>\n",
       "      <td>Defunciones de menores de un año de sexo no es...</td>\n",
       "      <td>2020</td>\n",
       "      <td>0.0</td>\n",
       "      <td>Defunciones</td>\n",
       "    </tr>\n",
       "  </tbody>\n",
       "</table>\n",
       "<p>220 rows × 9 columns</p>\n",
       "</div>"
      ],
      "text/plain": [
       "       cve_entidad desc_entidad  cve_municipio   desc_municipio  id_indicador  \\\n",
       "10424           11   Guanajuato            996  No especificado    1002000030   \n",
       "10425           11   Guanajuato            996  No especificado    1002000030   \n",
       "10426           11   Guanajuato            996  No especificado    1002000030   \n",
       "10427           11   Guanajuato            996  No especificado    1002000030   \n",
       "10428           11   Guanajuato            996  No especificado    1002000030   \n",
       "...            ...          ...            ...              ...           ...   \n",
       "10639           11   Guanajuato            996  No especificado    1002000037   \n",
       "10640           11   Guanajuato            996  No especificado    1002000037   \n",
       "10641           11   Guanajuato            996  No especificado    1002000037   \n",
       "10642           11   Guanajuato            996  No especificado    1002000037   \n",
       "10643           11   Guanajuato            996  No especificado    1002000037   \n",
       "\n",
       "                                               indicador   año  valor  \\\n",
       "10424                              Defunciones generales  1994    9.0   \n",
       "10425                              Defunciones generales  1995    6.0   \n",
       "10426                              Defunciones generales  1996    8.0   \n",
       "10427                              Defunciones generales  1997    0.0   \n",
       "10428                              Defunciones generales  1998    2.0   \n",
       "...                                                  ...   ...    ...   \n",
       "10639  Defunciones de menores de un año de sexo no es...  2016    0.0   \n",
       "10640  Defunciones de menores de un año de sexo no es...  2017    0.0   \n",
       "10641  Defunciones de menores de un año de sexo no es...  2018    0.0   \n",
       "10642  Defunciones de menores de un año de sexo no es...  2019    0.0   \n",
       "10643  Defunciones de menores de un año de sexo no es...  2020    0.0   \n",
       "\n",
       "      unidad_medida  \n",
       "10424   Defunciones  \n",
       "10425   Defunciones  \n",
       "10426   Defunciones  \n",
       "10427   Defunciones  \n",
       "10428   Defunciones  \n",
       "...             ...  \n",
       "10639   Defunciones  \n",
       "10640   Defunciones  \n",
       "10641   Defunciones  \n",
       "10642   Defunciones  \n",
       "10643   Defunciones  \n",
       "\n",
       "[220 rows x 9 columns]"
      ]
     },
     "execution_count": 2,
     "metadata": {},
     "output_type": "execute_result"
    }
   ],
   "source": [
    "no_especificado = pd.read_csv('./data/mortalidad_no_especificado.csv',index_col=0)\n",
    "no_especificado"
   ]
  },
  {
   "cell_type": "code",
   "execution_count": 3,
   "metadata": {},
   "outputs": [
    {
     "name": "stdout",
     "output_type": "stream",
     "text": [
      "<class 'pandas.core.frame.DataFrame'>\n",
      "Int64Index: 220 entries, 10424 to 10643\n",
      "Data columns (total 9 columns):\n",
      " #   Column          Non-Null Count  Dtype  \n",
      "---  ------          --------------  -----  \n",
      " 0   cve_entidad     220 non-null    int64  \n",
      " 1   desc_entidad    220 non-null    object \n",
      " 2   cve_municipio   220 non-null    int64  \n",
      " 3   desc_municipio  220 non-null    object \n",
      " 4   id_indicador    220 non-null    int64  \n",
      " 5   indicador       220 non-null    object \n",
      " 6   año             220 non-null    int64  \n",
      " 7   valor           220 non-null    float64\n",
      " 8   unidad_medida   220 non-null    object \n",
      "dtypes: float64(1), int64(4), object(4)\n",
      "memory usage: 17.2+ KB\n"
     ]
    }
   ],
   "source": [
    "no_especificado.info()"
   ]
  },
  {
   "cell_type": "code",
   "execution_count": 4,
   "metadata": {},
   "outputs": [
    {
     "data": {
      "text/plain": [
       "count    220.000000\n",
       "mean       2.609091\n",
       "std        7.060205\n",
       "min        0.000000\n",
       "25%        0.000000\n",
       "50%        1.000000\n",
       "75%        3.000000\n",
       "max       81.000000\n",
       "Name: valor, dtype: float64"
      ]
     },
     "execution_count": 4,
     "metadata": {},
     "output_type": "execute_result"
    }
   ],
   "source": [
    "no_especificado['valor'].describe()"
   ]
  },
  {
   "cell_type": "code",
   "execution_count": 5,
   "metadata": {},
   "outputs": [
    {
     "data": {
      "text/plain": [
       "Defunciones    220\n",
       "Name: unidad_medida, dtype: int64"
      ]
     },
     "execution_count": 5,
     "metadata": {},
     "output_type": "execute_result"
    }
   ],
   "source": [
    "no_especificado['unidad_medida'].value_counts()"
   ]
  },
  {
   "attachments": {},
   "cell_type": "markdown",
   "metadata": {},
   "source": [
    "**Al igual que en el apartado de municipios solo contamos con la categoria o unidad de medida de Defunciones**"
   ]
  },
  {
   "cell_type": "code",
   "execution_count": 6,
   "metadata": {},
   "outputs": [
    {
     "data": {
      "text/plain": [
       "array(['Defunciones generales', 'Defunciones generales hombres',\n",
       "       'Defunciones generales mujeres',\n",
       "       'Defunciones generales de sexo no especificado',\n",
       "       'Defunciones de menores de un año',\n",
       "       'Defunciones de menores de un año hombres',\n",
       "       'Defunciones de menores de un año mujeres',\n",
       "       'Defunciones de menores de un año de sexo no especificado'],\n",
       "      dtype=object)"
      ]
     },
     "execution_count": 6,
     "metadata": {},
     "output_type": "execute_result"
    }
   ],
   "source": [
    "no_especificado['indicador'].unique()"
   ]
  },
  {
   "cell_type": "code",
   "execution_count": 7,
   "metadata": {},
   "outputs": [
    {
     "data": {
      "text/plain": [
       "array([1994, 1995, 1996, 1997, 1998, 1999, 2000, 2001, 2002, 2003, 2004,\n",
       "       2005, 2006, 2007, 2008, 2009, 2010, 2011, 2012, 2013, 2014, 2015,\n",
       "       2016, 2017, 2018, 2019, 2020, 2021], dtype=int64)"
      ]
     },
     "execution_count": 7,
     "metadata": {},
     "output_type": "execute_result"
    }
   ],
   "source": [
    "no_especificado['año'].unique()"
   ]
  },
  {
   "attachments": {},
   "cell_type": "markdown",
   "metadata": {},
   "source": [
    "**Los indicadores se mantienen al igual que el tiempo de analisis**"
   ]
  },
  {
   "attachments": {},
   "cell_type": "markdown",
   "metadata": {},
   "source": [
    "# Visualizacion de Datos"
   ]
  },
  {
   "cell_type": "code",
   "execution_count": 8,
   "metadata": {},
   "outputs": [
    {
     "data": {
      "application/vnd.plotly.v1+json": {
       "config": {
        "plotlyServerURL": "https://plot.ly"
       },
       "data": [
        {
         "hovertemplate": "indicador=Defunciones generales<br>año=%{x}<br>Numero de defunciones=%{y}<extra></extra>",
         "legendgroup": "Defunciones generales",
         "line": {
          "color": "#636efa",
          "dash": "solid"
         },
         "marker": {
          "symbol": "circle"
         },
         "mode": "lines",
         "name": "Defunciones generales",
         "orientation": "v",
         "showlegend": true,
         "type": "scatter",
         "x": [
          1994,
          1995,
          1996,
          1997,
          1998,
          1999,
          2000,
          2001,
          2002,
          2003,
          2004,
          2005,
          2006,
          2007,
          2008,
          2009,
          2010,
          2011,
          2012,
          2013,
          2014,
          2015,
          2016,
          2017,
          2018,
          2019,
          2020,
          2021
         ],
         "xaxis": "x",
         "y": [
          9,
          6,
          8,
          0,
          2,
          10,
          11,
          3,
          10,
          6,
          9,
          6,
          9,
          1,
          4,
          6,
          4,
          9,
          12,
          2,
          8,
          14,
          2,
          5,
          81,
          5,
          8,
          4
         ],
         "yaxis": "y"
        },
        {
         "hovertemplate": "indicador=Defunciones generales hombres<br>año=%{x}<br>Numero de defunciones=%{y}<extra></extra>",
         "legendgroup": "Defunciones generales hombres",
         "line": {
          "color": "#EF553B",
          "dash": "solid"
         },
         "marker": {
          "symbol": "circle"
         },
         "mode": "lines",
         "name": "Defunciones generales hombres",
         "orientation": "v",
         "showlegend": true,
         "type": "scatter",
         "x": [
          1994,
          1995,
          1996,
          1997,
          1998,
          1999,
          2000,
          2001,
          2002,
          2003,
          2004,
          2005,
          2006,
          2007,
          2008,
          2009,
          2010,
          2011,
          2012,
          2013,
          2014,
          2015,
          2016,
          2017,
          2018,
          2019,
          2020,
          2021
         ],
         "xaxis": "x",
         "y": [
          7,
          3,
          5,
          0,
          1,
          8,
          6,
          1,
          7,
          3,
          7,
          3,
          5,
          1,
          4,
          5,
          2,
          7,
          8,
          1,
          4,
          9,
          2,
          1,
          47,
          1,
          6,
          4
         ],
         "yaxis": "y"
        },
        {
         "hovertemplate": "indicador=Defunciones generales mujeres<br>año=%{x}<br>Numero de defunciones=%{y}<extra></extra>",
         "legendgroup": "Defunciones generales mujeres",
         "line": {
          "color": "#00cc96",
          "dash": "solid"
         },
         "marker": {
          "symbol": "circle"
         },
         "mode": "lines",
         "name": "Defunciones generales mujeres",
         "orientation": "v",
         "showlegend": true,
         "type": "scatter",
         "x": [
          1994,
          1995,
          1996,
          1997,
          1998,
          1999,
          2000,
          2001,
          2002,
          2003,
          2004,
          2005,
          2006,
          2007,
          2008,
          2009,
          2010,
          2011,
          2012,
          2013,
          2014,
          2015,
          2016,
          2017,
          2018,
          2019,
          2020,
          2021
         ],
         "xaxis": "x",
         "y": [
          2,
          3,
          3,
          0,
          1,
          2,
          5,
          2,
          3,
          3,
          2,
          3,
          4,
          0,
          0,
          0,
          2,
          2,
          4,
          1,
          4,
          5,
          0,
          4,
          34,
          4,
          2,
          0
         ],
         "yaxis": "y"
        },
        {
         "hovertemplate": "indicador=Defunciones generales de sexo no especificado<br>año=%{x}<br>Numero de defunciones=%{y}<extra></extra>",
         "legendgroup": "Defunciones generales de sexo no especificado",
         "line": {
          "color": "#ab63fa",
          "dash": "solid"
         },
         "marker": {
          "symbol": "circle"
         },
         "mode": "lines",
         "name": "Defunciones generales de sexo no especificado",
         "orientation": "v",
         "showlegend": true,
         "type": "scatter",
         "x": [
          1994,
          1995,
          1996,
          1997,
          1998,
          1999,
          2000,
          2001,
          2002,
          2003,
          2004,
          2005,
          2006,
          2007,
          2008,
          2009,
          2010,
          2011,
          2012,
          2013,
          2014,
          2015,
          2016,
          2017,
          2018,
          2019,
          2020,
          2021
         ],
         "xaxis": "x",
         "y": [
          0,
          0,
          0,
          0,
          0,
          0,
          0,
          0,
          0,
          0,
          0,
          0,
          0,
          0,
          0,
          1,
          0,
          0,
          0,
          0,
          0,
          0,
          0,
          0,
          0,
          0,
          0,
          0
         ],
         "yaxis": "y"
        },
        {
         "hovertemplate": "indicador=Defunciones de menores de un año<br>año=%{x}<br>Numero de defunciones=%{y}<extra></extra>",
         "legendgroup": "Defunciones de menores de un año",
         "line": {
          "color": "#FFA15A",
          "dash": "solid"
         },
         "marker": {
          "symbol": "circle"
         },
         "mode": "lines",
         "name": "Defunciones de menores de un año",
         "orientation": "v",
         "showlegend": true,
         "type": "scatter",
         "x": [
          1994,
          1995,
          1996,
          1997,
          1998,
          1999,
          2000,
          2001,
          2002,
          2003,
          2004,
          2005,
          2006,
          2007,
          2008,
          2009,
          2010,
          2011,
          2012,
          2013,
          2014,
          2015,
          2016,
          2017,
          2018,
          2019,
          2020
         ],
         "xaxis": "x",
         "y": [
          0,
          1,
          1,
          0,
          0,
          1,
          3,
          0,
          1,
          0,
          3,
          0,
          7,
          0,
          1,
          1,
          0,
          1,
          2,
          0,
          1,
          2,
          0,
          2,
          6,
          0,
          0
         ],
         "yaxis": "y"
        },
        {
         "hovertemplate": "indicador=Defunciones de menores de un año hombres<br>año=%{x}<br>Numero de defunciones=%{y}<extra></extra>",
         "legendgroup": "Defunciones de menores de un año hombres",
         "line": {
          "color": "#19d3f3",
          "dash": "solid"
         },
         "marker": {
          "symbol": "circle"
         },
         "mode": "lines",
         "name": "Defunciones de menores de un año hombres",
         "orientation": "v",
         "showlegend": true,
         "type": "scatter",
         "x": [
          1994,
          1995,
          1996,
          1997,
          1998,
          1999,
          2000,
          2001,
          2002,
          2003,
          2004,
          2005,
          2006,
          2007,
          2008,
          2009,
          2010,
          2011,
          2012,
          2013,
          2014,
          2015,
          2016,
          2017,
          2018,
          2019,
          2020
         ],
         "xaxis": "x",
         "y": [
          0,
          1,
          1,
          0,
          0,
          0,
          1,
          0,
          1,
          0,
          2,
          0,
          3,
          0,
          1,
          0,
          0,
          1,
          2,
          0,
          1,
          1,
          0,
          1,
          5,
          0,
          0
         ],
         "yaxis": "y"
        },
        {
         "hovertemplate": "indicador=Defunciones de menores de un año mujeres<br>año=%{x}<br>Numero de defunciones=%{y}<extra></extra>",
         "legendgroup": "Defunciones de menores de un año mujeres",
         "line": {
          "color": "#FF6692",
          "dash": "solid"
         },
         "marker": {
          "symbol": "circle"
         },
         "mode": "lines",
         "name": "Defunciones de menores de un año mujeres",
         "orientation": "v",
         "showlegend": true,
         "type": "scatter",
         "x": [
          1994,
          1995,
          1996,
          1997,
          1998,
          1999,
          2000,
          2001,
          2002,
          2003,
          2004,
          2005,
          2006,
          2007,
          2008,
          2009,
          2010,
          2011,
          2012,
          2013,
          2014,
          2015,
          2016,
          2017,
          2018,
          2019,
          2020
         ],
         "xaxis": "x",
         "y": [
          0,
          0,
          0,
          0,
          0,
          1,
          2,
          0,
          0,
          0,
          1,
          0,
          4,
          0,
          0,
          0,
          0,
          0,
          0,
          0,
          0,
          1,
          0,
          1,
          1,
          0,
          0
         ],
         "yaxis": "y"
        },
        {
         "hovertemplate": "indicador=Defunciones de menores de un año de sexo no especificado<br>año=%{x}<br>Numero de defunciones=%{y}<extra></extra>",
         "legendgroup": "Defunciones de menores de un año de sexo no especificado",
         "line": {
          "color": "#B6E880",
          "dash": "solid"
         },
         "marker": {
          "symbol": "circle"
         },
         "mode": "lines",
         "name": "Defunciones de menores de un año de sexo no especificado",
         "orientation": "v",
         "showlegend": true,
         "type": "scatter",
         "x": [
          1994,
          1995,
          1996,
          1997,
          1998,
          1999,
          2000,
          2001,
          2002,
          2003,
          2004,
          2005,
          2006,
          2007,
          2008,
          2009,
          2010,
          2011,
          2012,
          2013,
          2014,
          2015,
          2016,
          2017,
          2018,
          2019,
          2020
         ],
         "xaxis": "x",
         "y": [
          0,
          0,
          0,
          0,
          0,
          0,
          0,
          0,
          0,
          0,
          0,
          0,
          0,
          0,
          0,
          1,
          0,
          0,
          0,
          0,
          0,
          0,
          0,
          0,
          0,
          0,
          0
         ],
         "yaxis": "y"
        }
       ],
       "layout": {
        "legend": {
         "title": {
          "text": "indicador"
         },
         "tracegroupgap": 0
        },
        "template": {
         "data": {
          "bar": [
           {
            "error_x": {
             "color": "#2a3f5f"
            },
            "error_y": {
             "color": "#2a3f5f"
            },
            "marker": {
             "line": {
              "color": "#E5ECF6",
              "width": 0.5
             },
             "pattern": {
              "fillmode": "overlay",
              "size": 10,
              "solidity": 0.2
             }
            },
            "type": "bar"
           }
          ],
          "barpolar": [
           {
            "marker": {
             "line": {
              "color": "#E5ECF6",
              "width": 0.5
             },
             "pattern": {
              "fillmode": "overlay",
              "size": 10,
              "solidity": 0.2
             }
            },
            "type": "barpolar"
           }
          ],
          "carpet": [
           {
            "aaxis": {
             "endlinecolor": "#2a3f5f",
             "gridcolor": "white",
             "linecolor": "white",
             "minorgridcolor": "white",
             "startlinecolor": "#2a3f5f"
            },
            "baxis": {
             "endlinecolor": "#2a3f5f",
             "gridcolor": "white",
             "linecolor": "white",
             "minorgridcolor": "white",
             "startlinecolor": "#2a3f5f"
            },
            "type": "carpet"
           }
          ],
          "choropleth": [
           {
            "colorbar": {
             "outlinewidth": 0,
             "ticks": ""
            },
            "type": "choropleth"
           }
          ],
          "contour": [
           {
            "colorbar": {
             "outlinewidth": 0,
             "ticks": ""
            },
            "colorscale": [
             [
              0,
              "#0d0887"
             ],
             [
              0.1111111111111111,
              "#46039f"
             ],
             [
              0.2222222222222222,
              "#7201a8"
             ],
             [
              0.3333333333333333,
              "#9c179e"
             ],
             [
              0.4444444444444444,
              "#bd3786"
             ],
             [
              0.5555555555555556,
              "#d8576b"
             ],
             [
              0.6666666666666666,
              "#ed7953"
             ],
             [
              0.7777777777777778,
              "#fb9f3a"
             ],
             [
              0.8888888888888888,
              "#fdca26"
             ],
             [
              1,
              "#f0f921"
             ]
            ],
            "type": "contour"
           }
          ],
          "contourcarpet": [
           {
            "colorbar": {
             "outlinewidth": 0,
             "ticks": ""
            },
            "type": "contourcarpet"
           }
          ],
          "heatmap": [
           {
            "colorbar": {
             "outlinewidth": 0,
             "ticks": ""
            },
            "colorscale": [
             [
              0,
              "#0d0887"
             ],
             [
              0.1111111111111111,
              "#46039f"
             ],
             [
              0.2222222222222222,
              "#7201a8"
             ],
             [
              0.3333333333333333,
              "#9c179e"
             ],
             [
              0.4444444444444444,
              "#bd3786"
             ],
             [
              0.5555555555555556,
              "#d8576b"
             ],
             [
              0.6666666666666666,
              "#ed7953"
             ],
             [
              0.7777777777777778,
              "#fb9f3a"
             ],
             [
              0.8888888888888888,
              "#fdca26"
             ],
             [
              1,
              "#f0f921"
             ]
            ],
            "type": "heatmap"
           }
          ],
          "heatmapgl": [
           {
            "colorbar": {
             "outlinewidth": 0,
             "ticks": ""
            },
            "colorscale": [
             [
              0,
              "#0d0887"
             ],
             [
              0.1111111111111111,
              "#46039f"
             ],
             [
              0.2222222222222222,
              "#7201a8"
             ],
             [
              0.3333333333333333,
              "#9c179e"
             ],
             [
              0.4444444444444444,
              "#bd3786"
             ],
             [
              0.5555555555555556,
              "#d8576b"
             ],
             [
              0.6666666666666666,
              "#ed7953"
             ],
             [
              0.7777777777777778,
              "#fb9f3a"
             ],
             [
              0.8888888888888888,
              "#fdca26"
             ],
             [
              1,
              "#f0f921"
             ]
            ],
            "type": "heatmapgl"
           }
          ],
          "histogram": [
           {
            "marker": {
             "pattern": {
              "fillmode": "overlay",
              "size": 10,
              "solidity": 0.2
             }
            },
            "type": "histogram"
           }
          ],
          "histogram2d": [
           {
            "colorbar": {
             "outlinewidth": 0,
             "ticks": ""
            },
            "colorscale": [
             [
              0,
              "#0d0887"
             ],
             [
              0.1111111111111111,
              "#46039f"
             ],
             [
              0.2222222222222222,
              "#7201a8"
             ],
             [
              0.3333333333333333,
              "#9c179e"
             ],
             [
              0.4444444444444444,
              "#bd3786"
             ],
             [
              0.5555555555555556,
              "#d8576b"
             ],
             [
              0.6666666666666666,
              "#ed7953"
             ],
             [
              0.7777777777777778,
              "#fb9f3a"
             ],
             [
              0.8888888888888888,
              "#fdca26"
             ],
             [
              1,
              "#f0f921"
             ]
            ],
            "type": "histogram2d"
           }
          ],
          "histogram2dcontour": [
           {
            "colorbar": {
             "outlinewidth": 0,
             "ticks": ""
            },
            "colorscale": [
             [
              0,
              "#0d0887"
             ],
             [
              0.1111111111111111,
              "#46039f"
             ],
             [
              0.2222222222222222,
              "#7201a8"
             ],
             [
              0.3333333333333333,
              "#9c179e"
             ],
             [
              0.4444444444444444,
              "#bd3786"
             ],
             [
              0.5555555555555556,
              "#d8576b"
             ],
             [
              0.6666666666666666,
              "#ed7953"
             ],
             [
              0.7777777777777778,
              "#fb9f3a"
             ],
             [
              0.8888888888888888,
              "#fdca26"
             ],
             [
              1,
              "#f0f921"
             ]
            ],
            "type": "histogram2dcontour"
           }
          ],
          "mesh3d": [
           {
            "colorbar": {
             "outlinewidth": 0,
             "ticks": ""
            },
            "type": "mesh3d"
           }
          ],
          "parcoords": [
           {
            "line": {
             "colorbar": {
              "outlinewidth": 0,
              "ticks": ""
             }
            },
            "type": "parcoords"
           }
          ],
          "pie": [
           {
            "automargin": true,
            "type": "pie"
           }
          ],
          "scatter": [
           {
            "fillpattern": {
             "fillmode": "overlay",
             "size": 10,
             "solidity": 0.2
            },
            "type": "scatter"
           }
          ],
          "scatter3d": [
           {
            "line": {
             "colorbar": {
              "outlinewidth": 0,
              "ticks": ""
             }
            },
            "marker": {
             "colorbar": {
              "outlinewidth": 0,
              "ticks": ""
             }
            },
            "type": "scatter3d"
           }
          ],
          "scattercarpet": [
           {
            "marker": {
             "colorbar": {
              "outlinewidth": 0,
              "ticks": ""
             }
            },
            "type": "scattercarpet"
           }
          ],
          "scattergeo": [
           {
            "marker": {
             "colorbar": {
              "outlinewidth": 0,
              "ticks": ""
             }
            },
            "type": "scattergeo"
           }
          ],
          "scattergl": [
           {
            "marker": {
             "colorbar": {
              "outlinewidth": 0,
              "ticks": ""
             }
            },
            "type": "scattergl"
           }
          ],
          "scattermapbox": [
           {
            "marker": {
             "colorbar": {
              "outlinewidth": 0,
              "ticks": ""
             }
            },
            "type": "scattermapbox"
           }
          ],
          "scatterpolar": [
           {
            "marker": {
             "colorbar": {
              "outlinewidth": 0,
              "ticks": ""
             }
            },
            "type": "scatterpolar"
           }
          ],
          "scatterpolargl": [
           {
            "marker": {
             "colorbar": {
              "outlinewidth": 0,
              "ticks": ""
             }
            },
            "type": "scatterpolargl"
           }
          ],
          "scatterternary": [
           {
            "marker": {
             "colorbar": {
              "outlinewidth": 0,
              "ticks": ""
             }
            },
            "type": "scatterternary"
           }
          ],
          "surface": [
           {
            "colorbar": {
             "outlinewidth": 0,
             "ticks": ""
            },
            "colorscale": [
             [
              0,
              "#0d0887"
             ],
             [
              0.1111111111111111,
              "#46039f"
             ],
             [
              0.2222222222222222,
              "#7201a8"
             ],
             [
              0.3333333333333333,
              "#9c179e"
             ],
             [
              0.4444444444444444,
              "#bd3786"
             ],
             [
              0.5555555555555556,
              "#d8576b"
             ],
             [
              0.6666666666666666,
              "#ed7953"
             ],
             [
              0.7777777777777778,
              "#fb9f3a"
             ],
             [
              0.8888888888888888,
              "#fdca26"
             ],
             [
              1,
              "#f0f921"
             ]
            ],
            "type": "surface"
           }
          ],
          "table": [
           {
            "cells": {
             "fill": {
              "color": "#EBF0F8"
             },
             "line": {
              "color": "white"
             }
            },
            "header": {
             "fill": {
              "color": "#C8D4E3"
             },
             "line": {
              "color": "white"
             }
            },
            "type": "table"
           }
          ]
         },
         "layout": {
          "annotationdefaults": {
           "arrowcolor": "#2a3f5f",
           "arrowhead": 0,
           "arrowwidth": 1
          },
          "autotypenumbers": "strict",
          "coloraxis": {
           "colorbar": {
            "outlinewidth": 0,
            "ticks": ""
           }
          },
          "colorscale": {
           "diverging": [
            [
             0,
             "#8e0152"
            ],
            [
             0.1,
             "#c51b7d"
            ],
            [
             0.2,
             "#de77ae"
            ],
            [
             0.3,
             "#f1b6da"
            ],
            [
             0.4,
             "#fde0ef"
            ],
            [
             0.5,
             "#f7f7f7"
            ],
            [
             0.6,
             "#e6f5d0"
            ],
            [
             0.7,
             "#b8e186"
            ],
            [
             0.8,
             "#7fbc41"
            ],
            [
             0.9,
             "#4d9221"
            ],
            [
             1,
             "#276419"
            ]
           ],
           "sequential": [
            [
             0,
             "#0d0887"
            ],
            [
             0.1111111111111111,
             "#46039f"
            ],
            [
             0.2222222222222222,
             "#7201a8"
            ],
            [
             0.3333333333333333,
             "#9c179e"
            ],
            [
             0.4444444444444444,
             "#bd3786"
            ],
            [
             0.5555555555555556,
             "#d8576b"
            ],
            [
             0.6666666666666666,
             "#ed7953"
            ],
            [
             0.7777777777777778,
             "#fb9f3a"
            ],
            [
             0.8888888888888888,
             "#fdca26"
            ],
            [
             1,
             "#f0f921"
            ]
           ],
           "sequentialminus": [
            [
             0,
             "#0d0887"
            ],
            [
             0.1111111111111111,
             "#46039f"
            ],
            [
             0.2222222222222222,
             "#7201a8"
            ],
            [
             0.3333333333333333,
             "#9c179e"
            ],
            [
             0.4444444444444444,
             "#bd3786"
            ],
            [
             0.5555555555555556,
             "#d8576b"
            ],
            [
             0.6666666666666666,
             "#ed7953"
            ],
            [
             0.7777777777777778,
             "#fb9f3a"
            ],
            [
             0.8888888888888888,
             "#fdca26"
            ],
            [
             1,
             "#f0f921"
            ]
           ]
          },
          "colorway": [
           "#636efa",
           "#EF553B",
           "#00cc96",
           "#ab63fa",
           "#FFA15A",
           "#19d3f3",
           "#FF6692",
           "#B6E880",
           "#FF97FF",
           "#FECB52"
          ],
          "font": {
           "color": "#2a3f5f"
          },
          "geo": {
           "bgcolor": "white",
           "lakecolor": "white",
           "landcolor": "#E5ECF6",
           "showlakes": true,
           "showland": true,
           "subunitcolor": "white"
          },
          "hoverlabel": {
           "align": "left"
          },
          "hovermode": "closest",
          "mapbox": {
           "style": "light"
          },
          "paper_bgcolor": "white",
          "plot_bgcolor": "#E5ECF6",
          "polar": {
           "angularaxis": {
            "gridcolor": "white",
            "linecolor": "white",
            "ticks": ""
           },
           "bgcolor": "#E5ECF6",
           "radialaxis": {
            "gridcolor": "white",
            "linecolor": "white",
            "ticks": ""
           }
          },
          "scene": {
           "xaxis": {
            "backgroundcolor": "#E5ECF6",
            "gridcolor": "white",
            "gridwidth": 2,
            "linecolor": "white",
            "showbackground": true,
            "ticks": "",
            "zerolinecolor": "white"
           },
           "yaxis": {
            "backgroundcolor": "#E5ECF6",
            "gridcolor": "white",
            "gridwidth": 2,
            "linecolor": "white",
            "showbackground": true,
            "ticks": "",
            "zerolinecolor": "white"
           },
           "zaxis": {
            "backgroundcolor": "#E5ECF6",
            "gridcolor": "white",
            "gridwidth": 2,
            "linecolor": "white",
            "showbackground": true,
            "ticks": "",
            "zerolinecolor": "white"
           }
          },
          "shapedefaults": {
           "line": {
            "color": "#2a3f5f"
           }
          },
          "ternary": {
           "aaxis": {
            "gridcolor": "white",
            "linecolor": "white",
            "ticks": ""
           },
           "baxis": {
            "gridcolor": "white",
            "linecolor": "white",
            "ticks": ""
           },
           "bgcolor": "#E5ECF6",
           "caxis": {
            "gridcolor": "white",
            "linecolor": "white",
            "ticks": ""
           }
          },
          "title": {
           "x": 0.05
          },
          "xaxis": {
           "automargin": true,
           "gridcolor": "white",
           "linecolor": "white",
           "ticks": "",
           "title": {
            "standoff": 15
           },
           "zerolinecolor": "white",
           "zerolinewidth": 2
          },
          "yaxis": {
           "automargin": true,
           "gridcolor": "white",
           "linecolor": "white",
           "ticks": "",
           "title": {
            "standoff": 15
           },
           "zerolinecolor": "white",
           "zerolinewidth": 2
          }
         }
        },
        "title": {
         "text": "Defunciones a lo largo del tiempo en lugares no especificados dentro de Guanajuato"
        },
        "xaxis": {
         "anchor": "y",
         "domain": [
          0,
          1
         ],
         "title": {
          "text": "año"
         }
        },
        "yaxis": {
         "anchor": "x",
         "domain": [
          0,
          1
         ],
         "title": {
          "text": "Numero de defunciones"
         }
        }
       }
      }
     },
     "metadata": {},
     "output_type": "display_data"
    }
   ],
   "source": [
    "line = px.line(no_especificado,x='año',y='valor',color='indicador',labels={'valor':'Numero de defunciones'},title='Defunciones a lo largo del tiempo en lugares no especificados dentro de Guanajuato')\n",
    "line.show()"
   ]
  },
  {
   "cell_type": "code",
   "execution_count": 9,
   "metadata": {},
   "outputs": [
    {
     "data": {
      "text/plain": [
       "indicador\n",
       "Defunciones generales                                       254.0\n",
       "Defunciones generales hombres                               158.0\n",
       "Defunciones generales mujeres                                95.0\n",
       "Defunciones de menores de un año                             33.0\n",
       "Defunciones de menores de un año hombres                     21.0\n",
       "Defunciones de menores de un año mujeres                     11.0\n",
       "Defunciones de menores de un año de sexo no especificado      1.0\n",
       "Defunciones generales de sexo no especificado                 1.0\n",
       "Name: valor, dtype: float64"
      ]
     },
     "execution_count": 9,
     "metadata": {},
     "output_type": "execute_result"
    }
   ],
   "source": [
    "grupo = no_especificado.groupby(['indicador'])['valor'].agg('sum')\n",
    "grupo.sort_values(ascending=False)"
   ]
  },
  {
   "cell_type": "code",
   "execution_count": 10,
   "metadata": {},
   "outputs": [
    {
     "data": {
      "application/vnd.plotly.v1+json": {
       "config": {
        "plotlyServerURL": "https://plot.ly"
       },
       "data": [
        {
         "alignmentgroup": "True",
         "bingroup": "x",
         "histfunc": "sum",
         "hovertemplate": "indicador=%{x}<br>sum of Numero de defunciones=%{y}<extra></extra>",
         "legendgroup": "",
         "marker": {
          "color": "#636efa",
          "pattern": {
           "shape": ""
          }
         },
         "name": "",
         "offsetgroup": "",
         "orientation": "v",
         "showlegend": false,
         "texttemplate": "%{value}",
         "type": "histogram",
         "x": [
          "Defunciones generales",
          "Defunciones generales",
          "Defunciones generales",
          "Defunciones generales",
          "Defunciones generales",
          "Defunciones generales",
          "Defunciones generales",
          "Defunciones generales",
          "Defunciones generales",
          "Defunciones generales",
          "Defunciones generales",
          "Defunciones generales",
          "Defunciones generales",
          "Defunciones generales",
          "Defunciones generales",
          "Defunciones generales",
          "Defunciones generales",
          "Defunciones generales",
          "Defunciones generales",
          "Defunciones generales",
          "Defunciones generales",
          "Defunciones generales",
          "Defunciones generales",
          "Defunciones generales",
          "Defunciones generales",
          "Defunciones generales",
          "Defunciones generales",
          "Defunciones generales",
          "Defunciones generales hombres",
          "Defunciones generales hombres",
          "Defunciones generales hombres",
          "Defunciones generales hombres",
          "Defunciones generales hombres",
          "Defunciones generales hombres",
          "Defunciones generales hombres",
          "Defunciones generales hombres",
          "Defunciones generales hombres",
          "Defunciones generales hombres",
          "Defunciones generales hombres",
          "Defunciones generales hombres",
          "Defunciones generales hombres",
          "Defunciones generales hombres",
          "Defunciones generales hombres",
          "Defunciones generales hombres",
          "Defunciones generales hombres",
          "Defunciones generales hombres",
          "Defunciones generales hombres",
          "Defunciones generales hombres",
          "Defunciones generales hombres",
          "Defunciones generales hombres",
          "Defunciones generales hombres",
          "Defunciones generales hombres",
          "Defunciones generales hombres",
          "Defunciones generales hombres",
          "Defunciones generales hombres",
          "Defunciones generales hombres",
          "Defunciones generales mujeres",
          "Defunciones generales mujeres",
          "Defunciones generales mujeres",
          "Defunciones generales mujeres",
          "Defunciones generales mujeres",
          "Defunciones generales mujeres",
          "Defunciones generales mujeres",
          "Defunciones generales mujeres",
          "Defunciones generales mujeres",
          "Defunciones generales mujeres",
          "Defunciones generales mujeres",
          "Defunciones generales mujeres",
          "Defunciones generales mujeres",
          "Defunciones generales mujeres",
          "Defunciones generales mujeres",
          "Defunciones generales mujeres",
          "Defunciones generales mujeres",
          "Defunciones generales mujeres",
          "Defunciones generales mujeres",
          "Defunciones generales mujeres",
          "Defunciones generales mujeres",
          "Defunciones generales mujeres",
          "Defunciones generales mujeres",
          "Defunciones generales mujeres",
          "Defunciones generales mujeres",
          "Defunciones generales mujeres",
          "Defunciones generales mujeres",
          "Defunciones generales mujeres",
          "Defunciones generales de sexo no especificado",
          "Defunciones generales de sexo no especificado",
          "Defunciones generales de sexo no especificado",
          "Defunciones generales de sexo no especificado",
          "Defunciones generales de sexo no especificado",
          "Defunciones generales de sexo no especificado",
          "Defunciones generales de sexo no especificado",
          "Defunciones generales de sexo no especificado",
          "Defunciones generales de sexo no especificado",
          "Defunciones generales de sexo no especificado",
          "Defunciones generales de sexo no especificado",
          "Defunciones generales de sexo no especificado",
          "Defunciones generales de sexo no especificado",
          "Defunciones generales de sexo no especificado",
          "Defunciones generales de sexo no especificado",
          "Defunciones generales de sexo no especificado",
          "Defunciones generales de sexo no especificado",
          "Defunciones generales de sexo no especificado",
          "Defunciones generales de sexo no especificado",
          "Defunciones generales de sexo no especificado",
          "Defunciones generales de sexo no especificado",
          "Defunciones generales de sexo no especificado",
          "Defunciones generales de sexo no especificado",
          "Defunciones generales de sexo no especificado",
          "Defunciones generales de sexo no especificado",
          "Defunciones generales de sexo no especificado",
          "Defunciones generales de sexo no especificado",
          "Defunciones generales de sexo no especificado",
          "Defunciones de menores de un año",
          "Defunciones de menores de un año",
          "Defunciones de menores de un año",
          "Defunciones de menores de un año",
          "Defunciones de menores de un año",
          "Defunciones de menores de un año",
          "Defunciones de menores de un año",
          "Defunciones de menores de un año",
          "Defunciones de menores de un año",
          "Defunciones de menores de un año",
          "Defunciones de menores de un año",
          "Defunciones de menores de un año",
          "Defunciones de menores de un año",
          "Defunciones de menores de un año",
          "Defunciones de menores de un año",
          "Defunciones de menores de un año",
          "Defunciones de menores de un año",
          "Defunciones de menores de un año",
          "Defunciones de menores de un año",
          "Defunciones de menores de un año",
          "Defunciones de menores de un año",
          "Defunciones de menores de un año",
          "Defunciones de menores de un año",
          "Defunciones de menores de un año",
          "Defunciones de menores de un año",
          "Defunciones de menores de un año",
          "Defunciones de menores de un año",
          "Defunciones de menores de un año hombres",
          "Defunciones de menores de un año hombres",
          "Defunciones de menores de un año hombres",
          "Defunciones de menores de un año hombres",
          "Defunciones de menores de un año hombres",
          "Defunciones de menores de un año hombres",
          "Defunciones de menores de un año hombres",
          "Defunciones de menores de un año hombres",
          "Defunciones de menores de un año hombres",
          "Defunciones de menores de un año hombres",
          "Defunciones de menores de un año hombres",
          "Defunciones de menores de un año hombres",
          "Defunciones de menores de un año hombres",
          "Defunciones de menores de un año hombres",
          "Defunciones de menores de un año hombres",
          "Defunciones de menores de un año hombres",
          "Defunciones de menores de un año hombres",
          "Defunciones de menores de un año hombres",
          "Defunciones de menores de un año hombres",
          "Defunciones de menores de un año hombres",
          "Defunciones de menores de un año hombres",
          "Defunciones de menores de un año hombres",
          "Defunciones de menores de un año hombres",
          "Defunciones de menores de un año hombres",
          "Defunciones de menores de un año hombres",
          "Defunciones de menores de un año hombres",
          "Defunciones de menores de un año hombres",
          "Defunciones de menores de un año mujeres",
          "Defunciones de menores de un año mujeres",
          "Defunciones de menores de un año mujeres",
          "Defunciones de menores de un año mujeres",
          "Defunciones de menores de un año mujeres",
          "Defunciones de menores de un año mujeres",
          "Defunciones de menores de un año mujeres",
          "Defunciones de menores de un año mujeres",
          "Defunciones de menores de un año mujeres",
          "Defunciones de menores de un año mujeres",
          "Defunciones de menores de un año mujeres",
          "Defunciones de menores de un año mujeres",
          "Defunciones de menores de un año mujeres",
          "Defunciones de menores de un año mujeres",
          "Defunciones de menores de un año mujeres",
          "Defunciones de menores de un año mujeres",
          "Defunciones de menores de un año mujeres",
          "Defunciones de menores de un año mujeres",
          "Defunciones de menores de un año mujeres",
          "Defunciones de menores de un año mujeres",
          "Defunciones de menores de un año mujeres",
          "Defunciones de menores de un año mujeres",
          "Defunciones de menores de un año mujeres",
          "Defunciones de menores de un año mujeres",
          "Defunciones de menores de un año mujeres",
          "Defunciones de menores de un año mujeres",
          "Defunciones de menores de un año mujeres",
          "Defunciones de menores de un año de sexo no especificado",
          "Defunciones de menores de un año de sexo no especificado",
          "Defunciones de menores de un año de sexo no especificado",
          "Defunciones de menores de un año de sexo no especificado",
          "Defunciones de menores de un año de sexo no especificado",
          "Defunciones de menores de un año de sexo no especificado",
          "Defunciones de menores de un año de sexo no especificado",
          "Defunciones de menores de un año de sexo no especificado",
          "Defunciones de menores de un año de sexo no especificado",
          "Defunciones de menores de un año de sexo no especificado",
          "Defunciones de menores de un año de sexo no especificado",
          "Defunciones de menores de un año de sexo no especificado",
          "Defunciones de menores de un año de sexo no especificado",
          "Defunciones de menores de un año de sexo no especificado",
          "Defunciones de menores de un año de sexo no especificado",
          "Defunciones de menores de un año de sexo no especificado",
          "Defunciones de menores de un año de sexo no especificado",
          "Defunciones de menores de un año de sexo no especificado",
          "Defunciones de menores de un año de sexo no especificado",
          "Defunciones de menores de un año de sexo no especificado",
          "Defunciones de menores de un año de sexo no especificado",
          "Defunciones de menores de un año de sexo no especificado",
          "Defunciones de menores de un año de sexo no especificado",
          "Defunciones de menores de un año de sexo no especificado",
          "Defunciones de menores de un año de sexo no especificado",
          "Defunciones de menores de un año de sexo no especificado",
          "Defunciones de menores de un año de sexo no especificado"
         ],
         "xaxis": "x",
         "y": [
          9,
          6,
          8,
          0,
          2,
          10,
          11,
          3,
          10,
          6,
          9,
          6,
          9,
          1,
          4,
          6,
          4,
          9,
          12,
          2,
          8,
          14,
          2,
          5,
          81,
          5,
          8,
          4,
          7,
          3,
          5,
          0,
          1,
          8,
          6,
          1,
          7,
          3,
          7,
          3,
          5,
          1,
          4,
          5,
          2,
          7,
          8,
          1,
          4,
          9,
          2,
          1,
          47,
          1,
          6,
          4,
          2,
          3,
          3,
          0,
          1,
          2,
          5,
          2,
          3,
          3,
          2,
          3,
          4,
          0,
          0,
          0,
          2,
          2,
          4,
          1,
          4,
          5,
          0,
          4,
          34,
          4,
          2,
          0,
          0,
          0,
          0,
          0,
          0,
          0,
          0,
          0,
          0,
          0,
          0,
          0,
          0,
          0,
          0,
          1,
          0,
          0,
          0,
          0,
          0,
          0,
          0,
          0,
          0,
          0,
          0,
          0,
          0,
          1,
          1,
          0,
          0,
          1,
          3,
          0,
          1,
          0,
          3,
          0,
          7,
          0,
          1,
          1,
          0,
          1,
          2,
          0,
          1,
          2,
          0,
          2,
          6,
          0,
          0,
          0,
          1,
          1,
          0,
          0,
          0,
          1,
          0,
          1,
          0,
          2,
          0,
          3,
          0,
          1,
          0,
          0,
          1,
          2,
          0,
          1,
          1,
          0,
          1,
          5,
          0,
          0,
          0,
          0,
          0,
          0,
          0,
          1,
          2,
          0,
          0,
          0,
          1,
          0,
          4,
          0,
          0,
          0,
          0,
          0,
          0,
          0,
          0,
          1,
          0,
          1,
          1,
          0,
          0,
          0,
          0,
          0,
          0,
          0,
          0,
          0,
          0,
          0,
          0,
          0,
          0,
          0,
          0,
          0,
          1,
          0,
          0,
          0,
          0,
          0,
          0,
          0,
          0,
          0,
          0,
          0
         ],
         "yaxis": "y"
        }
       ],
       "layout": {
        "barmode": "relative",
        "legend": {
         "tracegroupgap": 0
        },
        "template": {
         "data": {
          "bar": [
           {
            "error_x": {
             "color": "#2a3f5f"
            },
            "error_y": {
             "color": "#2a3f5f"
            },
            "marker": {
             "line": {
              "color": "#E5ECF6",
              "width": 0.5
             },
             "pattern": {
              "fillmode": "overlay",
              "size": 10,
              "solidity": 0.2
             }
            },
            "type": "bar"
           }
          ],
          "barpolar": [
           {
            "marker": {
             "line": {
              "color": "#E5ECF6",
              "width": 0.5
             },
             "pattern": {
              "fillmode": "overlay",
              "size": 10,
              "solidity": 0.2
             }
            },
            "type": "barpolar"
           }
          ],
          "carpet": [
           {
            "aaxis": {
             "endlinecolor": "#2a3f5f",
             "gridcolor": "white",
             "linecolor": "white",
             "minorgridcolor": "white",
             "startlinecolor": "#2a3f5f"
            },
            "baxis": {
             "endlinecolor": "#2a3f5f",
             "gridcolor": "white",
             "linecolor": "white",
             "minorgridcolor": "white",
             "startlinecolor": "#2a3f5f"
            },
            "type": "carpet"
           }
          ],
          "choropleth": [
           {
            "colorbar": {
             "outlinewidth": 0,
             "ticks": ""
            },
            "type": "choropleth"
           }
          ],
          "contour": [
           {
            "colorbar": {
             "outlinewidth": 0,
             "ticks": ""
            },
            "colorscale": [
             [
              0,
              "#0d0887"
             ],
             [
              0.1111111111111111,
              "#46039f"
             ],
             [
              0.2222222222222222,
              "#7201a8"
             ],
             [
              0.3333333333333333,
              "#9c179e"
             ],
             [
              0.4444444444444444,
              "#bd3786"
             ],
             [
              0.5555555555555556,
              "#d8576b"
             ],
             [
              0.6666666666666666,
              "#ed7953"
             ],
             [
              0.7777777777777778,
              "#fb9f3a"
             ],
             [
              0.8888888888888888,
              "#fdca26"
             ],
             [
              1,
              "#f0f921"
             ]
            ],
            "type": "contour"
           }
          ],
          "contourcarpet": [
           {
            "colorbar": {
             "outlinewidth": 0,
             "ticks": ""
            },
            "type": "contourcarpet"
           }
          ],
          "heatmap": [
           {
            "colorbar": {
             "outlinewidth": 0,
             "ticks": ""
            },
            "colorscale": [
             [
              0,
              "#0d0887"
             ],
             [
              0.1111111111111111,
              "#46039f"
             ],
             [
              0.2222222222222222,
              "#7201a8"
             ],
             [
              0.3333333333333333,
              "#9c179e"
             ],
             [
              0.4444444444444444,
              "#bd3786"
             ],
             [
              0.5555555555555556,
              "#d8576b"
             ],
             [
              0.6666666666666666,
              "#ed7953"
             ],
             [
              0.7777777777777778,
              "#fb9f3a"
             ],
             [
              0.8888888888888888,
              "#fdca26"
             ],
             [
              1,
              "#f0f921"
             ]
            ],
            "type": "heatmap"
           }
          ],
          "heatmapgl": [
           {
            "colorbar": {
             "outlinewidth": 0,
             "ticks": ""
            },
            "colorscale": [
             [
              0,
              "#0d0887"
             ],
             [
              0.1111111111111111,
              "#46039f"
             ],
             [
              0.2222222222222222,
              "#7201a8"
             ],
             [
              0.3333333333333333,
              "#9c179e"
             ],
             [
              0.4444444444444444,
              "#bd3786"
             ],
             [
              0.5555555555555556,
              "#d8576b"
             ],
             [
              0.6666666666666666,
              "#ed7953"
             ],
             [
              0.7777777777777778,
              "#fb9f3a"
             ],
             [
              0.8888888888888888,
              "#fdca26"
             ],
             [
              1,
              "#f0f921"
             ]
            ],
            "type": "heatmapgl"
           }
          ],
          "histogram": [
           {
            "marker": {
             "pattern": {
              "fillmode": "overlay",
              "size": 10,
              "solidity": 0.2
             }
            },
            "type": "histogram"
           }
          ],
          "histogram2d": [
           {
            "colorbar": {
             "outlinewidth": 0,
             "ticks": ""
            },
            "colorscale": [
             [
              0,
              "#0d0887"
             ],
             [
              0.1111111111111111,
              "#46039f"
             ],
             [
              0.2222222222222222,
              "#7201a8"
             ],
             [
              0.3333333333333333,
              "#9c179e"
             ],
             [
              0.4444444444444444,
              "#bd3786"
             ],
             [
              0.5555555555555556,
              "#d8576b"
             ],
             [
              0.6666666666666666,
              "#ed7953"
             ],
             [
              0.7777777777777778,
              "#fb9f3a"
             ],
             [
              0.8888888888888888,
              "#fdca26"
             ],
             [
              1,
              "#f0f921"
             ]
            ],
            "type": "histogram2d"
           }
          ],
          "histogram2dcontour": [
           {
            "colorbar": {
             "outlinewidth": 0,
             "ticks": ""
            },
            "colorscale": [
             [
              0,
              "#0d0887"
             ],
             [
              0.1111111111111111,
              "#46039f"
             ],
             [
              0.2222222222222222,
              "#7201a8"
             ],
             [
              0.3333333333333333,
              "#9c179e"
             ],
             [
              0.4444444444444444,
              "#bd3786"
             ],
             [
              0.5555555555555556,
              "#d8576b"
             ],
             [
              0.6666666666666666,
              "#ed7953"
             ],
             [
              0.7777777777777778,
              "#fb9f3a"
             ],
             [
              0.8888888888888888,
              "#fdca26"
             ],
             [
              1,
              "#f0f921"
             ]
            ],
            "type": "histogram2dcontour"
           }
          ],
          "mesh3d": [
           {
            "colorbar": {
             "outlinewidth": 0,
             "ticks": ""
            },
            "type": "mesh3d"
           }
          ],
          "parcoords": [
           {
            "line": {
             "colorbar": {
              "outlinewidth": 0,
              "ticks": ""
             }
            },
            "type": "parcoords"
           }
          ],
          "pie": [
           {
            "automargin": true,
            "type": "pie"
           }
          ],
          "scatter": [
           {
            "fillpattern": {
             "fillmode": "overlay",
             "size": 10,
             "solidity": 0.2
            },
            "type": "scatter"
           }
          ],
          "scatter3d": [
           {
            "line": {
             "colorbar": {
              "outlinewidth": 0,
              "ticks": ""
             }
            },
            "marker": {
             "colorbar": {
              "outlinewidth": 0,
              "ticks": ""
             }
            },
            "type": "scatter3d"
           }
          ],
          "scattercarpet": [
           {
            "marker": {
             "colorbar": {
              "outlinewidth": 0,
              "ticks": ""
             }
            },
            "type": "scattercarpet"
           }
          ],
          "scattergeo": [
           {
            "marker": {
             "colorbar": {
              "outlinewidth": 0,
              "ticks": ""
             }
            },
            "type": "scattergeo"
           }
          ],
          "scattergl": [
           {
            "marker": {
             "colorbar": {
              "outlinewidth": 0,
              "ticks": ""
             }
            },
            "type": "scattergl"
           }
          ],
          "scattermapbox": [
           {
            "marker": {
             "colorbar": {
              "outlinewidth": 0,
              "ticks": ""
             }
            },
            "type": "scattermapbox"
           }
          ],
          "scatterpolar": [
           {
            "marker": {
             "colorbar": {
              "outlinewidth": 0,
              "ticks": ""
             }
            },
            "type": "scatterpolar"
           }
          ],
          "scatterpolargl": [
           {
            "marker": {
             "colorbar": {
              "outlinewidth": 0,
              "ticks": ""
             }
            },
            "type": "scatterpolargl"
           }
          ],
          "scatterternary": [
           {
            "marker": {
             "colorbar": {
              "outlinewidth": 0,
              "ticks": ""
             }
            },
            "type": "scatterternary"
           }
          ],
          "surface": [
           {
            "colorbar": {
             "outlinewidth": 0,
             "ticks": ""
            },
            "colorscale": [
             [
              0,
              "#0d0887"
             ],
             [
              0.1111111111111111,
              "#46039f"
             ],
             [
              0.2222222222222222,
              "#7201a8"
             ],
             [
              0.3333333333333333,
              "#9c179e"
             ],
             [
              0.4444444444444444,
              "#bd3786"
             ],
             [
              0.5555555555555556,
              "#d8576b"
             ],
             [
              0.6666666666666666,
              "#ed7953"
             ],
             [
              0.7777777777777778,
              "#fb9f3a"
             ],
             [
              0.8888888888888888,
              "#fdca26"
             ],
             [
              1,
              "#f0f921"
             ]
            ],
            "type": "surface"
           }
          ],
          "table": [
           {
            "cells": {
             "fill": {
              "color": "#EBF0F8"
             },
             "line": {
              "color": "white"
             }
            },
            "header": {
             "fill": {
              "color": "#C8D4E3"
             },
             "line": {
              "color": "white"
             }
            },
            "type": "table"
           }
          ]
         },
         "layout": {
          "annotationdefaults": {
           "arrowcolor": "#2a3f5f",
           "arrowhead": 0,
           "arrowwidth": 1
          },
          "autotypenumbers": "strict",
          "coloraxis": {
           "colorbar": {
            "outlinewidth": 0,
            "ticks": ""
           }
          },
          "colorscale": {
           "diverging": [
            [
             0,
             "#8e0152"
            ],
            [
             0.1,
             "#c51b7d"
            ],
            [
             0.2,
             "#de77ae"
            ],
            [
             0.3,
             "#f1b6da"
            ],
            [
             0.4,
             "#fde0ef"
            ],
            [
             0.5,
             "#f7f7f7"
            ],
            [
             0.6,
             "#e6f5d0"
            ],
            [
             0.7,
             "#b8e186"
            ],
            [
             0.8,
             "#7fbc41"
            ],
            [
             0.9,
             "#4d9221"
            ],
            [
             1,
             "#276419"
            ]
           ],
           "sequential": [
            [
             0,
             "#0d0887"
            ],
            [
             0.1111111111111111,
             "#46039f"
            ],
            [
             0.2222222222222222,
             "#7201a8"
            ],
            [
             0.3333333333333333,
             "#9c179e"
            ],
            [
             0.4444444444444444,
             "#bd3786"
            ],
            [
             0.5555555555555556,
             "#d8576b"
            ],
            [
             0.6666666666666666,
             "#ed7953"
            ],
            [
             0.7777777777777778,
             "#fb9f3a"
            ],
            [
             0.8888888888888888,
             "#fdca26"
            ],
            [
             1,
             "#f0f921"
            ]
           ],
           "sequentialminus": [
            [
             0,
             "#0d0887"
            ],
            [
             0.1111111111111111,
             "#46039f"
            ],
            [
             0.2222222222222222,
             "#7201a8"
            ],
            [
             0.3333333333333333,
             "#9c179e"
            ],
            [
             0.4444444444444444,
             "#bd3786"
            ],
            [
             0.5555555555555556,
             "#d8576b"
            ],
            [
             0.6666666666666666,
             "#ed7953"
            ],
            [
             0.7777777777777778,
             "#fb9f3a"
            ],
            [
             0.8888888888888888,
             "#fdca26"
            ],
            [
             1,
             "#f0f921"
            ]
           ]
          },
          "colorway": [
           "#636efa",
           "#EF553B",
           "#00cc96",
           "#ab63fa",
           "#FFA15A",
           "#19d3f3",
           "#FF6692",
           "#B6E880",
           "#FF97FF",
           "#FECB52"
          ],
          "font": {
           "color": "#2a3f5f"
          },
          "geo": {
           "bgcolor": "white",
           "lakecolor": "white",
           "landcolor": "#E5ECF6",
           "showlakes": true,
           "showland": true,
           "subunitcolor": "white"
          },
          "hoverlabel": {
           "align": "left"
          },
          "hovermode": "closest",
          "mapbox": {
           "style": "light"
          },
          "paper_bgcolor": "white",
          "plot_bgcolor": "#E5ECF6",
          "polar": {
           "angularaxis": {
            "gridcolor": "white",
            "linecolor": "white",
            "ticks": ""
           },
           "bgcolor": "#E5ECF6",
           "radialaxis": {
            "gridcolor": "white",
            "linecolor": "white",
            "ticks": ""
           }
          },
          "scene": {
           "xaxis": {
            "backgroundcolor": "#E5ECF6",
            "gridcolor": "white",
            "gridwidth": 2,
            "linecolor": "white",
            "showbackground": true,
            "ticks": "",
            "zerolinecolor": "white"
           },
           "yaxis": {
            "backgroundcolor": "#E5ECF6",
            "gridcolor": "white",
            "gridwidth": 2,
            "linecolor": "white",
            "showbackground": true,
            "ticks": "",
            "zerolinecolor": "white"
           },
           "zaxis": {
            "backgroundcolor": "#E5ECF6",
            "gridcolor": "white",
            "gridwidth": 2,
            "linecolor": "white",
            "showbackground": true,
            "ticks": "",
            "zerolinecolor": "white"
           }
          },
          "shapedefaults": {
           "line": {
            "color": "#2a3f5f"
           }
          },
          "ternary": {
           "aaxis": {
            "gridcolor": "white",
            "linecolor": "white",
            "ticks": ""
           },
           "baxis": {
            "gridcolor": "white",
            "linecolor": "white",
            "ticks": ""
           },
           "bgcolor": "#E5ECF6",
           "caxis": {
            "gridcolor": "white",
            "linecolor": "white",
            "ticks": ""
           }
          },
          "title": {
           "x": 0.05
          },
          "xaxis": {
           "automargin": true,
           "gridcolor": "white",
           "linecolor": "white",
           "ticks": "",
           "title": {
            "standoff": 15
           },
           "zerolinecolor": "white",
           "zerolinewidth": 2
          },
          "yaxis": {
           "automargin": true,
           "gridcolor": "white",
           "linecolor": "white",
           "ticks": "",
           "title": {
            "standoff": 15
           },
           "zerolinecolor": "white",
           "zerolinewidth": 2
          }
         }
        },
        "title": {
         "text": "Comparacion de los indicadores"
        },
        "xaxis": {
         "anchor": "y",
         "domain": [
          0,
          1
         ],
         "title": {
          "text": "indicador"
         }
        },
        "yaxis": {
         "anchor": "x",
         "domain": [
          0,
          1
         ],
         "title": {
          "text": "sum of Numero de defunciones"
         }
        }
       }
      }
     },
     "metadata": {},
     "output_type": "display_data"
    }
   ],
   "source": [
    "bar = px.histogram(no_especificado,x='indicador',y='valor',labels={'valor':'Numero de defunciones'},title='Comparacion de los indicadores',text_auto=True)\n",
    "\n",
    "bar.show()\n"
   ]
  },
  {
   "cell_type": "code",
   "execution_count": 11,
   "metadata": {},
   "outputs": [
    {
     "data": {
      "application/vnd.plotly.v1+json": {
       "config": {
        "plotlyServerURL": "https://plot.ly"
       },
       "data": [
        {
         "domain": {
          "x": [
           0,
           1
          ],
          "y": [
           0,
           1
          ]
         },
         "hovertemplate": "indicador=%{label}<br>valor=%{value}<extra></extra>",
         "labels": [
          "Defunciones generales",
          "Defunciones generales hombres",
          "Defunciones generales mujeres",
          "Defunciones generales de sexo no especificado",
          "Defunciones de menores de un año",
          "Defunciones de menores de un año hombres",
          "Defunciones de menores de un año mujeres",
          "Defunciones de menores de un año de sexo no especificado"
         ],
         "legendgroup": "",
         "name": "",
         "showlegend": true,
         "type": "pie",
         "values": [
          81,
          47,
          34,
          0,
          6,
          5,
          1,
          0
         ]
        }
       ],
       "layout": {
        "legend": {
         "tracegroupgap": 0
        },
        "template": {
         "data": {
          "bar": [
           {
            "error_x": {
             "color": "#2a3f5f"
            },
            "error_y": {
             "color": "#2a3f5f"
            },
            "marker": {
             "line": {
              "color": "#E5ECF6",
              "width": 0.5
             },
             "pattern": {
              "fillmode": "overlay",
              "size": 10,
              "solidity": 0.2
             }
            },
            "type": "bar"
           }
          ],
          "barpolar": [
           {
            "marker": {
             "line": {
              "color": "#E5ECF6",
              "width": 0.5
             },
             "pattern": {
              "fillmode": "overlay",
              "size": 10,
              "solidity": 0.2
             }
            },
            "type": "barpolar"
           }
          ],
          "carpet": [
           {
            "aaxis": {
             "endlinecolor": "#2a3f5f",
             "gridcolor": "white",
             "linecolor": "white",
             "minorgridcolor": "white",
             "startlinecolor": "#2a3f5f"
            },
            "baxis": {
             "endlinecolor": "#2a3f5f",
             "gridcolor": "white",
             "linecolor": "white",
             "minorgridcolor": "white",
             "startlinecolor": "#2a3f5f"
            },
            "type": "carpet"
           }
          ],
          "choropleth": [
           {
            "colorbar": {
             "outlinewidth": 0,
             "ticks": ""
            },
            "type": "choropleth"
           }
          ],
          "contour": [
           {
            "colorbar": {
             "outlinewidth": 0,
             "ticks": ""
            },
            "colorscale": [
             [
              0,
              "#0d0887"
             ],
             [
              0.1111111111111111,
              "#46039f"
             ],
             [
              0.2222222222222222,
              "#7201a8"
             ],
             [
              0.3333333333333333,
              "#9c179e"
             ],
             [
              0.4444444444444444,
              "#bd3786"
             ],
             [
              0.5555555555555556,
              "#d8576b"
             ],
             [
              0.6666666666666666,
              "#ed7953"
             ],
             [
              0.7777777777777778,
              "#fb9f3a"
             ],
             [
              0.8888888888888888,
              "#fdca26"
             ],
             [
              1,
              "#f0f921"
             ]
            ],
            "type": "contour"
           }
          ],
          "contourcarpet": [
           {
            "colorbar": {
             "outlinewidth": 0,
             "ticks": ""
            },
            "type": "contourcarpet"
           }
          ],
          "heatmap": [
           {
            "colorbar": {
             "outlinewidth": 0,
             "ticks": ""
            },
            "colorscale": [
             [
              0,
              "#0d0887"
             ],
             [
              0.1111111111111111,
              "#46039f"
             ],
             [
              0.2222222222222222,
              "#7201a8"
             ],
             [
              0.3333333333333333,
              "#9c179e"
             ],
             [
              0.4444444444444444,
              "#bd3786"
             ],
             [
              0.5555555555555556,
              "#d8576b"
             ],
             [
              0.6666666666666666,
              "#ed7953"
             ],
             [
              0.7777777777777778,
              "#fb9f3a"
             ],
             [
              0.8888888888888888,
              "#fdca26"
             ],
             [
              1,
              "#f0f921"
             ]
            ],
            "type": "heatmap"
           }
          ],
          "heatmapgl": [
           {
            "colorbar": {
             "outlinewidth": 0,
             "ticks": ""
            },
            "colorscale": [
             [
              0,
              "#0d0887"
             ],
             [
              0.1111111111111111,
              "#46039f"
             ],
             [
              0.2222222222222222,
              "#7201a8"
             ],
             [
              0.3333333333333333,
              "#9c179e"
             ],
             [
              0.4444444444444444,
              "#bd3786"
             ],
             [
              0.5555555555555556,
              "#d8576b"
             ],
             [
              0.6666666666666666,
              "#ed7953"
             ],
             [
              0.7777777777777778,
              "#fb9f3a"
             ],
             [
              0.8888888888888888,
              "#fdca26"
             ],
             [
              1,
              "#f0f921"
             ]
            ],
            "type": "heatmapgl"
           }
          ],
          "histogram": [
           {
            "marker": {
             "pattern": {
              "fillmode": "overlay",
              "size": 10,
              "solidity": 0.2
             }
            },
            "type": "histogram"
           }
          ],
          "histogram2d": [
           {
            "colorbar": {
             "outlinewidth": 0,
             "ticks": ""
            },
            "colorscale": [
             [
              0,
              "#0d0887"
             ],
             [
              0.1111111111111111,
              "#46039f"
             ],
             [
              0.2222222222222222,
              "#7201a8"
             ],
             [
              0.3333333333333333,
              "#9c179e"
             ],
             [
              0.4444444444444444,
              "#bd3786"
             ],
             [
              0.5555555555555556,
              "#d8576b"
             ],
             [
              0.6666666666666666,
              "#ed7953"
             ],
             [
              0.7777777777777778,
              "#fb9f3a"
             ],
             [
              0.8888888888888888,
              "#fdca26"
             ],
             [
              1,
              "#f0f921"
             ]
            ],
            "type": "histogram2d"
           }
          ],
          "histogram2dcontour": [
           {
            "colorbar": {
             "outlinewidth": 0,
             "ticks": ""
            },
            "colorscale": [
             [
              0,
              "#0d0887"
             ],
             [
              0.1111111111111111,
              "#46039f"
             ],
             [
              0.2222222222222222,
              "#7201a8"
             ],
             [
              0.3333333333333333,
              "#9c179e"
             ],
             [
              0.4444444444444444,
              "#bd3786"
             ],
             [
              0.5555555555555556,
              "#d8576b"
             ],
             [
              0.6666666666666666,
              "#ed7953"
             ],
             [
              0.7777777777777778,
              "#fb9f3a"
             ],
             [
              0.8888888888888888,
              "#fdca26"
             ],
             [
              1,
              "#f0f921"
             ]
            ],
            "type": "histogram2dcontour"
           }
          ],
          "mesh3d": [
           {
            "colorbar": {
             "outlinewidth": 0,
             "ticks": ""
            },
            "type": "mesh3d"
           }
          ],
          "parcoords": [
           {
            "line": {
             "colorbar": {
              "outlinewidth": 0,
              "ticks": ""
             }
            },
            "type": "parcoords"
           }
          ],
          "pie": [
           {
            "automargin": true,
            "type": "pie"
           }
          ],
          "scatter": [
           {
            "fillpattern": {
             "fillmode": "overlay",
             "size": 10,
             "solidity": 0.2
            },
            "type": "scatter"
           }
          ],
          "scatter3d": [
           {
            "line": {
             "colorbar": {
              "outlinewidth": 0,
              "ticks": ""
             }
            },
            "marker": {
             "colorbar": {
              "outlinewidth": 0,
              "ticks": ""
             }
            },
            "type": "scatter3d"
           }
          ],
          "scattercarpet": [
           {
            "marker": {
             "colorbar": {
              "outlinewidth": 0,
              "ticks": ""
             }
            },
            "type": "scattercarpet"
           }
          ],
          "scattergeo": [
           {
            "marker": {
             "colorbar": {
              "outlinewidth": 0,
              "ticks": ""
             }
            },
            "type": "scattergeo"
           }
          ],
          "scattergl": [
           {
            "marker": {
             "colorbar": {
              "outlinewidth": 0,
              "ticks": ""
             }
            },
            "type": "scattergl"
           }
          ],
          "scattermapbox": [
           {
            "marker": {
             "colorbar": {
              "outlinewidth": 0,
              "ticks": ""
             }
            },
            "type": "scattermapbox"
           }
          ],
          "scatterpolar": [
           {
            "marker": {
             "colorbar": {
              "outlinewidth": 0,
              "ticks": ""
             }
            },
            "type": "scatterpolar"
           }
          ],
          "scatterpolargl": [
           {
            "marker": {
             "colorbar": {
              "outlinewidth": 0,
              "ticks": ""
             }
            },
            "type": "scatterpolargl"
           }
          ],
          "scatterternary": [
           {
            "marker": {
             "colorbar": {
              "outlinewidth": 0,
              "ticks": ""
             }
            },
            "type": "scatterternary"
           }
          ],
          "surface": [
           {
            "colorbar": {
             "outlinewidth": 0,
             "ticks": ""
            },
            "colorscale": [
             [
              0,
              "#0d0887"
             ],
             [
              0.1111111111111111,
              "#46039f"
             ],
             [
              0.2222222222222222,
              "#7201a8"
             ],
             [
              0.3333333333333333,
              "#9c179e"
             ],
             [
              0.4444444444444444,
              "#bd3786"
             ],
             [
              0.5555555555555556,
              "#d8576b"
             ],
             [
              0.6666666666666666,
              "#ed7953"
             ],
             [
              0.7777777777777778,
              "#fb9f3a"
             ],
             [
              0.8888888888888888,
              "#fdca26"
             ],
             [
              1,
              "#f0f921"
             ]
            ],
            "type": "surface"
           }
          ],
          "table": [
           {
            "cells": {
             "fill": {
              "color": "#EBF0F8"
             },
             "line": {
              "color": "white"
             }
            },
            "header": {
             "fill": {
              "color": "#C8D4E3"
             },
             "line": {
              "color": "white"
             }
            },
            "type": "table"
           }
          ]
         },
         "layout": {
          "annotationdefaults": {
           "arrowcolor": "#2a3f5f",
           "arrowhead": 0,
           "arrowwidth": 1
          },
          "autotypenumbers": "strict",
          "coloraxis": {
           "colorbar": {
            "outlinewidth": 0,
            "ticks": ""
           }
          },
          "colorscale": {
           "diverging": [
            [
             0,
             "#8e0152"
            ],
            [
             0.1,
             "#c51b7d"
            ],
            [
             0.2,
             "#de77ae"
            ],
            [
             0.3,
             "#f1b6da"
            ],
            [
             0.4,
             "#fde0ef"
            ],
            [
             0.5,
             "#f7f7f7"
            ],
            [
             0.6,
             "#e6f5d0"
            ],
            [
             0.7,
             "#b8e186"
            ],
            [
             0.8,
             "#7fbc41"
            ],
            [
             0.9,
             "#4d9221"
            ],
            [
             1,
             "#276419"
            ]
           ],
           "sequential": [
            [
             0,
             "#0d0887"
            ],
            [
             0.1111111111111111,
             "#46039f"
            ],
            [
             0.2222222222222222,
             "#7201a8"
            ],
            [
             0.3333333333333333,
             "#9c179e"
            ],
            [
             0.4444444444444444,
             "#bd3786"
            ],
            [
             0.5555555555555556,
             "#d8576b"
            ],
            [
             0.6666666666666666,
             "#ed7953"
            ],
            [
             0.7777777777777778,
             "#fb9f3a"
            ],
            [
             0.8888888888888888,
             "#fdca26"
            ],
            [
             1,
             "#f0f921"
            ]
           ],
           "sequentialminus": [
            [
             0,
             "#0d0887"
            ],
            [
             0.1111111111111111,
             "#46039f"
            ],
            [
             0.2222222222222222,
             "#7201a8"
            ],
            [
             0.3333333333333333,
             "#9c179e"
            ],
            [
             0.4444444444444444,
             "#bd3786"
            ],
            [
             0.5555555555555556,
             "#d8576b"
            ],
            [
             0.6666666666666666,
             "#ed7953"
            ],
            [
             0.7777777777777778,
             "#fb9f3a"
            ],
            [
             0.8888888888888888,
             "#fdca26"
            ],
            [
             1,
             "#f0f921"
            ]
           ]
          },
          "colorway": [
           "#636efa",
           "#EF553B",
           "#00cc96",
           "#ab63fa",
           "#FFA15A",
           "#19d3f3",
           "#FF6692",
           "#B6E880",
           "#FF97FF",
           "#FECB52"
          ],
          "font": {
           "color": "#2a3f5f"
          },
          "geo": {
           "bgcolor": "white",
           "lakecolor": "white",
           "landcolor": "#E5ECF6",
           "showlakes": true,
           "showland": true,
           "subunitcolor": "white"
          },
          "hoverlabel": {
           "align": "left"
          },
          "hovermode": "closest",
          "mapbox": {
           "style": "light"
          },
          "paper_bgcolor": "white",
          "plot_bgcolor": "#E5ECF6",
          "polar": {
           "angularaxis": {
            "gridcolor": "white",
            "linecolor": "white",
            "ticks": ""
           },
           "bgcolor": "#E5ECF6",
           "radialaxis": {
            "gridcolor": "white",
            "linecolor": "white",
            "ticks": ""
           }
          },
          "scene": {
           "xaxis": {
            "backgroundcolor": "#E5ECF6",
            "gridcolor": "white",
            "gridwidth": 2,
            "linecolor": "white",
            "showbackground": true,
            "ticks": "",
            "zerolinecolor": "white"
           },
           "yaxis": {
            "backgroundcolor": "#E5ECF6",
            "gridcolor": "white",
            "gridwidth": 2,
            "linecolor": "white",
            "showbackground": true,
            "ticks": "",
            "zerolinecolor": "white"
           },
           "zaxis": {
            "backgroundcolor": "#E5ECF6",
            "gridcolor": "white",
            "gridwidth": 2,
            "linecolor": "white",
            "showbackground": true,
            "ticks": "",
            "zerolinecolor": "white"
           }
          },
          "shapedefaults": {
           "line": {
            "color": "#2a3f5f"
           }
          },
          "ternary": {
           "aaxis": {
            "gridcolor": "white",
            "linecolor": "white",
            "ticks": ""
           },
           "baxis": {
            "gridcolor": "white",
            "linecolor": "white",
            "ticks": ""
           },
           "bgcolor": "#E5ECF6",
           "caxis": {
            "gridcolor": "white",
            "linecolor": "white",
            "ticks": ""
           }
          },
          "title": {
           "x": 0.05
          },
          "xaxis": {
           "automargin": true,
           "gridcolor": "white",
           "linecolor": "white",
           "ticks": "",
           "title": {
            "standoff": 15
           },
           "zerolinecolor": "white",
           "zerolinewidth": 2
          },
          "yaxis": {
           "automargin": true,
           "gridcolor": "white",
           "linecolor": "white",
           "ticks": "",
           "title": {
            "standoff": 15
           },
           "zerolinecolor": "white",
           "zerolinewidth": 2
          }
         }
        },
        "title": {
         "text": "Porcentaje de valor de los indicadores en 2018"
        }
       }
      }
     },
     "metadata": {},
     "output_type": "display_data"
    }
   ],
   "source": [
    "df = no_especificado.query(\"año == 2018\")\n",
    "fig = px.pie(df, values='valor', names='indicador', title='Porcentaje de valor de los indicadores en 2018')\n",
    "fig.show()"
   ]
  },
  {
   "attachments": {},
   "cell_type": "markdown",
   "metadata": {},
   "source": [
    "**Podemos observar que existe una gran pico en 2018 en todos los indicadores lo cual es una buen inicio para preguntarnos porque existe un pico tan alto en 2018**\n",
    "\n",
    "**De igual manera podemos observar que en defunciones generales de hombres para el estado, municipios y lugares no especificados es mayor a las mujeres**"
   ]
  },
  {
   "attachments": {},
   "cell_type": "markdown",
   "metadata": {},
   "source": [
    "# Dasboard"
   ]
  },
  {
   "attachments": {},
   "cell_type": "markdown",
   "metadata": {},
   "source": [
    "## Layout"
   ]
  },
  {
   "cell_type": "code",
   "execution_count": 12,
   "metadata": {},
   "outputs": [],
   "source": [
    "import dash\n",
    "from dash import Dash, dcc, html, Input, Output\n",
    "import plotly.express as px\n",
    "from jupyter_dash import JupyterDash\n",
    "\n",
    "#----------------------------APP MAIN-------------------------------------#\n",
    "external_stylesheets = ['https://codepen.io/chriddyp/pen/bWLwgP.css']\n",
    "\n",
    "app = JupyterDash(__name__, external_stylesheets=external_stylesheets)\n",
    "#------------------------------DATA--------------------------------------#\n",
    "no_especificados = pd.read_csv('./data/mortalidad_no_especificado.csv',index_col=0)\n",
    "\n",
    "#-------------------------VARIABLES--------------------------------------#\n",
    "options = no_especificados['indicador'].drop_duplicates().to_list()\n",
    "available_indicators = no_especificados['indicador'].unique()\n",
    "years = no_especificados['año'].unique()\n",
    "\n",
    "\"\"\"#-----------------------LAYOUT-------------------------------------------#\"\"\"\n",
    "\n",
    "app.layout = html.Div(children=[\n",
    "    \n",
    "    html.H1('Analisis en lugares no especificados'),\n",
    "    \n",
    "    #-----------------Lineal------------------------#\n",
    "    html.H3('Defunciones a traves del tiempo lugares no especificados'),\n",
    "    \n",
    "    html.Div([\n",
    "        html.H5('Selecciona un indicador o varios'),\n",
    "        dcc.Checklist(\n",
    "        id=\"checklist_especificados\",\n",
    "        options=options,\n",
    "        value=[\"Defunciones generales\", \"Defunciones generales hombres\",\"Defunciones generales mujeres\"]\n",
    "        ),\n",
    "    ]),\n",
    "    \n",
    "    dcc.Graph(id='line_especificados'),\n",
    "    \n",
    "    #---------------------------------------Histograma-----------------------#\n",
    "    html.H3('Histograma a traves del tiempo por indicador'),\n",
    "    \n",
    "    html.Div([\n",
    "        dcc.Dropdown(\n",
    "            id = 'indicador_esp',\n",
    "            options = [{'label': i,'value': i} for i in available_indicators],\n",
    "            value='Defunciones generales'\n",
    "        )\n",
    "    ]),\n",
    "    \n",
    "    dcc.Graph(id='histograma_esp'),\n",
    "    \n",
    "    #-----------------------Circular-----------------------------------------#\n",
    "    html.H3('Porcentaje de los indicadores en el tiempo'),\n",
    "    \n",
    "    html.Div([\n",
    "        dcc.Slider(\n",
    "            id='year-slider-esp',\n",
    "            min=no_especificados['año'].min(),\n",
    "            max=no_especificados['año'].max(),\n",
    "            value=no_especificados['año'].min(),\n",
    "            marks={str(año): str(año) for año in no_especificados['año'].unique()},\n",
    "            step=None\n",
    "        ),\n",
    "    ]),\n",
    "    \n",
    "    dcc.Graph(id='circular_esp'),\n",
    "    \n",
    "],style={'background-color': '#FFF0B2'})\n",
    "\n"
   ]
  },
  {
   "attachments": {},
   "cell_type": "markdown",
   "metadata": {},
   "source": [
    "## Callbacks"
   ]
  },
  {
   "cell_type": "code",
   "execution_count": 13,
   "metadata": {},
   "outputs": [
    {
     "name": "stdout",
     "output_type": "stream",
     "text": [
      "Dash app running on http://127.0.0.1:8050/\n"
     ]
    }
   ],
   "source": [
    "#--------------------Linea-------------------------------#\n",
    "@app.callback(\n",
    "    Output('line_especificados','figure'),\n",
    "    Input('checklist_especificados','value')\n",
    ")\n",
    "\n",
    "def update_line_esp(indicadores):\n",
    "    filtro = no_especificados['indicador'].isin(indicadores)\n",
    "    fig = px.line(no_especificados[filtro],x=\"año\", y=\"valor\",labels={'valor':'Numero de defunciones'}, color='indicador',title='Indicadores a traves del tiempo en lugares no especificados')\n",
    "    \n",
    "    return fig\n",
    "\n",
    "#-------------------Histograma--------------------------#\n",
    "@app.callback(\n",
    "    Output('histograma_esp','figure'),\n",
    "    Input('indicador_esp','value')\n",
    ")\n",
    "\n",
    "def update_histogram_esp(indicador):\n",
    "    filtro = no_especificados[(no_especificados['indicador'] == indicador)]\n",
    "    \n",
    "    fig = px.bar(filtro,x='año',y='valor',color='valor',labels={'valor':'Numero de defunciones'}, title=f'Histograma del indicador {indicador} en lugares no especificados')\n",
    "    \n",
    "    fig.update_layout(transition_duration = 500)\n",
    "    \n",
    "    return fig\n",
    "\n",
    "#------------------Circular--------------------------------#   \n",
    "@app.callback(\n",
    "    Output('circular_esp', 'figure'),\n",
    "    Input('year-slider-esp', 'value')\n",
    ")\n",
    "\n",
    "def update_circular(selected_year):\n",
    "    filtered_df = no_especificados[no_especificados.año == selected_year]\n",
    "    \n",
    "    fig = px.pie(filtered_df, values='valor', names='indicador', title=f'Porcentaje de los indicadores en lugares no especificados en {selected_year}')             \n",
    "\n",
    "    fig.update_layout(transition_duration=500)\n",
    "\n",
    "    return fig\n",
    "\n",
    "if __name__ == '__main__':\n",
    "    app.run_server(debug=True)"
   ]
  }
 ],
 "metadata": {
  "kernelspec": {
   "display_name": "venv",
   "language": "python",
   "name": "python3"
  },
  "language_info": {
   "codemirror_mode": {
    "name": "ipython",
    "version": 3
   },
   "file_extension": ".py",
   "mimetype": "text/x-python",
   "name": "python",
   "nbconvert_exporter": "python",
   "pygments_lexer": "ipython3",
   "version": "3.10.7"
  },
  "orig_nbformat": 4,
  "vscode": {
   "interpreter": {
    "hash": "db973748d554fe877f6d9111806cb50178df9c16a3a25e5b14b094e6adb1a722"
   }
  }
 },
 "nbformat": 4,
 "nbformat_minor": 2
}
