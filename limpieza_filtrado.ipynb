{
 "cells": [
  {
   "attachments": {},
   "cell_type": "markdown",
   "metadata": {},
   "source": [
    "# Introduccion\n",
    "\n",
    "A lo largo del tiempo el estado de Guanajuato se ha convertido en uno de los mas violentos del pais\n",
    "\n",
    "## Informacion del dataset\n",
    "\n",
    "| Id        | Nombre   | Descripcion |\n",
    "|--------------|-----------|------------|\n",
    "|1002000030| Defunciones generales| Esta información se actualiza anualmente       |\n",
    "|1002000031|Defunciones generales hombres|La información se presenta por lugar de residencia habitual del fallecido|\n",
    "|1002000032|Defunciones generales mujeres|La información se presenta por lugar de residencia habitual del fallecido|\n",
    "|1002000033|Defunciones generales de sexo no especificado|La información se presenta por lugar de residencia habitual del fallecido|\n",
    "|1002000034|Defunciones de menores de un año|La información se presenta por lugar de residencia habitual del fallecido|\n",
    "|1002000035|Defunciones de menores de un año hombres|La información se presenta por lugar de residencia habitual del fallecido|\n",
    "|1002000036|Defunciones de menores de un año mujeres|La información se presenta por lugar de residencia habitual del fallecido|\n",
    "|1002000037|Defunciones de menores de un año de sexo no especificado|La información se presenta por lugar de residencia habitual del fallecido|\n",
    "|6200240338|Suicidios registrados|Defunciones registradas por entidad federativa de residencia habitual de la persona fallecida|\n",
    "|6200240468|Índice de sobremortalidad masculina|Es la relación de las defunciones masculinas por cada cien defunciones femeninas|\n",
    "|6200240526|Porcentaje de muertes por suicidio con respecto al total de muertes violentas|El cálculo se realizó con base en las defunciones generales de residencia habitual de la persona fallecida|\n",
    "\n"
   ]
  },
  {
   "attachments": {},
   "cell_type": "markdown",
   "metadata": {},
   "source": [
    "## Limpieza y filtrado de datos"
   ]
  },
  {
   "cell_type": "code",
   "execution_count": 1,
   "metadata": {},
   "outputs": [],
   "source": [
    "import pandas as pd\n",
    "import numpy as np\n",
    "import matplotlib.pyplot as plt\n",
    "import plotly.express as px\n",
    "\n",
    "plt.style.use('ggplot')"
   ]
  },
  {
   "cell_type": "code",
   "execution_count": 2,
   "metadata": {},
   "outputs": [
    {
     "data": {
      "text/html": [
       "<div>\n",
       "<style scoped>\n",
       "    .dataframe tbody tr th:only-of-type {\n",
       "        vertical-align: middle;\n",
       "    }\n",
       "\n",
       "    .dataframe tbody tr th {\n",
       "        vertical-align: top;\n",
       "    }\n",
       "\n",
       "    .dataframe thead th {\n",
       "        text-align: right;\n",
       "    }\n",
       "</style>\n",
       "<table border=\"1\" class=\"dataframe\">\n",
       "  <thead>\n",
       "    <tr style=\"text-align: right;\">\n",
       "      <th></th>\n",
       "      <th>cve_entidad</th>\n",
       "      <th>desc_entidad</th>\n",
       "      <th>cve_municipio</th>\n",
       "      <th>desc_municipio</th>\n",
       "      <th>id_indicador</th>\n",
       "      <th>indicador</th>\n",
       "      <th>año</th>\n",
       "      <th>valor</th>\n",
       "      <th>unidad_medida</th>\n",
       "    </tr>\n",
       "  </thead>\n",
       "  <tbody>\n",
       "    <tr>\n",
       "      <th>0</th>\n",
       "      <td>11</td>\n",
       "      <td>Guanajuato</td>\n",
       "      <td>0</td>\n",
       "      <td>Estatal</td>\n",
       "      <td>1002000030</td>\n",
       "      <td>Defunciones generales</td>\n",
       "      <td>1994</td>\n",
       "      <td>20798.0</td>\n",
       "      <td>Defunciones</td>\n",
       "    </tr>\n",
       "    <tr>\n",
       "      <th>1</th>\n",
       "      <td>11</td>\n",
       "      <td>Guanajuato</td>\n",
       "      <td>0</td>\n",
       "      <td>Estatal</td>\n",
       "      <td>1002000030</td>\n",
       "      <td>Defunciones generales</td>\n",
       "      <td>1995</td>\n",
       "      <td>21482.0</td>\n",
       "      <td>Defunciones</td>\n",
       "    </tr>\n",
       "    <tr>\n",
       "      <th>2</th>\n",
       "      <td>11</td>\n",
       "      <td>Guanajuato</td>\n",
       "      <td>0</td>\n",
       "      <td>Estatal</td>\n",
       "      <td>1002000030</td>\n",
       "      <td>Defunciones generales</td>\n",
       "      <td>1996</td>\n",
       "      <td>21469.0</td>\n",
       "      <td>Defunciones</td>\n",
       "    </tr>\n",
       "    <tr>\n",
       "      <th>3</th>\n",
       "      <td>11</td>\n",
       "      <td>Guanajuato</td>\n",
       "      <td>0</td>\n",
       "      <td>Estatal</td>\n",
       "      <td>1002000030</td>\n",
       "      <td>Defunciones generales</td>\n",
       "      <td>1997</td>\n",
       "      <td>21492.0</td>\n",
       "      <td>Defunciones</td>\n",
       "    </tr>\n",
       "    <tr>\n",
       "      <th>4</th>\n",
       "      <td>11</td>\n",
       "      <td>Guanajuato</td>\n",
       "      <td>0</td>\n",
       "      <td>Estatal</td>\n",
       "      <td>1002000030</td>\n",
       "      <td>Defunciones generales</td>\n",
       "      <td>1998</td>\n",
       "      <td>21759.0</td>\n",
       "      <td>Defunciones</td>\n",
       "    </tr>\n",
       "  </tbody>\n",
       "</table>\n",
       "</div>"
      ],
      "text/plain": [
       "   cve_entidad desc_entidad  cve_municipio desc_municipio  id_indicador  \\\n",
       "0           11   Guanajuato              0        Estatal    1002000030   \n",
       "1           11   Guanajuato              0        Estatal    1002000030   \n",
       "2           11   Guanajuato              0        Estatal    1002000030   \n",
       "3           11   Guanajuato              0        Estatal    1002000030   \n",
       "4           11   Guanajuato              0        Estatal    1002000030   \n",
       "\n",
       "               indicador   año    valor unidad_medida  \n",
       "0  Defunciones generales  1994  20798.0   Defunciones  \n",
       "1  Defunciones generales  1995  21482.0   Defunciones  \n",
       "2  Defunciones generales  1996  21469.0   Defunciones  \n",
       "3  Defunciones generales  1997  21492.0   Defunciones  \n",
       "4  Defunciones generales  1998  21759.0   Defunciones  "
      ]
     },
     "execution_count": 2,
     "metadata": {},
     "output_type": "execute_result"
    }
   ],
   "source": [
    "mortalidad = pd.read_csv('data/mortalidad.csv')\n",
    "\n",
    "mortalidad.head()"
   ]
  },
  {
   "cell_type": "code",
   "execution_count": 3,
   "metadata": {},
   "outputs": [
    {
     "name": "stdout",
     "output_type": "stream",
     "text": [
      "<class 'pandas.core.frame.DataFrame'>\n",
      "RangeIndex: 10644 entries, 0 to 10643\n",
      "Data columns (total 9 columns):\n",
      " #   Column          Non-Null Count  Dtype  \n",
      "---  ------          --------------  -----  \n",
      " 0   cve_entidad     10644 non-null  int64  \n",
      " 1   desc_entidad    10644 non-null  object \n",
      " 2   cve_municipio   10644 non-null  int64  \n",
      " 3   desc_municipio  10644 non-null  object \n",
      " 4   id_indicador    10644 non-null  int64  \n",
      " 5   indicador       10644 non-null  object \n",
      " 6   año             10644 non-null  int64  \n",
      " 7   valor           10644 non-null  float64\n",
      " 8   unidad_medida   10644 non-null  object \n",
      "dtypes: float64(1), int64(4), object(4)\n",
      "memory usage: 748.5+ KB\n"
     ]
    }
   ],
   "source": [
    "mortalidad.info()"
   ]
  },
  {
   "attachments": {},
   "cell_type": "markdown",
   "metadata": {},
   "source": [
    "**No existen datos nulos o NA asi que no es necesario hacer mas limpieza en general el dataset tiene una limpieza y previa organizacion.**"
   ]
  },
  {
   "cell_type": "code",
   "execution_count": 4,
   "metadata": {},
   "outputs": [
    {
     "data": {
      "text/plain": [
       "Defunciones generales                                                            1344\n",
       "Defunciones generales hombres                                                    1344\n",
       "Defunciones generales mujeres                                                    1344\n",
       "Defunciones generales de sexo no especificado                                    1344\n",
       "Defunciones de menores de un año                                                 1296\n",
       "Defunciones de menores de un año hombres                                         1296\n",
       "Defunciones de menores de un año mujeres                                         1296\n",
       "Defunciones de menores de un año de sexo no especificado                         1296\n",
       "Suicidios registrados                                                              28\n",
       "Índice de sobremortalidad masculina                                                28\n",
       "Porcentaje de muertes por suicidio con respecto al total de muertes violentas      28\n",
       "Name: indicador, dtype: int64"
      ]
     },
     "execution_count": 4,
     "metadata": {},
     "output_type": "execute_result"
    }
   ],
   "source": [
    "mortalidad['indicador'].value_counts()"
   ]
  },
  {
   "cell_type": "code",
   "execution_count": 5,
   "metadata": {},
   "outputs": [
    {
     "data": {
      "text/plain": [
       "Estatal                                              304\n",
       "Abasolo                                              220\n",
       "Romita                                               220\n",
       "Salamanca                                            220\n",
       "Salvatierra                                          220\n",
       "San Diego de la Unión                                220\n",
       "San Felipe                                           220\n",
       "San Francisco del Rincón                             220\n",
       "San José Iturbide                                    220\n",
       "San Luis de la Paz                                   220\n",
       "Santa Catarina                                       220\n",
       "Santa Cruz de Juventino Rosas                        220\n",
       "Santiago Maravatío                                   220\n",
       "Silao de la Victoria                                 220\n",
       "Tarandacuao                                          220\n",
       "Tarimoro                                             220\n",
       "Tierra Blanca                                        220\n",
       "Uriangato                                            220\n",
       "Valle de Santiago                                    220\n",
       "Victoria                                             220\n",
       "Villagrán                                            220\n",
       "Xichú                                                220\n",
       "Yuriria                                              220\n",
       "Purísima del Rincón                                  220\n",
       "Pueblo Nuevo                                         220\n",
       "Pénjamo                                              220\n",
       "Cortazar                                             220\n",
       "Acámbaro                                             220\n",
       "San Miguel de Allende                                220\n",
       "Apaseo el Alto                                       220\n",
       "Apaseo el Grande                                     220\n",
       "Atarjea                                              220\n",
       "Celaya                                               220\n",
       "Manuel Doblado                                       220\n",
       "Comonfort                                            220\n",
       "Coroneo                                              220\n",
       "Cuerámaro                                            220\n",
       "Ocampo                                               220\n",
       "Doctor Mora                                          220\n",
       "Dolores Hidalgo Cuna de la Independencia Nacional    220\n",
       "Guanajuato                                           220\n",
       "Huanímaro                                            220\n",
       "Irapuato                                             220\n",
       "Jaral del Progreso                                   220\n",
       "Jerécuaro                                            220\n",
       "León                                                 220\n",
       "Moroleón                                             220\n",
       "No especificado                                      220\n",
       "Name: desc_municipio, dtype: int64"
      ]
     },
     "execution_count": 5,
     "metadata": {},
     "output_type": "execute_result"
    }
   ],
   "source": [
    "mortalidad['desc_municipio'].value_counts()"
   ]
  },
  {
   "attachments": {},
   "cell_type": "markdown",
   "metadata": {},
   "source": [
    "Podemos observar que el dataset esta dividido por defunciones en todo el estado, por municipio y lugares no especificado para esto trabajamos con 3 dataframes generales(estado,municipio,no_especificado)"
   ]
  },
  {
   "cell_type": "code",
   "execution_count": 6,
   "metadata": {},
   "outputs": [],
   "source": [
    "m_estado = mortalidad[mortalidad['desc_municipio'] == 'Estatal']\n",
    "m_municipios = mortalidad[(mortalidad['desc_municipio'] != 'Estatal') & (mortalidad['desc_municipio'] != 'No especificado')]\n",
    "m_no_especificado = mortalidad[mortalidad['desc_municipio'] == 'No especificado']"
   ]
  },
  {
   "attachments": {},
   "cell_type": "markdown",
   "metadata": {},
   "source": [
    "**Guardamos estos dataset para un analisis individual**"
   ]
  },
  {
   "cell_type": "code",
   "execution_count": 7,
   "metadata": {},
   "outputs": [],
   "source": [
    "m_estado.to_csv('./data/mortalidad_estado.csv')\n",
    "m_municipios.to_csv('./data/mortalidad_municipios.csv')\n",
    "m_no_especificado.to_csv('./data/mortalidad_no_especificado.csv')\n"
   ]
  }
 ],
 "metadata": {
  "kernelspec": {
   "display_name": "venv",
   "language": "python",
   "name": "python3"
  },
  "language_info": {
   "codemirror_mode": {
    "name": "ipython",
    "version": 3
   },
   "file_extension": ".py",
   "mimetype": "text/x-python",
   "name": "python",
   "nbconvert_exporter": "python",
   "pygments_lexer": "ipython3",
   "version": "3.10.7"
  },
  "orig_nbformat": 4,
  "vscode": {
   "interpreter": {
    "hash": "db973748d554fe877f6d9111806cb50178df9c16a3a25e5b14b094e6adb1a722"
   }
  }
 },
 "nbformat": 4,
 "nbformat_minor": 2
}
