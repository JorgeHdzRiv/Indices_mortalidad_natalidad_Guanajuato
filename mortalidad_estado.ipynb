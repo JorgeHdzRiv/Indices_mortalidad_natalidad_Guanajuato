{
 "cells": [
  {
   "attachments": {},
   "cell_type": "markdown",
   "metadata": {},
   "source": [
    "# Introduccion\n",
    "\n",
    "Anteriormente se realizo la limpieza y filtrado de datos, para fines practicos considere realizar el analisis de estos datos de forma separada en este notebook se analizara la mortalidad en el estado de manera general."
   ]
  },
  {
   "cell_type": "code",
   "execution_count": 1,
   "metadata": {},
   "outputs": [],
   "source": [
    "import pandas as pd\n",
    "import numpy as np\n",
    "import plotly.express as px"
   ]
  },
  {
   "attachments": {},
   "cell_type": "markdown",
   "metadata": {},
   "source": [
    "# Filtrado de datos en el estado"
   ]
  },
  {
   "cell_type": "code",
   "execution_count": 2,
   "metadata": {},
   "outputs": [
    {
     "data": {
      "text/html": [
       "<div>\n",
       "<style scoped>\n",
       "    .dataframe tbody tr th:only-of-type {\n",
       "        vertical-align: middle;\n",
       "    }\n",
       "\n",
       "    .dataframe tbody tr th {\n",
       "        vertical-align: top;\n",
       "    }\n",
       "\n",
       "    .dataframe thead th {\n",
       "        text-align: right;\n",
       "    }\n",
       "</style>\n",
       "<table border=\"1\" class=\"dataframe\">\n",
       "  <thead>\n",
       "    <tr style=\"text-align: right;\">\n",
       "      <th></th>\n",
       "      <th>cve_entidad</th>\n",
       "      <th>desc_entidad</th>\n",
       "      <th>cve_municipio</th>\n",
       "      <th>desc_municipio</th>\n",
       "      <th>id_indicador</th>\n",
       "      <th>indicador</th>\n",
       "      <th>año</th>\n",
       "      <th>valor</th>\n",
       "      <th>unidad_medida</th>\n",
       "    </tr>\n",
       "  </thead>\n",
       "  <tbody>\n",
       "    <tr>\n",
       "      <th>0</th>\n",
       "      <td>11</td>\n",
       "      <td>Guanajuato</td>\n",
       "      <td>0</td>\n",
       "      <td>Estatal</td>\n",
       "      <td>1002000030</td>\n",
       "      <td>Defunciones generales</td>\n",
       "      <td>1994</td>\n",
       "      <td>20798.000000</td>\n",
       "      <td>Defunciones</td>\n",
       "    </tr>\n",
       "    <tr>\n",
       "      <th>1</th>\n",
       "      <td>11</td>\n",
       "      <td>Guanajuato</td>\n",
       "      <td>0</td>\n",
       "      <td>Estatal</td>\n",
       "      <td>1002000030</td>\n",
       "      <td>Defunciones generales</td>\n",
       "      <td>1995</td>\n",
       "      <td>21482.000000</td>\n",
       "      <td>Defunciones</td>\n",
       "    </tr>\n",
       "    <tr>\n",
       "      <th>2</th>\n",
       "      <td>11</td>\n",
       "      <td>Guanajuato</td>\n",
       "      <td>0</td>\n",
       "      <td>Estatal</td>\n",
       "      <td>1002000030</td>\n",
       "      <td>Defunciones generales</td>\n",
       "      <td>1996</td>\n",
       "      <td>21469.000000</td>\n",
       "      <td>Defunciones</td>\n",
       "    </tr>\n",
       "    <tr>\n",
       "      <th>3</th>\n",
       "      <td>11</td>\n",
       "      <td>Guanajuato</td>\n",
       "      <td>0</td>\n",
       "      <td>Estatal</td>\n",
       "      <td>1002000030</td>\n",
       "      <td>Defunciones generales</td>\n",
       "      <td>1997</td>\n",
       "      <td>21492.000000</td>\n",
       "      <td>Defunciones</td>\n",
       "    </tr>\n",
       "    <tr>\n",
       "      <th>4</th>\n",
       "      <td>11</td>\n",
       "      <td>Guanajuato</td>\n",
       "      <td>0</td>\n",
       "      <td>Estatal</td>\n",
       "      <td>1002000030</td>\n",
       "      <td>Defunciones generales</td>\n",
       "      <td>1998</td>\n",
       "      <td>21759.000000</td>\n",
       "      <td>Defunciones</td>\n",
       "    </tr>\n",
       "    <tr>\n",
       "      <th>...</th>\n",
       "      <td>...</td>\n",
       "      <td>...</td>\n",
       "      <td>...</td>\n",
       "      <td>...</td>\n",
       "      <td>...</td>\n",
       "      <td>...</td>\n",
       "      <td>...</td>\n",
       "      <td>...</td>\n",
       "      <td>...</td>\n",
       "    </tr>\n",
       "    <tr>\n",
       "      <th>299</th>\n",
       "      <td>11</td>\n",
       "      <td>Guanajuato</td>\n",
       "      <td>0</td>\n",
       "      <td>Estatal</td>\n",
       "      <td>6200240526</td>\n",
       "      <td>Porcentaje de muertes por suicidio con respect...</td>\n",
       "      <td>2017</td>\n",
       "      <td>10.562326</td>\n",
       "      <td>Porcentaje</td>\n",
       "    </tr>\n",
       "    <tr>\n",
       "      <th>300</th>\n",
       "      <td>11</td>\n",
       "      <td>Guanajuato</td>\n",
       "      <td>0</td>\n",
       "      <td>Estatal</td>\n",
       "      <td>6200240526</td>\n",
       "      <td>Porcentaje de muertes por suicidio con respect...</td>\n",
       "      <td>2018</td>\n",
       "      <td>8.920354</td>\n",
       "      <td>Porcentaje</td>\n",
       "    </tr>\n",
       "    <tr>\n",
       "      <th>301</th>\n",
       "      <td>11</td>\n",
       "      <td>Guanajuato</td>\n",
       "      <td>0</td>\n",
       "      <td>Estatal</td>\n",
       "      <td>6200240526</td>\n",
       "      <td>Porcentaje de muertes por suicidio con respect...</td>\n",
       "      <td>2019</td>\n",
       "      <td>7.934468</td>\n",
       "      <td>Porcentaje</td>\n",
       "    </tr>\n",
       "    <tr>\n",
       "      <th>302</th>\n",
       "      <td>11</td>\n",
       "      <td>Guanajuato</td>\n",
       "      <td>0</td>\n",
       "      <td>Estatal</td>\n",
       "      <td>6200240526</td>\n",
       "      <td>Porcentaje de muertes por suicidio con respect...</td>\n",
       "      <td>2020</td>\n",
       "      <td>7.059321</td>\n",
       "      <td>Porcentaje</td>\n",
       "    </tr>\n",
       "    <tr>\n",
       "      <th>303</th>\n",
       "      <td>11</td>\n",
       "      <td>Guanajuato</td>\n",
       "      <td>0</td>\n",
       "      <td>Estatal</td>\n",
       "      <td>6200240526</td>\n",
       "      <td>Porcentaje de muertes por suicidio con respect...</td>\n",
       "      <td>2021</td>\n",
       "      <td>6.985065</td>\n",
       "      <td>Porcentaje</td>\n",
       "    </tr>\n",
       "  </tbody>\n",
       "</table>\n",
       "<p>304 rows × 9 columns</p>\n",
       "</div>"
      ],
      "text/plain": [
       "     cve_entidad desc_entidad  cve_municipio desc_municipio  id_indicador  \\\n",
       "0             11   Guanajuato              0        Estatal    1002000030   \n",
       "1             11   Guanajuato              0        Estatal    1002000030   \n",
       "2             11   Guanajuato              0        Estatal    1002000030   \n",
       "3             11   Guanajuato              0        Estatal    1002000030   \n",
       "4             11   Guanajuato              0        Estatal    1002000030   \n",
       "..           ...          ...            ...            ...           ...   \n",
       "299           11   Guanajuato              0        Estatal    6200240526   \n",
       "300           11   Guanajuato              0        Estatal    6200240526   \n",
       "301           11   Guanajuato              0        Estatal    6200240526   \n",
       "302           11   Guanajuato              0        Estatal    6200240526   \n",
       "303           11   Guanajuato              0        Estatal    6200240526   \n",
       "\n",
       "                                             indicador   año         valor  \\\n",
       "0                                Defunciones generales  1994  20798.000000   \n",
       "1                                Defunciones generales  1995  21482.000000   \n",
       "2                                Defunciones generales  1996  21469.000000   \n",
       "3                                Defunciones generales  1997  21492.000000   \n",
       "4                                Defunciones generales  1998  21759.000000   \n",
       "..                                                 ...   ...           ...   \n",
       "299  Porcentaje de muertes por suicidio con respect...  2017     10.562326   \n",
       "300  Porcentaje de muertes por suicidio con respect...  2018      8.920354   \n",
       "301  Porcentaje de muertes por suicidio con respect...  2019      7.934468   \n",
       "302  Porcentaje de muertes por suicidio con respect...  2020      7.059321   \n",
       "303  Porcentaje de muertes por suicidio con respect...  2021      6.985065   \n",
       "\n",
       "    unidad_medida  \n",
       "0     Defunciones  \n",
       "1     Defunciones  \n",
       "2     Defunciones  \n",
       "3     Defunciones  \n",
       "4     Defunciones  \n",
       "..            ...  \n",
       "299    Porcentaje  \n",
       "300    Porcentaje  \n",
       "301    Porcentaje  \n",
       "302    Porcentaje  \n",
       "303    Porcentaje  \n",
       "\n",
       "[304 rows x 9 columns]"
      ]
     },
     "execution_count": 2,
     "metadata": {},
     "output_type": "execute_result"
    }
   ],
   "source": [
    "estado = pd.read_csv('./data/mortalidad_estado.csv',index_col=0)\n",
    "estado"
   ]
  },
  {
   "cell_type": "code",
   "execution_count": 3,
   "metadata": {},
   "outputs": [
    {
     "name": "stdout",
     "output_type": "stream",
     "text": [
      "<class 'pandas.core.frame.DataFrame'>\n",
      "Int64Index: 304 entries, 0 to 303\n",
      "Data columns (total 9 columns):\n",
      " #   Column          Non-Null Count  Dtype  \n",
      "---  ------          --------------  -----  \n",
      " 0   cve_entidad     304 non-null    int64  \n",
      " 1   desc_entidad    304 non-null    object \n",
      " 2   cve_municipio   304 non-null    int64  \n",
      " 3   desc_municipio  304 non-null    object \n",
      " 4   id_indicador    304 non-null    int64  \n",
      " 5   indicador       304 non-null    object \n",
      " 6   año             304 non-null    int64  \n",
      " 7   valor           304 non-null    float64\n",
      " 8   unidad_medida   304 non-null    object \n",
      "dtypes: float64(1), int64(4), object(4)\n",
      "memory usage: 23.8+ KB\n"
     ]
    }
   ],
   "source": [
    "estado.info()"
   ]
  },
  {
   "attachments": {},
   "cell_type": "markdown",
   "metadata": {},
   "source": [
    "**Los indicadores del dataframe son los siguientes:**"
   ]
  },
  {
   "cell_type": "code",
   "execution_count": 4,
   "metadata": {},
   "outputs": [
    {
     "data": {
      "text/plain": [
       "Defunciones generales                                                            28\n",
       "Defunciones generales hombres                                                    28\n",
       "Defunciones generales mujeres                                                    28\n",
       "Defunciones generales de sexo no especificado                                    28\n",
       "Suicidios registrados                                                            28\n",
       "Índice de sobremortalidad masculina                                              28\n",
       "Porcentaje de muertes por suicidio con respecto al total de muertes violentas    28\n",
       "Defunciones de menores de un año                                                 27\n",
       "Defunciones de menores de un año hombres                                         27\n",
       "Defunciones de menores de un año mujeres                                         27\n",
       "Defunciones de menores de un año de sexo no especificado                         27\n",
       "Name: indicador, dtype: int64"
      ]
     },
     "execution_count": 4,
     "metadata": {},
     "output_type": "execute_result"
    }
   ],
   "source": [
    "estado['indicador'].value_counts()"
   ]
  },
  {
   "attachments": {},
   "cell_type": "markdown",
   "metadata": {},
   "source": [
    "**Considerando la columna de unidad de medida**"
   ]
  },
  {
   "cell_type": "code",
   "execution_count": 5,
   "metadata": {},
   "outputs": [
    {
     "data": {
      "text/plain": [
       "Defunciones    248\n",
       "Porcentaje      56\n",
       "Name: unidad_medida, dtype: int64"
      ]
     },
     "execution_count": 5,
     "metadata": {},
     "output_type": "execute_result"
    }
   ],
   "source": [
    "estado['unidad_medida'].value_counts()"
   ]
  },
  {
   "attachments": {},
   "cell_type": "markdown",
   "metadata": {},
   "source": [
    "Se puede observar que tenemos diferentes tipos de medida defunciones y porcentaje lo cual dividiremos para un analisis individual."
   ]
  },
  {
   "cell_type": "code",
   "execution_count": 6,
   "metadata": {},
   "outputs": [],
   "source": [
    "estado_defunciones = estado[estado['unidad_medida'] == 'Defunciones']\n",
    "estado_porcentaje = estado[estado['unidad_medida'] == 'Porcentaje']"
   ]
  },
  {
   "attachments": {},
   "cell_type": "markdown",
   "metadata": {},
   "source": [
    "# Analisis de defunciones en el estado"
   ]
  },
  {
   "cell_type": "code",
   "execution_count": 7,
   "metadata": {},
   "outputs": [
    {
     "data": {
      "text/plain": [
       "count      248.000000\n",
       "mean      6702.185484\n",
       "std       9985.790077\n",
       "min          0.000000\n",
       "25%        171.750000\n",
       "50%       1127.500000\n",
       "75%      11786.500000\n",
       "max      56279.000000\n",
       "Name: valor, dtype: float64"
      ]
     },
     "execution_count": 7,
     "metadata": {},
     "output_type": "execute_result"
    }
   ],
   "source": [
    "estado_defunciones['valor'].describe()"
   ]
  },
  {
   "cell_type": "code",
   "execution_count": 8,
   "metadata": {},
   "outputs": [
    {
     "data": {
      "text/plain": [
       "Index(['cve_entidad', 'desc_entidad', 'cve_municipio', 'desc_municipio',\n",
       "       'id_indicador', 'indicador', 'año', 'valor', 'unidad_medida'],\n",
       "      dtype='object')"
      ]
     },
     "execution_count": 8,
     "metadata": {},
     "output_type": "execute_result"
    }
   ],
   "source": [
    "estado_defunciones.columns"
   ]
  },
  {
   "cell_type": "code",
   "execution_count": 9,
   "metadata": {},
   "outputs": [
    {
     "data": {
      "text/html": [
       "<div>\n",
       "<style scoped>\n",
       "    .dataframe tbody tr th:only-of-type {\n",
       "        vertical-align: middle;\n",
       "    }\n",
       "\n",
       "    .dataframe tbody tr th {\n",
       "        vertical-align: top;\n",
       "    }\n",
       "\n",
       "    .dataframe thead th {\n",
       "        text-align: right;\n",
       "    }\n",
       "</style>\n",
       "<table border=\"1\" class=\"dataframe\">\n",
       "  <thead>\n",
       "    <tr style=\"text-align: right;\">\n",
       "      <th></th>\n",
       "      <th>cve_entidad</th>\n",
       "      <th>desc_entidad</th>\n",
       "      <th>cve_municipio</th>\n",
       "      <th>desc_municipio</th>\n",
       "      <th>id_indicador</th>\n",
       "      <th>indicador</th>\n",
       "      <th>año</th>\n",
       "      <th>valor</th>\n",
       "      <th>unidad_medida</th>\n",
       "    </tr>\n",
       "  </thead>\n",
       "  <tbody>\n",
       "    <tr>\n",
       "      <th>0</th>\n",
       "      <td>11</td>\n",
       "      <td>Guanajuato</td>\n",
       "      <td>0</td>\n",
       "      <td>Estatal</td>\n",
       "      <td>1002000030</td>\n",
       "      <td>Defunciones generales</td>\n",
       "      <td>1994</td>\n",
       "      <td>20798.0</td>\n",
       "      <td>Defunciones</td>\n",
       "    </tr>\n",
       "    <tr>\n",
       "      <th>1</th>\n",
       "      <td>11</td>\n",
       "      <td>Guanajuato</td>\n",
       "      <td>0</td>\n",
       "      <td>Estatal</td>\n",
       "      <td>1002000030</td>\n",
       "      <td>Defunciones generales</td>\n",
       "      <td>1995</td>\n",
       "      <td>21482.0</td>\n",
       "      <td>Defunciones</td>\n",
       "    </tr>\n",
       "    <tr>\n",
       "      <th>2</th>\n",
       "      <td>11</td>\n",
       "      <td>Guanajuato</td>\n",
       "      <td>0</td>\n",
       "      <td>Estatal</td>\n",
       "      <td>1002000030</td>\n",
       "      <td>Defunciones generales</td>\n",
       "      <td>1996</td>\n",
       "      <td>21469.0</td>\n",
       "      <td>Defunciones</td>\n",
       "    </tr>\n",
       "    <tr>\n",
       "      <th>3</th>\n",
       "      <td>11</td>\n",
       "      <td>Guanajuato</td>\n",
       "      <td>0</td>\n",
       "      <td>Estatal</td>\n",
       "      <td>1002000030</td>\n",
       "      <td>Defunciones generales</td>\n",
       "      <td>1997</td>\n",
       "      <td>21492.0</td>\n",
       "      <td>Defunciones</td>\n",
       "    </tr>\n",
       "    <tr>\n",
       "      <th>4</th>\n",
       "      <td>11</td>\n",
       "      <td>Guanajuato</td>\n",
       "      <td>0</td>\n",
       "      <td>Estatal</td>\n",
       "      <td>1002000030</td>\n",
       "      <td>Defunciones generales</td>\n",
       "      <td>1998</td>\n",
       "      <td>21759.0</td>\n",
       "      <td>Defunciones</td>\n",
       "    </tr>\n",
       "    <tr>\n",
       "      <th>...</th>\n",
       "      <td>...</td>\n",
       "      <td>...</td>\n",
       "      <td>...</td>\n",
       "      <td>...</td>\n",
       "      <td>...</td>\n",
       "      <td>...</td>\n",
       "      <td>...</td>\n",
       "      <td>...</td>\n",
       "      <td>...</td>\n",
       "    </tr>\n",
       "    <tr>\n",
       "      <th>243</th>\n",
       "      <td>11</td>\n",
       "      <td>Guanajuato</td>\n",
       "      <td>0</td>\n",
       "      <td>Estatal</td>\n",
       "      <td>6200240338</td>\n",
       "      <td>Suicidios registrados</td>\n",
       "      <td>2017</td>\n",
       "      <td>494.0</td>\n",
       "      <td>Defunciones</td>\n",
       "    </tr>\n",
       "    <tr>\n",
       "      <th>244</th>\n",
       "      <td>11</td>\n",
       "      <td>Guanajuato</td>\n",
       "      <td>0</td>\n",
       "      <td>Estatal</td>\n",
       "      <td>6200240338</td>\n",
       "      <td>Suicidios registrados</td>\n",
       "      <td>2018</td>\n",
       "      <td>504.0</td>\n",
       "      <td>Defunciones</td>\n",
       "    </tr>\n",
       "    <tr>\n",
       "      <th>245</th>\n",
       "      <td>11</td>\n",
       "      <td>Guanajuato</td>\n",
       "      <td>0</td>\n",
       "      <td>Estatal</td>\n",
       "      <td>6200240338</td>\n",
       "      <td>Suicidios registrados</td>\n",
       "      <td>2019</td>\n",
       "      <td>493.0</td>\n",
       "      <td>Defunciones</td>\n",
       "    </tr>\n",
       "    <tr>\n",
       "      <th>246</th>\n",
       "      <td>11</td>\n",
       "      <td>Guanajuato</td>\n",
       "      <td>0</td>\n",
       "      <td>Estatal</td>\n",
       "      <td>6200240338</td>\n",
       "      <td>Suicidios registrados</td>\n",
       "      <td>2020</td>\n",
       "      <td>501.0</td>\n",
       "      <td>Defunciones</td>\n",
       "    </tr>\n",
       "    <tr>\n",
       "      <th>247</th>\n",
       "      <td>11</td>\n",
       "      <td>Guanajuato</td>\n",
       "      <td>0</td>\n",
       "      <td>Estatal</td>\n",
       "      <td>6200240338</td>\n",
       "      <td>Suicidios registrados</td>\n",
       "      <td>2021</td>\n",
       "      <td>449.0</td>\n",
       "      <td>Defunciones</td>\n",
       "    </tr>\n",
       "  </tbody>\n",
       "</table>\n",
       "<p>248 rows × 9 columns</p>\n",
       "</div>"
      ],
      "text/plain": [
       "     cve_entidad desc_entidad  cve_municipio desc_municipio  id_indicador  \\\n",
       "0             11   Guanajuato              0        Estatal    1002000030   \n",
       "1             11   Guanajuato              0        Estatal    1002000030   \n",
       "2             11   Guanajuato              0        Estatal    1002000030   \n",
       "3             11   Guanajuato              0        Estatal    1002000030   \n",
       "4             11   Guanajuato              0        Estatal    1002000030   \n",
       "..           ...          ...            ...            ...           ...   \n",
       "243           11   Guanajuato              0        Estatal    6200240338   \n",
       "244           11   Guanajuato              0        Estatal    6200240338   \n",
       "245           11   Guanajuato              0        Estatal    6200240338   \n",
       "246           11   Guanajuato              0        Estatal    6200240338   \n",
       "247           11   Guanajuato              0        Estatal    6200240338   \n",
       "\n",
       "                 indicador   año    valor unidad_medida  \n",
       "0    Defunciones generales  1994  20798.0   Defunciones  \n",
       "1    Defunciones generales  1995  21482.0   Defunciones  \n",
       "2    Defunciones generales  1996  21469.0   Defunciones  \n",
       "3    Defunciones generales  1997  21492.0   Defunciones  \n",
       "4    Defunciones generales  1998  21759.0   Defunciones  \n",
       "..                     ...   ...      ...           ...  \n",
       "243  Suicidios registrados  2017    494.0   Defunciones  \n",
       "244  Suicidios registrados  2018    504.0   Defunciones  \n",
       "245  Suicidios registrados  2019    493.0   Defunciones  \n",
       "246  Suicidios registrados  2020    501.0   Defunciones  \n",
       "247  Suicidios registrados  2021    449.0   Defunciones  \n",
       "\n",
       "[248 rows x 9 columns]"
      ]
     },
     "execution_count": 9,
     "metadata": {},
     "output_type": "execute_result"
    }
   ],
   "source": [
    "estado_defunciones"
   ]
  },
  {
   "attachments": {},
   "cell_type": "markdown",
   "metadata": {},
   "source": [
    "## Visualizacion de datos"
   ]
  },
  {
   "attachments": {},
   "cell_type": "markdown",
   "metadata": {},
   "source": [
    "**Defunciones a lo largo del tiempo**"
   ]
  },
  {
   "cell_type": "code",
   "execution_count": 10,
   "metadata": {},
   "outputs": [
    {
     "data": {
      "application/vnd.plotly.v1+json": {
       "config": {
        "plotlyServerURL": "https://plot.ly"
       },
       "data": [
        {
         "hovertemplate": "indicador=Defunciones generales<br>año=%{x}<br>valor=%{y}<extra></extra>",
         "legendgroup": "Defunciones generales",
         "line": {
          "color": "#636efa",
          "dash": "solid"
         },
         "marker": {
          "symbol": "circle"
         },
         "mode": "lines",
         "name": "Defunciones generales",
         "orientation": "v",
         "showlegend": true,
         "type": "scatter",
         "x": [
          1994,
          1995,
          1996,
          1997,
          1998,
          1999,
          2000,
          2001,
          2002,
          2003,
          2004,
          2005,
          2006,
          2007,
          2008,
          2009,
          2010,
          2011,
          2012,
          2013,
          2014,
          2015,
          2016,
          2017,
          2018,
          2019,
          2020,
          2021
         ],
         "xaxis": "x",
         "y": [
          20798,
          21482,
          21469,
          21492,
          21759,
          21753,
          21401,
          20375,
          22285,
          22493,
          22237,
          23402,
          22973,
          23664,
          25104,
          25422,
          27132,
          26550,
          27454,
          28657,
          29474,
          30170,
          32202,
          34794,
          35880,
          37347,
          51677,
          56279
         ],
         "yaxis": "y"
        },
        {
         "hovertemplate": "indicador=Defunciones generales hombres<br>año=%{x}<br>valor=%{y}<extra></extra>",
         "legendgroup": "Defunciones generales hombres",
         "line": {
          "color": "#EF553B",
          "dash": "solid"
         },
         "marker": {
          "symbol": "circle"
         },
         "mode": "lines",
         "name": "Defunciones generales hombres",
         "orientation": "v",
         "showlegend": true,
         "type": "scatter",
         "x": [
          1994,
          1995,
          1996,
          1997,
          1998,
          1999,
          2000,
          2001,
          2002,
          2003,
          2004,
          2005,
          2006,
          2007,
          2008,
          2009,
          2010,
          2011,
          2012,
          2013,
          2014,
          2015,
          2016,
          2017,
          2018,
          2019,
          2020,
          2021
         ],
         "xaxis": "x",
         "y": [
          11502,
          11648,
          11768,
          11760,
          11794,
          11900,
          11784,
          10988,
          11958,
          12093,
          12034,
          12578,
          12436,
          12873,
          13793,
          13900,
          14706,
          14624,
          15143,
          15726,
          16326,
          16824,
          17936,
          19674,
          20550,
          21586,
          30678,
          32580
         ],
         "yaxis": "y"
        },
        {
         "hovertemplate": "indicador=Defunciones generales mujeres<br>año=%{x}<br>valor=%{y}<extra></extra>",
         "legendgroup": "Defunciones generales mujeres",
         "line": {
          "color": "#00cc96",
          "dash": "solid"
         },
         "marker": {
          "symbol": "circle"
         },
         "mode": "lines",
         "name": "Defunciones generales mujeres",
         "orientation": "v",
         "showlegend": true,
         "type": "scatter",
         "x": [
          1994,
          1995,
          1996,
          1997,
          1998,
          1999,
          2000,
          2001,
          2002,
          2003,
          2004,
          2005,
          2006,
          2007,
          2008,
          2009,
          2010,
          2011,
          2012,
          2013,
          2014,
          2015,
          2016,
          2017,
          2018,
          2019,
          2020,
          2021
         ],
         "xaxis": "x",
         "y": [
          9281,
          9822,
          9696,
          9725,
          9960,
          9851,
          9613,
          9380,
          10323,
          10396,
          10192,
          10820,
          10528,
          10784,
          11303,
          11519,
          12416,
          11922,
          12299,
          12925,
          13143,
          13342,
          14248,
          15120,
          15322,
          15754,
          20995,
          23697
         ],
         "yaxis": "y"
        },
        {
         "hovertemplate": "indicador=Defunciones generales de sexo no especificado<br>año=%{x}<br>valor=%{y}<extra></extra>",
         "legendgroup": "Defunciones generales de sexo no especificado",
         "line": {
          "color": "#ab63fa",
          "dash": "solid"
         },
         "marker": {
          "symbol": "circle"
         },
         "mode": "lines",
         "name": "Defunciones generales de sexo no especificado",
         "orientation": "v",
         "showlegend": true,
         "type": "scatter",
         "x": [
          1994,
          1995,
          1996,
          1997,
          1998,
          1999,
          2000,
          2001,
          2002,
          2003,
          2004,
          2005,
          2006,
          2007,
          2008,
          2009,
          2010,
          2011,
          2012,
          2013,
          2014,
          2015,
          2016,
          2017,
          2018,
          2019,
          2020,
          2021
         ],
         "xaxis": "x",
         "y": [
          15,
          12,
          5,
          7,
          5,
          2,
          4,
          7,
          4,
          4,
          11,
          4,
          9,
          7,
          8,
          3,
          10,
          4,
          12,
          6,
          5,
          4,
          18,
          0,
          8,
          7,
          4,
          2
         ],
         "yaxis": "y"
        },
        {
         "hovertemplate": "indicador=Defunciones de menores de un año<br>año=%{x}<br>valor=%{y}<extra></extra>",
         "legendgroup": "Defunciones de menores de un año",
         "line": {
          "color": "#FFA15A",
          "dash": "solid"
         },
         "marker": {
          "symbol": "circle"
         },
         "mode": "lines",
         "name": "Defunciones de menores de un año",
         "orientation": "v",
         "showlegend": true,
         "type": "scatter",
         "x": [
          1994,
          1995,
          1996,
          1997,
          1998,
          1999,
          2000,
          2001,
          2002,
          2003,
          2004,
          2005,
          2006,
          2007,
          2008,
          2009,
          2010,
          2011,
          2012,
          2013,
          2014,
          2015,
          2016,
          2017,
          2018,
          2019,
          2020
         ],
         "xaxis": "x",
         "y": [
          3478,
          3466,
          3107,
          3031,
          2824,
          2577,
          2463,
          2046,
          2208,
          1985,
          1879,
          1806,
          1698,
          1656,
          1585,
          1417,
          1524,
          1404,
          1388,
          1321,
          1372,
          1247,
          1218,
          1255,
          1223,
          1132,
          984
         ],
         "yaxis": "y"
        },
        {
         "hovertemplate": "indicador=Defunciones de menores de un año hombres<br>año=%{x}<br>valor=%{y}<extra></extra>",
         "legendgroup": "Defunciones de menores de un año hombres",
         "line": {
          "color": "#19d3f3",
          "dash": "solid"
         },
         "marker": {
          "symbol": "circle"
         },
         "mode": "lines",
         "name": "Defunciones de menores de un año hombres",
         "orientation": "v",
         "showlegend": true,
         "type": "scatter",
         "x": [
          1994,
          1995,
          1996,
          1997,
          1998,
          1999,
          2000,
          2001,
          2002,
          2003,
          2004,
          2005,
          2006,
          2007,
          2008,
          2009,
          2010,
          2011,
          2012,
          2013,
          2014,
          2015,
          2016,
          2017,
          2018,
          2019,
          2020
         ],
         "xaxis": "x",
         "y": [
          1984,
          1951,
          1796,
          1683,
          1568,
          1493,
          1422,
          1152,
          1276,
          1123,
          1109,
          1031,
          936,
          913,
          890,
          800,
          858,
          778,
          778,
          756,
          787,
          706,
          724,
          688,
          634,
          641,
          548
         ],
         "yaxis": "y"
        },
        {
         "hovertemplate": "indicador=Defunciones de menores de un año mujeres<br>año=%{x}<br>valor=%{y}<extra></extra>",
         "legendgroup": "Defunciones de menores de un año mujeres",
         "line": {
          "color": "#FF6692",
          "dash": "solid"
         },
         "marker": {
          "symbol": "circle"
         },
         "mode": "lines",
         "name": "Defunciones de menores de un año mujeres",
         "orientation": "v",
         "showlegend": true,
         "type": "scatter",
         "x": [
          1994,
          1995,
          1996,
          1997,
          1998,
          1999,
          2000,
          2001,
          2002,
          2003,
          2004,
          2005,
          2006,
          2007,
          2008,
          2009,
          2010,
          2011,
          2012,
          2013,
          2014,
          2015,
          2016,
          2017,
          2018,
          2019,
          2020
         ],
         "xaxis": "x",
         "y": [
          1484,
          1509,
          1308,
          1344,
          1251,
          1082,
          1037,
          892,
          931,
          858,
          762,
          774,
          754,
          739,
          692,
          614,
          656,
          626,
          603,
          564,
          582,
          539,
          493,
          567,
          581,
          484,
          432
         ],
         "yaxis": "y"
        },
        {
         "hovertemplate": "indicador=Defunciones de menores de un año de sexo no especificado<br>año=%{x}<br>valor=%{y}<extra></extra>",
         "legendgroup": "Defunciones de menores de un año de sexo no especificado",
         "line": {
          "color": "#B6E880",
          "dash": "solid"
         },
         "marker": {
          "symbol": "circle"
         },
         "mode": "lines",
         "name": "Defunciones de menores de un año de sexo no especificado",
         "orientation": "v",
         "showlegend": true,
         "type": "scatter",
         "x": [
          1994,
          1995,
          1996,
          1997,
          1998,
          1999,
          2000,
          2001,
          2002,
          2003,
          2004,
          2005,
          2006,
          2007,
          2008,
          2009,
          2010,
          2011,
          2012,
          2013,
          2014,
          2015,
          2016,
          2017,
          2018,
          2019,
          2020
         ],
         "xaxis": "x",
         "y": [
          10,
          6,
          3,
          4,
          5,
          2,
          4,
          2,
          1,
          4,
          8,
          1,
          8,
          4,
          3,
          3,
          10,
          0,
          7,
          1,
          3,
          2,
          1,
          0,
          8,
          7,
          4
         ],
         "yaxis": "y"
        },
        {
         "hovertemplate": "indicador=Suicidios registrados<br>año=%{x}<br>valor=%{y}<extra></extra>",
         "legendgroup": "Suicidios registrados",
         "line": {
          "color": "#FF97FF",
          "dash": "solid"
         },
         "marker": {
          "symbol": "circle"
         },
         "mode": "lines",
         "name": "Suicidios registrados",
         "orientation": "v",
         "showlegend": true,
         "type": "scatter",
         "x": [
          1994,
          1995,
          1996,
          1997,
          1998,
          1999,
          2000,
          2001,
          2002,
          2003,
          2004,
          2005,
          2006,
          2007,
          2008,
          2009,
          2010,
          2011,
          2012,
          2013,
          2014,
          2015,
          2016,
          2017,
          2018,
          2019,
          2020,
          2021
         ],
         "xaxis": "x",
         "y": [
          119,
          105,
          119,
          167,
          161,
          153,
          180,
          168,
          203,
          187,
          173,
          220,
          187,
          270,
          298,
          276,
          283,
          358,
          338,
          351,
          422,
          466,
          459,
          494,
          504,
          493,
          501,
          449
         ],
         "yaxis": "y"
        }
       ],
       "layout": {
        "legend": {
         "title": {
          "text": "indicador"
         },
         "tracegroupgap": 0
        },
        "template": {
         "data": {
          "bar": [
           {
            "error_x": {
             "color": "#2a3f5f"
            },
            "error_y": {
             "color": "#2a3f5f"
            },
            "marker": {
             "line": {
              "color": "#E5ECF6",
              "width": 0.5
             },
             "pattern": {
              "fillmode": "overlay",
              "size": 10,
              "solidity": 0.2
             }
            },
            "type": "bar"
           }
          ],
          "barpolar": [
           {
            "marker": {
             "line": {
              "color": "#E5ECF6",
              "width": 0.5
             },
             "pattern": {
              "fillmode": "overlay",
              "size": 10,
              "solidity": 0.2
             }
            },
            "type": "barpolar"
           }
          ],
          "carpet": [
           {
            "aaxis": {
             "endlinecolor": "#2a3f5f",
             "gridcolor": "white",
             "linecolor": "white",
             "minorgridcolor": "white",
             "startlinecolor": "#2a3f5f"
            },
            "baxis": {
             "endlinecolor": "#2a3f5f",
             "gridcolor": "white",
             "linecolor": "white",
             "minorgridcolor": "white",
             "startlinecolor": "#2a3f5f"
            },
            "type": "carpet"
           }
          ],
          "choropleth": [
           {
            "colorbar": {
             "outlinewidth": 0,
             "ticks": ""
            },
            "type": "choropleth"
           }
          ],
          "contour": [
           {
            "colorbar": {
             "outlinewidth": 0,
             "ticks": ""
            },
            "colorscale": [
             [
              0,
              "#0d0887"
             ],
             [
              0.1111111111111111,
              "#46039f"
             ],
             [
              0.2222222222222222,
              "#7201a8"
             ],
             [
              0.3333333333333333,
              "#9c179e"
             ],
             [
              0.4444444444444444,
              "#bd3786"
             ],
             [
              0.5555555555555556,
              "#d8576b"
             ],
             [
              0.6666666666666666,
              "#ed7953"
             ],
             [
              0.7777777777777778,
              "#fb9f3a"
             ],
             [
              0.8888888888888888,
              "#fdca26"
             ],
             [
              1,
              "#f0f921"
             ]
            ],
            "type": "contour"
           }
          ],
          "contourcarpet": [
           {
            "colorbar": {
             "outlinewidth": 0,
             "ticks": ""
            },
            "type": "contourcarpet"
           }
          ],
          "heatmap": [
           {
            "colorbar": {
             "outlinewidth": 0,
             "ticks": ""
            },
            "colorscale": [
             [
              0,
              "#0d0887"
             ],
             [
              0.1111111111111111,
              "#46039f"
             ],
             [
              0.2222222222222222,
              "#7201a8"
             ],
             [
              0.3333333333333333,
              "#9c179e"
             ],
             [
              0.4444444444444444,
              "#bd3786"
             ],
             [
              0.5555555555555556,
              "#d8576b"
             ],
             [
              0.6666666666666666,
              "#ed7953"
             ],
             [
              0.7777777777777778,
              "#fb9f3a"
             ],
             [
              0.8888888888888888,
              "#fdca26"
             ],
             [
              1,
              "#f0f921"
             ]
            ],
            "type": "heatmap"
           }
          ],
          "heatmapgl": [
           {
            "colorbar": {
             "outlinewidth": 0,
             "ticks": ""
            },
            "colorscale": [
             [
              0,
              "#0d0887"
             ],
             [
              0.1111111111111111,
              "#46039f"
             ],
             [
              0.2222222222222222,
              "#7201a8"
             ],
             [
              0.3333333333333333,
              "#9c179e"
             ],
             [
              0.4444444444444444,
              "#bd3786"
             ],
             [
              0.5555555555555556,
              "#d8576b"
             ],
             [
              0.6666666666666666,
              "#ed7953"
             ],
             [
              0.7777777777777778,
              "#fb9f3a"
             ],
             [
              0.8888888888888888,
              "#fdca26"
             ],
             [
              1,
              "#f0f921"
             ]
            ],
            "type": "heatmapgl"
           }
          ],
          "histogram": [
           {
            "marker": {
             "pattern": {
              "fillmode": "overlay",
              "size": 10,
              "solidity": 0.2
             }
            },
            "type": "histogram"
           }
          ],
          "histogram2d": [
           {
            "colorbar": {
             "outlinewidth": 0,
             "ticks": ""
            },
            "colorscale": [
             [
              0,
              "#0d0887"
             ],
             [
              0.1111111111111111,
              "#46039f"
             ],
             [
              0.2222222222222222,
              "#7201a8"
             ],
             [
              0.3333333333333333,
              "#9c179e"
             ],
             [
              0.4444444444444444,
              "#bd3786"
             ],
             [
              0.5555555555555556,
              "#d8576b"
             ],
             [
              0.6666666666666666,
              "#ed7953"
             ],
             [
              0.7777777777777778,
              "#fb9f3a"
             ],
             [
              0.8888888888888888,
              "#fdca26"
             ],
             [
              1,
              "#f0f921"
             ]
            ],
            "type": "histogram2d"
           }
          ],
          "histogram2dcontour": [
           {
            "colorbar": {
             "outlinewidth": 0,
             "ticks": ""
            },
            "colorscale": [
             [
              0,
              "#0d0887"
             ],
             [
              0.1111111111111111,
              "#46039f"
             ],
             [
              0.2222222222222222,
              "#7201a8"
             ],
             [
              0.3333333333333333,
              "#9c179e"
             ],
             [
              0.4444444444444444,
              "#bd3786"
             ],
             [
              0.5555555555555556,
              "#d8576b"
             ],
             [
              0.6666666666666666,
              "#ed7953"
             ],
             [
              0.7777777777777778,
              "#fb9f3a"
             ],
             [
              0.8888888888888888,
              "#fdca26"
             ],
             [
              1,
              "#f0f921"
             ]
            ],
            "type": "histogram2dcontour"
           }
          ],
          "mesh3d": [
           {
            "colorbar": {
             "outlinewidth": 0,
             "ticks": ""
            },
            "type": "mesh3d"
           }
          ],
          "parcoords": [
           {
            "line": {
             "colorbar": {
              "outlinewidth": 0,
              "ticks": ""
             }
            },
            "type": "parcoords"
           }
          ],
          "pie": [
           {
            "automargin": true,
            "type": "pie"
           }
          ],
          "scatter": [
           {
            "fillpattern": {
             "fillmode": "overlay",
             "size": 10,
             "solidity": 0.2
            },
            "type": "scatter"
           }
          ],
          "scatter3d": [
           {
            "line": {
             "colorbar": {
              "outlinewidth": 0,
              "ticks": ""
             }
            },
            "marker": {
             "colorbar": {
              "outlinewidth": 0,
              "ticks": ""
             }
            },
            "type": "scatter3d"
           }
          ],
          "scattercarpet": [
           {
            "marker": {
             "colorbar": {
              "outlinewidth": 0,
              "ticks": ""
             }
            },
            "type": "scattercarpet"
           }
          ],
          "scattergeo": [
           {
            "marker": {
             "colorbar": {
              "outlinewidth": 0,
              "ticks": ""
             }
            },
            "type": "scattergeo"
           }
          ],
          "scattergl": [
           {
            "marker": {
             "colorbar": {
              "outlinewidth": 0,
              "ticks": ""
             }
            },
            "type": "scattergl"
           }
          ],
          "scattermapbox": [
           {
            "marker": {
             "colorbar": {
              "outlinewidth": 0,
              "ticks": ""
             }
            },
            "type": "scattermapbox"
           }
          ],
          "scatterpolar": [
           {
            "marker": {
             "colorbar": {
              "outlinewidth": 0,
              "ticks": ""
             }
            },
            "type": "scatterpolar"
           }
          ],
          "scatterpolargl": [
           {
            "marker": {
             "colorbar": {
              "outlinewidth": 0,
              "ticks": ""
             }
            },
            "type": "scatterpolargl"
           }
          ],
          "scatterternary": [
           {
            "marker": {
             "colorbar": {
              "outlinewidth": 0,
              "ticks": ""
             }
            },
            "type": "scatterternary"
           }
          ],
          "surface": [
           {
            "colorbar": {
             "outlinewidth": 0,
             "ticks": ""
            },
            "colorscale": [
             [
              0,
              "#0d0887"
             ],
             [
              0.1111111111111111,
              "#46039f"
             ],
             [
              0.2222222222222222,
              "#7201a8"
             ],
             [
              0.3333333333333333,
              "#9c179e"
             ],
             [
              0.4444444444444444,
              "#bd3786"
             ],
             [
              0.5555555555555556,
              "#d8576b"
             ],
             [
              0.6666666666666666,
              "#ed7953"
             ],
             [
              0.7777777777777778,
              "#fb9f3a"
             ],
             [
              0.8888888888888888,
              "#fdca26"
             ],
             [
              1,
              "#f0f921"
             ]
            ],
            "type": "surface"
           }
          ],
          "table": [
           {
            "cells": {
             "fill": {
              "color": "#EBF0F8"
             },
             "line": {
              "color": "white"
             }
            },
            "header": {
             "fill": {
              "color": "#C8D4E3"
             },
             "line": {
              "color": "white"
             }
            },
            "type": "table"
           }
          ]
         },
         "layout": {
          "annotationdefaults": {
           "arrowcolor": "#2a3f5f",
           "arrowhead": 0,
           "arrowwidth": 1
          },
          "autotypenumbers": "strict",
          "coloraxis": {
           "colorbar": {
            "outlinewidth": 0,
            "ticks": ""
           }
          },
          "colorscale": {
           "diverging": [
            [
             0,
             "#8e0152"
            ],
            [
             0.1,
             "#c51b7d"
            ],
            [
             0.2,
             "#de77ae"
            ],
            [
             0.3,
             "#f1b6da"
            ],
            [
             0.4,
             "#fde0ef"
            ],
            [
             0.5,
             "#f7f7f7"
            ],
            [
             0.6,
             "#e6f5d0"
            ],
            [
             0.7,
             "#b8e186"
            ],
            [
             0.8,
             "#7fbc41"
            ],
            [
             0.9,
             "#4d9221"
            ],
            [
             1,
             "#276419"
            ]
           ],
           "sequential": [
            [
             0,
             "#0d0887"
            ],
            [
             0.1111111111111111,
             "#46039f"
            ],
            [
             0.2222222222222222,
             "#7201a8"
            ],
            [
             0.3333333333333333,
             "#9c179e"
            ],
            [
             0.4444444444444444,
             "#bd3786"
            ],
            [
             0.5555555555555556,
             "#d8576b"
            ],
            [
             0.6666666666666666,
             "#ed7953"
            ],
            [
             0.7777777777777778,
             "#fb9f3a"
            ],
            [
             0.8888888888888888,
             "#fdca26"
            ],
            [
             1,
             "#f0f921"
            ]
           ],
           "sequentialminus": [
            [
             0,
             "#0d0887"
            ],
            [
             0.1111111111111111,
             "#46039f"
            ],
            [
             0.2222222222222222,
             "#7201a8"
            ],
            [
             0.3333333333333333,
             "#9c179e"
            ],
            [
             0.4444444444444444,
             "#bd3786"
            ],
            [
             0.5555555555555556,
             "#d8576b"
            ],
            [
             0.6666666666666666,
             "#ed7953"
            ],
            [
             0.7777777777777778,
             "#fb9f3a"
            ],
            [
             0.8888888888888888,
             "#fdca26"
            ],
            [
             1,
             "#f0f921"
            ]
           ]
          },
          "colorway": [
           "#636efa",
           "#EF553B",
           "#00cc96",
           "#ab63fa",
           "#FFA15A",
           "#19d3f3",
           "#FF6692",
           "#B6E880",
           "#FF97FF",
           "#FECB52"
          ],
          "font": {
           "color": "#2a3f5f"
          },
          "geo": {
           "bgcolor": "white",
           "lakecolor": "white",
           "landcolor": "#E5ECF6",
           "showlakes": true,
           "showland": true,
           "subunitcolor": "white"
          },
          "hoverlabel": {
           "align": "left"
          },
          "hovermode": "closest",
          "mapbox": {
           "style": "light"
          },
          "paper_bgcolor": "white",
          "plot_bgcolor": "#E5ECF6",
          "polar": {
           "angularaxis": {
            "gridcolor": "white",
            "linecolor": "white",
            "ticks": ""
           },
           "bgcolor": "#E5ECF6",
           "radialaxis": {
            "gridcolor": "white",
            "linecolor": "white",
            "ticks": ""
           }
          },
          "scene": {
           "xaxis": {
            "backgroundcolor": "#E5ECF6",
            "gridcolor": "white",
            "gridwidth": 2,
            "linecolor": "white",
            "showbackground": true,
            "ticks": "",
            "zerolinecolor": "white"
           },
           "yaxis": {
            "backgroundcolor": "#E5ECF6",
            "gridcolor": "white",
            "gridwidth": 2,
            "linecolor": "white",
            "showbackground": true,
            "ticks": "",
            "zerolinecolor": "white"
           },
           "zaxis": {
            "backgroundcolor": "#E5ECF6",
            "gridcolor": "white",
            "gridwidth": 2,
            "linecolor": "white",
            "showbackground": true,
            "ticks": "",
            "zerolinecolor": "white"
           }
          },
          "shapedefaults": {
           "line": {
            "color": "#2a3f5f"
           }
          },
          "ternary": {
           "aaxis": {
            "gridcolor": "white",
            "linecolor": "white",
            "ticks": ""
           },
           "baxis": {
            "gridcolor": "white",
            "linecolor": "white",
            "ticks": ""
           },
           "bgcolor": "#E5ECF6",
           "caxis": {
            "gridcolor": "white",
            "linecolor": "white",
            "ticks": ""
           }
          },
          "title": {
           "x": 0.05
          },
          "xaxis": {
           "automargin": true,
           "gridcolor": "white",
           "linecolor": "white",
           "ticks": "",
           "title": {
            "standoff": 15
           },
           "zerolinecolor": "white",
           "zerolinewidth": 2
          },
          "yaxis": {
           "automargin": true,
           "gridcolor": "white",
           "linecolor": "white",
           "ticks": "",
           "title": {
            "standoff": 15
           },
           "zerolinecolor": "white",
           "zerolinewidth": 2
          }
         }
        },
        "title": {
         "text": "Defunciones a lo largo del tiempo en Guanajuato"
        },
        "xaxis": {
         "anchor": "y",
         "domain": [
          0,
          1
         ],
         "title": {
          "text": "año"
         }
        },
        "yaxis": {
         "anchor": "x",
         "domain": [
          0,
          1
         ],
         "title": {
          "text": "valor"
         }
        }
       }
      }
     },
     "metadata": {},
     "output_type": "display_data"
    }
   ],
   "source": [
    "fig = px.line(estado_defunciones,x='año',y='valor',color='indicador',title='Defunciones a lo largo del tiempo en Guanajuato')\n",
    "fig.show()"
   ]
  },
  {
   "attachments": {},
   "cell_type": "markdown",
   "metadata": {},
   "source": [
    "**Comparacion del valor de los indicadores en valor y porcentaje hasta el 2021**"
   ]
  },
  {
   "cell_type": "code",
   "execution_count": 11,
   "metadata": {},
   "outputs": [
    {
     "data": {
      "application/vnd.plotly.v1+json": {
       "config": {
        "plotlyServerURL": "https://plot.ly"
       },
       "data": [
        {
         "alignmentgroup": "True",
         "bingroup": "x",
         "histfunc": "sum",
         "hovertemplate": "indicador=%{x}<br>sum of valor=%{y}<extra></extra>",
         "legendgroup": "",
         "marker": {
          "color": "#636efa",
          "pattern": {
           "shape": ""
          }
         },
         "name": "",
         "offsetgroup": "",
         "orientation": "v",
         "showlegend": false,
         "texttemplate": "%{value}",
         "type": "histogram",
         "x": [
          "Defunciones generales",
          "Defunciones generales",
          "Defunciones generales",
          "Defunciones generales",
          "Defunciones generales",
          "Defunciones generales",
          "Defunciones generales",
          "Defunciones generales",
          "Defunciones generales",
          "Defunciones generales",
          "Defunciones generales",
          "Defunciones generales",
          "Defunciones generales",
          "Defunciones generales",
          "Defunciones generales",
          "Defunciones generales",
          "Defunciones generales",
          "Defunciones generales",
          "Defunciones generales",
          "Defunciones generales",
          "Defunciones generales",
          "Defunciones generales",
          "Defunciones generales",
          "Defunciones generales",
          "Defunciones generales",
          "Defunciones generales",
          "Defunciones generales",
          "Defunciones generales",
          "Defunciones generales hombres",
          "Defunciones generales hombres",
          "Defunciones generales hombres",
          "Defunciones generales hombres",
          "Defunciones generales hombres",
          "Defunciones generales hombres",
          "Defunciones generales hombres",
          "Defunciones generales hombres",
          "Defunciones generales hombres",
          "Defunciones generales hombres",
          "Defunciones generales hombres",
          "Defunciones generales hombres",
          "Defunciones generales hombres",
          "Defunciones generales hombres",
          "Defunciones generales hombres",
          "Defunciones generales hombres",
          "Defunciones generales hombres",
          "Defunciones generales hombres",
          "Defunciones generales hombres",
          "Defunciones generales hombres",
          "Defunciones generales hombres",
          "Defunciones generales hombres",
          "Defunciones generales hombres",
          "Defunciones generales hombres",
          "Defunciones generales hombres",
          "Defunciones generales hombres",
          "Defunciones generales hombres",
          "Defunciones generales hombres",
          "Defunciones generales mujeres",
          "Defunciones generales mujeres",
          "Defunciones generales mujeres",
          "Defunciones generales mujeres",
          "Defunciones generales mujeres",
          "Defunciones generales mujeres",
          "Defunciones generales mujeres",
          "Defunciones generales mujeres",
          "Defunciones generales mujeres",
          "Defunciones generales mujeres",
          "Defunciones generales mujeres",
          "Defunciones generales mujeres",
          "Defunciones generales mujeres",
          "Defunciones generales mujeres",
          "Defunciones generales mujeres",
          "Defunciones generales mujeres",
          "Defunciones generales mujeres",
          "Defunciones generales mujeres",
          "Defunciones generales mujeres",
          "Defunciones generales mujeres",
          "Defunciones generales mujeres",
          "Defunciones generales mujeres",
          "Defunciones generales mujeres",
          "Defunciones generales mujeres",
          "Defunciones generales mujeres",
          "Defunciones generales mujeres",
          "Defunciones generales mujeres",
          "Defunciones generales mujeres",
          "Defunciones generales de sexo no especificado",
          "Defunciones generales de sexo no especificado",
          "Defunciones generales de sexo no especificado",
          "Defunciones generales de sexo no especificado",
          "Defunciones generales de sexo no especificado",
          "Defunciones generales de sexo no especificado",
          "Defunciones generales de sexo no especificado",
          "Defunciones generales de sexo no especificado",
          "Defunciones generales de sexo no especificado",
          "Defunciones generales de sexo no especificado",
          "Defunciones generales de sexo no especificado",
          "Defunciones generales de sexo no especificado",
          "Defunciones generales de sexo no especificado",
          "Defunciones generales de sexo no especificado",
          "Defunciones generales de sexo no especificado",
          "Defunciones generales de sexo no especificado",
          "Defunciones generales de sexo no especificado",
          "Defunciones generales de sexo no especificado",
          "Defunciones generales de sexo no especificado",
          "Defunciones generales de sexo no especificado",
          "Defunciones generales de sexo no especificado",
          "Defunciones generales de sexo no especificado",
          "Defunciones generales de sexo no especificado",
          "Defunciones generales de sexo no especificado",
          "Defunciones generales de sexo no especificado",
          "Defunciones generales de sexo no especificado",
          "Defunciones generales de sexo no especificado",
          "Defunciones generales de sexo no especificado",
          "Defunciones de menores de un año",
          "Defunciones de menores de un año",
          "Defunciones de menores de un año",
          "Defunciones de menores de un año",
          "Defunciones de menores de un año",
          "Defunciones de menores de un año",
          "Defunciones de menores de un año",
          "Defunciones de menores de un año",
          "Defunciones de menores de un año",
          "Defunciones de menores de un año",
          "Defunciones de menores de un año",
          "Defunciones de menores de un año",
          "Defunciones de menores de un año",
          "Defunciones de menores de un año",
          "Defunciones de menores de un año",
          "Defunciones de menores de un año",
          "Defunciones de menores de un año",
          "Defunciones de menores de un año",
          "Defunciones de menores de un año",
          "Defunciones de menores de un año",
          "Defunciones de menores de un año",
          "Defunciones de menores de un año",
          "Defunciones de menores de un año",
          "Defunciones de menores de un año",
          "Defunciones de menores de un año",
          "Defunciones de menores de un año",
          "Defunciones de menores de un año",
          "Defunciones de menores de un año hombres",
          "Defunciones de menores de un año hombres",
          "Defunciones de menores de un año hombres",
          "Defunciones de menores de un año hombres",
          "Defunciones de menores de un año hombres",
          "Defunciones de menores de un año hombres",
          "Defunciones de menores de un año hombres",
          "Defunciones de menores de un año hombres",
          "Defunciones de menores de un año hombres",
          "Defunciones de menores de un año hombres",
          "Defunciones de menores de un año hombres",
          "Defunciones de menores de un año hombres",
          "Defunciones de menores de un año hombres",
          "Defunciones de menores de un año hombres",
          "Defunciones de menores de un año hombres",
          "Defunciones de menores de un año hombres",
          "Defunciones de menores de un año hombres",
          "Defunciones de menores de un año hombres",
          "Defunciones de menores de un año hombres",
          "Defunciones de menores de un año hombres",
          "Defunciones de menores de un año hombres",
          "Defunciones de menores de un año hombres",
          "Defunciones de menores de un año hombres",
          "Defunciones de menores de un año hombres",
          "Defunciones de menores de un año hombres",
          "Defunciones de menores de un año hombres",
          "Defunciones de menores de un año hombres",
          "Defunciones de menores de un año mujeres",
          "Defunciones de menores de un año mujeres",
          "Defunciones de menores de un año mujeres",
          "Defunciones de menores de un año mujeres",
          "Defunciones de menores de un año mujeres",
          "Defunciones de menores de un año mujeres",
          "Defunciones de menores de un año mujeres",
          "Defunciones de menores de un año mujeres",
          "Defunciones de menores de un año mujeres",
          "Defunciones de menores de un año mujeres",
          "Defunciones de menores de un año mujeres",
          "Defunciones de menores de un año mujeres",
          "Defunciones de menores de un año mujeres",
          "Defunciones de menores de un año mujeres",
          "Defunciones de menores de un año mujeres",
          "Defunciones de menores de un año mujeres",
          "Defunciones de menores de un año mujeres",
          "Defunciones de menores de un año mujeres",
          "Defunciones de menores de un año mujeres",
          "Defunciones de menores de un año mujeres",
          "Defunciones de menores de un año mujeres",
          "Defunciones de menores de un año mujeres",
          "Defunciones de menores de un año mujeres",
          "Defunciones de menores de un año mujeres",
          "Defunciones de menores de un año mujeres",
          "Defunciones de menores de un año mujeres",
          "Defunciones de menores de un año mujeres",
          "Defunciones de menores de un año de sexo no especificado",
          "Defunciones de menores de un año de sexo no especificado",
          "Defunciones de menores de un año de sexo no especificado",
          "Defunciones de menores de un año de sexo no especificado",
          "Defunciones de menores de un año de sexo no especificado",
          "Defunciones de menores de un año de sexo no especificado",
          "Defunciones de menores de un año de sexo no especificado",
          "Defunciones de menores de un año de sexo no especificado",
          "Defunciones de menores de un año de sexo no especificado",
          "Defunciones de menores de un año de sexo no especificado",
          "Defunciones de menores de un año de sexo no especificado",
          "Defunciones de menores de un año de sexo no especificado",
          "Defunciones de menores de un año de sexo no especificado",
          "Defunciones de menores de un año de sexo no especificado",
          "Defunciones de menores de un año de sexo no especificado",
          "Defunciones de menores de un año de sexo no especificado",
          "Defunciones de menores de un año de sexo no especificado",
          "Defunciones de menores de un año de sexo no especificado",
          "Defunciones de menores de un año de sexo no especificado",
          "Defunciones de menores de un año de sexo no especificado",
          "Defunciones de menores de un año de sexo no especificado",
          "Defunciones de menores de un año de sexo no especificado",
          "Defunciones de menores de un año de sexo no especificado",
          "Defunciones de menores de un año de sexo no especificado",
          "Defunciones de menores de un año de sexo no especificado",
          "Defunciones de menores de un año de sexo no especificado",
          "Defunciones de menores de un año de sexo no especificado",
          "Suicidios registrados",
          "Suicidios registrados",
          "Suicidios registrados",
          "Suicidios registrados",
          "Suicidios registrados",
          "Suicidios registrados",
          "Suicidios registrados",
          "Suicidios registrados",
          "Suicidios registrados",
          "Suicidios registrados",
          "Suicidios registrados",
          "Suicidios registrados",
          "Suicidios registrados",
          "Suicidios registrados",
          "Suicidios registrados",
          "Suicidios registrados",
          "Suicidios registrados",
          "Suicidios registrados",
          "Suicidios registrados",
          "Suicidios registrados",
          "Suicidios registrados",
          "Suicidios registrados",
          "Suicidios registrados",
          "Suicidios registrados",
          "Suicidios registrados",
          "Suicidios registrados",
          "Suicidios registrados",
          "Suicidios registrados"
         ],
         "xaxis": "x",
         "y": [
          20798,
          21482,
          21469,
          21492,
          21759,
          21753,
          21401,
          20375,
          22285,
          22493,
          22237,
          23402,
          22973,
          23664,
          25104,
          25422,
          27132,
          26550,
          27454,
          28657,
          29474,
          30170,
          32202,
          34794,
          35880,
          37347,
          51677,
          56279,
          11502,
          11648,
          11768,
          11760,
          11794,
          11900,
          11784,
          10988,
          11958,
          12093,
          12034,
          12578,
          12436,
          12873,
          13793,
          13900,
          14706,
          14624,
          15143,
          15726,
          16326,
          16824,
          17936,
          19674,
          20550,
          21586,
          30678,
          32580,
          9281,
          9822,
          9696,
          9725,
          9960,
          9851,
          9613,
          9380,
          10323,
          10396,
          10192,
          10820,
          10528,
          10784,
          11303,
          11519,
          12416,
          11922,
          12299,
          12925,
          13143,
          13342,
          14248,
          15120,
          15322,
          15754,
          20995,
          23697,
          15,
          12,
          5,
          7,
          5,
          2,
          4,
          7,
          4,
          4,
          11,
          4,
          9,
          7,
          8,
          3,
          10,
          4,
          12,
          6,
          5,
          4,
          18,
          0,
          8,
          7,
          4,
          2,
          3478,
          3466,
          3107,
          3031,
          2824,
          2577,
          2463,
          2046,
          2208,
          1985,
          1879,
          1806,
          1698,
          1656,
          1585,
          1417,
          1524,
          1404,
          1388,
          1321,
          1372,
          1247,
          1218,
          1255,
          1223,
          1132,
          984,
          1984,
          1951,
          1796,
          1683,
          1568,
          1493,
          1422,
          1152,
          1276,
          1123,
          1109,
          1031,
          936,
          913,
          890,
          800,
          858,
          778,
          778,
          756,
          787,
          706,
          724,
          688,
          634,
          641,
          548,
          1484,
          1509,
          1308,
          1344,
          1251,
          1082,
          1037,
          892,
          931,
          858,
          762,
          774,
          754,
          739,
          692,
          614,
          656,
          626,
          603,
          564,
          582,
          539,
          493,
          567,
          581,
          484,
          432,
          10,
          6,
          3,
          4,
          5,
          2,
          4,
          2,
          1,
          4,
          8,
          1,
          8,
          4,
          3,
          3,
          10,
          0,
          7,
          1,
          3,
          2,
          1,
          0,
          8,
          7,
          4,
          119,
          105,
          119,
          167,
          161,
          153,
          180,
          168,
          203,
          187,
          173,
          220,
          187,
          270,
          298,
          276,
          283,
          358,
          338,
          351,
          422,
          466,
          459,
          494,
          504,
          493,
          501,
          449
         ],
         "yaxis": "y"
        }
       ],
       "layout": {
        "barmode": "relative",
        "legend": {
         "tracegroupgap": 0
        },
        "template": {
         "data": {
          "bar": [
           {
            "error_x": {
             "color": "#2a3f5f"
            },
            "error_y": {
             "color": "#2a3f5f"
            },
            "marker": {
             "line": {
              "color": "#E5ECF6",
              "width": 0.5
             },
             "pattern": {
              "fillmode": "overlay",
              "size": 10,
              "solidity": 0.2
             }
            },
            "type": "bar"
           }
          ],
          "barpolar": [
           {
            "marker": {
             "line": {
              "color": "#E5ECF6",
              "width": 0.5
             },
             "pattern": {
              "fillmode": "overlay",
              "size": 10,
              "solidity": 0.2
             }
            },
            "type": "barpolar"
           }
          ],
          "carpet": [
           {
            "aaxis": {
             "endlinecolor": "#2a3f5f",
             "gridcolor": "white",
             "linecolor": "white",
             "minorgridcolor": "white",
             "startlinecolor": "#2a3f5f"
            },
            "baxis": {
             "endlinecolor": "#2a3f5f",
             "gridcolor": "white",
             "linecolor": "white",
             "minorgridcolor": "white",
             "startlinecolor": "#2a3f5f"
            },
            "type": "carpet"
           }
          ],
          "choropleth": [
           {
            "colorbar": {
             "outlinewidth": 0,
             "ticks": ""
            },
            "type": "choropleth"
           }
          ],
          "contour": [
           {
            "colorbar": {
             "outlinewidth": 0,
             "ticks": ""
            },
            "colorscale": [
             [
              0,
              "#0d0887"
             ],
             [
              0.1111111111111111,
              "#46039f"
             ],
             [
              0.2222222222222222,
              "#7201a8"
             ],
             [
              0.3333333333333333,
              "#9c179e"
             ],
             [
              0.4444444444444444,
              "#bd3786"
             ],
             [
              0.5555555555555556,
              "#d8576b"
             ],
             [
              0.6666666666666666,
              "#ed7953"
             ],
             [
              0.7777777777777778,
              "#fb9f3a"
             ],
             [
              0.8888888888888888,
              "#fdca26"
             ],
             [
              1,
              "#f0f921"
             ]
            ],
            "type": "contour"
           }
          ],
          "contourcarpet": [
           {
            "colorbar": {
             "outlinewidth": 0,
             "ticks": ""
            },
            "type": "contourcarpet"
           }
          ],
          "heatmap": [
           {
            "colorbar": {
             "outlinewidth": 0,
             "ticks": ""
            },
            "colorscale": [
             [
              0,
              "#0d0887"
             ],
             [
              0.1111111111111111,
              "#46039f"
             ],
             [
              0.2222222222222222,
              "#7201a8"
             ],
             [
              0.3333333333333333,
              "#9c179e"
             ],
             [
              0.4444444444444444,
              "#bd3786"
             ],
             [
              0.5555555555555556,
              "#d8576b"
             ],
             [
              0.6666666666666666,
              "#ed7953"
             ],
             [
              0.7777777777777778,
              "#fb9f3a"
             ],
             [
              0.8888888888888888,
              "#fdca26"
             ],
             [
              1,
              "#f0f921"
             ]
            ],
            "type": "heatmap"
           }
          ],
          "heatmapgl": [
           {
            "colorbar": {
             "outlinewidth": 0,
             "ticks": ""
            },
            "colorscale": [
             [
              0,
              "#0d0887"
             ],
             [
              0.1111111111111111,
              "#46039f"
             ],
             [
              0.2222222222222222,
              "#7201a8"
             ],
             [
              0.3333333333333333,
              "#9c179e"
             ],
             [
              0.4444444444444444,
              "#bd3786"
             ],
             [
              0.5555555555555556,
              "#d8576b"
             ],
             [
              0.6666666666666666,
              "#ed7953"
             ],
             [
              0.7777777777777778,
              "#fb9f3a"
             ],
             [
              0.8888888888888888,
              "#fdca26"
             ],
             [
              1,
              "#f0f921"
             ]
            ],
            "type": "heatmapgl"
           }
          ],
          "histogram": [
           {
            "marker": {
             "pattern": {
              "fillmode": "overlay",
              "size": 10,
              "solidity": 0.2
             }
            },
            "type": "histogram"
           }
          ],
          "histogram2d": [
           {
            "colorbar": {
             "outlinewidth": 0,
             "ticks": ""
            },
            "colorscale": [
             [
              0,
              "#0d0887"
             ],
             [
              0.1111111111111111,
              "#46039f"
             ],
             [
              0.2222222222222222,
              "#7201a8"
             ],
             [
              0.3333333333333333,
              "#9c179e"
             ],
             [
              0.4444444444444444,
              "#bd3786"
             ],
             [
              0.5555555555555556,
              "#d8576b"
             ],
             [
              0.6666666666666666,
              "#ed7953"
             ],
             [
              0.7777777777777778,
              "#fb9f3a"
             ],
             [
              0.8888888888888888,
              "#fdca26"
             ],
             [
              1,
              "#f0f921"
             ]
            ],
            "type": "histogram2d"
           }
          ],
          "histogram2dcontour": [
           {
            "colorbar": {
             "outlinewidth": 0,
             "ticks": ""
            },
            "colorscale": [
             [
              0,
              "#0d0887"
             ],
             [
              0.1111111111111111,
              "#46039f"
             ],
             [
              0.2222222222222222,
              "#7201a8"
             ],
             [
              0.3333333333333333,
              "#9c179e"
             ],
             [
              0.4444444444444444,
              "#bd3786"
             ],
             [
              0.5555555555555556,
              "#d8576b"
             ],
             [
              0.6666666666666666,
              "#ed7953"
             ],
             [
              0.7777777777777778,
              "#fb9f3a"
             ],
             [
              0.8888888888888888,
              "#fdca26"
             ],
             [
              1,
              "#f0f921"
             ]
            ],
            "type": "histogram2dcontour"
           }
          ],
          "mesh3d": [
           {
            "colorbar": {
             "outlinewidth": 0,
             "ticks": ""
            },
            "type": "mesh3d"
           }
          ],
          "parcoords": [
           {
            "line": {
             "colorbar": {
              "outlinewidth": 0,
              "ticks": ""
             }
            },
            "type": "parcoords"
           }
          ],
          "pie": [
           {
            "automargin": true,
            "type": "pie"
           }
          ],
          "scatter": [
           {
            "fillpattern": {
             "fillmode": "overlay",
             "size": 10,
             "solidity": 0.2
            },
            "type": "scatter"
           }
          ],
          "scatter3d": [
           {
            "line": {
             "colorbar": {
              "outlinewidth": 0,
              "ticks": ""
             }
            },
            "marker": {
             "colorbar": {
              "outlinewidth": 0,
              "ticks": ""
             }
            },
            "type": "scatter3d"
           }
          ],
          "scattercarpet": [
           {
            "marker": {
             "colorbar": {
              "outlinewidth": 0,
              "ticks": ""
             }
            },
            "type": "scattercarpet"
           }
          ],
          "scattergeo": [
           {
            "marker": {
             "colorbar": {
              "outlinewidth": 0,
              "ticks": ""
             }
            },
            "type": "scattergeo"
           }
          ],
          "scattergl": [
           {
            "marker": {
             "colorbar": {
              "outlinewidth": 0,
              "ticks": ""
             }
            },
            "type": "scattergl"
           }
          ],
          "scattermapbox": [
           {
            "marker": {
             "colorbar": {
              "outlinewidth": 0,
              "ticks": ""
             }
            },
            "type": "scattermapbox"
           }
          ],
          "scatterpolar": [
           {
            "marker": {
             "colorbar": {
              "outlinewidth": 0,
              "ticks": ""
             }
            },
            "type": "scatterpolar"
           }
          ],
          "scatterpolargl": [
           {
            "marker": {
             "colorbar": {
              "outlinewidth": 0,
              "ticks": ""
             }
            },
            "type": "scatterpolargl"
           }
          ],
          "scatterternary": [
           {
            "marker": {
             "colorbar": {
              "outlinewidth": 0,
              "ticks": ""
             }
            },
            "type": "scatterternary"
           }
          ],
          "surface": [
           {
            "colorbar": {
             "outlinewidth": 0,
             "ticks": ""
            },
            "colorscale": [
             [
              0,
              "#0d0887"
             ],
             [
              0.1111111111111111,
              "#46039f"
             ],
             [
              0.2222222222222222,
              "#7201a8"
             ],
             [
              0.3333333333333333,
              "#9c179e"
             ],
             [
              0.4444444444444444,
              "#bd3786"
             ],
             [
              0.5555555555555556,
              "#d8576b"
             ],
             [
              0.6666666666666666,
              "#ed7953"
             ],
             [
              0.7777777777777778,
              "#fb9f3a"
             ],
             [
              0.8888888888888888,
              "#fdca26"
             ],
             [
              1,
              "#f0f921"
             ]
            ],
            "type": "surface"
           }
          ],
          "table": [
           {
            "cells": {
             "fill": {
              "color": "#EBF0F8"
             },
             "line": {
              "color": "white"
             }
            },
            "header": {
             "fill": {
              "color": "#C8D4E3"
             },
             "line": {
              "color": "white"
             }
            },
            "type": "table"
           }
          ]
         },
         "layout": {
          "annotationdefaults": {
           "arrowcolor": "#2a3f5f",
           "arrowhead": 0,
           "arrowwidth": 1
          },
          "autotypenumbers": "strict",
          "coloraxis": {
           "colorbar": {
            "outlinewidth": 0,
            "ticks": ""
           }
          },
          "colorscale": {
           "diverging": [
            [
             0,
             "#8e0152"
            ],
            [
             0.1,
             "#c51b7d"
            ],
            [
             0.2,
             "#de77ae"
            ],
            [
             0.3,
             "#f1b6da"
            ],
            [
             0.4,
             "#fde0ef"
            ],
            [
             0.5,
             "#f7f7f7"
            ],
            [
             0.6,
             "#e6f5d0"
            ],
            [
             0.7,
             "#b8e186"
            ],
            [
             0.8,
             "#7fbc41"
            ],
            [
             0.9,
             "#4d9221"
            ],
            [
             1,
             "#276419"
            ]
           ],
           "sequential": [
            [
             0,
             "#0d0887"
            ],
            [
             0.1111111111111111,
             "#46039f"
            ],
            [
             0.2222222222222222,
             "#7201a8"
            ],
            [
             0.3333333333333333,
             "#9c179e"
            ],
            [
             0.4444444444444444,
             "#bd3786"
            ],
            [
             0.5555555555555556,
             "#d8576b"
            ],
            [
             0.6666666666666666,
             "#ed7953"
            ],
            [
             0.7777777777777778,
             "#fb9f3a"
            ],
            [
             0.8888888888888888,
             "#fdca26"
            ],
            [
             1,
             "#f0f921"
            ]
           ],
           "sequentialminus": [
            [
             0,
             "#0d0887"
            ],
            [
             0.1111111111111111,
             "#46039f"
            ],
            [
             0.2222222222222222,
             "#7201a8"
            ],
            [
             0.3333333333333333,
             "#9c179e"
            ],
            [
             0.4444444444444444,
             "#bd3786"
            ],
            [
             0.5555555555555556,
             "#d8576b"
            ],
            [
             0.6666666666666666,
             "#ed7953"
            ],
            [
             0.7777777777777778,
             "#fb9f3a"
            ],
            [
             0.8888888888888888,
             "#fdca26"
            ],
            [
             1,
             "#f0f921"
            ]
           ]
          },
          "colorway": [
           "#636efa",
           "#EF553B",
           "#00cc96",
           "#ab63fa",
           "#FFA15A",
           "#19d3f3",
           "#FF6692",
           "#B6E880",
           "#FF97FF",
           "#FECB52"
          ],
          "font": {
           "color": "#2a3f5f"
          },
          "geo": {
           "bgcolor": "white",
           "lakecolor": "white",
           "landcolor": "#E5ECF6",
           "showlakes": true,
           "showland": true,
           "subunitcolor": "white"
          },
          "hoverlabel": {
           "align": "left"
          },
          "hovermode": "closest",
          "mapbox": {
           "style": "light"
          },
          "paper_bgcolor": "white",
          "plot_bgcolor": "#E5ECF6",
          "polar": {
           "angularaxis": {
            "gridcolor": "white",
            "linecolor": "white",
            "ticks": ""
           },
           "bgcolor": "#E5ECF6",
           "radialaxis": {
            "gridcolor": "white",
            "linecolor": "white",
            "ticks": ""
           }
          },
          "scene": {
           "xaxis": {
            "backgroundcolor": "#E5ECF6",
            "gridcolor": "white",
            "gridwidth": 2,
            "linecolor": "white",
            "showbackground": true,
            "ticks": "",
            "zerolinecolor": "white"
           },
           "yaxis": {
            "backgroundcolor": "#E5ECF6",
            "gridcolor": "white",
            "gridwidth": 2,
            "linecolor": "white",
            "showbackground": true,
            "ticks": "",
            "zerolinecolor": "white"
           },
           "zaxis": {
            "backgroundcolor": "#E5ECF6",
            "gridcolor": "white",
            "gridwidth": 2,
            "linecolor": "white",
            "showbackground": true,
            "ticks": "",
            "zerolinecolor": "white"
           }
          },
          "shapedefaults": {
           "line": {
            "color": "#2a3f5f"
           }
          },
          "ternary": {
           "aaxis": {
            "gridcolor": "white",
            "linecolor": "white",
            "ticks": ""
           },
           "baxis": {
            "gridcolor": "white",
            "linecolor": "white",
            "ticks": ""
           },
           "bgcolor": "#E5ECF6",
           "caxis": {
            "gridcolor": "white",
            "linecolor": "white",
            "ticks": ""
           }
          },
          "title": {
           "x": 0.05
          },
          "xaxis": {
           "automargin": true,
           "gridcolor": "white",
           "linecolor": "white",
           "ticks": "",
           "title": {
            "standoff": 15
           },
           "zerolinecolor": "white",
           "zerolinewidth": 2
          },
          "yaxis": {
           "automargin": true,
           "gridcolor": "white",
           "linecolor": "white",
           "ticks": "",
           "title": {
            "standoff": 15
           },
           "zerolinecolor": "white",
           "zerolinewidth": 2
          }
         }
        },
        "title": {
         "text": "Valor total de los diferentes indicadores"
        },
        "xaxis": {
         "anchor": "y",
         "domain": [
          0,
          1
         ],
         "title": {
          "text": "indicador"
         }
        },
        "yaxis": {
         "anchor": "x",
         "domain": [
          0,
          1
         ],
         "title": {
          "text": "sum of valor"
         }
        }
       }
      }
     },
     "metadata": {},
     "output_type": "display_data"
    }
   ],
   "source": [
    "histogram_indicador = px.histogram(estado_defunciones,x='indicador',y='valor',\n",
    "                                   text_auto=True,title='Valor total de los diferentes indicadores')\n",
    "\n",
    "histogram_indicador.show()"
   ]
  },
  {
   "attachments": {},
   "cell_type": "markdown",
   "metadata": {},
   "source": [
    "**Porcentaje que representa el indicador**"
   ]
  },
  {
   "cell_type": "code",
   "execution_count": 12,
   "metadata": {},
   "outputs": [
    {
     "data": {
      "application/vnd.plotly.v1+json": {
       "config": {
        "plotlyServerURL": "https://plot.ly"
       },
       "data": [
        {
         "domain": {
          "x": [
           0,
           1
          ],
          "y": [
           0,
           1
          ]
         },
         "hovertemplate": "indicador=%{label}<br>valor=%{value}<extra></extra>",
         "labels": [
          "Defunciones generales",
          "Defunciones generales",
          "Defunciones generales",
          "Defunciones generales",
          "Defunciones generales",
          "Defunciones generales",
          "Defunciones generales",
          "Defunciones generales",
          "Defunciones generales",
          "Defunciones generales",
          "Defunciones generales",
          "Defunciones generales",
          "Defunciones generales",
          "Defunciones generales",
          "Defunciones generales",
          "Defunciones generales",
          "Defunciones generales",
          "Defunciones generales",
          "Defunciones generales",
          "Defunciones generales",
          "Defunciones generales",
          "Defunciones generales",
          "Defunciones generales",
          "Defunciones generales",
          "Defunciones generales",
          "Defunciones generales",
          "Defunciones generales",
          "Defunciones generales",
          "Defunciones generales hombres",
          "Defunciones generales hombres",
          "Defunciones generales hombres",
          "Defunciones generales hombres",
          "Defunciones generales hombres",
          "Defunciones generales hombres",
          "Defunciones generales hombres",
          "Defunciones generales hombres",
          "Defunciones generales hombres",
          "Defunciones generales hombres",
          "Defunciones generales hombres",
          "Defunciones generales hombres",
          "Defunciones generales hombres",
          "Defunciones generales hombres",
          "Defunciones generales hombres",
          "Defunciones generales hombres",
          "Defunciones generales hombres",
          "Defunciones generales hombres",
          "Defunciones generales hombres",
          "Defunciones generales hombres",
          "Defunciones generales hombres",
          "Defunciones generales hombres",
          "Defunciones generales hombres",
          "Defunciones generales hombres",
          "Defunciones generales hombres",
          "Defunciones generales hombres",
          "Defunciones generales hombres",
          "Defunciones generales hombres",
          "Defunciones generales mujeres",
          "Defunciones generales mujeres",
          "Defunciones generales mujeres",
          "Defunciones generales mujeres",
          "Defunciones generales mujeres",
          "Defunciones generales mujeres",
          "Defunciones generales mujeres",
          "Defunciones generales mujeres",
          "Defunciones generales mujeres",
          "Defunciones generales mujeres",
          "Defunciones generales mujeres",
          "Defunciones generales mujeres",
          "Defunciones generales mujeres",
          "Defunciones generales mujeres",
          "Defunciones generales mujeres",
          "Defunciones generales mujeres",
          "Defunciones generales mujeres",
          "Defunciones generales mujeres",
          "Defunciones generales mujeres",
          "Defunciones generales mujeres",
          "Defunciones generales mujeres",
          "Defunciones generales mujeres",
          "Defunciones generales mujeres",
          "Defunciones generales mujeres",
          "Defunciones generales mujeres",
          "Defunciones generales mujeres",
          "Defunciones generales mujeres",
          "Defunciones generales mujeres",
          "Defunciones generales de sexo no especificado",
          "Defunciones generales de sexo no especificado",
          "Defunciones generales de sexo no especificado",
          "Defunciones generales de sexo no especificado",
          "Defunciones generales de sexo no especificado",
          "Defunciones generales de sexo no especificado",
          "Defunciones generales de sexo no especificado",
          "Defunciones generales de sexo no especificado",
          "Defunciones generales de sexo no especificado",
          "Defunciones generales de sexo no especificado",
          "Defunciones generales de sexo no especificado",
          "Defunciones generales de sexo no especificado",
          "Defunciones generales de sexo no especificado",
          "Defunciones generales de sexo no especificado",
          "Defunciones generales de sexo no especificado",
          "Defunciones generales de sexo no especificado",
          "Defunciones generales de sexo no especificado",
          "Defunciones generales de sexo no especificado",
          "Defunciones generales de sexo no especificado",
          "Defunciones generales de sexo no especificado",
          "Defunciones generales de sexo no especificado",
          "Defunciones generales de sexo no especificado",
          "Defunciones generales de sexo no especificado",
          "Defunciones generales de sexo no especificado",
          "Defunciones generales de sexo no especificado",
          "Defunciones generales de sexo no especificado",
          "Defunciones generales de sexo no especificado",
          "Defunciones generales de sexo no especificado",
          "Defunciones de menores de un año",
          "Defunciones de menores de un año",
          "Defunciones de menores de un año",
          "Defunciones de menores de un año",
          "Defunciones de menores de un año",
          "Defunciones de menores de un año",
          "Defunciones de menores de un año",
          "Defunciones de menores de un año",
          "Defunciones de menores de un año",
          "Defunciones de menores de un año",
          "Defunciones de menores de un año",
          "Defunciones de menores de un año",
          "Defunciones de menores de un año",
          "Defunciones de menores de un año",
          "Defunciones de menores de un año",
          "Defunciones de menores de un año",
          "Defunciones de menores de un año",
          "Defunciones de menores de un año",
          "Defunciones de menores de un año",
          "Defunciones de menores de un año",
          "Defunciones de menores de un año",
          "Defunciones de menores de un año",
          "Defunciones de menores de un año",
          "Defunciones de menores de un año",
          "Defunciones de menores de un año",
          "Defunciones de menores de un año",
          "Defunciones de menores de un año",
          "Defunciones de menores de un año hombres",
          "Defunciones de menores de un año hombres",
          "Defunciones de menores de un año hombres",
          "Defunciones de menores de un año hombres",
          "Defunciones de menores de un año hombres",
          "Defunciones de menores de un año hombres",
          "Defunciones de menores de un año hombres",
          "Defunciones de menores de un año hombres",
          "Defunciones de menores de un año hombres",
          "Defunciones de menores de un año hombres",
          "Defunciones de menores de un año hombres",
          "Defunciones de menores de un año hombres",
          "Defunciones de menores de un año hombres",
          "Defunciones de menores de un año hombres",
          "Defunciones de menores de un año hombres",
          "Defunciones de menores de un año hombres",
          "Defunciones de menores de un año hombres",
          "Defunciones de menores de un año hombres",
          "Defunciones de menores de un año hombres",
          "Defunciones de menores de un año hombres",
          "Defunciones de menores de un año hombres",
          "Defunciones de menores de un año hombres",
          "Defunciones de menores de un año hombres",
          "Defunciones de menores de un año hombres",
          "Defunciones de menores de un año hombres",
          "Defunciones de menores de un año hombres",
          "Defunciones de menores de un año hombres",
          "Defunciones de menores de un año mujeres",
          "Defunciones de menores de un año mujeres",
          "Defunciones de menores de un año mujeres",
          "Defunciones de menores de un año mujeres",
          "Defunciones de menores de un año mujeres",
          "Defunciones de menores de un año mujeres",
          "Defunciones de menores de un año mujeres",
          "Defunciones de menores de un año mujeres",
          "Defunciones de menores de un año mujeres",
          "Defunciones de menores de un año mujeres",
          "Defunciones de menores de un año mujeres",
          "Defunciones de menores de un año mujeres",
          "Defunciones de menores de un año mujeres",
          "Defunciones de menores de un año mujeres",
          "Defunciones de menores de un año mujeres",
          "Defunciones de menores de un año mujeres",
          "Defunciones de menores de un año mujeres",
          "Defunciones de menores de un año mujeres",
          "Defunciones de menores de un año mujeres",
          "Defunciones de menores de un año mujeres",
          "Defunciones de menores de un año mujeres",
          "Defunciones de menores de un año mujeres",
          "Defunciones de menores de un año mujeres",
          "Defunciones de menores de un año mujeres",
          "Defunciones de menores de un año mujeres",
          "Defunciones de menores de un año mujeres",
          "Defunciones de menores de un año mujeres",
          "Defunciones de menores de un año de sexo no especificado",
          "Defunciones de menores de un año de sexo no especificado",
          "Defunciones de menores de un año de sexo no especificado",
          "Defunciones de menores de un año de sexo no especificado",
          "Defunciones de menores de un año de sexo no especificado",
          "Defunciones de menores de un año de sexo no especificado",
          "Defunciones de menores de un año de sexo no especificado",
          "Defunciones de menores de un año de sexo no especificado",
          "Defunciones de menores de un año de sexo no especificado",
          "Defunciones de menores de un año de sexo no especificado",
          "Defunciones de menores de un año de sexo no especificado",
          "Defunciones de menores de un año de sexo no especificado",
          "Defunciones de menores de un año de sexo no especificado",
          "Defunciones de menores de un año de sexo no especificado",
          "Defunciones de menores de un año de sexo no especificado",
          "Defunciones de menores de un año de sexo no especificado",
          "Defunciones de menores de un año de sexo no especificado",
          "Defunciones de menores de un año de sexo no especificado",
          "Defunciones de menores de un año de sexo no especificado",
          "Defunciones de menores de un año de sexo no especificado",
          "Defunciones de menores de un año de sexo no especificado",
          "Defunciones de menores de un año de sexo no especificado",
          "Defunciones de menores de un año de sexo no especificado",
          "Defunciones de menores de un año de sexo no especificado",
          "Defunciones de menores de un año de sexo no especificado",
          "Defunciones de menores de un año de sexo no especificado",
          "Defunciones de menores de un año de sexo no especificado",
          "Suicidios registrados",
          "Suicidios registrados",
          "Suicidios registrados",
          "Suicidios registrados",
          "Suicidios registrados",
          "Suicidios registrados",
          "Suicidios registrados",
          "Suicidios registrados",
          "Suicidios registrados",
          "Suicidios registrados",
          "Suicidios registrados",
          "Suicidios registrados",
          "Suicidios registrados",
          "Suicidios registrados",
          "Suicidios registrados",
          "Suicidios registrados",
          "Suicidios registrados",
          "Suicidios registrados",
          "Suicidios registrados",
          "Suicidios registrados",
          "Suicidios registrados",
          "Suicidios registrados",
          "Suicidios registrados",
          "Suicidios registrados",
          "Suicidios registrados",
          "Suicidios registrados",
          "Suicidios registrados",
          "Suicidios registrados"
         ],
         "legendgroup": "",
         "name": "",
         "showlegend": true,
         "type": "pie",
         "values": [
          20798,
          21482,
          21469,
          21492,
          21759,
          21753,
          21401,
          20375,
          22285,
          22493,
          22237,
          23402,
          22973,
          23664,
          25104,
          25422,
          27132,
          26550,
          27454,
          28657,
          29474,
          30170,
          32202,
          34794,
          35880,
          37347,
          51677,
          56279,
          11502,
          11648,
          11768,
          11760,
          11794,
          11900,
          11784,
          10988,
          11958,
          12093,
          12034,
          12578,
          12436,
          12873,
          13793,
          13900,
          14706,
          14624,
          15143,
          15726,
          16326,
          16824,
          17936,
          19674,
          20550,
          21586,
          30678,
          32580,
          9281,
          9822,
          9696,
          9725,
          9960,
          9851,
          9613,
          9380,
          10323,
          10396,
          10192,
          10820,
          10528,
          10784,
          11303,
          11519,
          12416,
          11922,
          12299,
          12925,
          13143,
          13342,
          14248,
          15120,
          15322,
          15754,
          20995,
          23697,
          15,
          12,
          5,
          7,
          5,
          2,
          4,
          7,
          4,
          4,
          11,
          4,
          9,
          7,
          8,
          3,
          10,
          4,
          12,
          6,
          5,
          4,
          18,
          0,
          8,
          7,
          4,
          2,
          3478,
          3466,
          3107,
          3031,
          2824,
          2577,
          2463,
          2046,
          2208,
          1985,
          1879,
          1806,
          1698,
          1656,
          1585,
          1417,
          1524,
          1404,
          1388,
          1321,
          1372,
          1247,
          1218,
          1255,
          1223,
          1132,
          984,
          1984,
          1951,
          1796,
          1683,
          1568,
          1493,
          1422,
          1152,
          1276,
          1123,
          1109,
          1031,
          936,
          913,
          890,
          800,
          858,
          778,
          778,
          756,
          787,
          706,
          724,
          688,
          634,
          641,
          548,
          1484,
          1509,
          1308,
          1344,
          1251,
          1082,
          1037,
          892,
          931,
          858,
          762,
          774,
          754,
          739,
          692,
          614,
          656,
          626,
          603,
          564,
          582,
          539,
          493,
          567,
          581,
          484,
          432,
          10,
          6,
          3,
          4,
          5,
          2,
          4,
          2,
          1,
          4,
          8,
          1,
          8,
          4,
          3,
          3,
          10,
          0,
          7,
          1,
          3,
          2,
          1,
          0,
          8,
          7,
          4,
          119,
          105,
          119,
          167,
          161,
          153,
          180,
          168,
          203,
          187,
          173,
          220,
          187,
          270,
          298,
          276,
          283,
          358,
          338,
          351,
          422,
          466,
          459,
          494,
          504,
          493,
          501,
          449
         ]
        }
       ],
       "layout": {
        "legend": {
         "tracegroupgap": 0
        },
        "piecolorway": [
         "rgb(103,0,31)",
         "rgb(178,24,43)",
         "rgb(214,96,77)",
         "rgb(244,165,130)",
         "rgb(253,219,199)",
         "rgb(247,247,247)",
         "rgb(209,229,240)",
         "rgb(146,197,222)",
         "rgb(67,147,195)",
         "rgb(33,102,172)",
         "rgb(5,48,97)"
        ],
        "template": {
         "data": {
          "bar": [
           {
            "error_x": {
             "color": "#2a3f5f"
            },
            "error_y": {
             "color": "#2a3f5f"
            },
            "marker": {
             "line": {
              "color": "#E5ECF6",
              "width": 0.5
             },
             "pattern": {
              "fillmode": "overlay",
              "size": 10,
              "solidity": 0.2
             }
            },
            "type": "bar"
           }
          ],
          "barpolar": [
           {
            "marker": {
             "line": {
              "color": "#E5ECF6",
              "width": 0.5
             },
             "pattern": {
              "fillmode": "overlay",
              "size": 10,
              "solidity": 0.2
             }
            },
            "type": "barpolar"
           }
          ],
          "carpet": [
           {
            "aaxis": {
             "endlinecolor": "#2a3f5f",
             "gridcolor": "white",
             "linecolor": "white",
             "minorgridcolor": "white",
             "startlinecolor": "#2a3f5f"
            },
            "baxis": {
             "endlinecolor": "#2a3f5f",
             "gridcolor": "white",
             "linecolor": "white",
             "minorgridcolor": "white",
             "startlinecolor": "#2a3f5f"
            },
            "type": "carpet"
           }
          ],
          "choropleth": [
           {
            "colorbar": {
             "outlinewidth": 0,
             "ticks": ""
            },
            "type": "choropleth"
           }
          ],
          "contour": [
           {
            "colorbar": {
             "outlinewidth": 0,
             "ticks": ""
            },
            "colorscale": [
             [
              0,
              "#0d0887"
             ],
             [
              0.1111111111111111,
              "#46039f"
             ],
             [
              0.2222222222222222,
              "#7201a8"
             ],
             [
              0.3333333333333333,
              "#9c179e"
             ],
             [
              0.4444444444444444,
              "#bd3786"
             ],
             [
              0.5555555555555556,
              "#d8576b"
             ],
             [
              0.6666666666666666,
              "#ed7953"
             ],
             [
              0.7777777777777778,
              "#fb9f3a"
             ],
             [
              0.8888888888888888,
              "#fdca26"
             ],
             [
              1,
              "#f0f921"
             ]
            ],
            "type": "contour"
           }
          ],
          "contourcarpet": [
           {
            "colorbar": {
             "outlinewidth": 0,
             "ticks": ""
            },
            "type": "contourcarpet"
           }
          ],
          "heatmap": [
           {
            "colorbar": {
             "outlinewidth": 0,
             "ticks": ""
            },
            "colorscale": [
             [
              0,
              "#0d0887"
             ],
             [
              0.1111111111111111,
              "#46039f"
             ],
             [
              0.2222222222222222,
              "#7201a8"
             ],
             [
              0.3333333333333333,
              "#9c179e"
             ],
             [
              0.4444444444444444,
              "#bd3786"
             ],
             [
              0.5555555555555556,
              "#d8576b"
             ],
             [
              0.6666666666666666,
              "#ed7953"
             ],
             [
              0.7777777777777778,
              "#fb9f3a"
             ],
             [
              0.8888888888888888,
              "#fdca26"
             ],
             [
              1,
              "#f0f921"
             ]
            ],
            "type": "heatmap"
           }
          ],
          "heatmapgl": [
           {
            "colorbar": {
             "outlinewidth": 0,
             "ticks": ""
            },
            "colorscale": [
             [
              0,
              "#0d0887"
             ],
             [
              0.1111111111111111,
              "#46039f"
             ],
             [
              0.2222222222222222,
              "#7201a8"
             ],
             [
              0.3333333333333333,
              "#9c179e"
             ],
             [
              0.4444444444444444,
              "#bd3786"
             ],
             [
              0.5555555555555556,
              "#d8576b"
             ],
             [
              0.6666666666666666,
              "#ed7953"
             ],
             [
              0.7777777777777778,
              "#fb9f3a"
             ],
             [
              0.8888888888888888,
              "#fdca26"
             ],
             [
              1,
              "#f0f921"
             ]
            ],
            "type": "heatmapgl"
           }
          ],
          "histogram": [
           {
            "marker": {
             "pattern": {
              "fillmode": "overlay",
              "size": 10,
              "solidity": 0.2
             }
            },
            "type": "histogram"
           }
          ],
          "histogram2d": [
           {
            "colorbar": {
             "outlinewidth": 0,
             "ticks": ""
            },
            "colorscale": [
             [
              0,
              "#0d0887"
             ],
             [
              0.1111111111111111,
              "#46039f"
             ],
             [
              0.2222222222222222,
              "#7201a8"
             ],
             [
              0.3333333333333333,
              "#9c179e"
             ],
             [
              0.4444444444444444,
              "#bd3786"
             ],
             [
              0.5555555555555556,
              "#d8576b"
             ],
             [
              0.6666666666666666,
              "#ed7953"
             ],
             [
              0.7777777777777778,
              "#fb9f3a"
             ],
             [
              0.8888888888888888,
              "#fdca26"
             ],
             [
              1,
              "#f0f921"
             ]
            ],
            "type": "histogram2d"
           }
          ],
          "histogram2dcontour": [
           {
            "colorbar": {
             "outlinewidth": 0,
             "ticks": ""
            },
            "colorscale": [
             [
              0,
              "#0d0887"
             ],
             [
              0.1111111111111111,
              "#46039f"
             ],
             [
              0.2222222222222222,
              "#7201a8"
             ],
             [
              0.3333333333333333,
              "#9c179e"
             ],
             [
              0.4444444444444444,
              "#bd3786"
             ],
             [
              0.5555555555555556,
              "#d8576b"
             ],
             [
              0.6666666666666666,
              "#ed7953"
             ],
             [
              0.7777777777777778,
              "#fb9f3a"
             ],
             [
              0.8888888888888888,
              "#fdca26"
             ],
             [
              1,
              "#f0f921"
             ]
            ],
            "type": "histogram2dcontour"
           }
          ],
          "mesh3d": [
           {
            "colorbar": {
             "outlinewidth": 0,
             "ticks": ""
            },
            "type": "mesh3d"
           }
          ],
          "parcoords": [
           {
            "line": {
             "colorbar": {
              "outlinewidth": 0,
              "ticks": ""
             }
            },
            "type": "parcoords"
           }
          ],
          "pie": [
           {
            "automargin": true,
            "type": "pie"
           }
          ],
          "scatter": [
           {
            "fillpattern": {
             "fillmode": "overlay",
             "size": 10,
             "solidity": 0.2
            },
            "type": "scatter"
           }
          ],
          "scatter3d": [
           {
            "line": {
             "colorbar": {
              "outlinewidth": 0,
              "ticks": ""
             }
            },
            "marker": {
             "colorbar": {
              "outlinewidth": 0,
              "ticks": ""
             }
            },
            "type": "scatter3d"
           }
          ],
          "scattercarpet": [
           {
            "marker": {
             "colorbar": {
              "outlinewidth": 0,
              "ticks": ""
             }
            },
            "type": "scattercarpet"
           }
          ],
          "scattergeo": [
           {
            "marker": {
             "colorbar": {
              "outlinewidth": 0,
              "ticks": ""
             }
            },
            "type": "scattergeo"
           }
          ],
          "scattergl": [
           {
            "marker": {
             "colorbar": {
              "outlinewidth": 0,
              "ticks": ""
             }
            },
            "type": "scattergl"
           }
          ],
          "scattermapbox": [
           {
            "marker": {
             "colorbar": {
              "outlinewidth": 0,
              "ticks": ""
             }
            },
            "type": "scattermapbox"
           }
          ],
          "scatterpolar": [
           {
            "marker": {
             "colorbar": {
              "outlinewidth": 0,
              "ticks": ""
             }
            },
            "type": "scatterpolar"
           }
          ],
          "scatterpolargl": [
           {
            "marker": {
             "colorbar": {
              "outlinewidth": 0,
              "ticks": ""
             }
            },
            "type": "scatterpolargl"
           }
          ],
          "scatterternary": [
           {
            "marker": {
             "colorbar": {
              "outlinewidth": 0,
              "ticks": ""
             }
            },
            "type": "scatterternary"
           }
          ],
          "surface": [
           {
            "colorbar": {
             "outlinewidth": 0,
             "ticks": ""
            },
            "colorscale": [
             [
              0,
              "#0d0887"
             ],
             [
              0.1111111111111111,
              "#46039f"
             ],
             [
              0.2222222222222222,
              "#7201a8"
             ],
             [
              0.3333333333333333,
              "#9c179e"
             ],
             [
              0.4444444444444444,
              "#bd3786"
             ],
             [
              0.5555555555555556,
              "#d8576b"
             ],
             [
              0.6666666666666666,
              "#ed7953"
             ],
             [
              0.7777777777777778,
              "#fb9f3a"
             ],
             [
              0.8888888888888888,
              "#fdca26"
             ],
             [
              1,
              "#f0f921"
             ]
            ],
            "type": "surface"
           }
          ],
          "table": [
           {
            "cells": {
             "fill": {
              "color": "#EBF0F8"
             },
             "line": {
              "color": "white"
             }
            },
            "header": {
             "fill": {
              "color": "#C8D4E3"
             },
             "line": {
              "color": "white"
             }
            },
            "type": "table"
           }
          ]
         },
         "layout": {
          "annotationdefaults": {
           "arrowcolor": "#2a3f5f",
           "arrowhead": 0,
           "arrowwidth": 1
          },
          "autotypenumbers": "strict",
          "coloraxis": {
           "colorbar": {
            "outlinewidth": 0,
            "ticks": ""
           }
          },
          "colorscale": {
           "diverging": [
            [
             0,
             "#8e0152"
            ],
            [
             0.1,
             "#c51b7d"
            ],
            [
             0.2,
             "#de77ae"
            ],
            [
             0.3,
             "#f1b6da"
            ],
            [
             0.4,
             "#fde0ef"
            ],
            [
             0.5,
             "#f7f7f7"
            ],
            [
             0.6,
             "#e6f5d0"
            ],
            [
             0.7,
             "#b8e186"
            ],
            [
             0.8,
             "#7fbc41"
            ],
            [
             0.9,
             "#4d9221"
            ],
            [
             1,
             "#276419"
            ]
           ],
           "sequential": [
            [
             0,
             "#0d0887"
            ],
            [
             0.1111111111111111,
             "#46039f"
            ],
            [
             0.2222222222222222,
             "#7201a8"
            ],
            [
             0.3333333333333333,
             "#9c179e"
            ],
            [
             0.4444444444444444,
             "#bd3786"
            ],
            [
             0.5555555555555556,
             "#d8576b"
            ],
            [
             0.6666666666666666,
             "#ed7953"
            ],
            [
             0.7777777777777778,
             "#fb9f3a"
            ],
            [
             0.8888888888888888,
             "#fdca26"
            ],
            [
             1,
             "#f0f921"
            ]
           ],
           "sequentialminus": [
            [
             0,
             "#0d0887"
            ],
            [
             0.1111111111111111,
             "#46039f"
            ],
            [
             0.2222222222222222,
             "#7201a8"
            ],
            [
             0.3333333333333333,
             "#9c179e"
            ],
            [
             0.4444444444444444,
             "#bd3786"
            ],
            [
             0.5555555555555556,
             "#d8576b"
            ],
            [
             0.6666666666666666,
             "#ed7953"
            ],
            [
             0.7777777777777778,
             "#fb9f3a"
            ],
            [
             0.8888888888888888,
             "#fdca26"
            ],
            [
             1,
             "#f0f921"
            ]
           ]
          },
          "colorway": [
           "#636efa",
           "#EF553B",
           "#00cc96",
           "#ab63fa",
           "#FFA15A",
           "#19d3f3",
           "#FF6692",
           "#B6E880",
           "#FF97FF",
           "#FECB52"
          ],
          "font": {
           "color": "#2a3f5f"
          },
          "geo": {
           "bgcolor": "white",
           "lakecolor": "white",
           "landcolor": "#E5ECF6",
           "showlakes": true,
           "showland": true,
           "subunitcolor": "white"
          },
          "hoverlabel": {
           "align": "left"
          },
          "hovermode": "closest",
          "mapbox": {
           "style": "light"
          },
          "paper_bgcolor": "white",
          "plot_bgcolor": "#E5ECF6",
          "polar": {
           "angularaxis": {
            "gridcolor": "white",
            "linecolor": "white",
            "ticks": ""
           },
           "bgcolor": "#E5ECF6",
           "radialaxis": {
            "gridcolor": "white",
            "linecolor": "white",
            "ticks": ""
           }
          },
          "scene": {
           "xaxis": {
            "backgroundcolor": "#E5ECF6",
            "gridcolor": "white",
            "gridwidth": 2,
            "linecolor": "white",
            "showbackground": true,
            "ticks": "",
            "zerolinecolor": "white"
           },
           "yaxis": {
            "backgroundcolor": "#E5ECF6",
            "gridcolor": "white",
            "gridwidth": 2,
            "linecolor": "white",
            "showbackground": true,
            "ticks": "",
            "zerolinecolor": "white"
           },
           "zaxis": {
            "backgroundcolor": "#E5ECF6",
            "gridcolor": "white",
            "gridwidth": 2,
            "linecolor": "white",
            "showbackground": true,
            "ticks": "",
            "zerolinecolor": "white"
           }
          },
          "shapedefaults": {
           "line": {
            "color": "#2a3f5f"
           }
          },
          "ternary": {
           "aaxis": {
            "gridcolor": "white",
            "linecolor": "white",
            "ticks": ""
           },
           "baxis": {
            "gridcolor": "white",
            "linecolor": "white",
            "ticks": ""
           },
           "bgcolor": "#E5ECF6",
           "caxis": {
            "gridcolor": "white",
            "linecolor": "white",
            "ticks": ""
           }
          },
          "title": {
           "x": 0.05
          },
          "xaxis": {
           "automargin": true,
           "gridcolor": "white",
           "linecolor": "white",
           "ticks": "",
           "title": {
            "standoff": 15
           },
           "zerolinecolor": "white",
           "zerolinewidth": 2
          },
          "yaxis": {
           "automargin": true,
           "gridcolor": "white",
           "linecolor": "white",
           "ticks": "",
           "title": {
            "standoff": 15
           },
           "zerolinecolor": "white",
           "zerolinewidth": 2
          }
         }
        },
        "title": {
         "text": "Porcentaje de los indicadores"
        }
       }
      }
     },
     "metadata": {},
     "output_type": "display_data"
    }
   ],
   "source": [
    "circular = px.pie(estado_defunciones,values='valor',names='indicador',title='Porcentaje de los indicadores'\n",
    "                  ,color_discrete_sequence=px.colors.sequential.RdBu)\n",
    "circular.show()"
   ]
  },
  {
   "attachments": {},
   "cell_type": "markdown",
   "metadata": {},
   "source": [
    "# Analisis de Porcentajes en el estado\n"
   ]
  },
  {
   "cell_type": "code",
   "execution_count": 13,
   "metadata": {},
   "outputs": [
    {
     "name": "stdout",
     "output_type": "stream",
     "text": [
      "<class 'pandas.core.frame.DataFrame'>\n",
      "Int64Index: 56 entries, 248 to 303\n",
      "Data columns (total 9 columns):\n",
      " #   Column          Non-Null Count  Dtype  \n",
      "---  ------          --------------  -----  \n",
      " 0   cve_entidad     56 non-null     int64  \n",
      " 1   desc_entidad    56 non-null     object \n",
      " 2   cve_municipio   56 non-null     int64  \n",
      " 3   desc_municipio  56 non-null     object \n",
      " 4   id_indicador    56 non-null     int64  \n",
      " 5   indicador       56 non-null     object \n",
      " 6   año             56 non-null     int64  \n",
      " 7   valor           56 non-null     float64\n",
      " 8   unidad_medida   56 non-null     object \n",
      "dtypes: float64(1), int64(4), object(4)\n",
      "memory usage: 4.4+ KB\n"
     ]
    }
   ],
   "source": [
    "estado_porcentaje.info()"
   ]
  },
  {
   "cell_type": "code",
   "execution_count": 14,
   "metadata": {},
   "outputs": [
    {
     "data": {
      "text/html": [
       "<div>\n",
       "<style scoped>\n",
       "    .dataframe tbody tr th:only-of-type {\n",
       "        vertical-align: middle;\n",
       "    }\n",
       "\n",
       "    .dataframe tbody tr th {\n",
       "        vertical-align: top;\n",
       "    }\n",
       "\n",
       "    .dataframe thead th {\n",
       "        text-align: right;\n",
       "    }\n",
       "</style>\n",
       "<table border=\"1\" class=\"dataframe\">\n",
       "  <thead>\n",
       "    <tr style=\"text-align: right;\">\n",
       "      <th></th>\n",
       "      <th>cve_entidad</th>\n",
       "      <th>desc_entidad</th>\n",
       "      <th>cve_municipio</th>\n",
       "      <th>desc_municipio</th>\n",
       "      <th>id_indicador</th>\n",
       "      <th>indicador</th>\n",
       "      <th>año</th>\n",
       "      <th>valor</th>\n",
       "      <th>unidad_medida</th>\n",
       "    </tr>\n",
       "  </thead>\n",
       "  <tbody>\n",
       "    <tr>\n",
       "      <th>248</th>\n",
       "      <td>11</td>\n",
       "      <td>Guanajuato</td>\n",
       "      <td>0</td>\n",
       "      <td>Estatal</td>\n",
       "      <td>6200240468</td>\n",
       "      <td>Índice de sobremortalidad masculina</td>\n",
       "      <td>1994</td>\n",
       "      <td>123.9</td>\n",
       "      <td>Porcentaje</td>\n",
       "    </tr>\n",
       "    <tr>\n",
       "      <th>249</th>\n",
       "      <td>11</td>\n",
       "      <td>Guanajuato</td>\n",
       "      <td>0</td>\n",
       "      <td>Estatal</td>\n",
       "      <td>6200240468</td>\n",
       "      <td>Índice de sobremortalidad masculina</td>\n",
       "      <td>1995</td>\n",
       "      <td>118.6</td>\n",
       "      <td>Porcentaje</td>\n",
       "    </tr>\n",
       "    <tr>\n",
       "      <th>250</th>\n",
       "      <td>11</td>\n",
       "      <td>Guanajuato</td>\n",
       "      <td>0</td>\n",
       "      <td>Estatal</td>\n",
       "      <td>6200240468</td>\n",
       "      <td>Índice de sobremortalidad masculina</td>\n",
       "      <td>1996</td>\n",
       "      <td>121.4</td>\n",
       "      <td>Porcentaje</td>\n",
       "    </tr>\n",
       "    <tr>\n",
       "      <th>251</th>\n",
       "      <td>11</td>\n",
       "      <td>Guanajuato</td>\n",
       "      <td>0</td>\n",
       "      <td>Estatal</td>\n",
       "      <td>6200240468</td>\n",
       "      <td>Índice de sobremortalidad masculina</td>\n",
       "      <td>1997</td>\n",
       "      <td>120.9</td>\n",
       "      <td>Porcentaje</td>\n",
       "    </tr>\n",
       "    <tr>\n",
       "      <th>252</th>\n",
       "      <td>11</td>\n",
       "      <td>Guanajuato</td>\n",
       "      <td>0</td>\n",
       "      <td>Estatal</td>\n",
       "      <td>6200240468</td>\n",
       "      <td>Índice de sobremortalidad masculina</td>\n",
       "      <td>1998</td>\n",
       "      <td>118.4</td>\n",
       "      <td>Porcentaje</td>\n",
       "    </tr>\n",
       "    <tr>\n",
       "      <th>253</th>\n",
       "      <td>11</td>\n",
       "      <td>Guanajuato</td>\n",
       "      <td>0</td>\n",
       "      <td>Estatal</td>\n",
       "      <td>6200240468</td>\n",
       "      <td>Índice de sobremortalidad masculina</td>\n",
       "      <td>1999</td>\n",
       "      <td>120.8</td>\n",
       "      <td>Porcentaje</td>\n",
       "    </tr>\n",
       "    <tr>\n",
       "      <th>254</th>\n",
       "      <td>11</td>\n",
       "      <td>Guanajuato</td>\n",
       "      <td>0</td>\n",
       "      <td>Estatal</td>\n",
       "      <td>6200240468</td>\n",
       "      <td>Índice de sobremortalidad masculina</td>\n",
       "      <td>2000</td>\n",
       "      <td>122.6</td>\n",
       "      <td>Porcentaje</td>\n",
       "    </tr>\n",
       "    <tr>\n",
       "      <th>255</th>\n",
       "      <td>11</td>\n",
       "      <td>Guanajuato</td>\n",
       "      <td>0</td>\n",
       "      <td>Estatal</td>\n",
       "      <td>6200240468</td>\n",
       "      <td>Índice de sobremortalidad masculina</td>\n",
       "      <td>2001</td>\n",
       "      <td>117.1</td>\n",
       "      <td>Porcentaje</td>\n",
       "    </tr>\n",
       "    <tr>\n",
       "      <th>256</th>\n",
       "      <td>11</td>\n",
       "      <td>Guanajuato</td>\n",
       "      <td>0</td>\n",
       "      <td>Estatal</td>\n",
       "      <td>6200240468</td>\n",
       "      <td>Índice de sobremortalidad masculina</td>\n",
       "      <td>2002</td>\n",
       "      <td>115.8</td>\n",
       "      <td>Porcentaje</td>\n",
       "    </tr>\n",
       "    <tr>\n",
       "      <th>257</th>\n",
       "      <td>11</td>\n",
       "      <td>Guanajuato</td>\n",
       "      <td>0</td>\n",
       "      <td>Estatal</td>\n",
       "      <td>6200240468</td>\n",
       "      <td>Índice de sobremortalidad masculina</td>\n",
       "      <td>2003</td>\n",
       "      <td>116.3</td>\n",
       "      <td>Porcentaje</td>\n",
       "    </tr>\n",
       "  </tbody>\n",
       "</table>\n",
       "</div>"
      ],
      "text/plain": [
       "     cve_entidad desc_entidad  cve_municipio desc_municipio  id_indicador  \\\n",
       "248           11   Guanajuato              0        Estatal    6200240468   \n",
       "249           11   Guanajuato              0        Estatal    6200240468   \n",
       "250           11   Guanajuato              0        Estatal    6200240468   \n",
       "251           11   Guanajuato              0        Estatal    6200240468   \n",
       "252           11   Guanajuato              0        Estatal    6200240468   \n",
       "253           11   Guanajuato              0        Estatal    6200240468   \n",
       "254           11   Guanajuato              0        Estatal    6200240468   \n",
       "255           11   Guanajuato              0        Estatal    6200240468   \n",
       "256           11   Guanajuato              0        Estatal    6200240468   \n",
       "257           11   Guanajuato              0        Estatal    6200240468   \n",
       "\n",
       "                               indicador   año  valor unidad_medida  \n",
       "248  Índice de sobremortalidad masculina  1994  123.9    Porcentaje  \n",
       "249  Índice de sobremortalidad masculina  1995  118.6    Porcentaje  \n",
       "250  Índice de sobremortalidad masculina  1996  121.4    Porcentaje  \n",
       "251  Índice de sobremortalidad masculina  1997  120.9    Porcentaje  \n",
       "252  Índice de sobremortalidad masculina  1998  118.4    Porcentaje  \n",
       "253  Índice de sobremortalidad masculina  1999  120.8    Porcentaje  \n",
       "254  Índice de sobremortalidad masculina  2000  122.6    Porcentaje  \n",
       "255  Índice de sobremortalidad masculina  2001  117.1    Porcentaje  \n",
       "256  Índice de sobremortalidad masculina  2002  115.8    Porcentaje  \n",
       "257  Índice de sobremortalidad masculina  2003  116.3    Porcentaje  "
      ]
     },
     "execution_count": 14,
     "metadata": {},
     "output_type": "execute_result"
    }
   ],
   "source": [
    "estado_porcentaje.head(10)"
   ]
  },
  {
   "cell_type": "code",
   "execution_count": 15,
   "metadata": {},
   "outputs": [
    {
     "data": {
      "text/plain": [
       "count     56.000000\n",
       "mean      66.331939\n",
       "std       57.916821\n",
       "min        4.876916\n",
       "25%        8.634335\n",
       "50%       65.200000\n",
       "75%      121.475000\n",
       "max      146.120505\n",
       "Name: valor, dtype: float64"
      ]
     },
     "execution_count": 15,
     "metadata": {},
     "output_type": "execute_result"
    }
   ],
   "source": [
    "estado_porcentaje['valor'].describe()"
   ]
  },
  {
   "cell_type": "code",
   "execution_count": 16,
   "metadata": {},
   "outputs": [
    {
     "data": {
      "text/plain": [
       "Índice de sobremortalidad masculina                                              28\n",
       "Porcentaje de muertes por suicidio con respecto al total de muertes violentas    28\n",
       "Name: indicador, dtype: int64"
      ]
     },
     "execution_count": 16,
     "metadata": {},
     "output_type": "execute_result"
    }
   ],
   "source": [
    "estado_porcentaje['indicador'].value_counts()"
   ]
  },
  {
   "attachments": {},
   "cell_type": "markdown",
   "metadata": {},
   "source": [
    "## Visualizacion de datos"
   ]
  },
  {
   "attachments": {},
   "cell_type": "markdown",
   "metadata": {},
   "source": [
    "**Variaciones a lo largo del tiempo**"
   ]
  },
  {
   "cell_type": "code",
   "execution_count": 17,
   "metadata": {},
   "outputs": [
    {
     "data": {
      "application/vnd.plotly.v1+json": {
       "config": {
        "plotlyServerURL": "https://plot.ly"
       },
       "data": [
        {
         "hovertemplate": "indicador=Índice de sobremortalidad masculina<br>año=%{x}<br>valor=%{y}<extra></extra>",
         "legendgroup": "Índice de sobremortalidad masculina",
         "line": {
          "color": "#636efa",
          "dash": "solid"
         },
         "marker": {
          "symbol": "circle"
         },
         "mode": "lines",
         "name": "Índice de sobremortalidad masculina",
         "orientation": "v",
         "showlegend": true,
         "type": "scatter",
         "x": [
          1994,
          1995,
          1996,
          1997,
          1998,
          1999,
          2000,
          2001,
          2002,
          2003,
          2004,
          2005,
          2006,
          2007,
          2008,
          2009,
          2010,
          2011,
          2012,
          2013,
          2014,
          2015,
          2016,
          2017,
          2018,
          2019,
          2020,
          2021
         ],
         "xaxis": "x",
         "y": [
          123.9,
          118.6,
          121.4,
          120.9,
          118.4,
          120.8,
          122.6,
          117.1,
          115.8,
          116.3,
          118.1,
          116.2,
          118.1,
          119.4,
          122,
          120.7,
          118.4,
          122.7,
          123.1,
          121.7,
          124.2,
          126.1,
          125.87550003509,
          130.1190476,
          134.1208719488317,
          137.01916973467056,
          146.12050488211477,
          137.48575769084695
         ],
         "yaxis": "y"
        },
        {
         "hovertemplate": "indicador=Porcentaje de muertes por suicidio con respecto al total de muertes violentas<br>año=%{x}<br>valor=%{y}<extra></extra>",
         "legendgroup": "Porcentaje de muertes por suicidio con respecto al total de muertes violentas",
         "line": {
          "color": "#EF553B",
          "dash": "solid"
         },
         "marker": {
          "symbol": "circle"
         },
         "mode": "lines",
         "name": "Porcentaje de muertes por suicidio con respecto al total de muertes violentas",
         "orientation": "v",
         "showlegend": true,
         "type": "scatter",
         "x": [
          1994,
          1995,
          1996,
          1997,
          1998,
          1999,
          2000,
          2001,
          2002,
          2003,
          2004,
          2005,
          2006,
          2007,
          2008,
          2009,
          2010,
          2011,
          2012,
          2013,
          2014,
          2015,
          2016,
          2017,
          2018,
          2019,
          2020,
          2021
         ],
         "xaxis": "x",
         "y": [
          5.09417808219178,
          4.87691593125871,
          5.39193475305845,
          7.39265161575919,
          6.85982104814657,
          6.42317380352645,
          7.76866637893828,
          7.479964381122,
          8.71244635193133,
          8.30004438526409,
          7.6,
          9.2,
          8.4,
          11.3,
          11.8,
          10.6,
          11.1,
          12.8,
          11.5,
          12.4,
          14.6,
          13.8,
          12.4863982589772,
          10.5623262775283,
          8.920353982300885,
          7.934468358496627,
          7.059320839791461,
          6.985065339141257
         ],
         "yaxis": "y"
        }
       ],
       "layout": {
        "legend": {
         "title": {
          "text": "indicador"
         },
         "tracegroupgap": 0
        },
        "template": {
         "data": {
          "bar": [
           {
            "error_x": {
             "color": "#2a3f5f"
            },
            "error_y": {
             "color": "#2a3f5f"
            },
            "marker": {
             "line": {
              "color": "#E5ECF6",
              "width": 0.5
             },
             "pattern": {
              "fillmode": "overlay",
              "size": 10,
              "solidity": 0.2
             }
            },
            "type": "bar"
           }
          ],
          "barpolar": [
           {
            "marker": {
             "line": {
              "color": "#E5ECF6",
              "width": 0.5
             },
             "pattern": {
              "fillmode": "overlay",
              "size": 10,
              "solidity": 0.2
             }
            },
            "type": "barpolar"
           }
          ],
          "carpet": [
           {
            "aaxis": {
             "endlinecolor": "#2a3f5f",
             "gridcolor": "white",
             "linecolor": "white",
             "minorgridcolor": "white",
             "startlinecolor": "#2a3f5f"
            },
            "baxis": {
             "endlinecolor": "#2a3f5f",
             "gridcolor": "white",
             "linecolor": "white",
             "minorgridcolor": "white",
             "startlinecolor": "#2a3f5f"
            },
            "type": "carpet"
           }
          ],
          "choropleth": [
           {
            "colorbar": {
             "outlinewidth": 0,
             "ticks": ""
            },
            "type": "choropleth"
           }
          ],
          "contour": [
           {
            "colorbar": {
             "outlinewidth": 0,
             "ticks": ""
            },
            "colorscale": [
             [
              0,
              "#0d0887"
             ],
             [
              0.1111111111111111,
              "#46039f"
             ],
             [
              0.2222222222222222,
              "#7201a8"
             ],
             [
              0.3333333333333333,
              "#9c179e"
             ],
             [
              0.4444444444444444,
              "#bd3786"
             ],
             [
              0.5555555555555556,
              "#d8576b"
             ],
             [
              0.6666666666666666,
              "#ed7953"
             ],
             [
              0.7777777777777778,
              "#fb9f3a"
             ],
             [
              0.8888888888888888,
              "#fdca26"
             ],
             [
              1,
              "#f0f921"
             ]
            ],
            "type": "contour"
           }
          ],
          "contourcarpet": [
           {
            "colorbar": {
             "outlinewidth": 0,
             "ticks": ""
            },
            "type": "contourcarpet"
           }
          ],
          "heatmap": [
           {
            "colorbar": {
             "outlinewidth": 0,
             "ticks": ""
            },
            "colorscale": [
             [
              0,
              "#0d0887"
             ],
             [
              0.1111111111111111,
              "#46039f"
             ],
             [
              0.2222222222222222,
              "#7201a8"
             ],
             [
              0.3333333333333333,
              "#9c179e"
             ],
             [
              0.4444444444444444,
              "#bd3786"
             ],
             [
              0.5555555555555556,
              "#d8576b"
             ],
             [
              0.6666666666666666,
              "#ed7953"
             ],
             [
              0.7777777777777778,
              "#fb9f3a"
             ],
             [
              0.8888888888888888,
              "#fdca26"
             ],
             [
              1,
              "#f0f921"
             ]
            ],
            "type": "heatmap"
           }
          ],
          "heatmapgl": [
           {
            "colorbar": {
             "outlinewidth": 0,
             "ticks": ""
            },
            "colorscale": [
             [
              0,
              "#0d0887"
             ],
             [
              0.1111111111111111,
              "#46039f"
             ],
             [
              0.2222222222222222,
              "#7201a8"
             ],
             [
              0.3333333333333333,
              "#9c179e"
             ],
             [
              0.4444444444444444,
              "#bd3786"
             ],
             [
              0.5555555555555556,
              "#d8576b"
             ],
             [
              0.6666666666666666,
              "#ed7953"
             ],
             [
              0.7777777777777778,
              "#fb9f3a"
             ],
             [
              0.8888888888888888,
              "#fdca26"
             ],
             [
              1,
              "#f0f921"
             ]
            ],
            "type": "heatmapgl"
           }
          ],
          "histogram": [
           {
            "marker": {
             "pattern": {
              "fillmode": "overlay",
              "size": 10,
              "solidity": 0.2
             }
            },
            "type": "histogram"
           }
          ],
          "histogram2d": [
           {
            "colorbar": {
             "outlinewidth": 0,
             "ticks": ""
            },
            "colorscale": [
             [
              0,
              "#0d0887"
             ],
             [
              0.1111111111111111,
              "#46039f"
             ],
             [
              0.2222222222222222,
              "#7201a8"
             ],
             [
              0.3333333333333333,
              "#9c179e"
             ],
             [
              0.4444444444444444,
              "#bd3786"
             ],
             [
              0.5555555555555556,
              "#d8576b"
             ],
             [
              0.6666666666666666,
              "#ed7953"
             ],
             [
              0.7777777777777778,
              "#fb9f3a"
             ],
             [
              0.8888888888888888,
              "#fdca26"
             ],
             [
              1,
              "#f0f921"
             ]
            ],
            "type": "histogram2d"
           }
          ],
          "histogram2dcontour": [
           {
            "colorbar": {
             "outlinewidth": 0,
             "ticks": ""
            },
            "colorscale": [
             [
              0,
              "#0d0887"
             ],
             [
              0.1111111111111111,
              "#46039f"
             ],
             [
              0.2222222222222222,
              "#7201a8"
             ],
             [
              0.3333333333333333,
              "#9c179e"
             ],
             [
              0.4444444444444444,
              "#bd3786"
             ],
             [
              0.5555555555555556,
              "#d8576b"
             ],
             [
              0.6666666666666666,
              "#ed7953"
             ],
             [
              0.7777777777777778,
              "#fb9f3a"
             ],
             [
              0.8888888888888888,
              "#fdca26"
             ],
             [
              1,
              "#f0f921"
             ]
            ],
            "type": "histogram2dcontour"
           }
          ],
          "mesh3d": [
           {
            "colorbar": {
             "outlinewidth": 0,
             "ticks": ""
            },
            "type": "mesh3d"
           }
          ],
          "parcoords": [
           {
            "line": {
             "colorbar": {
              "outlinewidth": 0,
              "ticks": ""
             }
            },
            "type": "parcoords"
           }
          ],
          "pie": [
           {
            "automargin": true,
            "type": "pie"
           }
          ],
          "scatter": [
           {
            "fillpattern": {
             "fillmode": "overlay",
             "size": 10,
             "solidity": 0.2
            },
            "type": "scatter"
           }
          ],
          "scatter3d": [
           {
            "line": {
             "colorbar": {
              "outlinewidth": 0,
              "ticks": ""
             }
            },
            "marker": {
             "colorbar": {
              "outlinewidth": 0,
              "ticks": ""
             }
            },
            "type": "scatter3d"
           }
          ],
          "scattercarpet": [
           {
            "marker": {
             "colorbar": {
              "outlinewidth": 0,
              "ticks": ""
             }
            },
            "type": "scattercarpet"
           }
          ],
          "scattergeo": [
           {
            "marker": {
             "colorbar": {
              "outlinewidth": 0,
              "ticks": ""
             }
            },
            "type": "scattergeo"
           }
          ],
          "scattergl": [
           {
            "marker": {
             "colorbar": {
              "outlinewidth": 0,
              "ticks": ""
             }
            },
            "type": "scattergl"
           }
          ],
          "scattermapbox": [
           {
            "marker": {
             "colorbar": {
              "outlinewidth": 0,
              "ticks": ""
             }
            },
            "type": "scattermapbox"
           }
          ],
          "scatterpolar": [
           {
            "marker": {
             "colorbar": {
              "outlinewidth": 0,
              "ticks": ""
             }
            },
            "type": "scatterpolar"
           }
          ],
          "scatterpolargl": [
           {
            "marker": {
             "colorbar": {
              "outlinewidth": 0,
              "ticks": ""
             }
            },
            "type": "scatterpolargl"
           }
          ],
          "scatterternary": [
           {
            "marker": {
             "colorbar": {
              "outlinewidth": 0,
              "ticks": ""
             }
            },
            "type": "scatterternary"
           }
          ],
          "surface": [
           {
            "colorbar": {
             "outlinewidth": 0,
             "ticks": ""
            },
            "colorscale": [
             [
              0,
              "#0d0887"
             ],
             [
              0.1111111111111111,
              "#46039f"
             ],
             [
              0.2222222222222222,
              "#7201a8"
             ],
             [
              0.3333333333333333,
              "#9c179e"
             ],
             [
              0.4444444444444444,
              "#bd3786"
             ],
             [
              0.5555555555555556,
              "#d8576b"
             ],
             [
              0.6666666666666666,
              "#ed7953"
             ],
             [
              0.7777777777777778,
              "#fb9f3a"
             ],
             [
              0.8888888888888888,
              "#fdca26"
             ],
             [
              1,
              "#f0f921"
             ]
            ],
            "type": "surface"
           }
          ],
          "table": [
           {
            "cells": {
             "fill": {
              "color": "#EBF0F8"
             },
             "line": {
              "color": "white"
             }
            },
            "header": {
             "fill": {
              "color": "#C8D4E3"
             },
             "line": {
              "color": "white"
             }
            },
            "type": "table"
           }
          ]
         },
         "layout": {
          "annotationdefaults": {
           "arrowcolor": "#2a3f5f",
           "arrowhead": 0,
           "arrowwidth": 1
          },
          "autotypenumbers": "strict",
          "coloraxis": {
           "colorbar": {
            "outlinewidth": 0,
            "ticks": ""
           }
          },
          "colorscale": {
           "diverging": [
            [
             0,
             "#8e0152"
            ],
            [
             0.1,
             "#c51b7d"
            ],
            [
             0.2,
             "#de77ae"
            ],
            [
             0.3,
             "#f1b6da"
            ],
            [
             0.4,
             "#fde0ef"
            ],
            [
             0.5,
             "#f7f7f7"
            ],
            [
             0.6,
             "#e6f5d0"
            ],
            [
             0.7,
             "#b8e186"
            ],
            [
             0.8,
             "#7fbc41"
            ],
            [
             0.9,
             "#4d9221"
            ],
            [
             1,
             "#276419"
            ]
           ],
           "sequential": [
            [
             0,
             "#0d0887"
            ],
            [
             0.1111111111111111,
             "#46039f"
            ],
            [
             0.2222222222222222,
             "#7201a8"
            ],
            [
             0.3333333333333333,
             "#9c179e"
            ],
            [
             0.4444444444444444,
             "#bd3786"
            ],
            [
             0.5555555555555556,
             "#d8576b"
            ],
            [
             0.6666666666666666,
             "#ed7953"
            ],
            [
             0.7777777777777778,
             "#fb9f3a"
            ],
            [
             0.8888888888888888,
             "#fdca26"
            ],
            [
             1,
             "#f0f921"
            ]
           ],
           "sequentialminus": [
            [
             0,
             "#0d0887"
            ],
            [
             0.1111111111111111,
             "#46039f"
            ],
            [
             0.2222222222222222,
             "#7201a8"
            ],
            [
             0.3333333333333333,
             "#9c179e"
            ],
            [
             0.4444444444444444,
             "#bd3786"
            ],
            [
             0.5555555555555556,
             "#d8576b"
            ],
            [
             0.6666666666666666,
             "#ed7953"
            ],
            [
             0.7777777777777778,
             "#fb9f3a"
            ],
            [
             0.8888888888888888,
             "#fdca26"
            ],
            [
             1,
             "#f0f921"
            ]
           ]
          },
          "colorway": [
           "#636efa",
           "#EF553B",
           "#00cc96",
           "#ab63fa",
           "#FFA15A",
           "#19d3f3",
           "#FF6692",
           "#B6E880",
           "#FF97FF",
           "#FECB52"
          ],
          "font": {
           "color": "#2a3f5f"
          },
          "geo": {
           "bgcolor": "white",
           "lakecolor": "white",
           "landcolor": "#E5ECF6",
           "showlakes": true,
           "showland": true,
           "subunitcolor": "white"
          },
          "hoverlabel": {
           "align": "left"
          },
          "hovermode": "closest",
          "mapbox": {
           "style": "light"
          },
          "paper_bgcolor": "white",
          "plot_bgcolor": "#E5ECF6",
          "polar": {
           "angularaxis": {
            "gridcolor": "white",
            "linecolor": "white",
            "ticks": ""
           },
           "bgcolor": "#E5ECF6",
           "radialaxis": {
            "gridcolor": "white",
            "linecolor": "white",
            "ticks": ""
           }
          },
          "scene": {
           "xaxis": {
            "backgroundcolor": "#E5ECF6",
            "gridcolor": "white",
            "gridwidth": 2,
            "linecolor": "white",
            "showbackground": true,
            "ticks": "",
            "zerolinecolor": "white"
           },
           "yaxis": {
            "backgroundcolor": "#E5ECF6",
            "gridcolor": "white",
            "gridwidth": 2,
            "linecolor": "white",
            "showbackground": true,
            "ticks": "",
            "zerolinecolor": "white"
           },
           "zaxis": {
            "backgroundcolor": "#E5ECF6",
            "gridcolor": "white",
            "gridwidth": 2,
            "linecolor": "white",
            "showbackground": true,
            "ticks": "",
            "zerolinecolor": "white"
           }
          },
          "shapedefaults": {
           "line": {
            "color": "#2a3f5f"
           }
          },
          "ternary": {
           "aaxis": {
            "gridcolor": "white",
            "linecolor": "white",
            "ticks": ""
           },
           "baxis": {
            "gridcolor": "white",
            "linecolor": "white",
            "ticks": ""
           },
           "bgcolor": "#E5ECF6",
           "caxis": {
            "gridcolor": "white",
            "linecolor": "white",
            "ticks": ""
           }
          },
          "title": {
           "x": 0.05
          },
          "xaxis": {
           "automargin": true,
           "gridcolor": "white",
           "linecolor": "white",
           "ticks": "",
           "title": {
            "standoff": 15
           },
           "zerolinecolor": "white",
           "zerolinewidth": 2
          },
          "yaxis": {
           "automargin": true,
           "gridcolor": "white",
           "linecolor": "white",
           "ticks": "",
           "title": {
            "standoff": 15
           },
           "zerolinecolor": "white",
           "zerolinewidth": 2
          }
         }
        },
        "title": {
         "text": "Porcentajes a lo largo del tiempo en Guanajuato"
        },
        "xaxis": {
         "anchor": "y",
         "domain": [
          0,
          1
         ],
         "title": {
          "text": "año"
         }
        },
        "yaxis": {
         "anchor": "x",
         "domain": [
          0,
          1
         ],
         "title": {
          "text": "valor"
         }
        }
       }
      }
     },
     "metadata": {},
     "output_type": "display_data"
    }
   ],
   "source": [
    "fig = px.line(estado_porcentaje,x='año',y='valor',color='indicador',title='Porcentajes a lo largo del tiempo en Guanajuato')\n",
    "fig.show()\n"
   ]
  },
  {
   "attachments": {},
   "cell_type": "markdown",
   "metadata": {},
   "source": [
    "**Sobremortalidad=Período en el que la mortalidad supera a la natalidad, provocando un crecimento negativo de la población.**\n",
    "\n",
    "Esto quiere decir que a lo largo del tiempo han fallecido mas personas que las que nacieron en el estado de Guanajuato\n",
    "\n",
    "Por otra parte se aprecia que existe un numero inmenso de muertes violentas a comparacion de muertes por suicidio"
   ]
  },
  {
   "cell_type": "code",
   "execution_count": 21,
   "metadata": {},
   "outputs": [
    {
     "data": {
      "application/vnd.plotly.v1+json": {
       "config": {
        "plotlyServerURL": "https://plot.ly"
       },
       "data": [
        {
         "alignmentgroup": "True",
         "hovertemplate": "indicador=Índice de sobremortalidad masculina<br>año=%{x}<br>valor=%{y}<extra></extra>",
         "legendgroup": "Índice de sobremortalidad masculina",
         "marker": {
          "color": "#636efa",
          "pattern": {
           "shape": ""
          }
         },
         "name": "Índice de sobremortalidad masculina",
         "offsetgroup": "Índice de sobremortalidad masculina",
         "orientation": "v",
         "showlegend": true,
         "textposition": "auto",
         "type": "bar",
         "x": [
          1994,
          1995,
          1996,
          1997,
          1998,
          1999,
          2000,
          2001,
          2002,
          2003,
          2004,
          2005,
          2006,
          2007,
          2008,
          2009,
          2010,
          2011,
          2012,
          2013,
          2014,
          2015,
          2016,
          2017,
          2018,
          2019,
          2020,
          2021
         ],
         "xaxis": "x",
         "y": [
          123.9,
          118.6,
          121.4,
          120.9,
          118.4,
          120.8,
          122.6,
          117.1,
          115.8,
          116.3,
          118.1,
          116.2,
          118.1,
          119.4,
          122,
          120.7,
          118.4,
          122.7,
          123.1,
          121.7,
          124.2,
          126.1,
          125.87550003509,
          130.1190476,
          134.1208719488317,
          137.01916973467056,
          146.12050488211477,
          137.48575769084695
         ],
         "yaxis": "y"
        },
        {
         "alignmentgroup": "True",
         "hovertemplate": "indicador=Porcentaje de muertes por suicidio con respecto al total de muertes violentas<br>año=%{x}<br>valor=%{y}<extra></extra>",
         "legendgroup": "Porcentaje de muertes por suicidio con respecto al total de muertes violentas",
         "marker": {
          "color": "#EF553B",
          "pattern": {
           "shape": ""
          }
         },
         "name": "Porcentaje de muertes por suicidio con respecto al total de muertes violentas",
         "offsetgroup": "Porcentaje de muertes por suicidio con respecto al total de muertes violentas",
         "orientation": "v",
         "showlegend": true,
         "textposition": "auto",
         "type": "bar",
         "x": [
          1994,
          1995,
          1996,
          1997,
          1998,
          1999,
          2000,
          2001,
          2002,
          2003,
          2004,
          2005,
          2006,
          2007,
          2008,
          2009,
          2010,
          2011,
          2012,
          2013,
          2014,
          2015,
          2016,
          2017,
          2018,
          2019,
          2020,
          2021
         ],
         "xaxis": "x",
         "y": [
          5.09417808219178,
          4.87691593125871,
          5.39193475305845,
          7.39265161575919,
          6.85982104814657,
          6.42317380352645,
          7.76866637893828,
          7.479964381122,
          8.71244635193133,
          8.30004438526409,
          7.6,
          9.2,
          8.4,
          11.3,
          11.8,
          10.6,
          11.1,
          12.8,
          11.5,
          12.4,
          14.6,
          13.8,
          12.4863982589772,
          10.5623262775283,
          8.920353982300885,
          7.934468358496627,
          7.059320839791461,
          6.985065339141257
         ],
         "yaxis": "y"
        }
       ],
       "layout": {
        "barmode": "group",
        "height": 400,
        "legend": {
         "title": {
          "text": "indicador"
         },
         "tracegroupgap": 0
        },
        "template": {
         "data": {
          "bar": [
           {
            "error_x": {
             "color": "#2a3f5f"
            },
            "error_y": {
             "color": "#2a3f5f"
            },
            "marker": {
             "line": {
              "color": "#E5ECF6",
              "width": 0.5
             },
             "pattern": {
              "fillmode": "overlay",
              "size": 10,
              "solidity": 0.2
             }
            },
            "type": "bar"
           }
          ],
          "barpolar": [
           {
            "marker": {
             "line": {
              "color": "#E5ECF6",
              "width": 0.5
             },
             "pattern": {
              "fillmode": "overlay",
              "size": 10,
              "solidity": 0.2
             }
            },
            "type": "barpolar"
           }
          ],
          "carpet": [
           {
            "aaxis": {
             "endlinecolor": "#2a3f5f",
             "gridcolor": "white",
             "linecolor": "white",
             "minorgridcolor": "white",
             "startlinecolor": "#2a3f5f"
            },
            "baxis": {
             "endlinecolor": "#2a3f5f",
             "gridcolor": "white",
             "linecolor": "white",
             "minorgridcolor": "white",
             "startlinecolor": "#2a3f5f"
            },
            "type": "carpet"
           }
          ],
          "choropleth": [
           {
            "colorbar": {
             "outlinewidth": 0,
             "ticks": ""
            },
            "type": "choropleth"
           }
          ],
          "contour": [
           {
            "colorbar": {
             "outlinewidth": 0,
             "ticks": ""
            },
            "colorscale": [
             [
              0,
              "#0d0887"
             ],
             [
              0.1111111111111111,
              "#46039f"
             ],
             [
              0.2222222222222222,
              "#7201a8"
             ],
             [
              0.3333333333333333,
              "#9c179e"
             ],
             [
              0.4444444444444444,
              "#bd3786"
             ],
             [
              0.5555555555555556,
              "#d8576b"
             ],
             [
              0.6666666666666666,
              "#ed7953"
             ],
             [
              0.7777777777777778,
              "#fb9f3a"
             ],
             [
              0.8888888888888888,
              "#fdca26"
             ],
             [
              1,
              "#f0f921"
             ]
            ],
            "type": "contour"
           }
          ],
          "contourcarpet": [
           {
            "colorbar": {
             "outlinewidth": 0,
             "ticks": ""
            },
            "type": "contourcarpet"
           }
          ],
          "heatmap": [
           {
            "colorbar": {
             "outlinewidth": 0,
             "ticks": ""
            },
            "colorscale": [
             [
              0,
              "#0d0887"
             ],
             [
              0.1111111111111111,
              "#46039f"
             ],
             [
              0.2222222222222222,
              "#7201a8"
             ],
             [
              0.3333333333333333,
              "#9c179e"
             ],
             [
              0.4444444444444444,
              "#bd3786"
             ],
             [
              0.5555555555555556,
              "#d8576b"
             ],
             [
              0.6666666666666666,
              "#ed7953"
             ],
             [
              0.7777777777777778,
              "#fb9f3a"
             ],
             [
              0.8888888888888888,
              "#fdca26"
             ],
             [
              1,
              "#f0f921"
             ]
            ],
            "type": "heatmap"
           }
          ],
          "heatmapgl": [
           {
            "colorbar": {
             "outlinewidth": 0,
             "ticks": ""
            },
            "colorscale": [
             [
              0,
              "#0d0887"
             ],
             [
              0.1111111111111111,
              "#46039f"
             ],
             [
              0.2222222222222222,
              "#7201a8"
             ],
             [
              0.3333333333333333,
              "#9c179e"
             ],
             [
              0.4444444444444444,
              "#bd3786"
             ],
             [
              0.5555555555555556,
              "#d8576b"
             ],
             [
              0.6666666666666666,
              "#ed7953"
             ],
             [
              0.7777777777777778,
              "#fb9f3a"
             ],
             [
              0.8888888888888888,
              "#fdca26"
             ],
             [
              1,
              "#f0f921"
             ]
            ],
            "type": "heatmapgl"
           }
          ],
          "histogram": [
           {
            "marker": {
             "pattern": {
              "fillmode": "overlay",
              "size": 10,
              "solidity": 0.2
             }
            },
            "type": "histogram"
           }
          ],
          "histogram2d": [
           {
            "colorbar": {
             "outlinewidth": 0,
             "ticks": ""
            },
            "colorscale": [
             [
              0,
              "#0d0887"
             ],
             [
              0.1111111111111111,
              "#46039f"
             ],
             [
              0.2222222222222222,
              "#7201a8"
             ],
             [
              0.3333333333333333,
              "#9c179e"
             ],
             [
              0.4444444444444444,
              "#bd3786"
             ],
             [
              0.5555555555555556,
              "#d8576b"
             ],
             [
              0.6666666666666666,
              "#ed7953"
             ],
             [
              0.7777777777777778,
              "#fb9f3a"
             ],
             [
              0.8888888888888888,
              "#fdca26"
             ],
             [
              1,
              "#f0f921"
             ]
            ],
            "type": "histogram2d"
           }
          ],
          "histogram2dcontour": [
           {
            "colorbar": {
             "outlinewidth": 0,
             "ticks": ""
            },
            "colorscale": [
             [
              0,
              "#0d0887"
             ],
             [
              0.1111111111111111,
              "#46039f"
             ],
             [
              0.2222222222222222,
              "#7201a8"
             ],
             [
              0.3333333333333333,
              "#9c179e"
             ],
             [
              0.4444444444444444,
              "#bd3786"
             ],
             [
              0.5555555555555556,
              "#d8576b"
             ],
             [
              0.6666666666666666,
              "#ed7953"
             ],
             [
              0.7777777777777778,
              "#fb9f3a"
             ],
             [
              0.8888888888888888,
              "#fdca26"
             ],
             [
              1,
              "#f0f921"
             ]
            ],
            "type": "histogram2dcontour"
           }
          ],
          "mesh3d": [
           {
            "colorbar": {
             "outlinewidth": 0,
             "ticks": ""
            },
            "type": "mesh3d"
           }
          ],
          "parcoords": [
           {
            "line": {
             "colorbar": {
              "outlinewidth": 0,
              "ticks": ""
             }
            },
            "type": "parcoords"
           }
          ],
          "pie": [
           {
            "automargin": true,
            "type": "pie"
           }
          ],
          "scatter": [
           {
            "fillpattern": {
             "fillmode": "overlay",
             "size": 10,
             "solidity": 0.2
            },
            "type": "scatter"
           }
          ],
          "scatter3d": [
           {
            "line": {
             "colorbar": {
              "outlinewidth": 0,
              "ticks": ""
             }
            },
            "marker": {
             "colorbar": {
              "outlinewidth": 0,
              "ticks": ""
             }
            },
            "type": "scatter3d"
           }
          ],
          "scattercarpet": [
           {
            "marker": {
             "colorbar": {
              "outlinewidth": 0,
              "ticks": ""
             }
            },
            "type": "scattercarpet"
           }
          ],
          "scattergeo": [
           {
            "marker": {
             "colorbar": {
              "outlinewidth": 0,
              "ticks": ""
             }
            },
            "type": "scattergeo"
           }
          ],
          "scattergl": [
           {
            "marker": {
             "colorbar": {
              "outlinewidth": 0,
              "ticks": ""
             }
            },
            "type": "scattergl"
           }
          ],
          "scattermapbox": [
           {
            "marker": {
             "colorbar": {
              "outlinewidth": 0,
              "ticks": ""
             }
            },
            "type": "scattermapbox"
           }
          ],
          "scatterpolar": [
           {
            "marker": {
             "colorbar": {
              "outlinewidth": 0,
              "ticks": ""
             }
            },
            "type": "scatterpolar"
           }
          ],
          "scatterpolargl": [
           {
            "marker": {
             "colorbar": {
              "outlinewidth": 0,
              "ticks": ""
             }
            },
            "type": "scatterpolargl"
           }
          ],
          "scatterternary": [
           {
            "marker": {
             "colorbar": {
              "outlinewidth": 0,
              "ticks": ""
             }
            },
            "type": "scatterternary"
           }
          ],
          "surface": [
           {
            "colorbar": {
             "outlinewidth": 0,
             "ticks": ""
            },
            "colorscale": [
             [
              0,
              "#0d0887"
             ],
             [
              0.1111111111111111,
              "#46039f"
             ],
             [
              0.2222222222222222,
              "#7201a8"
             ],
             [
              0.3333333333333333,
              "#9c179e"
             ],
             [
              0.4444444444444444,
              "#bd3786"
             ],
             [
              0.5555555555555556,
              "#d8576b"
             ],
             [
              0.6666666666666666,
              "#ed7953"
             ],
             [
              0.7777777777777778,
              "#fb9f3a"
             ],
             [
              0.8888888888888888,
              "#fdca26"
             ],
             [
              1,
              "#f0f921"
             ]
            ],
            "type": "surface"
           }
          ],
          "table": [
           {
            "cells": {
             "fill": {
              "color": "#EBF0F8"
             },
             "line": {
              "color": "white"
             }
            },
            "header": {
             "fill": {
              "color": "#C8D4E3"
             },
             "line": {
              "color": "white"
             }
            },
            "type": "table"
           }
          ]
         },
         "layout": {
          "annotationdefaults": {
           "arrowcolor": "#2a3f5f",
           "arrowhead": 0,
           "arrowwidth": 1
          },
          "autotypenumbers": "strict",
          "coloraxis": {
           "colorbar": {
            "outlinewidth": 0,
            "ticks": ""
           }
          },
          "colorscale": {
           "diverging": [
            [
             0,
             "#8e0152"
            ],
            [
             0.1,
             "#c51b7d"
            ],
            [
             0.2,
             "#de77ae"
            ],
            [
             0.3,
             "#f1b6da"
            ],
            [
             0.4,
             "#fde0ef"
            ],
            [
             0.5,
             "#f7f7f7"
            ],
            [
             0.6,
             "#e6f5d0"
            ],
            [
             0.7,
             "#b8e186"
            ],
            [
             0.8,
             "#7fbc41"
            ],
            [
             0.9,
             "#4d9221"
            ],
            [
             1,
             "#276419"
            ]
           ],
           "sequential": [
            [
             0,
             "#0d0887"
            ],
            [
             0.1111111111111111,
             "#46039f"
            ],
            [
             0.2222222222222222,
             "#7201a8"
            ],
            [
             0.3333333333333333,
             "#9c179e"
            ],
            [
             0.4444444444444444,
             "#bd3786"
            ],
            [
             0.5555555555555556,
             "#d8576b"
            ],
            [
             0.6666666666666666,
             "#ed7953"
            ],
            [
             0.7777777777777778,
             "#fb9f3a"
            ],
            [
             0.8888888888888888,
             "#fdca26"
            ],
            [
             1,
             "#f0f921"
            ]
           ],
           "sequentialminus": [
            [
             0,
             "#0d0887"
            ],
            [
             0.1111111111111111,
             "#46039f"
            ],
            [
             0.2222222222222222,
             "#7201a8"
            ],
            [
             0.3333333333333333,
             "#9c179e"
            ],
            [
             0.4444444444444444,
             "#bd3786"
            ],
            [
             0.5555555555555556,
             "#d8576b"
            ],
            [
             0.6666666666666666,
             "#ed7953"
            ],
            [
             0.7777777777777778,
             "#fb9f3a"
            ],
            [
             0.8888888888888888,
             "#fdca26"
            ],
            [
             1,
             "#f0f921"
            ]
           ]
          },
          "colorway": [
           "#636efa",
           "#EF553B",
           "#00cc96",
           "#ab63fa",
           "#FFA15A",
           "#19d3f3",
           "#FF6692",
           "#B6E880",
           "#FF97FF",
           "#FECB52"
          ],
          "font": {
           "color": "#2a3f5f"
          },
          "geo": {
           "bgcolor": "white",
           "lakecolor": "white",
           "landcolor": "#E5ECF6",
           "showlakes": true,
           "showland": true,
           "subunitcolor": "white"
          },
          "hoverlabel": {
           "align": "left"
          },
          "hovermode": "closest",
          "mapbox": {
           "style": "light"
          },
          "paper_bgcolor": "white",
          "plot_bgcolor": "#E5ECF6",
          "polar": {
           "angularaxis": {
            "gridcolor": "white",
            "linecolor": "white",
            "ticks": ""
           },
           "bgcolor": "#E5ECF6",
           "radialaxis": {
            "gridcolor": "white",
            "linecolor": "white",
            "ticks": ""
           }
          },
          "scene": {
           "xaxis": {
            "backgroundcolor": "#E5ECF6",
            "gridcolor": "white",
            "gridwidth": 2,
            "linecolor": "white",
            "showbackground": true,
            "ticks": "",
            "zerolinecolor": "white"
           },
           "yaxis": {
            "backgroundcolor": "#E5ECF6",
            "gridcolor": "white",
            "gridwidth": 2,
            "linecolor": "white",
            "showbackground": true,
            "ticks": "",
            "zerolinecolor": "white"
           },
           "zaxis": {
            "backgroundcolor": "#E5ECF6",
            "gridcolor": "white",
            "gridwidth": 2,
            "linecolor": "white",
            "showbackground": true,
            "ticks": "",
            "zerolinecolor": "white"
           }
          },
          "shapedefaults": {
           "line": {
            "color": "#2a3f5f"
           }
          },
          "ternary": {
           "aaxis": {
            "gridcolor": "white",
            "linecolor": "white",
            "ticks": ""
           },
           "baxis": {
            "gridcolor": "white",
            "linecolor": "white",
            "ticks": ""
           },
           "bgcolor": "#E5ECF6",
           "caxis": {
            "gridcolor": "white",
            "linecolor": "white",
            "ticks": ""
           }
          },
          "title": {
           "x": 0.05
          },
          "xaxis": {
           "automargin": true,
           "gridcolor": "white",
           "linecolor": "white",
           "ticks": "",
           "title": {
            "standoff": 15
           },
           "zerolinecolor": "white",
           "zerolinewidth": 2
          },
          "yaxis": {
           "automargin": true,
           "gridcolor": "white",
           "linecolor": "white",
           "ticks": "",
           "title": {
            "standoff": 15
           },
           "zerolinecolor": "white",
           "zerolinewidth": 2
          }
         }
        },
        "title": {
         "text": "Variaciones de los porcentajes a traves del tiempo"
        },
        "xaxis": {
         "anchor": "y",
         "domain": [
          0,
          1
         ],
         "title": {
          "text": "año"
         }
        },
        "yaxis": {
         "anchor": "x",
         "domain": [
          0,
          1
         ],
         "title": {
          "text": "valor"
         }
        }
       }
      }
     },
     "metadata": {},
     "output_type": "display_data"
    }
   ],
   "source": [
    "fig = px.bar(estado_porcentaje, x=\"año\", y=\"valor\",\n",
    "             color='indicador', barmode='group', title=\"Variaciones de los porcentajes a traves del tiempo\",\n",
    "             height=400)\n",
    "fig.show()"
   ]
  },
  {
   "attachments": {},
   "cell_type": "markdown",
   "metadata": {},
   "source": [
    "# Dashboard"
   ]
  },
  {
   "attachments": {},
   "cell_type": "markdown",
   "metadata": {},
   "source": [
    "## Layout"
   ]
  },
  {
   "cell_type": "code",
   "execution_count": 19,
   "metadata": {},
   "outputs": [],
   "source": [
    "from dash import Dash, dcc, html, Input, Output\n",
    "import plotly.express as px\n",
    "from jupyter_dash import JupyterDash\n",
    "\n",
    "#----------------------------APP MAIN-------------------------------------#\n",
    "external_stylesheets = ['https://codepen.io/chriddyp/pen/bWLwgP.css']\n",
    "\n",
    "app = JupyterDash(__name__, external_stylesheets=external_stylesheets)\n",
    "#------------------------------DATA--------------------------------------#\n",
    "estado = pd.read_csv('./data/mortalidad_estado.csv',index_col=0)\n",
    "estado_defunciones = estado[estado['unidad_medida'] == 'Defunciones']\n",
    "estado_porcentaje = estado[estado['unidad_medida'] == 'Porcentaje']\n",
    "\n",
    "#-------------------------VARIABLES--------------------------------------#\n",
    "options = estado_defunciones['indicador'].drop_duplicates().to_list()\n",
    "available_indicators = estado_defunciones['indicador'].unique()\n",
    "indicators_porcent = estado_porcentaje['indicador'].unique()\n",
    "\n",
    "#-----------------------LAYOUT-------------------------------------------#\n",
    "app.layout = html.Div(children=[\n",
    "    \n",
    "    html.H1('Analisis de defunciones en el estado de Guanajuato'),\n",
    "    \n",
    "    html.Div([\n",
    "        html.H3('Defunciones a lo largo del tiempo en el estado de Guanajuato'),\n",
    "        html.H4('Selecciona un indicador o varios para la grafica'),\n",
    "        dcc.Checklist(\n",
    "        id=\"checklist\",\n",
    "        options=options,\n",
    "        value=[\"Defunciones generales\", \"Defunciones generales hombres\",\"Defunciones generales mujeres\"]\n",
    "        ),\n",
    "        \n",
    "    ]),\n",
    "    \n",
    "    dcc.Graph(id=\"graph\"),\n",
    "    \n",
    "    \n",
    "    html.Div([\n",
    "        html.H3('Histograma a traves del tiempo por categoria'),\n",
    "        dcc.Dropdown(\n",
    "            id = 'indicator',\n",
    "            options = [{'label': i,'value': i} for i in available_indicators],\n",
    "            value='Defunciones generales'\n",
    "        )\n",
    "    ]),\n",
    "    \n",
    "    dcc.Graph(id='indicator-histogram'),\n",
    "    \n",
    "    #Grafica de porcentajes por categoria de defunciones\n",
    "    html.Div([\n",
    "        html.H3('Porcentaje de los indicadores en el tiempo'),\n",
    "        html.Div(children='''\n",
    "         Se puede observar a lo largo de un deslizador de tiempo la variacion y el porcentaje \n",
    "         de cada indicador en todo el estado.\n",
    "        '''),\n",
    "        \n",
    "        dcc.Slider(\n",
    "            id='year-slider',\n",
    "            min=estado_defunciones['año'].min(),\n",
    "            max=estado_defunciones['año'].max(),\n",
    "            value=estado_defunciones['año'].min(),\n",
    "            marks={str(año): str(año) for año in estado_defunciones['año'].unique()},\n",
    "            step=None\n",
    "        ),\n",
    "    ]),\n",
    "    \n",
    "    dcc.Graph(id='pie-with-slider'),\n",
    "    \n",
    "    # Analisis de los porcentajes\n",
    "    html.Div([\n",
    "        html.H3('Histograma a traves del tiempo por indicador de porcentaje'),\n",
    "        html.H2('Selecciona un indicador'),\n",
    "        dcc.Dropdown(\n",
    "            id = 'indicator_porcent',\n",
    "            options = [{'label': i,'value': i} for i in indicators_porcent],\n",
    "            value='Índice de sobremortalidad masculina'\n",
    "        )\n",
    "    ]),\n",
    "    \n",
    "    dcc.Graph(id='indicator-histogram-porcent'),\n",
    "    \n",
    "    html.Div([\n",
    "        html.H1('Analisis por Municipios'),\n",
    "    ]),\n",
    "    \n",
    "    \n",
    "], style={'background-color': '#FFF0B2'})\n"
   ]
  },
  {
   "attachments": {},
   "cell_type": "markdown",
   "metadata": {},
   "source": [
    "## Callbacks"
   ]
  },
  {
   "cell_type": "code",
   "execution_count": 20,
   "metadata": {},
   "outputs": [
    {
     "name": "stdout",
     "output_type": "stream",
     "text": [
      "Dash app running on http://127.0.0.1:8050/\n"
     ]
    }
   ],
   "source": [
    "@app.callback(\n",
    "    Output(\"graph\", \"figure\"), \n",
    "    Input(\"checklist\", \"value\"))\n",
    "\n",
    "def update_line_chart(indicadores):\n",
    "    df = estado_defunciones # replace with your own data source\n",
    "    mask = df['indicador'].isin(indicadores)\n",
    "    fig = px.line(df[mask], \n",
    "        x=\"año\", y=\"valor\", color='indicador')\n",
    "    return fig\n",
    "\n",
    "@app.callback(\n",
    "    Output(\"indicator-histogram\",'figure'),\n",
    "    Input('indicator','value')\n",
    ")\n",
    "\n",
    "def update_histogram(indicador):\n",
    "    filtro = estado_defunciones[(estado_defunciones['indicador'] == indicador)]\n",
    "    \n",
    "    fig = px.bar(filtro,x='año',y='valor')\n",
    "    \n",
    "    fig.update_layout(transition_duration = 500)\n",
    "    \n",
    "    return fig\n",
    "\n",
    "@app.callback(\n",
    "    Output('pie-with-slider', 'figure'),\n",
    "    Input('year-slider', 'value')\n",
    ")\n",
    "\n",
    "def update_figure(selected_year):\n",
    "    filtered_df = estado_defunciones[estado_defunciones.año == selected_year]\n",
    "\n",
    "    #filtered_df.loc[filtered_df['valor'] < 200, 'desc_municipio'] = 'Otros' # Represent only large countries\n",
    "    fig = px.pie(filtered_df, values='valor', names='indicador', title='Porcentaje de los indicadores')             \n",
    "\n",
    "    fig.update_layout(transition_duration=500)\n",
    "\n",
    "    return fig\n",
    "\n",
    "#------------------Porcentajes-----------------------------#\n",
    "@app.callback(\n",
    "    Output(\"indicator-histogram-porcent\",'figure'),\n",
    "    Input('indicator_porcent','value')\n",
    ")\n",
    "\n",
    "def update_histogram(indicador_porcentaje):\n",
    "    filtro = estado_porcentaje[(estado_porcentaje['indicador'] == indicador_porcentaje)]\n",
    "    \n",
    "    fig = px.bar(filtro,x='año',y='valor')\n",
    "    \n",
    "    fig.update_layout(transition_duration = 500)\n",
    "    \n",
    "    return fig\n",
    "\n",
    "if __name__ == '__main__':\n",
    "    app.run_server(debug=True)"
   ]
  }
 ],
 "metadata": {
  "kernelspec": {
   "display_name": "venv",
   "language": "python",
   "name": "python3"
  },
  "language_info": {
   "codemirror_mode": {
    "name": "ipython",
    "version": 3
   },
   "file_extension": ".py",
   "mimetype": "text/x-python",
   "name": "python",
   "nbconvert_exporter": "python",
   "pygments_lexer": "ipython3",
   "version": "3.10.7"
  },
  "orig_nbformat": 4,
  "vscode": {
   "interpreter": {
    "hash": "db973748d554fe877f6d9111806cb50178df9c16a3a25e5b14b094e6adb1a722"
   }
  }
 },
 "nbformat": 4,
 "nbformat_minor": 2
}
