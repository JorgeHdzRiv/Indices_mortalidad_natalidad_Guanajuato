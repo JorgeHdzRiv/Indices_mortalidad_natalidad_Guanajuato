{
 "cells": [
  {
   "attachments": {},
   "cell_type": "markdown",
   "metadata": {},
   "source": [
    "# Introduccion\n",
    "\n",
    "Anteriormente se realizo un analisis estatal y se dividio el dataset para poder trabajar de manera individual y mas especifica, es importante considerar que el estado de Guanajuato cuenta con 46 municipios, algunos municipios son conocidos por cuestiones turisticas y lamentablemente por la violencia que sufren algunos de ellos inclusive para estar en lugares altos de delicuencia.\n",
    "\n",
    "El proposito del analisis sera saber cuales son los municipios con mas alto valor en cada uno de los indicadores, ademas de saber como el tiempo a afectado a estos mismos."
   ]
  },
  {
   "cell_type": "code",
   "execution_count": 1,
   "metadata": {},
   "outputs": [],
   "source": [
    "import pandas as pd\n",
    "import plotly.express as px\n",
    "import numpy as np"
   ]
  },
  {
   "attachments": {},
   "cell_type": "markdown",
   "metadata": {},
   "source": [
    "# Filtrado de Datos en municipios"
   ]
  },
  {
   "cell_type": "code",
   "execution_count": 3,
   "metadata": {},
   "outputs": [
    {
     "data": {
      "text/html": [
       "<div>\n",
       "<style scoped>\n",
       "    .dataframe tbody tr th:only-of-type {\n",
       "        vertical-align: middle;\n",
       "    }\n",
       "\n",
       "    .dataframe tbody tr th {\n",
       "        vertical-align: top;\n",
       "    }\n",
       "\n",
       "    .dataframe thead th {\n",
       "        text-align: right;\n",
       "    }\n",
       "</style>\n",
       "<table border=\"1\" class=\"dataframe\">\n",
       "  <thead>\n",
       "    <tr style=\"text-align: right;\">\n",
       "      <th></th>\n",
       "      <th>cve_entidad</th>\n",
       "      <th>desc_entidad</th>\n",
       "      <th>cve_municipio</th>\n",
       "      <th>desc_municipio</th>\n",
       "      <th>id_indicador</th>\n",
       "      <th>indicador</th>\n",
       "      <th>año</th>\n",
       "      <th>valor</th>\n",
       "      <th>unidad_medida</th>\n",
       "    </tr>\n",
       "  </thead>\n",
       "  <tbody>\n",
       "    <tr>\n",
       "      <th>304</th>\n",
       "      <td>11</td>\n",
       "      <td>Guanajuato</td>\n",
       "      <td>1</td>\n",
       "      <td>Abasolo</td>\n",
       "      <td>1002000030</td>\n",
       "      <td>Defunciones generales</td>\n",
       "      <td>1994</td>\n",
       "      <td>301.0</td>\n",
       "      <td>Defunciones</td>\n",
       "    </tr>\n",
       "    <tr>\n",
       "      <th>305</th>\n",
       "      <td>11</td>\n",
       "      <td>Guanajuato</td>\n",
       "      <td>1</td>\n",
       "      <td>Abasolo</td>\n",
       "      <td>1002000030</td>\n",
       "      <td>Defunciones generales</td>\n",
       "      <td>1995</td>\n",
       "      <td>318.0</td>\n",
       "      <td>Defunciones</td>\n",
       "    </tr>\n",
       "    <tr>\n",
       "      <th>306</th>\n",
       "      <td>11</td>\n",
       "      <td>Guanajuato</td>\n",
       "      <td>1</td>\n",
       "      <td>Abasolo</td>\n",
       "      <td>1002000030</td>\n",
       "      <td>Defunciones generales</td>\n",
       "      <td>1996</td>\n",
       "      <td>350.0</td>\n",
       "      <td>Defunciones</td>\n",
       "    </tr>\n",
       "    <tr>\n",
       "      <th>307</th>\n",
       "      <td>11</td>\n",
       "      <td>Guanajuato</td>\n",
       "      <td>1</td>\n",
       "      <td>Abasolo</td>\n",
       "      <td>1002000030</td>\n",
       "      <td>Defunciones generales</td>\n",
       "      <td>1997</td>\n",
       "      <td>347.0</td>\n",
       "      <td>Defunciones</td>\n",
       "    </tr>\n",
       "    <tr>\n",
       "      <th>308</th>\n",
       "      <td>11</td>\n",
       "      <td>Guanajuato</td>\n",
       "      <td>1</td>\n",
       "      <td>Abasolo</td>\n",
       "      <td>1002000030</td>\n",
       "      <td>Defunciones generales</td>\n",
       "      <td>1998</td>\n",
       "      <td>350.0</td>\n",
       "      <td>Defunciones</td>\n",
       "    </tr>\n",
       "    <tr>\n",
       "      <th>...</th>\n",
       "      <td>...</td>\n",
       "      <td>...</td>\n",
       "      <td>...</td>\n",
       "      <td>...</td>\n",
       "      <td>...</td>\n",
       "      <td>...</td>\n",
       "      <td>...</td>\n",
       "      <td>...</td>\n",
       "      <td>...</td>\n",
       "    </tr>\n",
       "    <tr>\n",
       "      <th>10419</th>\n",
       "      <td>11</td>\n",
       "      <td>Guanajuato</td>\n",
       "      <td>46</td>\n",
       "      <td>Yuriria</td>\n",
       "      <td>1002000037</td>\n",
       "      <td>Defunciones de menores de un año de sexo no es...</td>\n",
       "      <td>2016</td>\n",
       "      <td>0.0</td>\n",
       "      <td>Defunciones</td>\n",
       "    </tr>\n",
       "    <tr>\n",
       "      <th>10420</th>\n",
       "      <td>11</td>\n",
       "      <td>Guanajuato</td>\n",
       "      <td>46</td>\n",
       "      <td>Yuriria</td>\n",
       "      <td>1002000037</td>\n",
       "      <td>Defunciones de menores de un año de sexo no es...</td>\n",
       "      <td>2017</td>\n",
       "      <td>0.0</td>\n",
       "      <td>Defunciones</td>\n",
       "    </tr>\n",
       "    <tr>\n",
       "      <th>10421</th>\n",
       "      <td>11</td>\n",
       "      <td>Guanajuato</td>\n",
       "      <td>46</td>\n",
       "      <td>Yuriria</td>\n",
       "      <td>1002000037</td>\n",
       "      <td>Defunciones de menores de un año de sexo no es...</td>\n",
       "      <td>2018</td>\n",
       "      <td>0.0</td>\n",
       "      <td>Defunciones</td>\n",
       "    </tr>\n",
       "    <tr>\n",
       "      <th>10422</th>\n",
       "      <td>11</td>\n",
       "      <td>Guanajuato</td>\n",
       "      <td>46</td>\n",
       "      <td>Yuriria</td>\n",
       "      <td>1002000037</td>\n",
       "      <td>Defunciones de menores de un año de sexo no es...</td>\n",
       "      <td>2019</td>\n",
       "      <td>0.0</td>\n",
       "      <td>Defunciones</td>\n",
       "    </tr>\n",
       "    <tr>\n",
       "      <th>10423</th>\n",
       "      <td>11</td>\n",
       "      <td>Guanajuato</td>\n",
       "      <td>46</td>\n",
       "      <td>Yuriria</td>\n",
       "      <td>1002000037</td>\n",
       "      <td>Defunciones de menores de un año de sexo no es...</td>\n",
       "      <td>2020</td>\n",
       "      <td>0.0</td>\n",
       "      <td>Defunciones</td>\n",
       "    </tr>\n",
       "  </tbody>\n",
       "</table>\n",
       "<p>10120 rows × 9 columns</p>\n",
       "</div>"
      ],
      "text/plain": [
       "       cve_entidad desc_entidad  cve_municipio desc_municipio  id_indicador  \\\n",
       "304             11   Guanajuato              1        Abasolo    1002000030   \n",
       "305             11   Guanajuato              1        Abasolo    1002000030   \n",
       "306             11   Guanajuato              1        Abasolo    1002000030   \n",
       "307             11   Guanajuato              1        Abasolo    1002000030   \n",
       "308             11   Guanajuato              1        Abasolo    1002000030   \n",
       "...            ...          ...            ...            ...           ...   \n",
       "10419           11   Guanajuato             46        Yuriria    1002000037   \n",
       "10420           11   Guanajuato             46        Yuriria    1002000037   \n",
       "10421           11   Guanajuato             46        Yuriria    1002000037   \n",
       "10422           11   Guanajuato             46        Yuriria    1002000037   \n",
       "10423           11   Guanajuato             46        Yuriria    1002000037   \n",
       "\n",
       "                                               indicador   año  valor  \\\n",
       "304                                Defunciones generales  1994  301.0   \n",
       "305                                Defunciones generales  1995  318.0   \n",
       "306                                Defunciones generales  1996  350.0   \n",
       "307                                Defunciones generales  1997  347.0   \n",
       "308                                Defunciones generales  1998  350.0   \n",
       "...                                                  ...   ...    ...   \n",
       "10419  Defunciones de menores de un año de sexo no es...  2016    0.0   \n",
       "10420  Defunciones de menores de un año de sexo no es...  2017    0.0   \n",
       "10421  Defunciones de menores de un año de sexo no es...  2018    0.0   \n",
       "10422  Defunciones de menores de un año de sexo no es...  2019    0.0   \n",
       "10423  Defunciones de menores de un año de sexo no es...  2020    0.0   \n",
       "\n",
       "      unidad_medida  \n",
       "304     Defunciones  \n",
       "305     Defunciones  \n",
       "306     Defunciones  \n",
       "307     Defunciones  \n",
       "308     Defunciones  \n",
       "...             ...  \n",
       "10419   Defunciones  \n",
       "10420   Defunciones  \n",
       "10421   Defunciones  \n",
       "10422   Defunciones  \n",
       "10423   Defunciones  \n",
       "\n",
       "[10120 rows x 9 columns]"
      ]
     },
     "execution_count": 3,
     "metadata": {},
     "output_type": "execute_result"
    }
   ],
   "source": [
    "municipios = pd.read_csv('./data/mortalidad_municipios.csv',index_col=0)\n",
    "municipios"
   ]
  },
  {
   "cell_type": "code",
   "execution_count": 4,
   "metadata": {},
   "outputs": [
    {
     "name": "stdout",
     "output_type": "stream",
     "text": [
      "<class 'pandas.core.frame.DataFrame'>\n",
      "Int64Index: 10120 entries, 304 to 10423\n",
      "Data columns (total 9 columns):\n",
      " #   Column          Non-Null Count  Dtype  \n",
      "---  ------          --------------  -----  \n",
      " 0   cve_entidad     10120 non-null  int64  \n",
      " 1   desc_entidad    10120 non-null  object \n",
      " 2   cve_municipio   10120 non-null  int64  \n",
      " 3   desc_municipio  10120 non-null  object \n",
      " 4   id_indicador    10120 non-null  int64  \n",
      " 5   indicador       10120 non-null  object \n",
      " 6   año             10120 non-null  int64  \n",
      " 7   valor           10120 non-null  float64\n",
      " 8   unidad_medida   10120 non-null  object \n",
      "dtypes: float64(1), int64(4), object(4)\n",
      "memory usage: 790.6+ KB\n"
     ]
    }
   ],
   "source": [
    "municipios.info()"
   ]
  },
  {
   "cell_type": "code",
   "execution_count": 10,
   "metadata": {},
   "outputs": [
    {
     "data": {
      "text/plain": [
       "count    10120.000000\n",
       "mean       163.385771\n",
       "std        508.570333\n",
       "min          0.000000\n",
       "25%          1.000000\n",
       "50%         21.000000\n",
       "75%        139.000000\n",
       "max      12977.000000\n",
       "Name: valor, dtype: float64"
      ]
     },
     "execution_count": 10,
     "metadata": {},
     "output_type": "execute_result"
    }
   ],
   "source": [
    "municipios['valor'].describe()"
   ]
  },
  {
   "cell_type": "code",
   "execution_count": 7,
   "metadata": {},
   "outputs": [
    {
     "data": {
      "text/plain": [
       "array(['Defunciones generales', 'Defunciones generales hombres',\n",
       "       'Defunciones generales mujeres',\n",
       "       'Defunciones generales de sexo no especificado',\n",
       "       'Defunciones de menores de un año',\n",
       "       'Defunciones de menores de un año hombres',\n",
       "       'Defunciones de menores de un año mujeres',\n",
       "       'Defunciones de menores de un año de sexo no especificado'],\n",
       "      dtype=object)"
      ]
     },
     "execution_count": 7,
     "metadata": {},
     "output_type": "execute_result"
    }
   ],
   "source": [
    "municipios['indicador'].unique()"
   ]
  },
  {
   "cell_type": "code",
   "execution_count": 9,
   "metadata": {},
   "outputs": [
    {
     "data": {
      "text/plain": [
       "Defunciones    10120\n",
       "Name: unidad_medida, dtype: int64"
      ]
     },
     "execution_count": 9,
     "metadata": {},
     "output_type": "execute_result"
    }
   ],
   "source": [
    "municipios['unidad_medida'].value_counts()"
   ]
  },
  {
   "attachments": {},
   "cell_type": "markdown",
   "metadata": {},
   "source": [
    "**A diferencia de nuestro anterior analisis aqui solo tenemos la unidad de medida de defunciones**"
   ]
  },
  {
   "attachments": {},
   "cell_type": "markdown",
   "metadata": {},
   "source": [
    "# Visualizacion de Datos"
   ]
  },
  {
   "attachments": {},
   "cell_type": "markdown",
   "metadata": {},
   "source": [
    "## Defunciones generales, hombres y mujeres"
   ]
  },
  {
   "cell_type": "code",
   "execution_count": 25,
   "metadata": {},
   "outputs": [],
   "source": [
    "#Indicadores de mayor interes\n",
    "\n",
    "mun_g = municipios[(municipios['id_indicador'] == 1002000030)]\n",
    "\n",
    "mun_h = municipios[(municipios['id_indicador'] == 1002000031)]\n",
    "\n",
    "mun_m = municipios[(municipios['id_indicador'] == 1002000032)]\n"
   ]
  },
  {
   "cell_type": "code",
   "execution_count": 29,
   "metadata": {},
   "outputs": [
    {
     "data": {
      "application/vnd.plotly.v1+json": {
       "config": {
        "plotlyServerURL": "https://plot.ly"
       },
       "data": [
        {
         "hovertemplate": "desc_municipio=Abasolo<br>año=%{x}<br>valor=%{y}<extra></extra>",
         "legendgroup": "Abasolo",
         "marker": {
          "color": "#636efa",
          "symbol": "circle"
         },
         "mode": "markers",
         "name": "Abasolo",
         "showlegend": true,
         "type": "scattergl",
         "x": [
          1994,
          1995,
          1996,
          1997,
          1998,
          1999,
          2000,
          2001,
          2002,
          2003,
          2004,
          2005,
          2006,
          2007,
          2008,
          2009,
          2010,
          2011,
          2012,
          2013,
          2014,
          2015,
          2016,
          2017,
          2018,
          2019,
          2020,
          2021
         ],
         "xaxis": "x",
         "y": [
          301,
          318,
          350,
          347,
          350,
          354,
          368,
          340,
          381,
          374,
          369,
          397,
          364,
          390,
          404,
          388,
          471,
          455,
          466,
          460,
          462,
          478,
          543,
          574,
          604,
          641,
          729,
          1060
         ],
         "yaxis": "y"
        },
        {
         "hovertemplate": "desc_municipio=Acámbaro<br>año=%{x}<br>valor=%{y}<extra></extra>",
         "legendgroup": "Acámbaro",
         "marker": {
          "color": "#EF553B",
          "symbol": "circle"
         },
         "mode": "markers",
         "name": "Acámbaro",
         "showlegend": true,
         "type": "scattergl",
         "x": [
          1994,
          1995,
          1996,
          1997,
          1998,
          1999,
          2000,
          2001,
          2002,
          2003,
          2004,
          2005,
          2006,
          2007,
          2008,
          2009,
          2010,
          2011,
          2012,
          2013,
          2014,
          2015,
          2016,
          2017,
          2018,
          2019,
          2020,
          2021
         ],
         "xaxis": "x",
         "y": [
          646,
          645,
          630,
          654,
          642,
          622,
          695,
          653,
          601,
          629,
          656,
          725,
          691,
          725,
          736,
          720,
          813,
          812,
          748,
          803,
          848,
          814,
          907,
          929,
          954,
          1047,
          1275,
          1635
         ],
         "yaxis": "y"
        },
        {
         "hovertemplate": "desc_municipio=San Miguel de Allende<br>año=%{x}<br>valor=%{y}<extra></extra>",
         "legendgroup": "San Miguel de Allende",
         "marker": {
          "color": "#00cc96",
          "symbol": "circle"
         },
         "mode": "markers",
         "name": "San Miguel de Allende",
         "showlegend": true,
         "type": "scattergl",
         "x": [
          1994,
          1995,
          1996,
          1997,
          1998,
          1999,
          2000,
          2001,
          2002,
          2003,
          2004,
          2005,
          2006,
          2007,
          2008,
          2009,
          2010,
          2011,
          2012,
          2013,
          2014,
          2015,
          2016,
          2017,
          2018,
          2019,
          2020,
          2021
         ],
         "xaxis": "x",
         "y": [
          661,
          730,
          692,
          702,
          711,
          696,
          714,
          692,
          684,
          652,
          681,
          739,
          711,
          714,
          750,
          777,
          794,
          773,
          816,
          821,
          939,
          946,
          993,
          1099,
          1010,
          1129,
          1286,
          1757
         ],
         "yaxis": "y"
        },
        {
         "hovertemplate": "desc_municipio=Apaseo el Alto<br>año=%{x}<br>valor=%{y}<extra></extra>",
         "legendgroup": "Apaseo el Alto",
         "marker": {
          "color": "#ab63fa",
          "symbol": "circle"
         },
         "mode": "markers",
         "name": "Apaseo el Alto",
         "showlegend": true,
         "type": "scattergl",
         "x": [
          1994,
          1995,
          1996,
          1997,
          1998,
          1999,
          2000,
          2001,
          2002,
          2003,
          2004,
          2005,
          2006,
          2007,
          2008,
          2009,
          2010,
          2011,
          2012,
          2013,
          2014,
          2015,
          2016,
          2017,
          2018,
          2019,
          2020,
          2021
         ],
         "xaxis": "x",
         "y": [
          273,
          252,
          268,
          252,
          257,
          286,
          268,
          266,
          279,
          283,
          307,
          270,
          292,
          313,
          293,
          329,
          349,
          328,
          302,
          367,
          349,
          341,
          399,
          447,
          464,
          483,
          632,
          647
         ],
         "yaxis": "y"
        },
        {
         "hovertemplate": "desc_municipio=Apaseo el Grande<br>año=%{x}<br>valor=%{y}<extra></extra>",
         "legendgroup": "Apaseo el Grande",
         "marker": {
          "color": "#FFA15A",
          "symbol": "circle"
         },
         "mode": "markers",
         "name": "Apaseo el Grande",
         "showlegend": true,
         "type": "scattergl",
         "x": [
          1994,
          1995,
          1996,
          1997,
          1998,
          1999,
          2000,
          2001,
          2002,
          2003,
          2004,
          2005,
          2006,
          2007,
          2008,
          2009,
          2010,
          2011,
          2012,
          2013,
          2014,
          2015,
          2016,
          2017,
          2018,
          2019,
          2020,
          2021
         ],
         "xaxis": "x",
         "y": [
          324,
          328,
          352,
          299,
          321,
          323,
          302,
          314,
          328,
          332,
          296,
          322,
          342,
          315,
          378,
          379,
          437,
          429,
          383,
          462,
          475,
          468,
          462,
          573,
          555,
          600,
          797,
          1071
         ],
         "yaxis": "y"
        },
        {
         "hovertemplate": "desc_municipio=Atarjea<br>año=%{x}<br>valor=%{y}<extra></extra>",
         "legendgroup": "Atarjea",
         "marker": {
          "color": "#19d3f3",
          "symbol": "circle"
         },
         "mode": "markers",
         "name": "Atarjea",
         "showlegend": true,
         "type": "scattergl",
         "x": [
          1994,
          1995,
          1996,
          1997,
          1998,
          1999,
          2000,
          2001,
          2002,
          2003,
          2004,
          2005,
          2006,
          2007,
          2008,
          2009,
          2010,
          2011,
          2012,
          2013,
          2014,
          2015,
          2016,
          2017,
          2018,
          2019,
          2020,
          2021
         ],
         "xaxis": "x",
         "y": [
          31,
          19,
          28,
          46,
          31,
          30,
          24,
          32,
          35,
          24,
          26,
          24,
          37,
          25,
          31,
          32,
          25,
          39,
          28,
          29,
          30,
          23,
          43,
          36,
          36,
          33,
          29,
          52
         ],
         "yaxis": "y"
        },
        {
         "hovertemplate": "desc_municipio=Celaya<br>año=%{x}<br>valor=%{y}<extra></extra>",
         "legendgroup": "Celaya",
         "marker": {
          "color": "#FF6692",
          "symbol": "circle"
         },
         "mode": "markers",
         "name": "Celaya",
         "showlegend": true,
         "type": "scattergl",
         "x": [
          1994,
          1995,
          1996,
          1997,
          1998,
          1999,
          2000,
          2001,
          2002,
          2003,
          2004,
          2005,
          2006,
          2007,
          2008,
          2009,
          2010,
          2011,
          2012,
          2013,
          2014,
          2015,
          2016,
          2017,
          2018,
          2019,
          2020,
          2021
         ],
         "xaxis": "x",
         "y": [
          1653,
          1664,
          1688,
          1742,
          1652,
          1722,
          1663,
          1604,
          1813,
          1863,
          1826,
          1924,
          1898,
          1983,
          2107,
          2156,
          2340,
          2173,
          2287,
          2450,
          2516,
          2605,
          2726,
          3151,
          3103,
          3221,
          4753,
          5002
         ],
         "yaxis": "y"
        },
        {
         "hovertemplate": "desc_municipio=Manuel Doblado<br>año=%{x}<br>valor=%{y}<extra></extra>",
         "legendgroup": "Manuel Doblado",
         "marker": {
          "color": "#B6E880",
          "symbol": "circle"
         },
         "mode": "markers",
         "name": "Manuel Doblado",
         "showlegend": true,
         "type": "scattergl",
         "x": [
          1994,
          1995,
          1996,
          1997,
          1998,
          1999,
          2000,
          2001,
          2002,
          2003,
          2004,
          2005,
          2006,
          2007,
          2008,
          2009,
          2010,
          2011,
          2012,
          2013,
          2014,
          2015,
          2016,
          2017,
          2018,
          2019,
          2020,
          2021
         ],
         "xaxis": "x",
         "y": [
          169,
          209,
          183,
          176,
          203,
          155,
          203,
          194,
          168,
          173,
          192,
          201,
          187,
          223,
          205,
          198,
          222,
          224,
          230,
          203,
          225,
          243,
          229,
          257,
          224,
          228,
          313,
          439
         ],
         "yaxis": "y"
        },
        {
         "hovertemplate": "desc_municipio=Comonfort<br>año=%{x}<br>valor=%{y}<extra></extra>",
         "legendgroup": "Comonfort",
         "marker": {
          "color": "#FF97FF",
          "symbol": "circle"
         },
         "mode": "markers",
         "name": "Comonfort",
         "showlegend": true,
         "type": "scattergl",
         "x": [
          1994,
          1995,
          1996,
          1997,
          1998,
          1999,
          2000,
          2001,
          2002,
          2003,
          2004,
          2005,
          2006,
          2007,
          2008,
          2009,
          2010,
          2011,
          2012,
          2013,
          2014,
          2015,
          2016,
          2017,
          2018,
          2019,
          2020,
          2021
         ],
         "xaxis": "x",
         "y": [
          320,
          361,
          388,
          386,
          364,
          347,
          324,
          273,
          316,
          318,
          344,
          381,
          333,
          324,
          372,
          373,
          364,
          380,
          422,
          403,
          414,
          427,
          485,
          514,
          507,
          505,
          674,
          794
         ],
         "yaxis": "y"
        },
        {
         "hovertemplate": "desc_municipio=Coroneo<br>año=%{x}<br>valor=%{y}<extra></extra>",
         "legendgroup": "Coroneo",
         "marker": {
          "color": "#FECB52",
          "symbol": "circle"
         },
         "mode": "markers",
         "name": "Coroneo",
         "showlegend": true,
         "type": "scattergl",
         "x": [
          1994,
          1995,
          1996,
          1997,
          1998,
          1999,
          2000,
          2001,
          2002,
          2003,
          2004,
          2005,
          2006,
          2007,
          2008,
          2009,
          2010,
          2011,
          2012,
          2013,
          2014,
          2015,
          2016,
          2017,
          2018,
          2019,
          2020,
          2021
         ],
         "xaxis": "x",
         "y": [
          53,
          70,
          64,
          76,
          64,
          72,
          65,
          63,
          65,
          66,
          57,
          67,
          75,
          78,
          61,
          91,
          85,
          79,
          68,
          80,
          95,
          114,
          70,
          75,
          94,
          79,
          116,
          137
         ],
         "yaxis": "y"
        },
        {
         "hovertemplate": "desc_municipio=Cortazar<br>año=%{x}<br>valor=%{y}<extra></extra>",
         "legendgroup": "Cortazar",
         "marker": {
          "color": "#636efa",
          "symbol": "circle"
         },
         "mode": "markers",
         "name": "Cortazar",
         "showlegend": true,
         "type": "scattergl",
         "x": [
          1994,
          1995,
          1996,
          1997,
          1998,
          1999,
          2000,
          2001,
          2002,
          2003,
          2004,
          2005,
          2006,
          2007,
          2008,
          2009,
          2010,
          2011,
          2012,
          2013,
          2014,
          2015,
          2016,
          2017,
          2018,
          2019,
          2020,
          2021
         ],
         "xaxis": "x",
         "y": [
          433,
          419,
          437,
          394,
          426,
          469,
          394,
          419,
          458,
          428,
          466,
          431,
          448,
          458,
          480,
          493,
          499,
          482,
          517,
          545,
          556,
          569,
          554,
          622,
          718,
          575,
          1038,
          995
         ],
         "yaxis": "y"
        },
        {
         "hovertemplate": "desc_municipio=Cuerámaro<br>año=%{x}<br>valor=%{y}<extra></extra>",
         "legendgroup": "Cuerámaro",
         "marker": {
          "color": "#EF553B",
          "symbol": "circle"
         },
         "mode": "markers",
         "name": "Cuerámaro",
         "showlegend": true,
         "type": "scattergl",
         "x": [
          1994,
          1995,
          1996,
          1997,
          1998,
          1999,
          2000,
          2001,
          2002,
          2003,
          2004,
          2005,
          2006,
          2007,
          2008,
          2009,
          2010,
          2011,
          2012,
          2013,
          2014,
          2015,
          2016,
          2017,
          2018,
          2019,
          2020,
          2021
         ],
         "xaxis": "x",
         "y": [
          148,
          120,
          143,
          143,
          162,
          142,
          155,
          157,
          136,
          176,
          148,
          150,
          157,
          139,
          147,
          165,
          156,
          189,
          167,
          184,
          178,
          177,
          179,
          191,
          222,
          217,
          294,
          354
         ],
         "yaxis": "y"
        },
        {
         "hovertemplate": "desc_municipio=Doctor Mora<br>año=%{x}<br>valor=%{y}<extra></extra>",
         "legendgroup": "Doctor Mora",
         "marker": {
          "color": "#00cc96",
          "symbol": "circle"
         },
         "mode": "markers",
         "name": "Doctor Mora",
         "showlegend": true,
         "type": "scattergl",
         "x": [
          1994,
          1995,
          1996,
          1997,
          1998,
          1999,
          2000,
          2001,
          2002,
          2003,
          2004,
          2005,
          2006,
          2007,
          2008,
          2009,
          2010,
          2011,
          2012,
          2013,
          2014,
          2015,
          2016,
          2017,
          2018,
          2019,
          2020,
          2021
         ],
         "xaxis": "x",
         "y": [
          107,
          92,
          111,
          98,
          114,
          86,
          83,
          114,
          104,
          91,
          115,
          87,
          104,
          93,
          98,
          86,
          102,
          107,
          109,
          96,
          113,
          108,
          106,
          145,
          152,
          139,
          184,
          188
         ],
         "yaxis": "y"
        },
        {
         "hovertemplate": "desc_municipio=Dolores Hidalgo Cuna de la Independencia Nacional<br>año=%{x}<br>valor=%{y}<extra></extra>",
         "legendgroup": "Dolores Hidalgo Cuna de la Independencia Nacional",
         "marker": {
          "color": "#ab63fa",
          "symbol": "circle"
         },
         "mode": "markers",
         "name": "Dolores Hidalgo Cuna de la Independencia Nacional",
         "showlegend": true,
         "type": "scattergl",
         "x": [
          1994,
          1995,
          1996,
          1997,
          1998,
          1999,
          2000,
          2001,
          2002,
          2003,
          2004,
          2005,
          2006,
          2007,
          2008,
          2009,
          2010,
          2011,
          2012,
          2013,
          2014,
          2015,
          2016,
          2017,
          2018,
          2019,
          2020,
          2021
         ],
         "xaxis": "x",
         "y": [
          580,
          612,
          582,
          621,
          625,
          597,
          573,
          530,
          549,
          611,
          566,
          582,
          562,
          647,
          651,
          654,
          705,
          729,
          750,
          795,
          738,
          767,
          817,
          822,
          899,
          904,
          1208,
          1427
         ],
         "yaxis": "y"
        },
        {
         "hovertemplate": "desc_municipio=Guanajuato<br>año=%{x}<br>valor=%{y}<extra></extra>",
         "legendgroup": "Guanajuato",
         "marker": {
          "color": "#FFA15A",
          "symbol": "circle"
         },
         "mode": "markers",
         "name": "Guanajuato",
         "showlegend": true,
         "type": "scattergl",
         "x": [
          1994,
          1995,
          1996,
          1997,
          1998,
          1999,
          2000,
          2001,
          2002,
          2003,
          2004,
          2005,
          2006,
          2007,
          2008,
          2009,
          2010,
          2011,
          2012,
          2013,
          2014,
          2015,
          2016,
          2017,
          2018,
          2019,
          2020,
          2021
         ],
         "xaxis": "x",
         "y": [
          598,
          641,
          634,
          594,
          581,
          593,
          596,
          593,
          631,
          652,
          623,
          761,
          656,
          704,
          780,
          741,
          755,
          795,
          813,
          802,
          841,
          889,
          918,
          900,
          948,
          1012,
          1368,
          1577
         ],
         "yaxis": "y"
        },
        {
         "hovertemplate": "desc_municipio=Huanímaro<br>año=%{x}<br>valor=%{y}<extra></extra>",
         "legendgroup": "Huanímaro",
         "marker": {
          "color": "#19d3f3",
          "symbol": "circle"
         },
         "mode": "markers",
         "name": "Huanímaro",
         "showlegend": true,
         "type": "scattergl",
         "x": [
          1994,
          1995,
          1996,
          1997,
          1998,
          1999,
          2000,
          2001,
          2002,
          2003,
          2004,
          2005,
          2006,
          2007,
          2008,
          2009,
          2010,
          2011,
          2012,
          2013,
          2014,
          2015,
          2016,
          2017,
          2018,
          2019,
          2020,
          2021
         ],
         "xaxis": "x",
         "y": [
          76,
          72,
          72,
          93,
          82,
          103,
          87,
          89,
          86,
          106,
          84,
          96,
          86,
          94,
          104,
          100,
          131,
          130,
          131,
          139,
          114,
          108,
          130,
          135,
          158,
          182,
          194,
          243
         ],
         "yaxis": "y"
        },
        {
         "hovertemplate": "desc_municipio=Irapuato<br>año=%{x}<br>valor=%{y}<extra></extra>",
         "legendgroup": "Irapuato",
         "marker": {
          "color": "#FF6692",
          "symbol": "circle"
         },
         "mode": "markers",
         "name": "Irapuato",
         "showlegend": true,
         "type": "scattergl",
         "x": [
          1994,
          1995,
          1996,
          1997,
          1998,
          1999,
          2000,
          2001,
          2002,
          2003,
          2004,
          2005,
          2006,
          2007,
          2008,
          2009,
          2010,
          2011,
          2012,
          2013,
          2014,
          2015,
          2016,
          2017,
          2018,
          2019,
          2020,
          2021
         ],
         "xaxis": "x",
         "y": [
          1830,
          1899,
          1948,
          1860,
          1929,
          1915,
          1844,
          1820,
          2014,
          2054,
          1942,
          2158,
          2026,
          2160,
          2303,
          2304,
          2554,
          2389,
          2713,
          2718,
          2816,
          2865,
          3146,
          3259,
          3555,
          3941,
          5138,
          5385
         ],
         "yaxis": "y"
        },
        {
         "hovertemplate": "desc_municipio=Jaral del Progreso<br>año=%{x}<br>valor=%{y}<extra></extra>",
         "legendgroup": "Jaral del Progreso",
         "marker": {
          "color": "#B6E880",
          "symbol": "circle"
         },
         "mode": "markers",
         "name": "Jaral del Progreso",
         "showlegend": true,
         "type": "scattergl",
         "x": [
          1994,
          1995,
          1996,
          1997,
          1998,
          1999,
          2000,
          2001,
          2002,
          2003,
          2004,
          2005,
          2006,
          2007,
          2008,
          2009,
          2010,
          2011,
          2012,
          2013,
          2014,
          2015,
          2016,
          2017,
          2018,
          2019,
          2020,
          2021
         ],
         "xaxis": "x",
         "y": [
          152,
          161,
          178,
          150,
          175,
          159,
          136,
          157,
          171,
          146,
          186,
          170,
          177,
          192,
          163,
          219,
          200,
          208,
          203,
          199,
          230,
          232,
          241,
          274,
          269,
          277,
          369,
          388
         ],
         "yaxis": "y"
        },
        {
         "hovertemplate": "desc_municipio=Jerécuaro<br>año=%{x}<br>valor=%{y}<extra></extra>",
         "legendgroup": "Jerécuaro",
         "marker": {
          "color": "#FF97FF",
          "symbol": "circle"
         },
         "mode": "markers",
         "name": "Jerécuaro",
         "showlegend": true,
         "type": "scattergl",
         "x": [
          1994,
          1995,
          1996,
          1997,
          1998,
          1999,
          2000,
          2001,
          2002,
          2003,
          2004,
          2005,
          2006,
          2007,
          2008,
          2009,
          2010,
          2011,
          2012,
          2013,
          2014,
          2015,
          2016,
          2017,
          2018,
          2019,
          2020,
          2021
         ],
         "xaxis": "x",
         "y": [
          282,
          238,
          309,
          277,
          281,
          282,
          222,
          265,
          249,
          253,
          265,
          232,
          282,
          282,
          304,
          300,
          293,
          282,
          309,
          328,
          347,
          322,
          337,
          341,
          350,
          383,
          424,
          536
         ],
         "yaxis": "y"
        },
        {
         "hovertemplate": "desc_municipio=León<br>año=%{x}<br>valor=%{y}<extra></extra>",
         "legendgroup": "León",
         "marker": {
          "color": "#FECB52",
          "symbol": "circle"
         },
         "mode": "markers",
         "name": "León",
         "showlegend": true,
         "type": "scattergl",
         "x": [
          1994,
          1995,
          1996,
          1997,
          1998,
          1999,
          2000,
          2001,
          2002,
          2003,
          2004,
          2005,
          2006,
          2007,
          2008,
          2009,
          2010,
          2011,
          2012,
          2013,
          2014,
          2015,
          2016,
          2017,
          2018,
          2019,
          2020,
          2021
         ],
         "xaxis": "x",
         "y": [
          4421,
          4536,
          4254,
          4484,
          4589,
          4600,
          4746,
          4176,
          5178,
          5002,
          4793,
          5158,
          5055,
          5381,
          5679,
          5685,
          5993,
          5938,
          6196,
          6518,
          6778,
          6931,
          7572,
          7961,
          8055,
          8325,
          12641,
          12977
         ],
         "yaxis": "y"
        },
        {
         "hovertemplate": "desc_municipio=Moroleón<br>año=%{x}<br>valor=%{y}<extra></extra>",
         "legendgroup": "Moroleón",
         "marker": {
          "color": "#636efa",
          "symbol": "circle"
         },
         "mode": "markers",
         "name": "Moroleón",
         "showlegend": true,
         "type": "scattergl",
         "x": [
          1994,
          1995,
          1996,
          1997,
          1998,
          1999,
          2000,
          2001,
          2002,
          2003,
          2004,
          2005,
          2006,
          2007,
          2008,
          2009,
          2010,
          2011,
          2012,
          2013,
          2014,
          2015,
          2016,
          2017,
          2018,
          2019,
          2020,
          2021
         ],
         "xaxis": "x",
         "y": [
          239,
          230,
          248,
          239,
          228,
          255,
          257,
          237,
          264,
          259,
          248,
          247,
          263,
          250,
          282,
          278,
          330,
          280,
          323,
          297,
          336,
          339,
          338,
          368,
          371,
          359,
          541,
          572
         ],
         "yaxis": "y"
        },
        {
         "hovertemplate": "desc_municipio=Ocampo<br>año=%{x}<br>valor=%{y}<extra></extra>",
         "legendgroup": "Ocampo",
         "marker": {
          "color": "#EF553B",
          "symbol": "circle"
         },
         "mode": "markers",
         "name": "Ocampo",
         "showlegend": true,
         "type": "scattergl",
         "x": [
          1994,
          1995,
          1996,
          1997,
          1998,
          1999,
          2000,
          2001,
          2002,
          2003,
          2004,
          2005,
          2006,
          2007,
          2008,
          2009,
          2010,
          2011,
          2012,
          2013,
          2014,
          2015,
          2016,
          2017,
          2018,
          2019,
          2020,
          2021
         ],
         "xaxis": "x",
         "y": [
          117,
          134,
          134,
          149,
          136,
          121,
          137,
          93,
          99,
          107,
          87,
          98,
          109,
          131,
          126,
          125,
          111,
          112,
          98,
          104,
          130,
          143,
          121,
          154,
          141,
          140,
          202,
          236
         ],
         "yaxis": "y"
        },
        {
         "hovertemplate": "desc_municipio=Pénjamo<br>año=%{x}<br>valor=%{y}<extra></extra>",
         "legendgroup": "Pénjamo",
         "marker": {
          "color": "#00cc96",
          "symbol": "circle"
         },
         "mode": "markers",
         "name": "Pénjamo",
         "showlegend": true,
         "type": "scattergl",
         "x": [
          1994,
          1995,
          1996,
          1997,
          1998,
          1999,
          2000,
          2001,
          2002,
          2003,
          2004,
          2005,
          2006,
          2007,
          2008,
          2009,
          2010,
          2011,
          2012,
          2013,
          2014,
          2015,
          2016,
          2017,
          2018,
          2019,
          2020,
          2021
         ],
         "xaxis": "x",
         "y": [
          708,
          708,
          716,
          735,
          724,
          695,
          678,
          661,
          683,
          739,
          768,
          746,
          761,
          757,
          792,
          812,
          848,
          859,
          865,
          865,
          897,
          916,
          1054,
          1070,
          1164,
          1163,
          1467,
          1648
         ],
         "yaxis": "y"
        },
        {
         "hovertemplate": "desc_municipio=Pueblo Nuevo<br>año=%{x}<br>valor=%{y}<extra></extra>",
         "legendgroup": "Pueblo Nuevo",
         "marker": {
          "color": "#ab63fa",
          "symbol": "circle"
         },
         "mode": "markers",
         "name": "Pueblo Nuevo",
         "showlegend": true,
         "type": "scattergl",
         "x": [
          1994,
          1995,
          1996,
          1997,
          1998,
          1999,
          2000,
          2001,
          2002,
          2003,
          2004,
          2005,
          2006,
          2007,
          2008,
          2009,
          2010,
          2011,
          2012,
          2013,
          2014,
          2015,
          2016,
          2017,
          2018,
          2019,
          2020,
          2021
         ],
         "xaxis": "x",
         "y": [
          91,
          87,
          86,
          70,
          69,
          78,
          58,
          74,
          67,
          68,
          71,
          70,
          73,
          79,
          76,
          92,
          93,
          74,
          104,
          88,
          86,
          81,
          90,
          108,
          110,
          108,
          138,
          201
         ],
         "yaxis": "y"
        },
        {
         "hovertemplate": "desc_municipio=Purísima del Rincón<br>año=%{x}<br>valor=%{y}<extra></extra>",
         "legendgroup": "Purísima del Rincón",
         "marker": {
          "color": "#FFA15A",
          "symbol": "circle"
         },
         "mode": "markers",
         "name": "Purísima del Rincón",
         "showlegend": true,
         "type": "scattergl",
         "x": [
          1994,
          1995,
          1996,
          1997,
          1998,
          1999,
          2000,
          2001,
          2002,
          2003,
          2004,
          2005,
          2006,
          2007,
          2008,
          2009,
          2010,
          2011,
          2012,
          2013,
          2014,
          2015,
          2016,
          2017,
          2018,
          2019,
          2020,
          2021
         ],
         "xaxis": "x",
         "y": [
          143,
          174,
          173,
          181,
          194,
          189,
          195,
          168,
          201,
          182,
          179,
          223,
          218,
          207,
          236,
          238,
          265,
          239,
          233,
          273,
          274,
          297,
          320,
          321,
          366,
          385,
          505,
          649
         ],
         "yaxis": "y"
        },
        {
         "hovertemplate": "desc_municipio=Romita<br>año=%{x}<br>valor=%{y}<extra></extra>",
         "legendgroup": "Romita",
         "marker": {
          "color": "#19d3f3",
          "symbol": "circle"
         },
         "mode": "markers",
         "name": "Romita",
         "showlegend": true,
         "type": "scattergl",
         "x": [
          1994,
          1995,
          1996,
          1997,
          1998,
          1999,
          2000,
          2001,
          2002,
          2003,
          2004,
          2005,
          2006,
          2007,
          2008,
          2009,
          2010,
          2011,
          2012,
          2013,
          2014,
          2015,
          2016,
          2017,
          2018,
          2019,
          2020,
          2021
         ],
         "xaxis": "x",
         "y": [
          227,
          265,
          247,
          280,
          235,
          263,
          243,
          241,
          269,
          275,
          244,
          247,
          234,
          245,
          268,
          262,
          284,
          300,
          295,
          303,
          317,
          316,
          343,
          366,
          360,
          382,
          554,
          555
         ],
         "yaxis": "y"
        },
        {
         "hovertemplate": "desc_municipio=Salamanca<br>año=%{x}<br>valor=%{y}<extra></extra>",
         "legendgroup": "Salamanca",
         "marker": {
          "color": "#FF6692",
          "symbol": "circle"
         },
         "mode": "markers",
         "name": "Salamanca",
         "showlegend": true,
         "type": "scattergl",
         "x": [
          1994,
          1995,
          1996,
          1997,
          1998,
          1999,
          2000,
          2001,
          2002,
          2003,
          2004,
          2005,
          2006,
          2007,
          2008,
          2009,
          2010,
          2011,
          2012,
          2013,
          2014,
          2015,
          2016,
          2017,
          2018,
          2019,
          2020,
          2021
         ],
         "xaxis": "x",
         "y": [
          962,
          968,
          1003,
          944,
          986,
          1048,
          1016,
          1049,
          1019,
          1064,
          1129,
          1127,
          1100,
          1098,
          1268,
          1219,
          1343,
          1339,
          1388,
          1475,
          1426,
          1476,
          1666,
          1849,
          2052,
          2162,
          2996,
          2771
         ],
         "yaxis": "y"
        },
        {
         "hovertemplate": "desc_municipio=Salvatierra<br>año=%{x}<br>valor=%{y}<extra></extra>",
         "legendgroup": "Salvatierra",
         "marker": {
          "color": "#B6E880",
          "symbol": "circle"
         },
         "mode": "markers",
         "name": "Salvatierra",
         "showlegend": true,
         "type": "scattergl",
         "x": [
          1994,
          1995,
          1996,
          1997,
          1998,
          1999,
          2000,
          2001,
          2002,
          2003,
          2004,
          2005,
          2006,
          2007,
          2008,
          2009,
          2010,
          2011,
          2012,
          2013,
          2014,
          2015,
          2016,
          2017,
          2018,
          2019,
          2020,
          2021
         ],
         "xaxis": "x",
         "y": [
          605,
          610,
          581,
          581,
          570,
          620,
          550,
          595,
          571,
          544,
          588,
          605,
          626,
          611,
          646,
          720,
          725,
          709,
          664,
          692,
          781,
          815,
          840,
          886,
          957,
          945,
          1275,
          1304
         ],
         "yaxis": "y"
        },
        {
         "hovertemplate": "desc_municipio=San Diego de la Unión<br>año=%{x}<br>valor=%{y}<extra></extra>",
         "legendgroup": "San Diego de la Unión",
         "marker": {
          "color": "#FF97FF",
          "symbol": "circle"
         },
         "mode": "markers",
         "name": "San Diego de la Unión",
         "showlegend": true,
         "type": "scattergl",
         "x": [
          1994,
          1995,
          1996,
          1997,
          1998,
          1999,
          2000,
          2001,
          2002,
          2003,
          2004,
          2005,
          2006,
          2007,
          2008,
          2009,
          2010,
          2011,
          2012,
          2013,
          2014,
          2015,
          2016,
          2017,
          2018,
          2019,
          2020,
          2021
         ],
         "xaxis": "x",
         "y": [
          186,
          176,
          209,
          193,
          193,
          159,
          169,
          147,
          173,
          159,
          164,
          178,
          163,
          149,
          159,
          185,
          187,
          183,
          168,
          187,
          176,
          189,
          192,
          213,
          218,
          227,
          275,
          346
         ],
         "yaxis": "y"
        },
        {
         "hovertemplate": "desc_municipio=San Felipe<br>año=%{x}<br>valor=%{y}<extra></extra>",
         "legendgroup": "San Felipe",
         "marker": {
          "color": "#FECB52",
          "symbol": "circle"
         },
         "mode": "markers",
         "name": "San Felipe",
         "showlegend": true,
         "type": "scattergl",
         "x": [
          1994,
          1995,
          1996,
          1997,
          1998,
          1999,
          2000,
          2001,
          2002,
          2003,
          2004,
          2005,
          2006,
          2007,
          2008,
          2009,
          2010,
          2011,
          2012,
          2013,
          2014,
          2015,
          2016,
          2017,
          2018,
          2019,
          2020,
          2021
         ],
         "xaxis": "x",
         "y": [
          468,
          475,
          459,
          458,
          484,
          491,
          455,
          385,
          434,
          495,
          448,
          463,
          485,
          490,
          528,
          500,
          492,
          522,
          561,
          557,
          570,
          528,
          569,
          635,
          580,
          678,
          835,
          1014
         ],
         "yaxis": "y"
        },
        {
         "hovertemplate": "desc_municipio=San Francisco del Rincón<br>año=%{x}<br>valor=%{y}<extra></extra>",
         "legendgroup": "San Francisco del Rincón",
         "marker": {
          "color": "#636efa",
          "symbol": "circle"
         },
         "mode": "markers",
         "name": "San Francisco del Rincón",
         "showlegend": true,
         "type": "scattergl",
         "x": [
          1994,
          1995,
          1996,
          1997,
          1998,
          1999,
          2000,
          2001,
          2002,
          2003,
          2004,
          2005,
          2006,
          2007,
          2008,
          2009,
          2010,
          2011,
          2012,
          2013,
          2014,
          2015,
          2016,
          2017,
          2018,
          2019,
          2020,
          2021
         ],
         "xaxis": "x",
         "y": [
          453,
          471,
          497,
          497,
          517,
          471,
          442,
          461,
          453,
          480,
          465,
          517,
          481,
          502,
          511,
          511,
          583,
          535,
          508,
          563,
          608,
          579,
          653,
          709,
          650,
          712,
          1016,
          1293
         ],
         "yaxis": "y"
        },
        {
         "hovertemplate": "desc_municipio=San José Iturbide<br>año=%{x}<br>valor=%{y}<extra></extra>",
         "legendgroup": "San José Iturbide",
         "marker": {
          "color": "#EF553B",
          "symbol": "circle"
         },
         "mode": "markers",
         "name": "San José Iturbide",
         "showlegend": true,
         "type": "scattergl",
         "x": [
          1994,
          1995,
          1996,
          1997,
          1998,
          1999,
          2000,
          2001,
          2002,
          2003,
          2004,
          2005,
          2006,
          2007,
          2008,
          2009,
          2010,
          2011,
          2012,
          2013,
          2014,
          2015,
          2016,
          2017,
          2018,
          2019,
          2020,
          2021
         ],
         "xaxis": "x",
         "y": [
          280,
          306,
          301,
          280,
          309,
          301,
          280,
          277,
          268,
          286,
          302,
          257,
          321,
          272,
          295,
          277,
          328,
          323,
          316,
          355,
          352,
          379,
          330,
          352,
          413,
          422,
          578,
          708
         ],
         "yaxis": "y"
        },
        {
         "hovertemplate": "desc_municipio=San Luis de la Paz<br>año=%{x}<br>valor=%{y}<extra></extra>",
         "legendgroup": "San Luis de la Paz",
         "marker": {
          "color": "#00cc96",
          "symbol": "circle"
         },
         "mode": "markers",
         "name": "San Luis de la Paz",
         "showlegend": true,
         "type": "scattergl",
         "x": [
          1994,
          1995,
          1996,
          1997,
          1998,
          1999,
          2000,
          2001,
          2002,
          2003,
          2004,
          2005,
          2006,
          2007,
          2008,
          2009,
          2010,
          2011,
          2012,
          2013,
          2014,
          2015,
          2016,
          2017,
          2018,
          2019,
          2020,
          2021
         ],
         "xaxis": "x",
         "y": [
          447,
          501,
          518,
          486,
          544,
          490,
          482,
          412,
          503,
          503,
          463,
          499,
          466,
          491,
          489,
          539,
          541,
          537,
          509,
          573,
          557,
          562,
          619,
          685,
          647,
          716,
          998,
          1145
         ],
         "yaxis": "y"
        },
        {
         "hovertemplate": "desc_municipio=Santa Catarina<br>año=%{x}<br>valor=%{y}<extra></extra>",
         "legendgroup": "Santa Catarina",
         "marker": {
          "color": "#ab63fa",
          "symbol": "circle"
         },
         "mode": "markers",
         "name": "Santa Catarina",
         "showlegend": true,
         "type": "scattergl",
         "x": [
          1994,
          1995,
          1996,
          1997,
          1998,
          1999,
          2000,
          2001,
          2002,
          2003,
          2004,
          2005,
          2006,
          2007,
          2008,
          2009,
          2010,
          2011,
          2012,
          2013,
          2014,
          2015,
          2016,
          2017,
          2018,
          2019,
          2020,
          2021
         ],
         "xaxis": "x",
         "y": [
          18,
          39,
          32,
          36,
          38,
          30,
          36,
          30,
          32,
          23,
          32,
          32,
          28,
          25,
          36,
          34,
          38,
          31,
          47,
          31,
          30,
          49,
          35,
          46,
          40,
          42,
          44,
          59
         ],
         "yaxis": "y"
        },
        {
         "hovertemplate": "desc_municipio=Santa Cruz de Juventino Rosas<br>año=%{x}<br>valor=%{y}<extra></extra>",
         "legendgroup": "Santa Cruz de Juventino Rosas",
         "marker": {
          "color": "#FFA15A",
          "symbol": "circle"
         },
         "mode": "markers",
         "name": "Santa Cruz de Juventino Rosas",
         "showlegend": true,
         "type": "scattergl",
         "x": [
          1994,
          1995,
          1996,
          1997,
          1998,
          1999,
          2000,
          2001,
          2002,
          2003,
          2004,
          2005,
          2006,
          2007,
          2008,
          2009,
          2010,
          2011,
          2012,
          2013,
          2014,
          2015,
          2016,
          2017,
          2018,
          2019,
          2020,
          2021
         ],
         "xaxis": "x",
         "y": [
          322,
          316,
          294,
          342,
          350,
          326,
          310,
          281,
          311,
          337,
          326,
          372,
          292,
          344,
          333,
          391,
          412,
          397,
          437,
          471,
          408,
          427,
          468,
          564,
          475,
          532,
          803,
          755
         ],
         "yaxis": "y"
        },
        {
         "hovertemplate": "desc_municipio=Santiago Maravatío<br>año=%{x}<br>valor=%{y}<extra></extra>",
         "legendgroup": "Santiago Maravatío",
         "marker": {
          "color": "#19d3f3",
          "symbol": "circle"
         },
         "mode": "markers",
         "name": "Santiago Maravatío",
         "showlegend": true,
         "type": "scattergl",
         "x": [
          1994,
          1995,
          1996,
          1997,
          1998,
          1999,
          2000,
          2001,
          2002,
          2003,
          2004,
          2005,
          2006,
          2007,
          2008,
          2009,
          2010,
          2011,
          2012,
          2013,
          2014,
          2015,
          2016,
          2017,
          2018,
          2019,
          2020,
          2021
         ],
         "xaxis": "x",
         "y": [
          54,
          54,
          49,
          49,
          51,
          49,
          57,
          60,
          42,
          65,
          44,
          44,
          50,
          63,
          52,
          54,
          61,
          54,
          51,
          61,
          68,
          58,
          84,
          92,
          78,
          83,
          105,
          92
         ],
         "yaxis": "y"
        },
        {
         "hovertemplate": "desc_municipio=Silao de la Victoria<br>año=%{x}<br>valor=%{y}<extra></extra>",
         "legendgroup": "Silao de la Victoria",
         "marker": {
          "color": "#FF6692",
          "symbol": "circle"
         },
         "mode": "markers",
         "name": "Silao de la Victoria",
         "showlegend": true,
         "type": "scattergl",
         "x": [
          1994,
          1995,
          1996,
          1997,
          1998,
          1999,
          2000,
          2001,
          2002,
          2003,
          2004,
          2005,
          2006,
          2007,
          2008,
          2009,
          2010,
          2011,
          2012,
          2013,
          2014,
          2015,
          2016,
          2017,
          2018,
          2019,
          2020,
          2021
         ],
         "xaxis": "x",
         "y": [
          588,
          617,
          615,
          623,
          624,
          636,
          591,
          576,
          673,
          645,
          639,
          652,
          694,
          643,
          653,
          690,
          743,
          730,
          785,
          814,
          863,
          874,
          877,
          979,
          1116,
          1183,
          1591,
          1597
         ],
         "yaxis": "y"
        },
        {
         "hovertemplate": "desc_municipio=Tarandacuao<br>año=%{x}<br>valor=%{y}<extra></extra>",
         "legendgroup": "Tarandacuao",
         "marker": {
          "color": "#B6E880",
          "symbol": "circle"
         },
         "mode": "markers",
         "name": "Tarandacuao",
         "showlegend": true,
         "type": "scattergl",
         "x": [
          1994,
          1995,
          1996,
          1997,
          1998,
          1999,
          2000,
          2001,
          2002,
          2003,
          2004,
          2005,
          2006,
          2007,
          2008,
          2009,
          2010,
          2011,
          2012,
          2013,
          2014,
          2015,
          2016,
          2017,
          2018,
          2019,
          2020,
          2021
         ],
         "xaxis": "x",
         "y": [
          61,
          65,
          62,
          67,
          67,
          62,
          88,
          81,
          71,
          75,
          81,
          65,
          79,
          85,
          72,
          78,
          66,
          85,
          95,
          95,
          85,
          101,
          115,
          106,
          96,
          90,
          120,
          146
         ],
         "yaxis": "y"
        },
        {
         "hovertemplate": "desc_municipio=Tarimoro<br>año=%{x}<br>valor=%{y}<extra></extra>",
         "legendgroup": "Tarimoro",
         "marker": {
          "color": "#FF97FF",
          "symbol": "circle"
         },
         "mode": "markers",
         "name": "Tarimoro",
         "showlegend": true,
         "type": "scattergl",
         "x": [
          1994,
          1995,
          1996,
          1997,
          1998,
          1999,
          2000,
          2001,
          2002,
          2003,
          2004,
          2005,
          2006,
          2007,
          2008,
          2009,
          2010,
          2011,
          2012,
          2013,
          2014,
          2015,
          2016,
          2017,
          2018,
          2019,
          2020,
          2021
         ],
         "xaxis": "x",
         "y": [
          182,
          223,
          197,
          213,
          217,
          191,
          187,
          196,
          194,
          211,
          223,
          206,
          216,
          206,
          255,
          246,
          283,
          235,
          265,
          255,
          270,
          285,
          272,
          346,
          321,
          350,
          445,
          479
         ],
         "yaxis": "y"
        },
        {
         "hovertemplate": "desc_municipio=Tierra Blanca<br>año=%{x}<br>valor=%{y}<extra></extra>",
         "legendgroup": "Tierra Blanca",
         "marker": {
          "color": "#FECB52",
          "symbol": "circle"
         },
         "mode": "markers",
         "name": "Tierra Blanca",
         "showlegend": true,
         "type": "scattergl",
         "x": [
          1994,
          1995,
          1996,
          1997,
          1998,
          1999,
          2000,
          2001,
          2002,
          2003,
          2004,
          2005,
          2006,
          2007,
          2008,
          2009,
          2010,
          2011,
          2012,
          2013,
          2014,
          2015,
          2016,
          2017,
          2018,
          2019,
          2020,
          2021
         ],
         "xaxis": "x",
         "y": [
          91,
          92,
          95,
          82,
          81,
          79,
          68,
          73,
          103,
          77,
          88,
          85,
          89,
          93,
          89,
          71,
          82,
          80,
          94,
          96,
          90,
          101,
          96,
          114,
          95,
          102,
          136,
          144
         ],
         "yaxis": "y"
        },
        {
         "hovertemplate": "desc_municipio=Uriangato<br>año=%{x}<br>valor=%{y}<extra></extra>",
         "legendgroup": "Uriangato",
         "marker": {
          "color": "#636efa",
          "symbol": "circle"
         },
         "mode": "markers",
         "name": "Uriangato",
         "showlegend": true,
         "type": "scattergl",
         "x": [
          1994,
          1995,
          1996,
          1997,
          1998,
          1999,
          2000,
          2001,
          2002,
          2003,
          2004,
          2005,
          2006,
          2007,
          2008,
          2009,
          2010,
          2011,
          2012,
          2013,
          2014,
          2015,
          2016,
          2017,
          2018,
          2019,
          2020,
          2021
         ],
         "xaxis": "x",
         "y": [
          180,
          174,
          199,
          217,
          192,
          233,
          257,
          237,
          234,
          251,
          255,
          270,
          240,
          281,
          281,
          319,
          294,
          308,
          325,
          336,
          345,
          379,
          345,
          383,
          405,
          381,
          583,
          606
         ],
         "yaxis": "y"
        },
        {
         "hovertemplate": "desc_municipio=Valle de Santiago<br>año=%{x}<br>valor=%{y}<extra></extra>",
         "legendgroup": "Valle de Santiago",
         "marker": {
          "color": "#EF553B",
          "symbol": "circle"
         },
         "mode": "markers",
         "name": "Valle de Santiago",
         "showlegend": true,
         "type": "scattergl",
         "x": [
          1994,
          1995,
          1996,
          1997,
          1998,
          1999,
          2000,
          2001,
          2002,
          2003,
          2004,
          2005,
          2006,
          2007,
          2008,
          2009,
          2010,
          2011,
          2012,
          2013,
          2014,
          2015,
          2016,
          2017,
          2018,
          2019,
          2020,
          2021
         ],
         "xaxis": "x",
         "y": [
          612,
          659,
          614,
          679,
          623,
          641,
          663,
          590,
          625,
          667,
          659,
          700,
          691,
          671,
          728,
          756,
          828,
          793,
          740,
          857,
          783,
          813,
          926,
          971,
          1048,
          1085,
          1373,
          1602
         ],
         "yaxis": "y"
        },
        {
         "hovertemplate": "desc_municipio=Victoria<br>año=%{x}<br>valor=%{y}<extra></extra>",
         "legendgroup": "Victoria",
         "marker": {
          "color": "#00cc96",
          "symbol": "circle"
         },
         "mode": "markers",
         "name": "Victoria",
         "showlegend": true,
         "type": "scattergl",
         "x": [
          1994,
          1995,
          1996,
          1997,
          1998,
          1999,
          2000,
          2001,
          2002,
          2003,
          2004,
          2005,
          2006,
          2007,
          2008,
          2009,
          2010,
          2011,
          2012,
          2013,
          2014,
          2015,
          2016,
          2017,
          2018,
          2019,
          2020,
          2021
         ],
         "xaxis": "x",
         "y": [
          100,
          100,
          122,
          94,
          100,
          113,
          103,
          99,
          111,
          103,
          113,
          91,
          107,
          114,
          116,
          91,
          98,
          112,
          126,
          107,
          139,
          123,
          131,
          141,
          127,
          146,
          184,
          200
         ],
         "yaxis": "y"
        },
        {
         "hovertemplate": "desc_municipio=Villagrán<br>año=%{x}<br>valor=%{y}<extra></extra>",
         "legendgroup": "Villagrán",
         "marker": {
          "color": "#ab63fa",
          "symbol": "circle"
         },
         "mode": "markers",
         "name": "Villagrán",
         "showlegend": true,
         "type": "scattergl",
         "x": [
          1994,
          1995,
          1996,
          1997,
          1998,
          1999,
          2000,
          2001,
          2002,
          2003,
          2004,
          2005,
          2006,
          2007,
          2008,
          2009,
          2010,
          2011,
          2012,
          2013,
          2014,
          2015,
          2016,
          2017,
          2018,
          2019,
          2020,
          2021
         ],
         "xaxis": "x",
         "y": [
          185,
          217,
          254,
          181,
          242,
          207,
          200,
          192,
          199,
          210,
          230,
          252,
          216,
          202,
          258,
          278,
          278,
          251,
          292,
          294,
          305,
          326,
          322,
          370,
          416,
          351,
          603,
          500
         ],
         "yaxis": "y"
        },
        {
         "hovertemplate": "desc_municipio=Xichú<br>año=%{x}<br>valor=%{y}<extra></extra>",
         "legendgroup": "Xichú",
         "marker": {
          "color": "#FFA15A",
          "symbol": "circle"
         },
         "mode": "markers",
         "name": "Xichú",
         "showlegend": true,
         "type": "scattergl",
         "x": [
          1994,
          1995,
          1996,
          1997,
          1998,
          1999,
          2000,
          2001,
          2002,
          2003,
          2004,
          2005,
          2006,
          2007,
          2008,
          2009,
          2010,
          2011,
          2012,
          2013,
          2014,
          2015,
          2016,
          2017,
          2018,
          2019,
          2020,
          2021
         ],
         "xaxis": "x",
         "y": [
          70,
          68,
          67,
          50,
          62,
          58,
          53,
          61,
          67,
          56,
          59,
          61,
          60,
          47,
          58,
          54,
          79,
          71,
          57,
          46,
          51,
          43,
          53,
          67,
          65,
          78,
          100,
          97
         ],
         "yaxis": "y"
        },
        {
         "hovertemplate": "desc_municipio=Yuriria<br>año=%{x}<br>valor=%{y}<extra></extra>",
         "legendgroup": "Yuriria",
         "marker": {
          "color": "#19d3f3",
          "symbol": "circle"
         },
         "mode": "markers",
         "name": "Yuriria",
         "showlegend": true,
         "type": "scattergl",
         "x": [
          1994,
          1995,
          1996,
          1997,
          1998,
          1999,
          2000,
          2001,
          2002,
          2003,
          2004,
          2005,
          2006,
          2007,
          2008,
          2009,
          2010,
          2011,
          2012,
          2013,
          2014,
          2015,
          2016,
          2017,
          2018,
          2019,
          2020,
          2021
         ],
         "xaxis": "x",
         "y": [
          342,
          361,
          378,
          372,
          362,
          384,
          353,
          345,
          363,
          373,
          381,
          414,
          419,
          367,
          447,
          406,
          448,
          441,
          438,
          458,
          455,
          530,
          484,
          589,
          611,
          599,
          740,
          892
         ],
         "yaxis": "y"
        }
       ],
       "layout": {
        "legend": {
         "title": {
          "text": "desc_municipio"
         },
         "tracegroupgap": 0
        },
        "margin": {
         "t": 60
        },
        "template": {
         "data": {
          "bar": [
           {
            "error_x": {
             "color": "#2a3f5f"
            },
            "error_y": {
             "color": "#2a3f5f"
            },
            "marker": {
             "line": {
              "color": "#E5ECF6",
              "width": 0.5
             },
             "pattern": {
              "fillmode": "overlay",
              "size": 10,
              "solidity": 0.2
             }
            },
            "type": "bar"
           }
          ],
          "barpolar": [
           {
            "marker": {
             "line": {
              "color": "#E5ECF6",
              "width": 0.5
             },
             "pattern": {
              "fillmode": "overlay",
              "size": 10,
              "solidity": 0.2
             }
            },
            "type": "barpolar"
           }
          ],
          "carpet": [
           {
            "aaxis": {
             "endlinecolor": "#2a3f5f",
             "gridcolor": "white",
             "linecolor": "white",
             "minorgridcolor": "white",
             "startlinecolor": "#2a3f5f"
            },
            "baxis": {
             "endlinecolor": "#2a3f5f",
             "gridcolor": "white",
             "linecolor": "white",
             "minorgridcolor": "white",
             "startlinecolor": "#2a3f5f"
            },
            "type": "carpet"
           }
          ],
          "choropleth": [
           {
            "colorbar": {
             "outlinewidth": 0,
             "ticks": ""
            },
            "type": "choropleth"
           }
          ],
          "contour": [
           {
            "colorbar": {
             "outlinewidth": 0,
             "ticks": ""
            },
            "colorscale": [
             [
              0,
              "#0d0887"
             ],
             [
              0.1111111111111111,
              "#46039f"
             ],
             [
              0.2222222222222222,
              "#7201a8"
             ],
             [
              0.3333333333333333,
              "#9c179e"
             ],
             [
              0.4444444444444444,
              "#bd3786"
             ],
             [
              0.5555555555555556,
              "#d8576b"
             ],
             [
              0.6666666666666666,
              "#ed7953"
             ],
             [
              0.7777777777777778,
              "#fb9f3a"
             ],
             [
              0.8888888888888888,
              "#fdca26"
             ],
             [
              1,
              "#f0f921"
             ]
            ],
            "type": "contour"
           }
          ],
          "contourcarpet": [
           {
            "colorbar": {
             "outlinewidth": 0,
             "ticks": ""
            },
            "type": "contourcarpet"
           }
          ],
          "heatmap": [
           {
            "colorbar": {
             "outlinewidth": 0,
             "ticks": ""
            },
            "colorscale": [
             [
              0,
              "#0d0887"
             ],
             [
              0.1111111111111111,
              "#46039f"
             ],
             [
              0.2222222222222222,
              "#7201a8"
             ],
             [
              0.3333333333333333,
              "#9c179e"
             ],
             [
              0.4444444444444444,
              "#bd3786"
             ],
             [
              0.5555555555555556,
              "#d8576b"
             ],
             [
              0.6666666666666666,
              "#ed7953"
             ],
             [
              0.7777777777777778,
              "#fb9f3a"
             ],
             [
              0.8888888888888888,
              "#fdca26"
             ],
             [
              1,
              "#f0f921"
             ]
            ],
            "type": "heatmap"
           }
          ],
          "heatmapgl": [
           {
            "colorbar": {
             "outlinewidth": 0,
             "ticks": ""
            },
            "colorscale": [
             [
              0,
              "#0d0887"
             ],
             [
              0.1111111111111111,
              "#46039f"
             ],
             [
              0.2222222222222222,
              "#7201a8"
             ],
             [
              0.3333333333333333,
              "#9c179e"
             ],
             [
              0.4444444444444444,
              "#bd3786"
             ],
             [
              0.5555555555555556,
              "#d8576b"
             ],
             [
              0.6666666666666666,
              "#ed7953"
             ],
             [
              0.7777777777777778,
              "#fb9f3a"
             ],
             [
              0.8888888888888888,
              "#fdca26"
             ],
             [
              1,
              "#f0f921"
             ]
            ],
            "type": "heatmapgl"
           }
          ],
          "histogram": [
           {
            "marker": {
             "pattern": {
              "fillmode": "overlay",
              "size": 10,
              "solidity": 0.2
             }
            },
            "type": "histogram"
           }
          ],
          "histogram2d": [
           {
            "colorbar": {
             "outlinewidth": 0,
             "ticks": ""
            },
            "colorscale": [
             [
              0,
              "#0d0887"
             ],
             [
              0.1111111111111111,
              "#46039f"
             ],
             [
              0.2222222222222222,
              "#7201a8"
             ],
             [
              0.3333333333333333,
              "#9c179e"
             ],
             [
              0.4444444444444444,
              "#bd3786"
             ],
             [
              0.5555555555555556,
              "#d8576b"
             ],
             [
              0.6666666666666666,
              "#ed7953"
             ],
             [
              0.7777777777777778,
              "#fb9f3a"
             ],
             [
              0.8888888888888888,
              "#fdca26"
             ],
             [
              1,
              "#f0f921"
             ]
            ],
            "type": "histogram2d"
           }
          ],
          "histogram2dcontour": [
           {
            "colorbar": {
             "outlinewidth": 0,
             "ticks": ""
            },
            "colorscale": [
             [
              0,
              "#0d0887"
             ],
             [
              0.1111111111111111,
              "#46039f"
             ],
             [
              0.2222222222222222,
              "#7201a8"
             ],
             [
              0.3333333333333333,
              "#9c179e"
             ],
             [
              0.4444444444444444,
              "#bd3786"
             ],
             [
              0.5555555555555556,
              "#d8576b"
             ],
             [
              0.6666666666666666,
              "#ed7953"
             ],
             [
              0.7777777777777778,
              "#fb9f3a"
             ],
             [
              0.8888888888888888,
              "#fdca26"
             ],
             [
              1,
              "#f0f921"
             ]
            ],
            "type": "histogram2dcontour"
           }
          ],
          "mesh3d": [
           {
            "colorbar": {
             "outlinewidth": 0,
             "ticks": ""
            },
            "type": "mesh3d"
           }
          ],
          "parcoords": [
           {
            "line": {
             "colorbar": {
              "outlinewidth": 0,
              "ticks": ""
             }
            },
            "type": "parcoords"
           }
          ],
          "pie": [
           {
            "automargin": true,
            "type": "pie"
           }
          ],
          "scatter": [
           {
            "fillpattern": {
             "fillmode": "overlay",
             "size": 10,
             "solidity": 0.2
            },
            "type": "scatter"
           }
          ],
          "scatter3d": [
           {
            "line": {
             "colorbar": {
              "outlinewidth": 0,
              "ticks": ""
             }
            },
            "marker": {
             "colorbar": {
              "outlinewidth": 0,
              "ticks": ""
             }
            },
            "type": "scatter3d"
           }
          ],
          "scattercarpet": [
           {
            "marker": {
             "colorbar": {
              "outlinewidth": 0,
              "ticks": ""
             }
            },
            "type": "scattercarpet"
           }
          ],
          "scattergeo": [
           {
            "marker": {
             "colorbar": {
              "outlinewidth": 0,
              "ticks": ""
             }
            },
            "type": "scattergeo"
           }
          ],
          "scattergl": [
           {
            "marker": {
             "colorbar": {
              "outlinewidth": 0,
              "ticks": ""
             }
            },
            "type": "scattergl"
           }
          ],
          "scattermapbox": [
           {
            "marker": {
             "colorbar": {
              "outlinewidth": 0,
              "ticks": ""
             }
            },
            "type": "scattermapbox"
           }
          ],
          "scatterpolar": [
           {
            "marker": {
             "colorbar": {
              "outlinewidth": 0,
              "ticks": ""
             }
            },
            "type": "scatterpolar"
           }
          ],
          "scatterpolargl": [
           {
            "marker": {
             "colorbar": {
              "outlinewidth": 0,
              "ticks": ""
             }
            },
            "type": "scatterpolargl"
           }
          ],
          "scatterternary": [
           {
            "marker": {
             "colorbar": {
              "outlinewidth": 0,
              "ticks": ""
             }
            },
            "type": "scatterternary"
           }
          ],
          "surface": [
           {
            "colorbar": {
             "outlinewidth": 0,
             "ticks": ""
            },
            "colorscale": [
             [
              0,
              "#0d0887"
             ],
             [
              0.1111111111111111,
              "#46039f"
             ],
             [
              0.2222222222222222,
              "#7201a8"
             ],
             [
              0.3333333333333333,
              "#9c179e"
             ],
             [
              0.4444444444444444,
              "#bd3786"
             ],
             [
              0.5555555555555556,
              "#d8576b"
             ],
             [
              0.6666666666666666,
              "#ed7953"
             ],
             [
              0.7777777777777778,
              "#fb9f3a"
             ],
             [
              0.8888888888888888,
              "#fdca26"
             ],
             [
              1,
              "#f0f921"
             ]
            ],
            "type": "surface"
           }
          ],
          "table": [
           {
            "cells": {
             "fill": {
              "color": "#EBF0F8"
             },
             "line": {
              "color": "white"
             }
            },
            "header": {
             "fill": {
              "color": "#C8D4E3"
             },
             "line": {
              "color": "white"
             }
            },
            "type": "table"
           }
          ]
         },
         "layout": {
          "annotationdefaults": {
           "arrowcolor": "#2a3f5f",
           "arrowhead": 0,
           "arrowwidth": 1
          },
          "autotypenumbers": "strict",
          "coloraxis": {
           "colorbar": {
            "outlinewidth": 0,
            "ticks": ""
           }
          },
          "colorscale": {
           "diverging": [
            [
             0,
             "#8e0152"
            ],
            [
             0.1,
             "#c51b7d"
            ],
            [
             0.2,
             "#de77ae"
            ],
            [
             0.3,
             "#f1b6da"
            ],
            [
             0.4,
             "#fde0ef"
            ],
            [
             0.5,
             "#f7f7f7"
            ],
            [
             0.6,
             "#e6f5d0"
            ],
            [
             0.7,
             "#b8e186"
            ],
            [
             0.8,
             "#7fbc41"
            ],
            [
             0.9,
             "#4d9221"
            ],
            [
             1,
             "#276419"
            ]
           ],
           "sequential": [
            [
             0,
             "#0d0887"
            ],
            [
             0.1111111111111111,
             "#46039f"
            ],
            [
             0.2222222222222222,
             "#7201a8"
            ],
            [
             0.3333333333333333,
             "#9c179e"
            ],
            [
             0.4444444444444444,
             "#bd3786"
            ],
            [
             0.5555555555555556,
             "#d8576b"
            ],
            [
             0.6666666666666666,
             "#ed7953"
            ],
            [
             0.7777777777777778,
             "#fb9f3a"
            ],
            [
             0.8888888888888888,
             "#fdca26"
            ],
            [
             1,
             "#f0f921"
            ]
           ],
           "sequentialminus": [
            [
             0,
             "#0d0887"
            ],
            [
             0.1111111111111111,
             "#46039f"
            ],
            [
             0.2222222222222222,
             "#7201a8"
            ],
            [
             0.3333333333333333,
             "#9c179e"
            ],
            [
             0.4444444444444444,
             "#bd3786"
            ],
            [
             0.5555555555555556,
             "#d8576b"
            ],
            [
             0.6666666666666666,
             "#ed7953"
            ],
            [
             0.7777777777777778,
             "#fb9f3a"
            ],
            [
             0.8888888888888888,
             "#fdca26"
            ],
            [
             1,
             "#f0f921"
            ]
           ]
          },
          "colorway": [
           "#636efa",
           "#EF553B",
           "#00cc96",
           "#ab63fa",
           "#FFA15A",
           "#19d3f3",
           "#FF6692",
           "#B6E880",
           "#FF97FF",
           "#FECB52"
          ],
          "font": {
           "color": "#2a3f5f"
          },
          "geo": {
           "bgcolor": "white",
           "lakecolor": "white",
           "landcolor": "#E5ECF6",
           "showlakes": true,
           "showland": true,
           "subunitcolor": "white"
          },
          "hoverlabel": {
           "align": "left"
          },
          "hovermode": "closest",
          "mapbox": {
           "style": "light"
          },
          "paper_bgcolor": "white",
          "plot_bgcolor": "#E5ECF6",
          "polar": {
           "angularaxis": {
            "gridcolor": "white",
            "linecolor": "white",
            "ticks": ""
           },
           "bgcolor": "#E5ECF6",
           "radialaxis": {
            "gridcolor": "white",
            "linecolor": "white",
            "ticks": ""
           }
          },
          "scene": {
           "xaxis": {
            "backgroundcolor": "#E5ECF6",
            "gridcolor": "white",
            "gridwidth": 2,
            "linecolor": "white",
            "showbackground": true,
            "ticks": "",
            "zerolinecolor": "white"
           },
           "yaxis": {
            "backgroundcolor": "#E5ECF6",
            "gridcolor": "white",
            "gridwidth": 2,
            "linecolor": "white",
            "showbackground": true,
            "ticks": "",
            "zerolinecolor": "white"
           },
           "zaxis": {
            "backgroundcolor": "#E5ECF6",
            "gridcolor": "white",
            "gridwidth": 2,
            "linecolor": "white",
            "showbackground": true,
            "ticks": "",
            "zerolinecolor": "white"
           }
          },
          "shapedefaults": {
           "line": {
            "color": "#2a3f5f"
           }
          },
          "ternary": {
           "aaxis": {
            "gridcolor": "white",
            "linecolor": "white",
            "ticks": ""
           },
           "baxis": {
            "gridcolor": "white",
            "linecolor": "white",
            "ticks": ""
           },
           "bgcolor": "#E5ECF6",
           "caxis": {
            "gridcolor": "white",
            "linecolor": "white",
            "ticks": ""
           }
          },
          "title": {
           "x": 0.05
          },
          "xaxis": {
           "automargin": true,
           "gridcolor": "white",
           "linecolor": "white",
           "ticks": "",
           "title": {
            "standoff": 15
           },
           "zerolinecolor": "white",
           "zerolinewidth": 2
          },
          "yaxis": {
           "automargin": true,
           "gridcolor": "white",
           "linecolor": "white",
           "ticks": "",
           "title": {
            "standoff": 15
           },
           "zerolinecolor": "white",
           "zerolinewidth": 2
          }
         }
        },
        "xaxis": {
         "anchor": "y",
         "domain": [
          0,
          1
         ],
         "title": {
          "text": "año"
         }
        },
        "yaxis": {
         "anchor": "x",
         "domain": [
          0,
          1
         ],
         "title": {
          "text": "valor"
         }
        }
       }
      }
     },
     "metadata": {},
     "output_type": "display_data"
    }
   ],
   "source": [
    "g_scatter= px.scatter(mun_g, x=\"año\", y=\"valor\",color='desc_municipio')\n",
    "g_scatter.show()"
   ]
  },
  {
   "cell_type": "code",
   "execution_count": 26,
   "metadata": {},
   "outputs": [
    {
     "data": {
      "application/vnd.plotly.v1+json": {
       "config": {
        "plotlyServerURL": "https://plot.ly"
       },
       "data": [
        {
         "hovertemplate": "desc_municipio=Abasolo<br>año=%{x}<br>valor=%{y}<extra></extra>",
         "legendgroup": "Abasolo",
         "line": {
          "color": "#636efa",
          "dash": "solid"
         },
         "marker": {
          "symbol": "circle"
         },
         "mode": "lines",
         "name": "Abasolo",
         "showlegend": true,
         "type": "scattergl",
         "x": [
          1994,
          1995,
          1996,
          1997,
          1998,
          1999,
          2000,
          2001,
          2002,
          2003,
          2004,
          2005,
          2006,
          2007,
          2008,
          2009,
          2010,
          2011,
          2012,
          2013,
          2014,
          2015,
          2016,
          2017,
          2018,
          2019,
          2020,
          2021
         ],
         "xaxis": "x",
         "y": [
          301,
          318,
          350,
          347,
          350,
          354,
          368,
          340,
          381,
          374,
          369,
          397,
          364,
          390,
          404,
          388,
          471,
          455,
          466,
          460,
          462,
          478,
          543,
          574,
          604,
          641,
          729,
          1060
         ],
         "yaxis": "y"
        },
        {
         "hovertemplate": "desc_municipio=Acámbaro<br>año=%{x}<br>valor=%{y}<extra></extra>",
         "legendgroup": "Acámbaro",
         "line": {
          "color": "#EF553B",
          "dash": "solid"
         },
         "marker": {
          "symbol": "circle"
         },
         "mode": "lines",
         "name": "Acámbaro",
         "showlegend": true,
         "type": "scattergl",
         "x": [
          1994,
          1995,
          1996,
          1997,
          1998,
          1999,
          2000,
          2001,
          2002,
          2003,
          2004,
          2005,
          2006,
          2007,
          2008,
          2009,
          2010,
          2011,
          2012,
          2013,
          2014,
          2015,
          2016,
          2017,
          2018,
          2019,
          2020,
          2021
         ],
         "xaxis": "x",
         "y": [
          646,
          645,
          630,
          654,
          642,
          622,
          695,
          653,
          601,
          629,
          656,
          725,
          691,
          725,
          736,
          720,
          813,
          812,
          748,
          803,
          848,
          814,
          907,
          929,
          954,
          1047,
          1275,
          1635
         ],
         "yaxis": "y"
        },
        {
         "hovertemplate": "desc_municipio=San Miguel de Allende<br>año=%{x}<br>valor=%{y}<extra></extra>",
         "legendgroup": "San Miguel de Allende",
         "line": {
          "color": "#00cc96",
          "dash": "solid"
         },
         "marker": {
          "symbol": "circle"
         },
         "mode": "lines",
         "name": "San Miguel de Allende",
         "showlegend": true,
         "type": "scattergl",
         "x": [
          1994,
          1995,
          1996,
          1997,
          1998,
          1999,
          2000,
          2001,
          2002,
          2003,
          2004,
          2005,
          2006,
          2007,
          2008,
          2009,
          2010,
          2011,
          2012,
          2013,
          2014,
          2015,
          2016,
          2017,
          2018,
          2019,
          2020,
          2021
         ],
         "xaxis": "x",
         "y": [
          661,
          730,
          692,
          702,
          711,
          696,
          714,
          692,
          684,
          652,
          681,
          739,
          711,
          714,
          750,
          777,
          794,
          773,
          816,
          821,
          939,
          946,
          993,
          1099,
          1010,
          1129,
          1286,
          1757
         ],
         "yaxis": "y"
        },
        {
         "hovertemplate": "desc_municipio=Apaseo el Alto<br>año=%{x}<br>valor=%{y}<extra></extra>",
         "legendgroup": "Apaseo el Alto",
         "line": {
          "color": "#ab63fa",
          "dash": "solid"
         },
         "marker": {
          "symbol": "circle"
         },
         "mode": "lines",
         "name": "Apaseo el Alto",
         "showlegend": true,
         "type": "scattergl",
         "x": [
          1994,
          1995,
          1996,
          1997,
          1998,
          1999,
          2000,
          2001,
          2002,
          2003,
          2004,
          2005,
          2006,
          2007,
          2008,
          2009,
          2010,
          2011,
          2012,
          2013,
          2014,
          2015,
          2016,
          2017,
          2018,
          2019,
          2020,
          2021
         ],
         "xaxis": "x",
         "y": [
          273,
          252,
          268,
          252,
          257,
          286,
          268,
          266,
          279,
          283,
          307,
          270,
          292,
          313,
          293,
          329,
          349,
          328,
          302,
          367,
          349,
          341,
          399,
          447,
          464,
          483,
          632,
          647
         ],
         "yaxis": "y"
        },
        {
         "hovertemplate": "desc_municipio=Apaseo el Grande<br>año=%{x}<br>valor=%{y}<extra></extra>",
         "legendgroup": "Apaseo el Grande",
         "line": {
          "color": "#FFA15A",
          "dash": "solid"
         },
         "marker": {
          "symbol": "circle"
         },
         "mode": "lines",
         "name": "Apaseo el Grande",
         "showlegend": true,
         "type": "scattergl",
         "x": [
          1994,
          1995,
          1996,
          1997,
          1998,
          1999,
          2000,
          2001,
          2002,
          2003,
          2004,
          2005,
          2006,
          2007,
          2008,
          2009,
          2010,
          2011,
          2012,
          2013,
          2014,
          2015,
          2016,
          2017,
          2018,
          2019,
          2020,
          2021
         ],
         "xaxis": "x",
         "y": [
          324,
          328,
          352,
          299,
          321,
          323,
          302,
          314,
          328,
          332,
          296,
          322,
          342,
          315,
          378,
          379,
          437,
          429,
          383,
          462,
          475,
          468,
          462,
          573,
          555,
          600,
          797,
          1071
         ],
         "yaxis": "y"
        },
        {
         "hovertemplate": "desc_municipio=Atarjea<br>año=%{x}<br>valor=%{y}<extra></extra>",
         "legendgroup": "Atarjea",
         "line": {
          "color": "#19d3f3",
          "dash": "solid"
         },
         "marker": {
          "symbol": "circle"
         },
         "mode": "lines",
         "name": "Atarjea",
         "showlegend": true,
         "type": "scattergl",
         "x": [
          1994,
          1995,
          1996,
          1997,
          1998,
          1999,
          2000,
          2001,
          2002,
          2003,
          2004,
          2005,
          2006,
          2007,
          2008,
          2009,
          2010,
          2011,
          2012,
          2013,
          2014,
          2015,
          2016,
          2017,
          2018,
          2019,
          2020,
          2021
         ],
         "xaxis": "x",
         "y": [
          31,
          19,
          28,
          46,
          31,
          30,
          24,
          32,
          35,
          24,
          26,
          24,
          37,
          25,
          31,
          32,
          25,
          39,
          28,
          29,
          30,
          23,
          43,
          36,
          36,
          33,
          29,
          52
         ],
         "yaxis": "y"
        },
        {
         "hovertemplate": "desc_municipio=Celaya<br>año=%{x}<br>valor=%{y}<extra></extra>",
         "legendgroup": "Celaya",
         "line": {
          "color": "#FF6692",
          "dash": "solid"
         },
         "marker": {
          "symbol": "circle"
         },
         "mode": "lines",
         "name": "Celaya",
         "showlegend": true,
         "type": "scattergl",
         "x": [
          1994,
          1995,
          1996,
          1997,
          1998,
          1999,
          2000,
          2001,
          2002,
          2003,
          2004,
          2005,
          2006,
          2007,
          2008,
          2009,
          2010,
          2011,
          2012,
          2013,
          2014,
          2015,
          2016,
          2017,
          2018,
          2019,
          2020,
          2021
         ],
         "xaxis": "x",
         "y": [
          1653,
          1664,
          1688,
          1742,
          1652,
          1722,
          1663,
          1604,
          1813,
          1863,
          1826,
          1924,
          1898,
          1983,
          2107,
          2156,
          2340,
          2173,
          2287,
          2450,
          2516,
          2605,
          2726,
          3151,
          3103,
          3221,
          4753,
          5002
         ],
         "yaxis": "y"
        },
        {
         "hovertemplate": "desc_municipio=Manuel Doblado<br>año=%{x}<br>valor=%{y}<extra></extra>",
         "legendgroup": "Manuel Doblado",
         "line": {
          "color": "#B6E880",
          "dash": "solid"
         },
         "marker": {
          "symbol": "circle"
         },
         "mode": "lines",
         "name": "Manuel Doblado",
         "showlegend": true,
         "type": "scattergl",
         "x": [
          1994,
          1995,
          1996,
          1997,
          1998,
          1999,
          2000,
          2001,
          2002,
          2003,
          2004,
          2005,
          2006,
          2007,
          2008,
          2009,
          2010,
          2011,
          2012,
          2013,
          2014,
          2015,
          2016,
          2017,
          2018,
          2019,
          2020,
          2021
         ],
         "xaxis": "x",
         "y": [
          169,
          209,
          183,
          176,
          203,
          155,
          203,
          194,
          168,
          173,
          192,
          201,
          187,
          223,
          205,
          198,
          222,
          224,
          230,
          203,
          225,
          243,
          229,
          257,
          224,
          228,
          313,
          439
         ],
         "yaxis": "y"
        },
        {
         "hovertemplate": "desc_municipio=Comonfort<br>año=%{x}<br>valor=%{y}<extra></extra>",
         "legendgroup": "Comonfort",
         "line": {
          "color": "#FF97FF",
          "dash": "solid"
         },
         "marker": {
          "symbol": "circle"
         },
         "mode": "lines",
         "name": "Comonfort",
         "showlegend": true,
         "type": "scattergl",
         "x": [
          1994,
          1995,
          1996,
          1997,
          1998,
          1999,
          2000,
          2001,
          2002,
          2003,
          2004,
          2005,
          2006,
          2007,
          2008,
          2009,
          2010,
          2011,
          2012,
          2013,
          2014,
          2015,
          2016,
          2017,
          2018,
          2019,
          2020,
          2021
         ],
         "xaxis": "x",
         "y": [
          320,
          361,
          388,
          386,
          364,
          347,
          324,
          273,
          316,
          318,
          344,
          381,
          333,
          324,
          372,
          373,
          364,
          380,
          422,
          403,
          414,
          427,
          485,
          514,
          507,
          505,
          674,
          794
         ],
         "yaxis": "y"
        },
        {
         "hovertemplate": "desc_municipio=Coroneo<br>año=%{x}<br>valor=%{y}<extra></extra>",
         "legendgroup": "Coroneo",
         "line": {
          "color": "#FECB52",
          "dash": "solid"
         },
         "marker": {
          "symbol": "circle"
         },
         "mode": "lines",
         "name": "Coroneo",
         "showlegend": true,
         "type": "scattergl",
         "x": [
          1994,
          1995,
          1996,
          1997,
          1998,
          1999,
          2000,
          2001,
          2002,
          2003,
          2004,
          2005,
          2006,
          2007,
          2008,
          2009,
          2010,
          2011,
          2012,
          2013,
          2014,
          2015,
          2016,
          2017,
          2018,
          2019,
          2020,
          2021
         ],
         "xaxis": "x",
         "y": [
          53,
          70,
          64,
          76,
          64,
          72,
          65,
          63,
          65,
          66,
          57,
          67,
          75,
          78,
          61,
          91,
          85,
          79,
          68,
          80,
          95,
          114,
          70,
          75,
          94,
          79,
          116,
          137
         ],
         "yaxis": "y"
        },
        {
         "hovertemplate": "desc_municipio=Cortazar<br>año=%{x}<br>valor=%{y}<extra></extra>",
         "legendgroup": "Cortazar",
         "line": {
          "color": "#636efa",
          "dash": "solid"
         },
         "marker": {
          "symbol": "circle"
         },
         "mode": "lines",
         "name": "Cortazar",
         "showlegend": true,
         "type": "scattergl",
         "x": [
          1994,
          1995,
          1996,
          1997,
          1998,
          1999,
          2000,
          2001,
          2002,
          2003,
          2004,
          2005,
          2006,
          2007,
          2008,
          2009,
          2010,
          2011,
          2012,
          2013,
          2014,
          2015,
          2016,
          2017,
          2018,
          2019,
          2020,
          2021
         ],
         "xaxis": "x",
         "y": [
          433,
          419,
          437,
          394,
          426,
          469,
          394,
          419,
          458,
          428,
          466,
          431,
          448,
          458,
          480,
          493,
          499,
          482,
          517,
          545,
          556,
          569,
          554,
          622,
          718,
          575,
          1038,
          995
         ],
         "yaxis": "y"
        },
        {
         "hovertemplate": "desc_municipio=Cuerámaro<br>año=%{x}<br>valor=%{y}<extra></extra>",
         "legendgroup": "Cuerámaro",
         "line": {
          "color": "#EF553B",
          "dash": "solid"
         },
         "marker": {
          "symbol": "circle"
         },
         "mode": "lines",
         "name": "Cuerámaro",
         "showlegend": true,
         "type": "scattergl",
         "x": [
          1994,
          1995,
          1996,
          1997,
          1998,
          1999,
          2000,
          2001,
          2002,
          2003,
          2004,
          2005,
          2006,
          2007,
          2008,
          2009,
          2010,
          2011,
          2012,
          2013,
          2014,
          2015,
          2016,
          2017,
          2018,
          2019,
          2020,
          2021
         ],
         "xaxis": "x",
         "y": [
          148,
          120,
          143,
          143,
          162,
          142,
          155,
          157,
          136,
          176,
          148,
          150,
          157,
          139,
          147,
          165,
          156,
          189,
          167,
          184,
          178,
          177,
          179,
          191,
          222,
          217,
          294,
          354
         ],
         "yaxis": "y"
        },
        {
         "hovertemplate": "desc_municipio=Doctor Mora<br>año=%{x}<br>valor=%{y}<extra></extra>",
         "legendgroup": "Doctor Mora",
         "line": {
          "color": "#00cc96",
          "dash": "solid"
         },
         "marker": {
          "symbol": "circle"
         },
         "mode": "lines",
         "name": "Doctor Mora",
         "showlegend": true,
         "type": "scattergl",
         "x": [
          1994,
          1995,
          1996,
          1997,
          1998,
          1999,
          2000,
          2001,
          2002,
          2003,
          2004,
          2005,
          2006,
          2007,
          2008,
          2009,
          2010,
          2011,
          2012,
          2013,
          2014,
          2015,
          2016,
          2017,
          2018,
          2019,
          2020,
          2021
         ],
         "xaxis": "x",
         "y": [
          107,
          92,
          111,
          98,
          114,
          86,
          83,
          114,
          104,
          91,
          115,
          87,
          104,
          93,
          98,
          86,
          102,
          107,
          109,
          96,
          113,
          108,
          106,
          145,
          152,
          139,
          184,
          188
         ],
         "yaxis": "y"
        },
        {
         "hovertemplate": "desc_municipio=Dolores Hidalgo Cuna de la Independencia Nacional<br>año=%{x}<br>valor=%{y}<extra></extra>",
         "legendgroup": "Dolores Hidalgo Cuna de la Independencia Nacional",
         "line": {
          "color": "#ab63fa",
          "dash": "solid"
         },
         "marker": {
          "symbol": "circle"
         },
         "mode": "lines",
         "name": "Dolores Hidalgo Cuna de la Independencia Nacional",
         "showlegend": true,
         "type": "scattergl",
         "x": [
          1994,
          1995,
          1996,
          1997,
          1998,
          1999,
          2000,
          2001,
          2002,
          2003,
          2004,
          2005,
          2006,
          2007,
          2008,
          2009,
          2010,
          2011,
          2012,
          2013,
          2014,
          2015,
          2016,
          2017,
          2018,
          2019,
          2020,
          2021
         ],
         "xaxis": "x",
         "y": [
          580,
          612,
          582,
          621,
          625,
          597,
          573,
          530,
          549,
          611,
          566,
          582,
          562,
          647,
          651,
          654,
          705,
          729,
          750,
          795,
          738,
          767,
          817,
          822,
          899,
          904,
          1208,
          1427
         ],
         "yaxis": "y"
        },
        {
         "hovertemplate": "desc_municipio=Guanajuato<br>año=%{x}<br>valor=%{y}<extra></extra>",
         "legendgroup": "Guanajuato",
         "line": {
          "color": "#FFA15A",
          "dash": "solid"
         },
         "marker": {
          "symbol": "circle"
         },
         "mode": "lines",
         "name": "Guanajuato",
         "showlegend": true,
         "type": "scattergl",
         "x": [
          1994,
          1995,
          1996,
          1997,
          1998,
          1999,
          2000,
          2001,
          2002,
          2003,
          2004,
          2005,
          2006,
          2007,
          2008,
          2009,
          2010,
          2011,
          2012,
          2013,
          2014,
          2015,
          2016,
          2017,
          2018,
          2019,
          2020,
          2021
         ],
         "xaxis": "x",
         "y": [
          598,
          641,
          634,
          594,
          581,
          593,
          596,
          593,
          631,
          652,
          623,
          761,
          656,
          704,
          780,
          741,
          755,
          795,
          813,
          802,
          841,
          889,
          918,
          900,
          948,
          1012,
          1368,
          1577
         ],
         "yaxis": "y"
        },
        {
         "hovertemplate": "desc_municipio=Huanímaro<br>año=%{x}<br>valor=%{y}<extra></extra>",
         "legendgroup": "Huanímaro",
         "line": {
          "color": "#19d3f3",
          "dash": "solid"
         },
         "marker": {
          "symbol": "circle"
         },
         "mode": "lines",
         "name": "Huanímaro",
         "showlegend": true,
         "type": "scattergl",
         "x": [
          1994,
          1995,
          1996,
          1997,
          1998,
          1999,
          2000,
          2001,
          2002,
          2003,
          2004,
          2005,
          2006,
          2007,
          2008,
          2009,
          2010,
          2011,
          2012,
          2013,
          2014,
          2015,
          2016,
          2017,
          2018,
          2019,
          2020,
          2021
         ],
         "xaxis": "x",
         "y": [
          76,
          72,
          72,
          93,
          82,
          103,
          87,
          89,
          86,
          106,
          84,
          96,
          86,
          94,
          104,
          100,
          131,
          130,
          131,
          139,
          114,
          108,
          130,
          135,
          158,
          182,
          194,
          243
         ],
         "yaxis": "y"
        },
        {
         "hovertemplate": "desc_municipio=Irapuato<br>año=%{x}<br>valor=%{y}<extra></extra>",
         "legendgroup": "Irapuato",
         "line": {
          "color": "#FF6692",
          "dash": "solid"
         },
         "marker": {
          "symbol": "circle"
         },
         "mode": "lines",
         "name": "Irapuato",
         "showlegend": true,
         "type": "scattergl",
         "x": [
          1994,
          1995,
          1996,
          1997,
          1998,
          1999,
          2000,
          2001,
          2002,
          2003,
          2004,
          2005,
          2006,
          2007,
          2008,
          2009,
          2010,
          2011,
          2012,
          2013,
          2014,
          2015,
          2016,
          2017,
          2018,
          2019,
          2020,
          2021
         ],
         "xaxis": "x",
         "y": [
          1830,
          1899,
          1948,
          1860,
          1929,
          1915,
          1844,
          1820,
          2014,
          2054,
          1942,
          2158,
          2026,
          2160,
          2303,
          2304,
          2554,
          2389,
          2713,
          2718,
          2816,
          2865,
          3146,
          3259,
          3555,
          3941,
          5138,
          5385
         ],
         "yaxis": "y"
        },
        {
         "hovertemplate": "desc_municipio=Jaral del Progreso<br>año=%{x}<br>valor=%{y}<extra></extra>",
         "legendgroup": "Jaral del Progreso",
         "line": {
          "color": "#B6E880",
          "dash": "solid"
         },
         "marker": {
          "symbol": "circle"
         },
         "mode": "lines",
         "name": "Jaral del Progreso",
         "showlegend": true,
         "type": "scattergl",
         "x": [
          1994,
          1995,
          1996,
          1997,
          1998,
          1999,
          2000,
          2001,
          2002,
          2003,
          2004,
          2005,
          2006,
          2007,
          2008,
          2009,
          2010,
          2011,
          2012,
          2013,
          2014,
          2015,
          2016,
          2017,
          2018,
          2019,
          2020,
          2021
         ],
         "xaxis": "x",
         "y": [
          152,
          161,
          178,
          150,
          175,
          159,
          136,
          157,
          171,
          146,
          186,
          170,
          177,
          192,
          163,
          219,
          200,
          208,
          203,
          199,
          230,
          232,
          241,
          274,
          269,
          277,
          369,
          388
         ],
         "yaxis": "y"
        },
        {
         "hovertemplate": "desc_municipio=Jerécuaro<br>año=%{x}<br>valor=%{y}<extra></extra>",
         "legendgroup": "Jerécuaro",
         "line": {
          "color": "#FF97FF",
          "dash": "solid"
         },
         "marker": {
          "symbol": "circle"
         },
         "mode": "lines",
         "name": "Jerécuaro",
         "showlegend": true,
         "type": "scattergl",
         "x": [
          1994,
          1995,
          1996,
          1997,
          1998,
          1999,
          2000,
          2001,
          2002,
          2003,
          2004,
          2005,
          2006,
          2007,
          2008,
          2009,
          2010,
          2011,
          2012,
          2013,
          2014,
          2015,
          2016,
          2017,
          2018,
          2019,
          2020,
          2021
         ],
         "xaxis": "x",
         "y": [
          282,
          238,
          309,
          277,
          281,
          282,
          222,
          265,
          249,
          253,
          265,
          232,
          282,
          282,
          304,
          300,
          293,
          282,
          309,
          328,
          347,
          322,
          337,
          341,
          350,
          383,
          424,
          536
         ],
         "yaxis": "y"
        },
        {
         "hovertemplate": "desc_municipio=León<br>año=%{x}<br>valor=%{y}<extra></extra>",
         "legendgroup": "León",
         "line": {
          "color": "#FECB52",
          "dash": "solid"
         },
         "marker": {
          "symbol": "circle"
         },
         "mode": "lines",
         "name": "León",
         "showlegend": true,
         "type": "scattergl",
         "x": [
          1994,
          1995,
          1996,
          1997,
          1998,
          1999,
          2000,
          2001,
          2002,
          2003,
          2004,
          2005,
          2006,
          2007,
          2008,
          2009,
          2010,
          2011,
          2012,
          2013,
          2014,
          2015,
          2016,
          2017,
          2018,
          2019,
          2020,
          2021
         ],
         "xaxis": "x",
         "y": [
          4421,
          4536,
          4254,
          4484,
          4589,
          4600,
          4746,
          4176,
          5178,
          5002,
          4793,
          5158,
          5055,
          5381,
          5679,
          5685,
          5993,
          5938,
          6196,
          6518,
          6778,
          6931,
          7572,
          7961,
          8055,
          8325,
          12641,
          12977
         ],
         "yaxis": "y"
        },
        {
         "hovertemplate": "desc_municipio=Moroleón<br>año=%{x}<br>valor=%{y}<extra></extra>",
         "legendgroup": "Moroleón",
         "line": {
          "color": "#636efa",
          "dash": "solid"
         },
         "marker": {
          "symbol": "circle"
         },
         "mode": "lines",
         "name": "Moroleón",
         "showlegend": true,
         "type": "scattergl",
         "x": [
          1994,
          1995,
          1996,
          1997,
          1998,
          1999,
          2000,
          2001,
          2002,
          2003,
          2004,
          2005,
          2006,
          2007,
          2008,
          2009,
          2010,
          2011,
          2012,
          2013,
          2014,
          2015,
          2016,
          2017,
          2018,
          2019,
          2020,
          2021
         ],
         "xaxis": "x",
         "y": [
          239,
          230,
          248,
          239,
          228,
          255,
          257,
          237,
          264,
          259,
          248,
          247,
          263,
          250,
          282,
          278,
          330,
          280,
          323,
          297,
          336,
          339,
          338,
          368,
          371,
          359,
          541,
          572
         ],
         "yaxis": "y"
        },
        {
         "hovertemplate": "desc_municipio=Ocampo<br>año=%{x}<br>valor=%{y}<extra></extra>",
         "legendgroup": "Ocampo",
         "line": {
          "color": "#EF553B",
          "dash": "solid"
         },
         "marker": {
          "symbol": "circle"
         },
         "mode": "lines",
         "name": "Ocampo",
         "showlegend": true,
         "type": "scattergl",
         "x": [
          1994,
          1995,
          1996,
          1997,
          1998,
          1999,
          2000,
          2001,
          2002,
          2003,
          2004,
          2005,
          2006,
          2007,
          2008,
          2009,
          2010,
          2011,
          2012,
          2013,
          2014,
          2015,
          2016,
          2017,
          2018,
          2019,
          2020,
          2021
         ],
         "xaxis": "x",
         "y": [
          117,
          134,
          134,
          149,
          136,
          121,
          137,
          93,
          99,
          107,
          87,
          98,
          109,
          131,
          126,
          125,
          111,
          112,
          98,
          104,
          130,
          143,
          121,
          154,
          141,
          140,
          202,
          236
         ],
         "yaxis": "y"
        },
        {
         "hovertemplate": "desc_municipio=Pénjamo<br>año=%{x}<br>valor=%{y}<extra></extra>",
         "legendgroup": "Pénjamo",
         "line": {
          "color": "#00cc96",
          "dash": "solid"
         },
         "marker": {
          "symbol": "circle"
         },
         "mode": "lines",
         "name": "Pénjamo",
         "showlegend": true,
         "type": "scattergl",
         "x": [
          1994,
          1995,
          1996,
          1997,
          1998,
          1999,
          2000,
          2001,
          2002,
          2003,
          2004,
          2005,
          2006,
          2007,
          2008,
          2009,
          2010,
          2011,
          2012,
          2013,
          2014,
          2015,
          2016,
          2017,
          2018,
          2019,
          2020,
          2021
         ],
         "xaxis": "x",
         "y": [
          708,
          708,
          716,
          735,
          724,
          695,
          678,
          661,
          683,
          739,
          768,
          746,
          761,
          757,
          792,
          812,
          848,
          859,
          865,
          865,
          897,
          916,
          1054,
          1070,
          1164,
          1163,
          1467,
          1648
         ],
         "yaxis": "y"
        },
        {
         "hovertemplate": "desc_municipio=Pueblo Nuevo<br>año=%{x}<br>valor=%{y}<extra></extra>",
         "legendgroup": "Pueblo Nuevo",
         "line": {
          "color": "#ab63fa",
          "dash": "solid"
         },
         "marker": {
          "symbol": "circle"
         },
         "mode": "lines",
         "name": "Pueblo Nuevo",
         "showlegend": true,
         "type": "scattergl",
         "x": [
          1994,
          1995,
          1996,
          1997,
          1998,
          1999,
          2000,
          2001,
          2002,
          2003,
          2004,
          2005,
          2006,
          2007,
          2008,
          2009,
          2010,
          2011,
          2012,
          2013,
          2014,
          2015,
          2016,
          2017,
          2018,
          2019,
          2020,
          2021
         ],
         "xaxis": "x",
         "y": [
          91,
          87,
          86,
          70,
          69,
          78,
          58,
          74,
          67,
          68,
          71,
          70,
          73,
          79,
          76,
          92,
          93,
          74,
          104,
          88,
          86,
          81,
          90,
          108,
          110,
          108,
          138,
          201
         ],
         "yaxis": "y"
        },
        {
         "hovertemplate": "desc_municipio=Purísima del Rincón<br>año=%{x}<br>valor=%{y}<extra></extra>",
         "legendgroup": "Purísima del Rincón",
         "line": {
          "color": "#FFA15A",
          "dash": "solid"
         },
         "marker": {
          "symbol": "circle"
         },
         "mode": "lines",
         "name": "Purísima del Rincón",
         "showlegend": true,
         "type": "scattergl",
         "x": [
          1994,
          1995,
          1996,
          1997,
          1998,
          1999,
          2000,
          2001,
          2002,
          2003,
          2004,
          2005,
          2006,
          2007,
          2008,
          2009,
          2010,
          2011,
          2012,
          2013,
          2014,
          2015,
          2016,
          2017,
          2018,
          2019,
          2020,
          2021
         ],
         "xaxis": "x",
         "y": [
          143,
          174,
          173,
          181,
          194,
          189,
          195,
          168,
          201,
          182,
          179,
          223,
          218,
          207,
          236,
          238,
          265,
          239,
          233,
          273,
          274,
          297,
          320,
          321,
          366,
          385,
          505,
          649
         ],
         "yaxis": "y"
        },
        {
         "hovertemplate": "desc_municipio=Romita<br>año=%{x}<br>valor=%{y}<extra></extra>",
         "legendgroup": "Romita",
         "line": {
          "color": "#19d3f3",
          "dash": "solid"
         },
         "marker": {
          "symbol": "circle"
         },
         "mode": "lines",
         "name": "Romita",
         "showlegend": true,
         "type": "scattergl",
         "x": [
          1994,
          1995,
          1996,
          1997,
          1998,
          1999,
          2000,
          2001,
          2002,
          2003,
          2004,
          2005,
          2006,
          2007,
          2008,
          2009,
          2010,
          2011,
          2012,
          2013,
          2014,
          2015,
          2016,
          2017,
          2018,
          2019,
          2020,
          2021
         ],
         "xaxis": "x",
         "y": [
          227,
          265,
          247,
          280,
          235,
          263,
          243,
          241,
          269,
          275,
          244,
          247,
          234,
          245,
          268,
          262,
          284,
          300,
          295,
          303,
          317,
          316,
          343,
          366,
          360,
          382,
          554,
          555
         ],
         "yaxis": "y"
        },
        {
         "hovertemplate": "desc_municipio=Salamanca<br>año=%{x}<br>valor=%{y}<extra></extra>",
         "legendgroup": "Salamanca",
         "line": {
          "color": "#FF6692",
          "dash": "solid"
         },
         "marker": {
          "symbol": "circle"
         },
         "mode": "lines",
         "name": "Salamanca",
         "showlegend": true,
         "type": "scattergl",
         "x": [
          1994,
          1995,
          1996,
          1997,
          1998,
          1999,
          2000,
          2001,
          2002,
          2003,
          2004,
          2005,
          2006,
          2007,
          2008,
          2009,
          2010,
          2011,
          2012,
          2013,
          2014,
          2015,
          2016,
          2017,
          2018,
          2019,
          2020,
          2021
         ],
         "xaxis": "x",
         "y": [
          962,
          968,
          1003,
          944,
          986,
          1048,
          1016,
          1049,
          1019,
          1064,
          1129,
          1127,
          1100,
          1098,
          1268,
          1219,
          1343,
          1339,
          1388,
          1475,
          1426,
          1476,
          1666,
          1849,
          2052,
          2162,
          2996,
          2771
         ],
         "yaxis": "y"
        },
        {
         "hovertemplate": "desc_municipio=Salvatierra<br>año=%{x}<br>valor=%{y}<extra></extra>",
         "legendgroup": "Salvatierra",
         "line": {
          "color": "#B6E880",
          "dash": "solid"
         },
         "marker": {
          "symbol": "circle"
         },
         "mode": "lines",
         "name": "Salvatierra",
         "showlegend": true,
         "type": "scattergl",
         "x": [
          1994,
          1995,
          1996,
          1997,
          1998,
          1999,
          2000,
          2001,
          2002,
          2003,
          2004,
          2005,
          2006,
          2007,
          2008,
          2009,
          2010,
          2011,
          2012,
          2013,
          2014,
          2015,
          2016,
          2017,
          2018,
          2019,
          2020,
          2021
         ],
         "xaxis": "x",
         "y": [
          605,
          610,
          581,
          581,
          570,
          620,
          550,
          595,
          571,
          544,
          588,
          605,
          626,
          611,
          646,
          720,
          725,
          709,
          664,
          692,
          781,
          815,
          840,
          886,
          957,
          945,
          1275,
          1304
         ],
         "yaxis": "y"
        },
        {
         "hovertemplate": "desc_municipio=San Diego de la Unión<br>año=%{x}<br>valor=%{y}<extra></extra>",
         "legendgroup": "San Diego de la Unión",
         "line": {
          "color": "#FF97FF",
          "dash": "solid"
         },
         "marker": {
          "symbol": "circle"
         },
         "mode": "lines",
         "name": "San Diego de la Unión",
         "showlegend": true,
         "type": "scattergl",
         "x": [
          1994,
          1995,
          1996,
          1997,
          1998,
          1999,
          2000,
          2001,
          2002,
          2003,
          2004,
          2005,
          2006,
          2007,
          2008,
          2009,
          2010,
          2011,
          2012,
          2013,
          2014,
          2015,
          2016,
          2017,
          2018,
          2019,
          2020,
          2021
         ],
         "xaxis": "x",
         "y": [
          186,
          176,
          209,
          193,
          193,
          159,
          169,
          147,
          173,
          159,
          164,
          178,
          163,
          149,
          159,
          185,
          187,
          183,
          168,
          187,
          176,
          189,
          192,
          213,
          218,
          227,
          275,
          346
         ],
         "yaxis": "y"
        },
        {
         "hovertemplate": "desc_municipio=San Felipe<br>año=%{x}<br>valor=%{y}<extra></extra>",
         "legendgroup": "San Felipe",
         "line": {
          "color": "#FECB52",
          "dash": "solid"
         },
         "marker": {
          "symbol": "circle"
         },
         "mode": "lines",
         "name": "San Felipe",
         "showlegend": true,
         "type": "scattergl",
         "x": [
          1994,
          1995,
          1996,
          1997,
          1998,
          1999,
          2000,
          2001,
          2002,
          2003,
          2004,
          2005,
          2006,
          2007,
          2008,
          2009,
          2010,
          2011,
          2012,
          2013,
          2014,
          2015,
          2016,
          2017,
          2018,
          2019,
          2020,
          2021
         ],
         "xaxis": "x",
         "y": [
          468,
          475,
          459,
          458,
          484,
          491,
          455,
          385,
          434,
          495,
          448,
          463,
          485,
          490,
          528,
          500,
          492,
          522,
          561,
          557,
          570,
          528,
          569,
          635,
          580,
          678,
          835,
          1014
         ],
         "yaxis": "y"
        },
        {
         "hovertemplate": "desc_municipio=San Francisco del Rincón<br>año=%{x}<br>valor=%{y}<extra></extra>",
         "legendgroup": "San Francisco del Rincón",
         "line": {
          "color": "#636efa",
          "dash": "solid"
         },
         "marker": {
          "symbol": "circle"
         },
         "mode": "lines",
         "name": "San Francisco del Rincón",
         "showlegend": true,
         "type": "scattergl",
         "x": [
          1994,
          1995,
          1996,
          1997,
          1998,
          1999,
          2000,
          2001,
          2002,
          2003,
          2004,
          2005,
          2006,
          2007,
          2008,
          2009,
          2010,
          2011,
          2012,
          2013,
          2014,
          2015,
          2016,
          2017,
          2018,
          2019,
          2020,
          2021
         ],
         "xaxis": "x",
         "y": [
          453,
          471,
          497,
          497,
          517,
          471,
          442,
          461,
          453,
          480,
          465,
          517,
          481,
          502,
          511,
          511,
          583,
          535,
          508,
          563,
          608,
          579,
          653,
          709,
          650,
          712,
          1016,
          1293
         ],
         "yaxis": "y"
        },
        {
         "hovertemplate": "desc_municipio=San José Iturbide<br>año=%{x}<br>valor=%{y}<extra></extra>",
         "legendgroup": "San José Iturbide",
         "line": {
          "color": "#EF553B",
          "dash": "solid"
         },
         "marker": {
          "symbol": "circle"
         },
         "mode": "lines",
         "name": "San José Iturbide",
         "showlegend": true,
         "type": "scattergl",
         "x": [
          1994,
          1995,
          1996,
          1997,
          1998,
          1999,
          2000,
          2001,
          2002,
          2003,
          2004,
          2005,
          2006,
          2007,
          2008,
          2009,
          2010,
          2011,
          2012,
          2013,
          2014,
          2015,
          2016,
          2017,
          2018,
          2019,
          2020,
          2021
         ],
         "xaxis": "x",
         "y": [
          280,
          306,
          301,
          280,
          309,
          301,
          280,
          277,
          268,
          286,
          302,
          257,
          321,
          272,
          295,
          277,
          328,
          323,
          316,
          355,
          352,
          379,
          330,
          352,
          413,
          422,
          578,
          708
         ],
         "yaxis": "y"
        },
        {
         "hovertemplate": "desc_municipio=San Luis de la Paz<br>año=%{x}<br>valor=%{y}<extra></extra>",
         "legendgroup": "San Luis de la Paz",
         "line": {
          "color": "#00cc96",
          "dash": "solid"
         },
         "marker": {
          "symbol": "circle"
         },
         "mode": "lines",
         "name": "San Luis de la Paz",
         "showlegend": true,
         "type": "scattergl",
         "x": [
          1994,
          1995,
          1996,
          1997,
          1998,
          1999,
          2000,
          2001,
          2002,
          2003,
          2004,
          2005,
          2006,
          2007,
          2008,
          2009,
          2010,
          2011,
          2012,
          2013,
          2014,
          2015,
          2016,
          2017,
          2018,
          2019,
          2020,
          2021
         ],
         "xaxis": "x",
         "y": [
          447,
          501,
          518,
          486,
          544,
          490,
          482,
          412,
          503,
          503,
          463,
          499,
          466,
          491,
          489,
          539,
          541,
          537,
          509,
          573,
          557,
          562,
          619,
          685,
          647,
          716,
          998,
          1145
         ],
         "yaxis": "y"
        },
        {
         "hovertemplate": "desc_municipio=Santa Catarina<br>año=%{x}<br>valor=%{y}<extra></extra>",
         "legendgroup": "Santa Catarina",
         "line": {
          "color": "#ab63fa",
          "dash": "solid"
         },
         "marker": {
          "symbol": "circle"
         },
         "mode": "lines",
         "name": "Santa Catarina",
         "showlegend": true,
         "type": "scattergl",
         "x": [
          1994,
          1995,
          1996,
          1997,
          1998,
          1999,
          2000,
          2001,
          2002,
          2003,
          2004,
          2005,
          2006,
          2007,
          2008,
          2009,
          2010,
          2011,
          2012,
          2013,
          2014,
          2015,
          2016,
          2017,
          2018,
          2019,
          2020,
          2021
         ],
         "xaxis": "x",
         "y": [
          18,
          39,
          32,
          36,
          38,
          30,
          36,
          30,
          32,
          23,
          32,
          32,
          28,
          25,
          36,
          34,
          38,
          31,
          47,
          31,
          30,
          49,
          35,
          46,
          40,
          42,
          44,
          59
         ],
         "yaxis": "y"
        },
        {
         "hovertemplate": "desc_municipio=Santa Cruz de Juventino Rosas<br>año=%{x}<br>valor=%{y}<extra></extra>",
         "legendgroup": "Santa Cruz de Juventino Rosas",
         "line": {
          "color": "#FFA15A",
          "dash": "solid"
         },
         "marker": {
          "symbol": "circle"
         },
         "mode": "lines",
         "name": "Santa Cruz de Juventino Rosas",
         "showlegend": true,
         "type": "scattergl",
         "x": [
          1994,
          1995,
          1996,
          1997,
          1998,
          1999,
          2000,
          2001,
          2002,
          2003,
          2004,
          2005,
          2006,
          2007,
          2008,
          2009,
          2010,
          2011,
          2012,
          2013,
          2014,
          2015,
          2016,
          2017,
          2018,
          2019,
          2020,
          2021
         ],
         "xaxis": "x",
         "y": [
          322,
          316,
          294,
          342,
          350,
          326,
          310,
          281,
          311,
          337,
          326,
          372,
          292,
          344,
          333,
          391,
          412,
          397,
          437,
          471,
          408,
          427,
          468,
          564,
          475,
          532,
          803,
          755
         ],
         "yaxis": "y"
        },
        {
         "hovertemplate": "desc_municipio=Santiago Maravatío<br>año=%{x}<br>valor=%{y}<extra></extra>",
         "legendgroup": "Santiago Maravatío",
         "line": {
          "color": "#19d3f3",
          "dash": "solid"
         },
         "marker": {
          "symbol": "circle"
         },
         "mode": "lines",
         "name": "Santiago Maravatío",
         "showlegend": true,
         "type": "scattergl",
         "x": [
          1994,
          1995,
          1996,
          1997,
          1998,
          1999,
          2000,
          2001,
          2002,
          2003,
          2004,
          2005,
          2006,
          2007,
          2008,
          2009,
          2010,
          2011,
          2012,
          2013,
          2014,
          2015,
          2016,
          2017,
          2018,
          2019,
          2020,
          2021
         ],
         "xaxis": "x",
         "y": [
          54,
          54,
          49,
          49,
          51,
          49,
          57,
          60,
          42,
          65,
          44,
          44,
          50,
          63,
          52,
          54,
          61,
          54,
          51,
          61,
          68,
          58,
          84,
          92,
          78,
          83,
          105,
          92
         ],
         "yaxis": "y"
        },
        {
         "hovertemplate": "desc_municipio=Silao de la Victoria<br>año=%{x}<br>valor=%{y}<extra></extra>",
         "legendgroup": "Silao de la Victoria",
         "line": {
          "color": "#FF6692",
          "dash": "solid"
         },
         "marker": {
          "symbol": "circle"
         },
         "mode": "lines",
         "name": "Silao de la Victoria",
         "showlegend": true,
         "type": "scattergl",
         "x": [
          1994,
          1995,
          1996,
          1997,
          1998,
          1999,
          2000,
          2001,
          2002,
          2003,
          2004,
          2005,
          2006,
          2007,
          2008,
          2009,
          2010,
          2011,
          2012,
          2013,
          2014,
          2015,
          2016,
          2017,
          2018,
          2019,
          2020,
          2021
         ],
         "xaxis": "x",
         "y": [
          588,
          617,
          615,
          623,
          624,
          636,
          591,
          576,
          673,
          645,
          639,
          652,
          694,
          643,
          653,
          690,
          743,
          730,
          785,
          814,
          863,
          874,
          877,
          979,
          1116,
          1183,
          1591,
          1597
         ],
         "yaxis": "y"
        },
        {
         "hovertemplate": "desc_municipio=Tarandacuao<br>año=%{x}<br>valor=%{y}<extra></extra>",
         "legendgroup": "Tarandacuao",
         "line": {
          "color": "#B6E880",
          "dash": "solid"
         },
         "marker": {
          "symbol": "circle"
         },
         "mode": "lines",
         "name": "Tarandacuao",
         "showlegend": true,
         "type": "scattergl",
         "x": [
          1994,
          1995,
          1996,
          1997,
          1998,
          1999,
          2000,
          2001,
          2002,
          2003,
          2004,
          2005,
          2006,
          2007,
          2008,
          2009,
          2010,
          2011,
          2012,
          2013,
          2014,
          2015,
          2016,
          2017,
          2018,
          2019,
          2020,
          2021
         ],
         "xaxis": "x",
         "y": [
          61,
          65,
          62,
          67,
          67,
          62,
          88,
          81,
          71,
          75,
          81,
          65,
          79,
          85,
          72,
          78,
          66,
          85,
          95,
          95,
          85,
          101,
          115,
          106,
          96,
          90,
          120,
          146
         ],
         "yaxis": "y"
        },
        {
         "hovertemplate": "desc_municipio=Tarimoro<br>año=%{x}<br>valor=%{y}<extra></extra>",
         "legendgroup": "Tarimoro",
         "line": {
          "color": "#FF97FF",
          "dash": "solid"
         },
         "marker": {
          "symbol": "circle"
         },
         "mode": "lines",
         "name": "Tarimoro",
         "showlegend": true,
         "type": "scattergl",
         "x": [
          1994,
          1995,
          1996,
          1997,
          1998,
          1999,
          2000,
          2001,
          2002,
          2003,
          2004,
          2005,
          2006,
          2007,
          2008,
          2009,
          2010,
          2011,
          2012,
          2013,
          2014,
          2015,
          2016,
          2017,
          2018,
          2019,
          2020,
          2021
         ],
         "xaxis": "x",
         "y": [
          182,
          223,
          197,
          213,
          217,
          191,
          187,
          196,
          194,
          211,
          223,
          206,
          216,
          206,
          255,
          246,
          283,
          235,
          265,
          255,
          270,
          285,
          272,
          346,
          321,
          350,
          445,
          479
         ],
         "yaxis": "y"
        },
        {
         "hovertemplate": "desc_municipio=Tierra Blanca<br>año=%{x}<br>valor=%{y}<extra></extra>",
         "legendgroup": "Tierra Blanca",
         "line": {
          "color": "#FECB52",
          "dash": "solid"
         },
         "marker": {
          "symbol": "circle"
         },
         "mode": "lines",
         "name": "Tierra Blanca",
         "showlegend": true,
         "type": "scattergl",
         "x": [
          1994,
          1995,
          1996,
          1997,
          1998,
          1999,
          2000,
          2001,
          2002,
          2003,
          2004,
          2005,
          2006,
          2007,
          2008,
          2009,
          2010,
          2011,
          2012,
          2013,
          2014,
          2015,
          2016,
          2017,
          2018,
          2019,
          2020,
          2021
         ],
         "xaxis": "x",
         "y": [
          91,
          92,
          95,
          82,
          81,
          79,
          68,
          73,
          103,
          77,
          88,
          85,
          89,
          93,
          89,
          71,
          82,
          80,
          94,
          96,
          90,
          101,
          96,
          114,
          95,
          102,
          136,
          144
         ],
         "yaxis": "y"
        },
        {
         "hovertemplate": "desc_municipio=Uriangato<br>año=%{x}<br>valor=%{y}<extra></extra>",
         "legendgroup": "Uriangato",
         "line": {
          "color": "#636efa",
          "dash": "solid"
         },
         "marker": {
          "symbol": "circle"
         },
         "mode": "lines",
         "name": "Uriangato",
         "showlegend": true,
         "type": "scattergl",
         "x": [
          1994,
          1995,
          1996,
          1997,
          1998,
          1999,
          2000,
          2001,
          2002,
          2003,
          2004,
          2005,
          2006,
          2007,
          2008,
          2009,
          2010,
          2011,
          2012,
          2013,
          2014,
          2015,
          2016,
          2017,
          2018,
          2019,
          2020,
          2021
         ],
         "xaxis": "x",
         "y": [
          180,
          174,
          199,
          217,
          192,
          233,
          257,
          237,
          234,
          251,
          255,
          270,
          240,
          281,
          281,
          319,
          294,
          308,
          325,
          336,
          345,
          379,
          345,
          383,
          405,
          381,
          583,
          606
         ],
         "yaxis": "y"
        },
        {
         "hovertemplate": "desc_municipio=Valle de Santiago<br>año=%{x}<br>valor=%{y}<extra></extra>",
         "legendgroup": "Valle de Santiago",
         "line": {
          "color": "#EF553B",
          "dash": "solid"
         },
         "marker": {
          "symbol": "circle"
         },
         "mode": "lines",
         "name": "Valle de Santiago",
         "showlegend": true,
         "type": "scattergl",
         "x": [
          1994,
          1995,
          1996,
          1997,
          1998,
          1999,
          2000,
          2001,
          2002,
          2003,
          2004,
          2005,
          2006,
          2007,
          2008,
          2009,
          2010,
          2011,
          2012,
          2013,
          2014,
          2015,
          2016,
          2017,
          2018,
          2019,
          2020,
          2021
         ],
         "xaxis": "x",
         "y": [
          612,
          659,
          614,
          679,
          623,
          641,
          663,
          590,
          625,
          667,
          659,
          700,
          691,
          671,
          728,
          756,
          828,
          793,
          740,
          857,
          783,
          813,
          926,
          971,
          1048,
          1085,
          1373,
          1602
         ],
         "yaxis": "y"
        },
        {
         "hovertemplate": "desc_municipio=Victoria<br>año=%{x}<br>valor=%{y}<extra></extra>",
         "legendgroup": "Victoria",
         "line": {
          "color": "#00cc96",
          "dash": "solid"
         },
         "marker": {
          "symbol": "circle"
         },
         "mode": "lines",
         "name": "Victoria",
         "showlegend": true,
         "type": "scattergl",
         "x": [
          1994,
          1995,
          1996,
          1997,
          1998,
          1999,
          2000,
          2001,
          2002,
          2003,
          2004,
          2005,
          2006,
          2007,
          2008,
          2009,
          2010,
          2011,
          2012,
          2013,
          2014,
          2015,
          2016,
          2017,
          2018,
          2019,
          2020,
          2021
         ],
         "xaxis": "x",
         "y": [
          100,
          100,
          122,
          94,
          100,
          113,
          103,
          99,
          111,
          103,
          113,
          91,
          107,
          114,
          116,
          91,
          98,
          112,
          126,
          107,
          139,
          123,
          131,
          141,
          127,
          146,
          184,
          200
         ],
         "yaxis": "y"
        },
        {
         "hovertemplate": "desc_municipio=Villagrán<br>año=%{x}<br>valor=%{y}<extra></extra>",
         "legendgroup": "Villagrán",
         "line": {
          "color": "#ab63fa",
          "dash": "solid"
         },
         "marker": {
          "symbol": "circle"
         },
         "mode": "lines",
         "name": "Villagrán",
         "showlegend": true,
         "type": "scattergl",
         "x": [
          1994,
          1995,
          1996,
          1997,
          1998,
          1999,
          2000,
          2001,
          2002,
          2003,
          2004,
          2005,
          2006,
          2007,
          2008,
          2009,
          2010,
          2011,
          2012,
          2013,
          2014,
          2015,
          2016,
          2017,
          2018,
          2019,
          2020,
          2021
         ],
         "xaxis": "x",
         "y": [
          185,
          217,
          254,
          181,
          242,
          207,
          200,
          192,
          199,
          210,
          230,
          252,
          216,
          202,
          258,
          278,
          278,
          251,
          292,
          294,
          305,
          326,
          322,
          370,
          416,
          351,
          603,
          500
         ],
         "yaxis": "y"
        },
        {
         "hovertemplate": "desc_municipio=Xichú<br>año=%{x}<br>valor=%{y}<extra></extra>",
         "legendgroup": "Xichú",
         "line": {
          "color": "#FFA15A",
          "dash": "solid"
         },
         "marker": {
          "symbol": "circle"
         },
         "mode": "lines",
         "name": "Xichú",
         "showlegend": true,
         "type": "scattergl",
         "x": [
          1994,
          1995,
          1996,
          1997,
          1998,
          1999,
          2000,
          2001,
          2002,
          2003,
          2004,
          2005,
          2006,
          2007,
          2008,
          2009,
          2010,
          2011,
          2012,
          2013,
          2014,
          2015,
          2016,
          2017,
          2018,
          2019,
          2020,
          2021
         ],
         "xaxis": "x",
         "y": [
          70,
          68,
          67,
          50,
          62,
          58,
          53,
          61,
          67,
          56,
          59,
          61,
          60,
          47,
          58,
          54,
          79,
          71,
          57,
          46,
          51,
          43,
          53,
          67,
          65,
          78,
          100,
          97
         ],
         "yaxis": "y"
        },
        {
         "hovertemplate": "desc_municipio=Yuriria<br>año=%{x}<br>valor=%{y}<extra></extra>",
         "legendgroup": "Yuriria",
         "line": {
          "color": "#19d3f3",
          "dash": "solid"
         },
         "marker": {
          "symbol": "circle"
         },
         "mode": "lines",
         "name": "Yuriria",
         "showlegend": true,
         "type": "scattergl",
         "x": [
          1994,
          1995,
          1996,
          1997,
          1998,
          1999,
          2000,
          2001,
          2002,
          2003,
          2004,
          2005,
          2006,
          2007,
          2008,
          2009,
          2010,
          2011,
          2012,
          2013,
          2014,
          2015,
          2016,
          2017,
          2018,
          2019,
          2020,
          2021
         ],
         "xaxis": "x",
         "y": [
          342,
          361,
          378,
          372,
          362,
          384,
          353,
          345,
          363,
          373,
          381,
          414,
          419,
          367,
          447,
          406,
          448,
          441,
          438,
          458,
          455,
          530,
          484,
          589,
          611,
          599,
          740,
          892
         ],
         "yaxis": "y"
        }
       ],
       "layout": {
        "legend": {
         "title": {
          "text": "desc_municipio"
         },
         "tracegroupgap": 0
        },
        "template": {
         "data": {
          "bar": [
           {
            "error_x": {
             "color": "#2a3f5f"
            },
            "error_y": {
             "color": "#2a3f5f"
            },
            "marker": {
             "line": {
              "color": "#E5ECF6",
              "width": 0.5
             },
             "pattern": {
              "fillmode": "overlay",
              "size": 10,
              "solidity": 0.2
             }
            },
            "type": "bar"
           }
          ],
          "barpolar": [
           {
            "marker": {
             "line": {
              "color": "#E5ECF6",
              "width": 0.5
             },
             "pattern": {
              "fillmode": "overlay",
              "size": 10,
              "solidity": 0.2
             }
            },
            "type": "barpolar"
           }
          ],
          "carpet": [
           {
            "aaxis": {
             "endlinecolor": "#2a3f5f",
             "gridcolor": "white",
             "linecolor": "white",
             "minorgridcolor": "white",
             "startlinecolor": "#2a3f5f"
            },
            "baxis": {
             "endlinecolor": "#2a3f5f",
             "gridcolor": "white",
             "linecolor": "white",
             "minorgridcolor": "white",
             "startlinecolor": "#2a3f5f"
            },
            "type": "carpet"
           }
          ],
          "choropleth": [
           {
            "colorbar": {
             "outlinewidth": 0,
             "ticks": ""
            },
            "type": "choropleth"
           }
          ],
          "contour": [
           {
            "colorbar": {
             "outlinewidth": 0,
             "ticks": ""
            },
            "colorscale": [
             [
              0,
              "#0d0887"
             ],
             [
              0.1111111111111111,
              "#46039f"
             ],
             [
              0.2222222222222222,
              "#7201a8"
             ],
             [
              0.3333333333333333,
              "#9c179e"
             ],
             [
              0.4444444444444444,
              "#bd3786"
             ],
             [
              0.5555555555555556,
              "#d8576b"
             ],
             [
              0.6666666666666666,
              "#ed7953"
             ],
             [
              0.7777777777777778,
              "#fb9f3a"
             ],
             [
              0.8888888888888888,
              "#fdca26"
             ],
             [
              1,
              "#f0f921"
             ]
            ],
            "type": "contour"
           }
          ],
          "contourcarpet": [
           {
            "colorbar": {
             "outlinewidth": 0,
             "ticks": ""
            },
            "type": "contourcarpet"
           }
          ],
          "heatmap": [
           {
            "colorbar": {
             "outlinewidth": 0,
             "ticks": ""
            },
            "colorscale": [
             [
              0,
              "#0d0887"
             ],
             [
              0.1111111111111111,
              "#46039f"
             ],
             [
              0.2222222222222222,
              "#7201a8"
             ],
             [
              0.3333333333333333,
              "#9c179e"
             ],
             [
              0.4444444444444444,
              "#bd3786"
             ],
             [
              0.5555555555555556,
              "#d8576b"
             ],
             [
              0.6666666666666666,
              "#ed7953"
             ],
             [
              0.7777777777777778,
              "#fb9f3a"
             ],
             [
              0.8888888888888888,
              "#fdca26"
             ],
             [
              1,
              "#f0f921"
             ]
            ],
            "type": "heatmap"
           }
          ],
          "heatmapgl": [
           {
            "colorbar": {
             "outlinewidth": 0,
             "ticks": ""
            },
            "colorscale": [
             [
              0,
              "#0d0887"
             ],
             [
              0.1111111111111111,
              "#46039f"
             ],
             [
              0.2222222222222222,
              "#7201a8"
             ],
             [
              0.3333333333333333,
              "#9c179e"
             ],
             [
              0.4444444444444444,
              "#bd3786"
             ],
             [
              0.5555555555555556,
              "#d8576b"
             ],
             [
              0.6666666666666666,
              "#ed7953"
             ],
             [
              0.7777777777777778,
              "#fb9f3a"
             ],
             [
              0.8888888888888888,
              "#fdca26"
             ],
             [
              1,
              "#f0f921"
             ]
            ],
            "type": "heatmapgl"
           }
          ],
          "histogram": [
           {
            "marker": {
             "pattern": {
              "fillmode": "overlay",
              "size": 10,
              "solidity": 0.2
             }
            },
            "type": "histogram"
           }
          ],
          "histogram2d": [
           {
            "colorbar": {
             "outlinewidth": 0,
             "ticks": ""
            },
            "colorscale": [
             [
              0,
              "#0d0887"
             ],
             [
              0.1111111111111111,
              "#46039f"
             ],
             [
              0.2222222222222222,
              "#7201a8"
             ],
             [
              0.3333333333333333,
              "#9c179e"
             ],
             [
              0.4444444444444444,
              "#bd3786"
             ],
             [
              0.5555555555555556,
              "#d8576b"
             ],
             [
              0.6666666666666666,
              "#ed7953"
             ],
             [
              0.7777777777777778,
              "#fb9f3a"
             ],
             [
              0.8888888888888888,
              "#fdca26"
             ],
             [
              1,
              "#f0f921"
             ]
            ],
            "type": "histogram2d"
           }
          ],
          "histogram2dcontour": [
           {
            "colorbar": {
             "outlinewidth": 0,
             "ticks": ""
            },
            "colorscale": [
             [
              0,
              "#0d0887"
             ],
             [
              0.1111111111111111,
              "#46039f"
             ],
             [
              0.2222222222222222,
              "#7201a8"
             ],
             [
              0.3333333333333333,
              "#9c179e"
             ],
             [
              0.4444444444444444,
              "#bd3786"
             ],
             [
              0.5555555555555556,
              "#d8576b"
             ],
             [
              0.6666666666666666,
              "#ed7953"
             ],
             [
              0.7777777777777778,
              "#fb9f3a"
             ],
             [
              0.8888888888888888,
              "#fdca26"
             ],
             [
              1,
              "#f0f921"
             ]
            ],
            "type": "histogram2dcontour"
           }
          ],
          "mesh3d": [
           {
            "colorbar": {
             "outlinewidth": 0,
             "ticks": ""
            },
            "type": "mesh3d"
           }
          ],
          "parcoords": [
           {
            "line": {
             "colorbar": {
              "outlinewidth": 0,
              "ticks": ""
             }
            },
            "type": "parcoords"
           }
          ],
          "pie": [
           {
            "automargin": true,
            "type": "pie"
           }
          ],
          "scatter": [
           {
            "fillpattern": {
             "fillmode": "overlay",
             "size": 10,
             "solidity": 0.2
            },
            "type": "scatter"
           }
          ],
          "scatter3d": [
           {
            "line": {
             "colorbar": {
              "outlinewidth": 0,
              "ticks": ""
             }
            },
            "marker": {
             "colorbar": {
              "outlinewidth": 0,
              "ticks": ""
             }
            },
            "type": "scatter3d"
           }
          ],
          "scattercarpet": [
           {
            "marker": {
             "colorbar": {
              "outlinewidth": 0,
              "ticks": ""
             }
            },
            "type": "scattercarpet"
           }
          ],
          "scattergeo": [
           {
            "marker": {
             "colorbar": {
              "outlinewidth": 0,
              "ticks": ""
             }
            },
            "type": "scattergeo"
           }
          ],
          "scattergl": [
           {
            "marker": {
             "colorbar": {
              "outlinewidth": 0,
              "ticks": ""
             }
            },
            "type": "scattergl"
           }
          ],
          "scattermapbox": [
           {
            "marker": {
             "colorbar": {
              "outlinewidth": 0,
              "ticks": ""
             }
            },
            "type": "scattermapbox"
           }
          ],
          "scatterpolar": [
           {
            "marker": {
             "colorbar": {
              "outlinewidth": 0,
              "ticks": ""
             }
            },
            "type": "scatterpolar"
           }
          ],
          "scatterpolargl": [
           {
            "marker": {
             "colorbar": {
              "outlinewidth": 0,
              "ticks": ""
             }
            },
            "type": "scatterpolargl"
           }
          ],
          "scatterternary": [
           {
            "marker": {
             "colorbar": {
              "outlinewidth": 0,
              "ticks": ""
             }
            },
            "type": "scatterternary"
           }
          ],
          "surface": [
           {
            "colorbar": {
             "outlinewidth": 0,
             "ticks": ""
            },
            "colorscale": [
             [
              0,
              "#0d0887"
             ],
             [
              0.1111111111111111,
              "#46039f"
             ],
             [
              0.2222222222222222,
              "#7201a8"
             ],
             [
              0.3333333333333333,
              "#9c179e"
             ],
             [
              0.4444444444444444,
              "#bd3786"
             ],
             [
              0.5555555555555556,
              "#d8576b"
             ],
             [
              0.6666666666666666,
              "#ed7953"
             ],
             [
              0.7777777777777778,
              "#fb9f3a"
             ],
             [
              0.8888888888888888,
              "#fdca26"
             ],
             [
              1,
              "#f0f921"
             ]
            ],
            "type": "surface"
           }
          ],
          "table": [
           {
            "cells": {
             "fill": {
              "color": "#EBF0F8"
             },
             "line": {
              "color": "white"
             }
            },
            "header": {
             "fill": {
              "color": "#C8D4E3"
             },
             "line": {
              "color": "white"
             }
            },
            "type": "table"
           }
          ]
         },
         "layout": {
          "annotationdefaults": {
           "arrowcolor": "#2a3f5f",
           "arrowhead": 0,
           "arrowwidth": 1
          },
          "autotypenumbers": "strict",
          "coloraxis": {
           "colorbar": {
            "outlinewidth": 0,
            "ticks": ""
           }
          },
          "colorscale": {
           "diverging": [
            [
             0,
             "#8e0152"
            ],
            [
             0.1,
             "#c51b7d"
            ],
            [
             0.2,
             "#de77ae"
            ],
            [
             0.3,
             "#f1b6da"
            ],
            [
             0.4,
             "#fde0ef"
            ],
            [
             0.5,
             "#f7f7f7"
            ],
            [
             0.6,
             "#e6f5d0"
            ],
            [
             0.7,
             "#b8e186"
            ],
            [
             0.8,
             "#7fbc41"
            ],
            [
             0.9,
             "#4d9221"
            ],
            [
             1,
             "#276419"
            ]
           ],
           "sequential": [
            [
             0,
             "#0d0887"
            ],
            [
             0.1111111111111111,
             "#46039f"
            ],
            [
             0.2222222222222222,
             "#7201a8"
            ],
            [
             0.3333333333333333,
             "#9c179e"
            ],
            [
             0.4444444444444444,
             "#bd3786"
            ],
            [
             0.5555555555555556,
             "#d8576b"
            ],
            [
             0.6666666666666666,
             "#ed7953"
            ],
            [
             0.7777777777777778,
             "#fb9f3a"
            ],
            [
             0.8888888888888888,
             "#fdca26"
            ],
            [
             1,
             "#f0f921"
            ]
           ],
           "sequentialminus": [
            [
             0,
             "#0d0887"
            ],
            [
             0.1111111111111111,
             "#46039f"
            ],
            [
             0.2222222222222222,
             "#7201a8"
            ],
            [
             0.3333333333333333,
             "#9c179e"
            ],
            [
             0.4444444444444444,
             "#bd3786"
            ],
            [
             0.5555555555555556,
             "#d8576b"
            ],
            [
             0.6666666666666666,
             "#ed7953"
            ],
            [
             0.7777777777777778,
             "#fb9f3a"
            ],
            [
             0.8888888888888888,
             "#fdca26"
            ],
            [
             1,
             "#f0f921"
            ]
           ]
          },
          "colorway": [
           "#636efa",
           "#EF553B",
           "#00cc96",
           "#ab63fa",
           "#FFA15A",
           "#19d3f3",
           "#FF6692",
           "#B6E880",
           "#FF97FF",
           "#FECB52"
          ],
          "font": {
           "color": "#2a3f5f"
          },
          "geo": {
           "bgcolor": "white",
           "lakecolor": "white",
           "landcolor": "#E5ECF6",
           "showlakes": true,
           "showland": true,
           "subunitcolor": "white"
          },
          "hoverlabel": {
           "align": "left"
          },
          "hovermode": "closest",
          "mapbox": {
           "style": "light"
          },
          "paper_bgcolor": "white",
          "plot_bgcolor": "#E5ECF6",
          "polar": {
           "angularaxis": {
            "gridcolor": "white",
            "linecolor": "white",
            "ticks": ""
           },
           "bgcolor": "#E5ECF6",
           "radialaxis": {
            "gridcolor": "white",
            "linecolor": "white",
            "ticks": ""
           }
          },
          "scene": {
           "xaxis": {
            "backgroundcolor": "#E5ECF6",
            "gridcolor": "white",
            "gridwidth": 2,
            "linecolor": "white",
            "showbackground": true,
            "ticks": "",
            "zerolinecolor": "white"
           },
           "yaxis": {
            "backgroundcolor": "#E5ECF6",
            "gridcolor": "white",
            "gridwidth": 2,
            "linecolor": "white",
            "showbackground": true,
            "ticks": "",
            "zerolinecolor": "white"
           },
           "zaxis": {
            "backgroundcolor": "#E5ECF6",
            "gridcolor": "white",
            "gridwidth": 2,
            "linecolor": "white",
            "showbackground": true,
            "ticks": "",
            "zerolinecolor": "white"
           }
          },
          "shapedefaults": {
           "line": {
            "color": "#2a3f5f"
           }
          },
          "ternary": {
           "aaxis": {
            "gridcolor": "white",
            "linecolor": "white",
            "ticks": ""
           },
           "baxis": {
            "gridcolor": "white",
            "linecolor": "white",
            "ticks": ""
           },
           "bgcolor": "#E5ECF6",
           "caxis": {
            "gridcolor": "white",
            "linecolor": "white",
            "ticks": ""
           }
          },
          "title": {
           "x": 0.05
          },
          "xaxis": {
           "automargin": true,
           "gridcolor": "white",
           "linecolor": "white",
           "ticks": "",
           "title": {
            "standoff": 15
           },
           "zerolinecolor": "white",
           "zerolinewidth": 2
          },
          "yaxis": {
           "automargin": true,
           "gridcolor": "white",
           "linecolor": "white",
           "ticks": "",
           "title": {
            "standoff": 15
           },
           "zerolinecolor": "white",
           "zerolinewidth": 2
          }
         }
        },
        "title": {
         "text": "Defunciones generales en los municipios de Guanajuato"
        },
        "xaxis": {
         "anchor": "y",
         "domain": [
          0,
          1
         ],
         "title": {
          "text": "año"
         }
        },
        "yaxis": {
         "anchor": "x",
         "domain": [
          0,
          1
         ],
         "title": {
          "text": "valor"
         }
        }
       }
      }
     },
     "metadata": {},
     "output_type": "display_data"
    }
   ],
   "source": [
    "g_line = px.line(mun_g,x=\"año\", y=\"valor\", title='Defunciones generales en los municipios de Guanajuato', color='desc_municipio')\n",
    "g_line.show()"
   ]
  },
  {
   "attachments": {},
   "cell_type": "markdown",
   "metadata": {},
   "source": [
    "**De manera grafica podemos observar que el municipio de Leon marcado por la linea amarilla es el primer lugar en Defunciones generales**\n",
    "\n",
    "Para corroborar esto haremos un analisis en cualquier año como ejemplo"
   ]
  },
  {
   "cell_type": "code",
   "execution_count": 50,
   "metadata": {},
   "outputs": [
    {
     "name": "stderr",
     "output_type": "stream",
     "text": [
      "C:\\Users\\Jorge Hdz\\AppData\\Local\\Temp\\ipykernel_1012\\1760074865.py:1: FutureWarning:\n",
      "\n",
      "The default value of numeric_only in DataFrameGroupBy.sum is deprecated. In a future version, numeric_only will default to False. Either specify numeric_only or select only columns which should be valid for the function.\n",
      "\n"
     ]
    },
    {
     "data": {
      "text/html": [
       "<div>\n",
       "<style scoped>\n",
       "    .dataframe tbody tr th:only-of-type {\n",
       "        vertical-align: middle;\n",
       "    }\n",
       "\n",
       "    .dataframe tbody tr th {\n",
       "        vertical-align: top;\n",
       "    }\n",
       "\n",
       "    .dataframe thead th {\n",
       "        text-align: right;\n",
       "    }\n",
       "</style>\n",
       "<table border=\"1\" class=\"dataframe\">\n",
       "  <thead>\n",
       "    <tr style=\"text-align: right;\">\n",
       "      <th></th>\n",
       "      <th></th>\n",
       "      <th>cve_entidad</th>\n",
       "      <th>cve_municipio</th>\n",
       "      <th>id_indicador</th>\n",
       "      <th>valor</th>\n",
       "    </tr>\n",
       "    <tr>\n",
       "      <th>desc_municipio</th>\n",
       "      <th>año</th>\n",
       "      <th></th>\n",
       "      <th></th>\n",
       "      <th></th>\n",
       "      <th></th>\n",
       "    </tr>\n",
       "  </thead>\n",
       "  <tbody>\n",
       "    <tr>\n",
       "      <th rowspan=\"5\" valign=\"top\">Abasolo</th>\n",
       "      <th>1994</th>\n",
       "      <td>11</td>\n",
       "      <td>1</td>\n",
       "      <td>1002000030</td>\n",
       "      <td>301.0</td>\n",
       "    </tr>\n",
       "    <tr>\n",
       "      <th>1995</th>\n",
       "      <td>22</td>\n",
       "      <td>2</td>\n",
       "      <td>2004000060</td>\n",
       "      <td>619.0</td>\n",
       "    </tr>\n",
       "    <tr>\n",
       "      <th>1996</th>\n",
       "      <td>33</td>\n",
       "      <td>3</td>\n",
       "      <td>3006000090</td>\n",
       "      <td>969.0</td>\n",
       "    </tr>\n",
       "    <tr>\n",
       "      <th>1997</th>\n",
       "      <td>44</td>\n",
       "      <td>4</td>\n",
       "      <td>4008000120</td>\n",
       "      <td>1316.0</td>\n",
       "    </tr>\n",
       "    <tr>\n",
       "      <th>1998</th>\n",
       "      <td>55</td>\n",
       "      <td>5</td>\n",
       "      <td>5010000150</td>\n",
       "      <td>1666.0</td>\n",
       "    </tr>\n",
       "  </tbody>\n",
       "</table>\n",
       "</div>"
      ],
      "text/plain": [
       "                     cve_entidad  cve_municipio  id_indicador   valor\n",
       "desc_municipio año                                                   \n",
       "Abasolo        1994           11              1    1002000030   301.0\n",
       "               1995           22              2    2004000060   619.0\n",
       "               1996           33              3    3006000090   969.0\n",
       "               1997           44              4    4008000120  1316.0\n",
       "               1998           55              5    5010000150  1666.0"
      ]
     },
     "execution_count": 50,
     "metadata": {},
     "output_type": "execute_result"
    }
   ],
   "source": [
    "df_grupo = mun_g.groupby(by=['desc_municipio','año']).sum().groupby(level=[0]).cumsum()\n",
    "df_grupo.head()"
   ]
  },
  {
   "cell_type": "code",
   "execution_count": 58,
   "metadata": {},
   "outputs": [
    {
     "data": {
      "application/vnd.plotly.v1+json": {
       "config": {
        "plotlyServerURL": "https://plot.ly"
       },
       "data": [
        {
         "domain": {
          "x": [
           0,
           1
          ],
          "y": [
           0,
           1
          ]
         },
         "hovertemplate": "desc_municipio=%{label}<br>valor=%{value}<extra></extra>",
         "labels": [
          "Abasolo",
          "Acámbaro",
          "San Miguel de Allende",
          "Apaseo el Alto",
          "Apaseo el Grande",
          "Otros municipios",
          "Celaya",
          "Otros municipios",
          "Comonfort",
          "Otros municipios",
          "Cortazar",
          "Otros municipios",
          "Otros municipios",
          "Dolores Hidalgo Cuna de la Independencia Nacional",
          "Guanajuato",
          "Otros municipios",
          "Irapuato",
          "Otros municipios",
          "Jerécuaro",
          "León",
          "Moroleón",
          "Otros municipios",
          "Pénjamo",
          "Otros municipios",
          "Purísima del Rincón",
          "Romita",
          "Salamanca",
          "Salvatierra",
          "Otros municipios",
          "San Felipe",
          "San Francisco del Rincón",
          "San José Iturbide",
          "San Luis de la Paz",
          "Otros municipios",
          "Santa Cruz de Juventino Rosas",
          "Otros municipios",
          "Silao de la Victoria",
          "Otros municipios",
          "Otros municipios",
          "Otros municipios",
          "Uriangato",
          "Valle de Santiago",
          "Otros municipios",
          "Villagrán",
          "Otros municipios",
          "Yuriria"
         ],
         "legendgroup": "",
         "name": "",
         "showlegend": true,
         "type": "pie",
         "values": [
          1060,
          1635,
          1757,
          647,
          1071,
          52,
          5002,
          439,
          794,
          137,
          995,
          354,
          188,
          1427,
          1577,
          243,
          5385,
          388,
          536,
          12977,
          572,
          236,
          1648,
          201,
          649,
          555,
          2771,
          1304,
          346,
          1014,
          1293,
          708,
          1145,
          59,
          755,
          92,
          1597,
          146,
          479,
          144,
          606,
          1602,
          200,
          500,
          97,
          892
         ]
        }
       ],
       "layout": {
        "legend": {
         "tracegroupgap": 0
        },
        "template": {
         "data": {
          "bar": [
           {
            "error_x": {
             "color": "#2a3f5f"
            },
            "error_y": {
             "color": "#2a3f5f"
            },
            "marker": {
             "line": {
              "color": "#E5ECF6",
              "width": 0.5
             },
             "pattern": {
              "fillmode": "overlay",
              "size": 10,
              "solidity": 0.2
             }
            },
            "type": "bar"
           }
          ],
          "barpolar": [
           {
            "marker": {
             "line": {
              "color": "#E5ECF6",
              "width": 0.5
             },
             "pattern": {
              "fillmode": "overlay",
              "size": 10,
              "solidity": 0.2
             }
            },
            "type": "barpolar"
           }
          ],
          "carpet": [
           {
            "aaxis": {
             "endlinecolor": "#2a3f5f",
             "gridcolor": "white",
             "linecolor": "white",
             "minorgridcolor": "white",
             "startlinecolor": "#2a3f5f"
            },
            "baxis": {
             "endlinecolor": "#2a3f5f",
             "gridcolor": "white",
             "linecolor": "white",
             "minorgridcolor": "white",
             "startlinecolor": "#2a3f5f"
            },
            "type": "carpet"
           }
          ],
          "choropleth": [
           {
            "colorbar": {
             "outlinewidth": 0,
             "ticks": ""
            },
            "type": "choropleth"
           }
          ],
          "contour": [
           {
            "colorbar": {
             "outlinewidth": 0,
             "ticks": ""
            },
            "colorscale": [
             [
              0,
              "#0d0887"
             ],
             [
              0.1111111111111111,
              "#46039f"
             ],
             [
              0.2222222222222222,
              "#7201a8"
             ],
             [
              0.3333333333333333,
              "#9c179e"
             ],
             [
              0.4444444444444444,
              "#bd3786"
             ],
             [
              0.5555555555555556,
              "#d8576b"
             ],
             [
              0.6666666666666666,
              "#ed7953"
             ],
             [
              0.7777777777777778,
              "#fb9f3a"
             ],
             [
              0.8888888888888888,
              "#fdca26"
             ],
             [
              1,
              "#f0f921"
             ]
            ],
            "type": "contour"
           }
          ],
          "contourcarpet": [
           {
            "colorbar": {
             "outlinewidth": 0,
             "ticks": ""
            },
            "type": "contourcarpet"
           }
          ],
          "heatmap": [
           {
            "colorbar": {
             "outlinewidth": 0,
             "ticks": ""
            },
            "colorscale": [
             [
              0,
              "#0d0887"
             ],
             [
              0.1111111111111111,
              "#46039f"
             ],
             [
              0.2222222222222222,
              "#7201a8"
             ],
             [
              0.3333333333333333,
              "#9c179e"
             ],
             [
              0.4444444444444444,
              "#bd3786"
             ],
             [
              0.5555555555555556,
              "#d8576b"
             ],
             [
              0.6666666666666666,
              "#ed7953"
             ],
             [
              0.7777777777777778,
              "#fb9f3a"
             ],
             [
              0.8888888888888888,
              "#fdca26"
             ],
             [
              1,
              "#f0f921"
             ]
            ],
            "type": "heatmap"
           }
          ],
          "heatmapgl": [
           {
            "colorbar": {
             "outlinewidth": 0,
             "ticks": ""
            },
            "colorscale": [
             [
              0,
              "#0d0887"
             ],
             [
              0.1111111111111111,
              "#46039f"
             ],
             [
              0.2222222222222222,
              "#7201a8"
             ],
             [
              0.3333333333333333,
              "#9c179e"
             ],
             [
              0.4444444444444444,
              "#bd3786"
             ],
             [
              0.5555555555555556,
              "#d8576b"
             ],
             [
              0.6666666666666666,
              "#ed7953"
             ],
             [
              0.7777777777777778,
              "#fb9f3a"
             ],
             [
              0.8888888888888888,
              "#fdca26"
             ],
             [
              1,
              "#f0f921"
             ]
            ],
            "type": "heatmapgl"
           }
          ],
          "histogram": [
           {
            "marker": {
             "pattern": {
              "fillmode": "overlay",
              "size": 10,
              "solidity": 0.2
             }
            },
            "type": "histogram"
           }
          ],
          "histogram2d": [
           {
            "colorbar": {
             "outlinewidth": 0,
             "ticks": ""
            },
            "colorscale": [
             [
              0,
              "#0d0887"
             ],
             [
              0.1111111111111111,
              "#46039f"
             ],
             [
              0.2222222222222222,
              "#7201a8"
             ],
             [
              0.3333333333333333,
              "#9c179e"
             ],
             [
              0.4444444444444444,
              "#bd3786"
             ],
             [
              0.5555555555555556,
              "#d8576b"
             ],
             [
              0.6666666666666666,
              "#ed7953"
             ],
             [
              0.7777777777777778,
              "#fb9f3a"
             ],
             [
              0.8888888888888888,
              "#fdca26"
             ],
             [
              1,
              "#f0f921"
             ]
            ],
            "type": "histogram2d"
           }
          ],
          "histogram2dcontour": [
           {
            "colorbar": {
             "outlinewidth": 0,
             "ticks": ""
            },
            "colorscale": [
             [
              0,
              "#0d0887"
             ],
             [
              0.1111111111111111,
              "#46039f"
             ],
             [
              0.2222222222222222,
              "#7201a8"
             ],
             [
              0.3333333333333333,
              "#9c179e"
             ],
             [
              0.4444444444444444,
              "#bd3786"
             ],
             [
              0.5555555555555556,
              "#d8576b"
             ],
             [
              0.6666666666666666,
              "#ed7953"
             ],
             [
              0.7777777777777778,
              "#fb9f3a"
             ],
             [
              0.8888888888888888,
              "#fdca26"
             ],
             [
              1,
              "#f0f921"
             ]
            ],
            "type": "histogram2dcontour"
           }
          ],
          "mesh3d": [
           {
            "colorbar": {
             "outlinewidth": 0,
             "ticks": ""
            },
            "type": "mesh3d"
           }
          ],
          "parcoords": [
           {
            "line": {
             "colorbar": {
              "outlinewidth": 0,
              "ticks": ""
             }
            },
            "type": "parcoords"
           }
          ],
          "pie": [
           {
            "automargin": true,
            "type": "pie"
           }
          ],
          "scatter": [
           {
            "fillpattern": {
             "fillmode": "overlay",
             "size": 10,
             "solidity": 0.2
            },
            "type": "scatter"
           }
          ],
          "scatter3d": [
           {
            "line": {
             "colorbar": {
              "outlinewidth": 0,
              "ticks": ""
             }
            },
            "marker": {
             "colorbar": {
              "outlinewidth": 0,
              "ticks": ""
             }
            },
            "type": "scatter3d"
           }
          ],
          "scattercarpet": [
           {
            "marker": {
             "colorbar": {
              "outlinewidth": 0,
              "ticks": ""
             }
            },
            "type": "scattercarpet"
           }
          ],
          "scattergeo": [
           {
            "marker": {
             "colorbar": {
              "outlinewidth": 0,
              "ticks": ""
             }
            },
            "type": "scattergeo"
           }
          ],
          "scattergl": [
           {
            "marker": {
             "colorbar": {
              "outlinewidth": 0,
              "ticks": ""
             }
            },
            "type": "scattergl"
           }
          ],
          "scattermapbox": [
           {
            "marker": {
             "colorbar": {
              "outlinewidth": 0,
              "ticks": ""
             }
            },
            "type": "scattermapbox"
           }
          ],
          "scatterpolar": [
           {
            "marker": {
             "colorbar": {
              "outlinewidth": 0,
              "ticks": ""
             }
            },
            "type": "scatterpolar"
           }
          ],
          "scatterpolargl": [
           {
            "marker": {
             "colorbar": {
              "outlinewidth": 0,
              "ticks": ""
             }
            },
            "type": "scatterpolargl"
           }
          ],
          "scatterternary": [
           {
            "marker": {
             "colorbar": {
              "outlinewidth": 0,
              "ticks": ""
             }
            },
            "type": "scatterternary"
           }
          ],
          "surface": [
           {
            "colorbar": {
             "outlinewidth": 0,
             "ticks": ""
            },
            "colorscale": [
             [
              0,
              "#0d0887"
             ],
             [
              0.1111111111111111,
              "#46039f"
             ],
             [
              0.2222222222222222,
              "#7201a8"
             ],
             [
              0.3333333333333333,
              "#9c179e"
             ],
             [
              0.4444444444444444,
              "#bd3786"
             ],
             [
              0.5555555555555556,
              "#d8576b"
             ],
             [
              0.6666666666666666,
              "#ed7953"
             ],
             [
              0.7777777777777778,
              "#fb9f3a"
             ],
             [
              0.8888888888888888,
              "#fdca26"
             ],
             [
              1,
              "#f0f921"
             ]
            ],
            "type": "surface"
           }
          ],
          "table": [
           {
            "cells": {
             "fill": {
              "color": "#EBF0F8"
             },
             "line": {
              "color": "white"
             }
            },
            "header": {
             "fill": {
              "color": "#C8D4E3"
             },
             "line": {
              "color": "white"
             }
            },
            "type": "table"
           }
          ]
         },
         "layout": {
          "annotationdefaults": {
           "arrowcolor": "#2a3f5f",
           "arrowhead": 0,
           "arrowwidth": 1
          },
          "autotypenumbers": "strict",
          "coloraxis": {
           "colorbar": {
            "outlinewidth": 0,
            "ticks": ""
           }
          },
          "colorscale": {
           "diverging": [
            [
             0,
             "#8e0152"
            ],
            [
             0.1,
             "#c51b7d"
            ],
            [
             0.2,
             "#de77ae"
            ],
            [
             0.3,
             "#f1b6da"
            ],
            [
             0.4,
             "#fde0ef"
            ],
            [
             0.5,
             "#f7f7f7"
            ],
            [
             0.6,
             "#e6f5d0"
            ],
            [
             0.7,
             "#b8e186"
            ],
            [
             0.8,
             "#7fbc41"
            ],
            [
             0.9,
             "#4d9221"
            ],
            [
             1,
             "#276419"
            ]
           ],
           "sequential": [
            [
             0,
             "#0d0887"
            ],
            [
             0.1111111111111111,
             "#46039f"
            ],
            [
             0.2222222222222222,
             "#7201a8"
            ],
            [
             0.3333333333333333,
             "#9c179e"
            ],
            [
             0.4444444444444444,
             "#bd3786"
            ],
            [
             0.5555555555555556,
             "#d8576b"
            ],
            [
             0.6666666666666666,
             "#ed7953"
            ],
            [
             0.7777777777777778,
             "#fb9f3a"
            ],
            [
             0.8888888888888888,
             "#fdca26"
            ],
            [
             1,
             "#f0f921"
            ]
           ],
           "sequentialminus": [
            [
             0,
             "#0d0887"
            ],
            [
             0.1111111111111111,
             "#46039f"
            ],
            [
             0.2222222222222222,
             "#7201a8"
            ],
            [
             0.3333333333333333,
             "#9c179e"
            ],
            [
             0.4444444444444444,
             "#bd3786"
            ],
            [
             0.5555555555555556,
             "#d8576b"
            ],
            [
             0.6666666666666666,
             "#ed7953"
            ],
            [
             0.7777777777777778,
             "#fb9f3a"
            ],
            [
             0.8888888888888888,
             "#fdca26"
            ],
            [
             1,
             "#f0f921"
            ]
           ]
          },
          "colorway": [
           "#636efa",
           "#EF553B",
           "#00cc96",
           "#ab63fa",
           "#FFA15A",
           "#19d3f3",
           "#FF6692",
           "#B6E880",
           "#FF97FF",
           "#FECB52"
          ],
          "font": {
           "color": "#2a3f5f"
          },
          "geo": {
           "bgcolor": "white",
           "lakecolor": "white",
           "landcolor": "#E5ECF6",
           "showlakes": true,
           "showland": true,
           "subunitcolor": "white"
          },
          "hoverlabel": {
           "align": "left"
          },
          "hovermode": "closest",
          "mapbox": {
           "style": "light"
          },
          "paper_bgcolor": "white",
          "plot_bgcolor": "#E5ECF6",
          "polar": {
           "angularaxis": {
            "gridcolor": "white",
            "linecolor": "white",
            "ticks": ""
           },
           "bgcolor": "#E5ECF6",
           "radialaxis": {
            "gridcolor": "white",
            "linecolor": "white",
            "ticks": ""
           }
          },
          "scene": {
           "xaxis": {
            "backgroundcolor": "#E5ECF6",
            "gridcolor": "white",
            "gridwidth": 2,
            "linecolor": "white",
            "showbackground": true,
            "ticks": "",
            "zerolinecolor": "white"
           },
           "yaxis": {
            "backgroundcolor": "#E5ECF6",
            "gridcolor": "white",
            "gridwidth": 2,
            "linecolor": "white",
            "showbackground": true,
            "ticks": "",
            "zerolinecolor": "white"
           },
           "zaxis": {
            "backgroundcolor": "#E5ECF6",
            "gridcolor": "white",
            "gridwidth": 2,
            "linecolor": "white",
            "showbackground": true,
            "ticks": "",
            "zerolinecolor": "white"
           }
          },
          "shapedefaults": {
           "line": {
            "color": "#2a3f5f"
           }
          },
          "ternary": {
           "aaxis": {
            "gridcolor": "white",
            "linecolor": "white",
            "ticks": ""
           },
           "baxis": {
            "gridcolor": "white",
            "linecolor": "white",
            "ticks": ""
           },
           "bgcolor": "#E5ECF6",
           "caxis": {
            "gridcolor": "white",
            "linecolor": "white",
            "ticks": ""
           }
          },
          "title": {
           "x": 0.05
          },
          "xaxis": {
           "automargin": true,
           "gridcolor": "white",
           "linecolor": "white",
           "ticks": "",
           "title": {
            "standoff": 15
           },
           "zerolinecolor": "white",
           "zerolinewidth": 2
          },
          "yaxis": {
           "automargin": true,
           "gridcolor": "white",
           "linecolor": "white",
           "ticks": "",
           "title": {
            "standoff": 15
           },
           "zerolinecolor": "white",
           "zerolinewidth": 2
          }
         }
        },
        "title": {
         "text": "Defunciones generales en los municipios en 2021"
        }
       }
      }
     },
     "metadata": {},
     "output_type": "display_data"
    }
   ],
   "source": [
    "df = municipios.query(\"año == 2021\").query(\"indicador == 'Defunciones generales'\")\n",
    "df.loc[df['valor'] < 500, 'desc_municipio'] = 'Otros municipios' # Represent only large countries\n",
    "fig = px.pie(df, values='valor', names='desc_municipio', title='Defunciones generales en los municipios en 2021')\n",
    "fig.show()"
   ]
  },
  {
   "cell_type": "code",
   "execution_count": 60,
   "metadata": {},
   "outputs": [
    {
     "data": {
      "application/vnd.plotly.v1+json": {
       "config": {
        "plotlyServerURL": "https://plot.ly"
       },
       "data": [
        {
         "domain": {
          "x": [
           0,
           1
          ],
          "y": [
           0,
           1
          ]
         },
         "hovertemplate": "desc_municipio=%{label}<br>valor=%{value}<extra></extra>",
         "labels": [
          "Abasolo",
          "Acámbaro",
          "San Miguel de Allende",
          "Otros municipios",
          "Apaseo el Grande",
          "Otros municipios",
          "Celaya",
          "Otros municipios",
          "Otros municipios",
          "Otros municipios",
          "Cortazar",
          "Otros municipios",
          "Otros municipios",
          "Dolores Hidalgo Cuna de la Independencia Nacional",
          "Guanajuato",
          "Otros municipios",
          "Irapuato",
          "Otros municipios",
          "Otros municipios",
          "León",
          "Otros municipios",
          "Otros municipios",
          "Pénjamo",
          "Otros municipios",
          "Otros municipios",
          "Otros municipios",
          "Salamanca",
          "Salvatierra",
          "Otros municipios",
          "San Felipe",
          "San Francisco del Rincón",
          "Otros municipios",
          "San Luis de la Paz",
          "Otros municipios",
          "Otros municipios",
          "Otros municipios",
          "Silao de la Victoria",
          "Otros municipios",
          "Otros municipios",
          "Otros municipios",
          "Otros municipios",
          "Valle de Santiago",
          "Otros municipios",
          "Otros municipios",
          "Otros municipios",
          "Yuriria"
         ],
         "legendgroup": "",
         "name": "",
         "showlegend": true,
         "type": "pie",
         "values": [
          634,
          945,
          997,
          376,
          647,
          30,
          2900,
          241,
          467,
          68,
          578,
          189,
          115,
          815,
          861,
          130,
          3134,
          217,
          315,
          7477,
          340,
          151,
          944,
          117,
          406,
          332,
          1606,
          733,
          197,
          580,
          778,
          410,
          673,
          30,
          430,
          55,
          946,
          80,
          267,
          78,
          359,
          933,
          114,
          299,
          62,
          520
         ]
        }
       ],
       "layout": {
        "legend": {
         "tracegroupgap": 0
        },
        "template": {
         "data": {
          "bar": [
           {
            "error_x": {
             "color": "#2a3f5f"
            },
            "error_y": {
             "color": "#2a3f5f"
            },
            "marker": {
             "line": {
              "color": "#E5ECF6",
              "width": 0.5
             },
             "pattern": {
              "fillmode": "overlay",
              "size": 10,
              "solidity": 0.2
             }
            },
            "type": "bar"
           }
          ],
          "barpolar": [
           {
            "marker": {
             "line": {
              "color": "#E5ECF6",
              "width": 0.5
             },
             "pattern": {
              "fillmode": "overlay",
              "size": 10,
              "solidity": 0.2
             }
            },
            "type": "barpolar"
           }
          ],
          "carpet": [
           {
            "aaxis": {
             "endlinecolor": "#2a3f5f",
             "gridcolor": "white",
             "linecolor": "white",
             "minorgridcolor": "white",
             "startlinecolor": "#2a3f5f"
            },
            "baxis": {
             "endlinecolor": "#2a3f5f",
             "gridcolor": "white",
             "linecolor": "white",
             "minorgridcolor": "white",
             "startlinecolor": "#2a3f5f"
            },
            "type": "carpet"
           }
          ],
          "choropleth": [
           {
            "colorbar": {
             "outlinewidth": 0,
             "ticks": ""
            },
            "type": "choropleth"
           }
          ],
          "contour": [
           {
            "colorbar": {
             "outlinewidth": 0,
             "ticks": ""
            },
            "colorscale": [
             [
              0,
              "#0d0887"
             ],
             [
              0.1111111111111111,
              "#46039f"
             ],
             [
              0.2222222222222222,
              "#7201a8"
             ],
             [
              0.3333333333333333,
              "#9c179e"
             ],
             [
              0.4444444444444444,
              "#bd3786"
             ],
             [
              0.5555555555555556,
              "#d8576b"
             ],
             [
              0.6666666666666666,
              "#ed7953"
             ],
             [
              0.7777777777777778,
              "#fb9f3a"
             ],
             [
              0.8888888888888888,
              "#fdca26"
             ],
             [
              1,
              "#f0f921"
             ]
            ],
            "type": "contour"
           }
          ],
          "contourcarpet": [
           {
            "colorbar": {
             "outlinewidth": 0,
             "ticks": ""
            },
            "type": "contourcarpet"
           }
          ],
          "heatmap": [
           {
            "colorbar": {
             "outlinewidth": 0,
             "ticks": ""
            },
            "colorscale": [
             [
              0,
              "#0d0887"
             ],
             [
              0.1111111111111111,
              "#46039f"
             ],
             [
              0.2222222222222222,
              "#7201a8"
             ],
             [
              0.3333333333333333,
              "#9c179e"
             ],
             [
              0.4444444444444444,
              "#bd3786"
             ],
             [
              0.5555555555555556,
              "#d8576b"
             ],
             [
              0.6666666666666666,
              "#ed7953"
             ],
             [
              0.7777777777777778,
              "#fb9f3a"
             ],
             [
              0.8888888888888888,
              "#fdca26"
             ],
             [
              1,
              "#f0f921"
             ]
            ],
            "type": "heatmap"
           }
          ],
          "heatmapgl": [
           {
            "colorbar": {
             "outlinewidth": 0,
             "ticks": ""
            },
            "colorscale": [
             [
              0,
              "#0d0887"
             ],
             [
              0.1111111111111111,
              "#46039f"
             ],
             [
              0.2222222222222222,
              "#7201a8"
             ],
             [
              0.3333333333333333,
              "#9c179e"
             ],
             [
              0.4444444444444444,
              "#bd3786"
             ],
             [
              0.5555555555555556,
              "#d8576b"
             ],
             [
              0.6666666666666666,
              "#ed7953"
             ],
             [
              0.7777777777777778,
              "#fb9f3a"
             ],
             [
              0.8888888888888888,
              "#fdca26"
             ],
             [
              1,
              "#f0f921"
             ]
            ],
            "type": "heatmapgl"
           }
          ],
          "histogram": [
           {
            "marker": {
             "pattern": {
              "fillmode": "overlay",
              "size": 10,
              "solidity": 0.2
             }
            },
            "type": "histogram"
           }
          ],
          "histogram2d": [
           {
            "colorbar": {
             "outlinewidth": 0,
             "ticks": ""
            },
            "colorscale": [
             [
              0,
              "#0d0887"
             ],
             [
              0.1111111111111111,
              "#46039f"
             ],
             [
              0.2222222222222222,
              "#7201a8"
             ],
             [
              0.3333333333333333,
              "#9c179e"
             ],
             [
              0.4444444444444444,
              "#bd3786"
             ],
             [
              0.5555555555555556,
              "#d8576b"
             ],
             [
              0.6666666666666666,
              "#ed7953"
             ],
             [
              0.7777777777777778,
              "#fb9f3a"
             ],
             [
              0.8888888888888888,
              "#fdca26"
             ],
             [
              1,
              "#f0f921"
             ]
            ],
            "type": "histogram2d"
           }
          ],
          "histogram2dcontour": [
           {
            "colorbar": {
             "outlinewidth": 0,
             "ticks": ""
            },
            "colorscale": [
             [
              0,
              "#0d0887"
             ],
             [
              0.1111111111111111,
              "#46039f"
             ],
             [
              0.2222222222222222,
              "#7201a8"
             ],
             [
              0.3333333333333333,
              "#9c179e"
             ],
             [
              0.4444444444444444,
              "#bd3786"
             ],
             [
              0.5555555555555556,
              "#d8576b"
             ],
             [
              0.6666666666666666,
              "#ed7953"
             ],
             [
              0.7777777777777778,
              "#fb9f3a"
             ],
             [
              0.8888888888888888,
              "#fdca26"
             ],
             [
              1,
              "#f0f921"
             ]
            ],
            "type": "histogram2dcontour"
           }
          ],
          "mesh3d": [
           {
            "colorbar": {
             "outlinewidth": 0,
             "ticks": ""
            },
            "type": "mesh3d"
           }
          ],
          "parcoords": [
           {
            "line": {
             "colorbar": {
              "outlinewidth": 0,
              "ticks": ""
             }
            },
            "type": "parcoords"
           }
          ],
          "pie": [
           {
            "automargin": true,
            "type": "pie"
           }
          ],
          "scatter": [
           {
            "fillpattern": {
             "fillmode": "overlay",
             "size": 10,
             "solidity": 0.2
            },
            "type": "scatter"
           }
          ],
          "scatter3d": [
           {
            "line": {
             "colorbar": {
              "outlinewidth": 0,
              "ticks": ""
             }
            },
            "marker": {
             "colorbar": {
              "outlinewidth": 0,
              "ticks": ""
             }
            },
            "type": "scatter3d"
           }
          ],
          "scattercarpet": [
           {
            "marker": {
             "colorbar": {
              "outlinewidth": 0,
              "ticks": ""
             }
            },
            "type": "scattercarpet"
           }
          ],
          "scattergeo": [
           {
            "marker": {
             "colorbar": {
              "outlinewidth": 0,
              "ticks": ""
             }
            },
            "type": "scattergeo"
           }
          ],
          "scattergl": [
           {
            "marker": {
             "colorbar": {
              "outlinewidth": 0,
              "ticks": ""
             }
            },
            "type": "scattergl"
           }
          ],
          "scattermapbox": [
           {
            "marker": {
             "colorbar": {
              "outlinewidth": 0,
              "ticks": ""
             }
            },
            "type": "scattermapbox"
           }
          ],
          "scatterpolar": [
           {
            "marker": {
             "colorbar": {
              "outlinewidth": 0,
              "ticks": ""
             }
            },
            "type": "scatterpolar"
           }
          ],
          "scatterpolargl": [
           {
            "marker": {
             "colorbar": {
              "outlinewidth": 0,
              "ticks": ""
             }
            },
            "type": "scatterpolargl"
           }
          ],
          "scatterternary": [
           {
            "marker": {
             "colorbar": {
              "outlinewidth": 0,
              "ticks": ""
             }
            },
            "type": "scatterternary"
           }
          ],
          "surface": [
           {
            "colorbar": {
             "outlinewidth": 0,
             "ticks": ""
            },
            "colorscale": [
             [
              0,
              "#0d0887"
             ],
             [
              0.1111111111111111,
              "#46039f"
             ],
             [
              0.2222222222222222,
              "#7201a8"
             ],
             [
              0.3333333333333333,
              "#9c179e"
             ],
             [
              0.4444444444444444,
              "#bd3786"
             ],
             [
              0.5555555555555556,
              "#d8576b"
             ],
             [
              0.6666666666666666,
              "#ed7953"
             ],
             [
              0.7777777777777778,
              "#fb9f3a"
             ],
             [
              0.8888888888888888,
              "#fdca26"
             ],
             [
              1,
              "#f0f921"
             ]
            ],
            "type": "surface"
           }
          ],
          "table": [
           {
            "cells": {
             "fill": {
              "color": "#EBF0F8"
             },
             "line": {
              "color": "white"
             }
            },
            "header": {
             "fill": {
              "color": "#C8D4E3"
             },
             "line": {
              "color": "white"
             }
            },
            "type": "table"
           }
          ]
         },
         "layout": {
          "annotationdefaults": {
           "arrowcolor": "#2a3f5f",
           "arrowhead": 0,
           "arrowwidth": 1
          },
          "autotypenumbers": "strict",
          "coloraxis": {
           "colorbar": {
            "outlinewidth": 0,
            "ticks": ""
           }
          },
          "colorscale": {
           "diverging": [
            [
             0,
             "#8e0152"
            ],
            [
             0.1,
             "#c51b7d"
            ],
            [
             0.2,
             "#de77ae"
            ],
            [
             0.3,
             "#f1b6da"
            ],
            [
             0.4,
             "#fde0ef"
            ],
            [
             0.5,
             "#f7f7f7"
            ],
            [
             0.6,
             "#e6f5d0"
            ],
            [
             0.7,
             "#b8e186"
            ],
            [
             0.8,
             "#7fbc41"
            ],
            [
             0.9,
             "#4d9221"
            ],
            [
             1,
             "#276419"
            ]
           ],
           "sequential": [
            [
             0,
             "#0d0887"
            ],
            [
             0.1111111111111111,
             "#46039f"
            ],
            [
             0.2222222222222222,
             "#7201a8"
            ],
            [
             0.3333333333333333,
             "#9c179e"
            ],
            [
             0.4444444444444444,
             "#bd3786"
            ],
            [
             0.5555555555555556,
             "#d8576b"
            ],
            [
             0.6666666666666666,
             "#ed7953"
            ],
            [
             0.7777777777777778,
             "#fb9f3a"
            ],
            [
             0.8888888888888888,
             "#fdca26"
            ],
            [
             1,
             "#f0f921"
            ]
           ],
           "sequentialminus": [
            [
             0,
             "#0d0887"
            ],
            [
             0.1111111111111111,
             "#46039f"
            ],
            [
             0.2222222222222222,
             "#7201a8"
            ],
            [
             0.3333333333333333,
             "#9c179e"
            ],
            [
             0.4444444444444444,
             "#bd3786"
            ],
            [
             0.5555555555555556,
             "#d8576b"
            ],
            [
             0.6666666666666666,
             "#ed7953"
            ],
            [
             0.7777777777777778,
             "#fb9f3a"
            ],
            [
             0.8888888888888888,
             "#fdca26"
            ],
            [
             1,
             "#f0f921"
            ]
           ]
          },
          "colorway": [
           "#636efa",
           "#EF553B",
           "#00cc96",
           "#ab63fa",
           "#FFA15A",
           "#19d3f3",
           "#FF6692",
           "#B6E880",
           "#FF97FF",
           "#FECB52"
          ],
          "font": {
           "color": "#2a3f5f"
          },
          "geo": {
           "bgcolor": "white",
           "lakecolor": "white",
           "landcolor": "#E5ECF6",
           "showlakes": true,
           "showland": true,
           "subunitcolor": "white"
          },
          "hoverlabel": {
           "align": "left"
          },
          "hovermode": "closest",
          "mapbox": {
           "style": "light"
          },
          "paper_bgcolor": "white",
          "plot_bgcolor": "#E5ECF6",
          "polar": {
           "angularaxis": {
            "gridcolor": "white",
            "linecolor": "white",
            "ticks": ""
           },
           "bgcolor": "#E5ECF6",
           "radialaxis": {
            "gridcolor": "white",
            "linecolor": "white",
            "ticks": ""
           }
          },
          "scene": {
           "xaxis": {
            "backgroundcolor": "#E5ECF6",
            "gridcolor": "white",
            "gridwidth": 2,
            "linecolor": "white",
            "showbackground": true,
            "ticks": "",
            "zerolinecolor": "white"
           },
           "yaxis": {
            "backgroundcolor": "#E5ECF6",
            "gridcolor": "white",
            "gridwidth": 2,
            "linecolor": "white",
            "showbackground": true,
            "ticks": "",
            "zerolinecolor": "white"
           },
           "zaxis": {
            "backgroundcolor": "#E5ECF6",
            "gridcolor": "white",
            "gridwidth": 2,
            "linecolor": "white",
            "showbackground": true,
            "ticks": "",
            "zerolinecolor": "white"
           }
          },
          "shapedefaults": {
           "line": {
            "color": "#2a3f5f"
           }
          },
          "ternary": {
           "aaxis": {
            "gridcolor": "white",
            "linecolor": "white",
            "ticks": ""
           },
           "baxis": {
            "gridcolor": "white",
            "linecolor": "white",
            "ticks": ""
           },
           "bgcolor": "#E5ECF6",
           "caxis": {
            "gridcolor": "white",
            "linecolor": "white",
            "ticks": ""
           }
          },
          "title": {
           "x": 0.05
          },
          "xaxis": {
           "automargin": true,
           "gridcolor": "white",
           "linecolor": "white",
           "ticks": "",
           "title": {
            "standoff": 15
           },
           "zerolinecolor": "white",
           "zerolinewidth": 2
          },
          "yaxis": {
           "automargin": true,
           "gridcolor": "white",
           "linecolor": "white",
           "ticks": "",
           "title": {
            "standoff": 15
           },
           "zerolinecolor": "white",
           "zerolinewidth": 2
          }
         }
        },
        "title": {
         "text": "Defunciones generales en los municipios en 2021"
        }
       }
      }
     },
     "metadata": {},
     "output_type": "display_data"
    }
   ],
   "source": [
    "df = municipios.query(\"año == 2021\").query(\"indicador == 'Defunciones generales hombres'\")\n",
    "df.loc[df['valor'] < 500, 'desc_municipio'] = 'Otros municipios' # Represent only large countries\n",
    "fig = px.pie(df, values='valor', names='desc_municipio', title='Defunciones generales en los municipios en 2021')\n",
    "fig.show()"
   ]
  },
  {
   "cell_type": "code",
   "execution_count": null,
   "metadata": {},
   "outputs": [],
   "source": [
    "df = municipios.query(\"año == 2021\").query(\"indicador == 'Defunciones generales mujeres'\")\n",
    "df.loc[df['valor'] < 500, 'desc_municipio'] = 'Otros municipios' # Represent only large countries\n",
    "fig = px.pie(df, values='valor', names='desc_municipio', title='Defunciones generales en los municipios en 2021')\n",
    "fig.show()"
   ]
  },
  {
   "cell_type": "code",
   "execution_count": 37,
   "metadata": {},
   "outputs": [
    {
     "data": {
      "text/plain": [
       "desc_municipio\n",
       "León                                                 173622.0\n",
       "Irapuato                                              72485.0\n",
       "Celaya                                                65285.0\n",
       "Salamanca                                             38943.0\n",
       "Pénjamo                                               24499.0\n",
       "San Miguel de Allende                                 23669.0\n",
       "Valle de Santiago                                     22397.0\n",
       "Silao de la Victoria                                  22311.0\n",
       "Acámbaro                                              22255.0\n",
       "Guanajuato                                            21996.0\n",
       "Salvatierra                                           20216.0\n",
       "Dolores Hidalgo Cuna de la Independencia Nacional     20103.0\n",
       "San Francisco del Rincón                              16138.0\n",
       "San Luis de la Paz                                    15922.0\n",
       "San Felipe                                            15059.0\n",
       "Cortazar                                              14723.0\n",
       "Yuriria                                               12752.0\n",
       "Abasolo                                               12738.0\n",
       "Apaseo el Grande                                      11967.0\n",
       "Comonfort                                             11413.0\n",
       "Santa Cruz de Juventino Rosas                         11396.0\n",
       "Apaseo el Alto                                         9596.0\n",
       "San José Iturbide                                      9468.0\n",
       "Jerécuaro                                              8575.0\n",
       "Uriangato                                              8510.0\n",
       "Moroleón                                               8478.0\n",
       "Romita                                                 8420.0\n",
       "Villagrán                                              7831.0\n",
       "Purísima del Rincón                                    7228.0\n",
       "Tarimoro                                               7169.0\n",
       "Manuel Doblado                                         6076.0\n",
       "Jaral del Progreso                                     5782.0\n",
       "San Diego de la Unión                                  5323.0\n",
       "Cuerámaro                                              4896.0\n",
       "Ocampo                                                 3595.0\n",
       "Victoria                                               3311.0\n",
       "Huanímaro                                              3225.0\n",
       "Doctor Mora                                            3132.0\n",
       "Tierra Blanca                                          2586.0\n",
       "Pueblo Nuevo                                           2490.0\n",
       "Tarandacuao                                            2359.0\n",
       "Coroneo                                                2179.0\n",
       "Xichú                                                  1758.0\n",
       "Santiago Maravatío                                     1724.0\n",
       "Santa Catarina                                          993.0\n",
       "Atarjea                                                 878.0\n",
       "Name: valor, dtype: float64"
      ]
     },
     "execution_count": 37,
     "metadata": {},
     "output_type": "execute_result"
    }
   ],
   "source": [
    "grupo = mun_g.groupby(['desc_municipio'])['valor'].agg('sum')\n",
    "grupo.sort_values(ascending=False)"
   ]
  },
  {
   "attachments": {},
   "cell_type": "markdown",
   "metadata": {},
   "source": []
  }
 ],
 "metadata": {
  "kernelspec": {
   "display_name": "venv",
   "language": "python",
   "name": "python3"
  },
  "language_info": {
   "codemirror_mode": {
    "name": "ipython",
    "version": 3
   },
   "file_extension": ".py",
   "mimetype": "text/x-python",
   "name": "python",
   "nbconvert_exporter": "python",
   "pygments_lexer": "ipython3",
   "version": "3.10.7"
  },
  "orig_nbformat": 4,
  "vscode": {
   "interpreter": {
    "hash": "db973748d554fe877f6d9111806cb50178df9c16a3a25e5b14b094e6adb1a722"
   }
  }
 },
 "nbformat": 4,
 "nbformat_minor": 2
}
