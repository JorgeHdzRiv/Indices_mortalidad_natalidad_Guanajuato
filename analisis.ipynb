{
 "cells": [
  {
   "attachments": {},
   "cell_type": "markdown",
   "metadata": {},
   "source": [
    "# Introduccion\n",
    "\n",
    "A lo largo del tiempo el estado de Guanajuato se ha convertido en uno de los mas violentos del pais\n",
    "\n",
    "## Informacion del dataset\n",
    "\n",
    "| Id        | Nombre   | Descripcion |\n",
    "|--------------|-----------|------------|\n",
    "|1002000030| Defunciones generales| Esta información se actualiza anualmente       |\n",
    "|1002000031|Defunciones generales hombres|La información se presenta por lugar de residencia habitual del fallecido|\n",
    "|1002000032|Defunciones generales mujeres|La información se presenta por lugar de residencia habitual del fallecido|\n",
    "|1002000033|Defunciones generales de sexo no especificado|La información se presenta por lugar de residencia habitual del fallecido|\n",
    "|1002000034|Defunciones de menores de un año|La información se presenta por lugar de residencia habitual del fallecido|\n",
    "|1002000035|Defunciones de menores de un año hombres|La información se presenta por lugar de residencia habitual del fallecido|\n",
    "|1002000036|Defunciones de menores de un año mujeres|La información se presenta por lugar de residencia habitual del fallecido|\n",
    "|1002000037|Defunciones de menores de un año de sexo no especificado|La información se presenta por lugar de residencia habitual del fallecido|\n",
    "|6200240338|Suicidios registrados|Defunciones registradas por entidad federativa de residencia habitual de la persona fallecida|\n",
    "|6200240468|Índice de sobremortalidad masculina|Es la relación de las defunciones masculinas por cada cien defunciones femeninas|\n",
    "|6200240526|Porcentaje de muertes por suicidio con respecto al total de muertes violentas|El cálculo se realizó con base en las defunciones generales de residencia habitual de la persona fallecida|\n",
    "\n"
   ]
  },
  {
   "attachments": {},
   "cell_type": "markdown",
   "metadata": {},
   "source": [
    "## Limpieza de datos"
   ]
  },
  {
   "cell_type": "code",
   "execution_count": 42,
   "metadata": {},
   "outputs": [],
   "source": [
    "import pandas as pd\n",
    "import numpy as np\n",
    "import matplotlib.pyplot as plt\n",
    "\n",
    "plt.style.use('ggplot')"
   ]
  },
  {
   "cell_type": "code",
   "execution_count": 2,
   "metadata": {},
   "outputs": [
    {
     "data": {
      "text/html": [
       "<div>\n",
       "<style scoped>\n",
       "    .dataframe tbody tr th:only-of-type {\n",
       "        vertical-align: middle;\n",
       "    }\n",
       "\n",
       "    .dataframe tbody tr th {\n",
       "        vertical-align: top;\n",
       "    }\n",
       "\n",
       "    .dataframe thead th {\n",
       "        text-align: right;\n",
       "    }\n",
       "</style>\n",
       "<table border=\"1\" class=\"dataframe\">\n",
       "  <thead>\n",
       "    <tr style=\"text-align: right;\">\n",
       "      <th></th>\n",
       "      <th>cve_entidad</th>\n",
       "      <th>desc_entidad</th>\n",
       "      <th>cve_municipio</th>\n",
       "      <th>desc_municipio</th>\n",
       "      <th>id_indicador</th>\n",
       "      <th>indicador</th>\n",
       "      <th>año</th>\n",
       "      <th>valor</th>\n",
       "      <th>unidad_medida</th>\n",
       "    </tr>\n",
       "  </thead>\n",
       "  <tbody>\n",
       "    <tr>\n",
       "      <th>0</th>\n",
       "      <td>11</td>\n",
       "      <td>Guanajuato</td>\n",
       "      <td>0</td>\n",
       "      <td>Estatal</td>\n",
       "      <td>1002000030</td>\n",
       "      <td>Defunciones generales</td>\n",
       "      <td>1994</td>\n",
       "      <td>20798.0</td>\n",
       "      <td>Defunciones</td>\n",
       "    </tr>\n",
       "    <tr>\n",
       "      <th>1</th>\n",
       "      <td>11</td>\n",
       "      <td>Guanajuato</td>\n",
       "      <td>0</td>\n",
       "      <td>Estatal</td>\n",
       "      <td>1002000030</td>\n",
       "      <td>Defunciones generales</td>\n",
       "      <td>1995</td>\n",
       "      <td>21482.0</td>\n",
       "      <td>Defunciones</td>\n",
       "    </tr>\n",
       "    <tr>\n",
       "      <th>2</th>\n",
       "      <td>11</td>\n",
       "      <td>Guanajuato</td>\n",
       "      <td>0</td>\n",
       "      <td>Estatal</td>\n",
       "      <td>1002000030</td>\n",
       "      <td>Defunciones generales</td>\n",
       "      <td>1996</td>\n",
       "      <td>21469.0</td>\n",
       "      <td>Defunciones</td>\n",
       "    </tr>\n",
       "    <tr>\n",
       "      <th>3</th>\n",
       "      <td>11</td>\n",
       "      <td>Guanajuato</td>\n",
       "      <td>0</td>\n",
       "      <td>Estatal</td>\n",
       "      <td>1002000030</td>\n",
       "      <td>Defunciones generales</td>\n",
       "      <td>1997</td>\n",
       "      <td>21492.0</td>\n",
       "      <td>Defunciones</td>\n",
       "    </tr>\n",
       "    <tr>\n",
       "      <th>4</th>\n",
       "      <td>11</td>\n",
       "      <td>Guanajuato</td>\n",
       "      <td>0</td>\n",
       "      <td>Estatal</td>\n",
       "      <td>1002000030</td>\n",
       "      <td>Defunciones generales</td>\n",
       "      <td>1998</td>\n",
       "      <td>21759.0</td>\n",
       "      <td>Defunciones</td>\n",
       "    </tr>\n",
       "  </tbody>\n",
       "</table>\n",
       "</div>"
      ],
      "text/plain": [
       "   cve_entidad desc_entidad  cve_municipio desc_municipio  id_indicador  \\\n",
       "0           11   Guanajuato              0        Estatal    1002000030   \n",
       "1           11   Guanajuato              0        Estatal    1002000030   \n",
       "2           11   Guanajuato              0        Estatal    1002000030   \n",
       "3           11   Guanajuato              0        Estatal    1002000030   \n",
       "4           11   Guanajuato              0        Estatal    1002000030   \n",
       "\n",
       "               indicador   año    valor unidad_medida  \n",
       "0  Defunciones generales  1994  20798.0   Defunciones  \n",
       "1  Defunciones generales  1995  21482.0   Defunciones  \n",
       "2  Defunciones generales  1996  21469.0   Defunciones  \n",
       "3  Defunciones generales  1997  21492.0   Defunciones  \n",
       "4  Defunciones generales  1998  21759.0   Defunciones  "
      ]
     },
     "execution_count": 2,
     "metadata": {},
     "output_type": "execute_result"
    }
   ],
   "source": [
    "mortalidad = pd.read_csv('data/mortalidad.csv')\n",
    "\n",
    "mortalidad.head()"
   ]
  },
  {
   "cell_type": "code",
   "execution_count": 11,
   "metadata": {},
   "outputs": [
    {
     "name": "stdout",
     "output_type": "stream",
     "text": [
      "<class 'pandas.core.frame.DataFrame'>\n",
      "RangeIndex: 10644 entries, 0 to 10643\n",
      "Data columns (total 9 columns):\n",
      " #   Column          Non-Null Count  Dtype  \n",
      "---  ------          --------------  -----  \n",
      " 0   cve_entidad     10644 non-null  int64  \n",
      " 1   desc_entidad    10644 non-null  object \n",
      " 2   cve_municipio   10644 non-null  int64  \n",
      " 3   desc_municipio  10644 non-null  object \n",
      " 4   id_indicador    10644 non-null  int64  \n",
      " 5   indicador       10644 non-null  object \n",
      " 6   año             10644 non-null  int64  \n",
      " 7   valor           10644 non-null  float64\n",
      " 8   unidad_medida   10644 non-null  object \n",
      "dtypes: float64(1), int64(4), object(4)\n",
      "memory usage: 748.5+ KB\n"
     ]
    }
   ],
   "source": [
    "mortalidad.info()"
   ]
  },
  {
   "cell_type": "code",
   "execution_count": 12,
   "metadata": {},
   "outputs": [
    {
     "data": {
      "text/plain": [
       "Defunciones generales                                                            1344\n",
       "Defunciones generales hombres                                                    1344\n",
       "Defunciones generales mujeres                                                    1344\n",
       "Defunciones generales de sexo no especificado                                    1344\n",
       "Defunciones de menores de un año                                                 1296\n",
       "Defunciones de menores de un año hombres                                         1296\n",
       "Defunciones de menores de un año mujeres                                         1296\n",
       "Defunciones de menores de un año de sexo no especificado                         1296\n",
       "Suicidios registrados                                                              28\n",
       "Índice de sobremortalidad masculina                                                28\n",
       "Porcentaje de muertes por suicidio con respecto al total de muertes violentas      28\n",
       "Name: indicador, dtype: int64"
      ]
     },
     "execution_count": 12,
     "metadata": {},
     "output_type": "execute_result"
    }
   ],
   "source": [
    "mortalidad['indicador'].value_counts()"
   ]
  },
  {
   "cell_type": "code",
   "execution_count": 13,
   "metadata": {},
   "outputs": [
    {
     "data": {
      "text/plain": [
       "Estatal                                              304\n",
       "Abasolo                                              220\n",
       "Romita                                               220\n",
       "Salamanca                                            220\n",
       "Salvatierra                                          220\n",
       "San Diego de la Unión                                220\n",
       "San Felipe                                           220\n",
       "San Francisco del Rincón                             220\n",
       "San José Iturbide                                    220\n",
       "San Luis de la Paz                                   220\n",
       "Santa Catarina                                       220\n",
       "Santa Cruz de Juventino Rosas                        220\n",
       "Santiago Maravatío                                   220\n",
       "Silao de la Victoria                                 220\n",
       "Tarandacuao                                          220\n",
       "Tarimoro                                             220\n",
       "Tierra Blanca                                        220\n",
       "Uriangato                                            220\n",
       "Valle de Santiago                                    220\n",
       "Victoria                                             220\n",
       "Villagrán                                            220\n",
       "Xichú                                                220\n",
       "Yuriria                                              220\n",
       "Purísima del Rincón                                  220\n",
       "Pueblo Nuevo                                         220\n",
       "Pénjamo                                              220\n",
       "Cortazar                                             220\n",
       "Acámbaro                                             220\n",
       "San Miguel de Allende                                220\n",
       "Apaseo el Alto                                       220\n",
       "Apaseo el Grande                                     220\n",
       "Atarjea                                              220\n",
       "Celaya                                               220\n",
       "Manuel Doblado                                       220\n",
       "Comonfort                                            220\n",
       "Coroneo                                              220\n",
       "Cuerámaro                                            220\n",
       "Ocampo                                               220\n",
       "Doctor Mora                                          220\n",
       "Dolores Hidalgo Cuna de la Independencia Nacional    220\n",
       "Guanajuato                                           220\n",
       "Huanímaro                                            220\n",
       "Irapuato                                             220\n",
       "Jaral del Progreso                                   220\n",
       "Jerécuaro                                            220\n",
       "León                                                 220\n",
       "Moroleón                                             220\n",
       "No especificado                                      220\n",
       "Name: desc_municipio, dtype: int64"
      ]
     },
     "execution_count": 13,
     "metadata": {},
     "output_type": "execute_result"
    }
   ],
   "source": [
    "mortalidad['desc_municipio'].value_counts()"
   ]
  },
  {
   "attachments": {},
   "cell_type": "markdown",
   "metadata": {},
   "source": [
    "Podemos observar que el dataset esta dividido por defunciones en todo el estado, por municipio y lugares no especificado para esto trabajamos con 3 dataframes generales(estado,municipio,no_especificado)"
   ]
  },
  {
   "cell_type": "code",
   "execution_count": 18,
   "metadata": {},
   "outputs": [],
   "source": [
    "m_estado = mortalidad[mortalidad['desc_municipio'] == 'Estatal']\n",
    "m_municipios = mortalidad[(mortalidad['desc_municipio'] != 'Estatal') & (mortalidad['desc_municipio'] != 'No especificado')]\n",
    "m_no_especificado = mortalidad[mortalidad['desc_municipio'] == 'No especificado']"
   ]
  },
  {
   "attachments": {},
   "cell_type": "markdown",
   "metadata": {},
   "source": [
    "### Analisis del estado de Guanajuato en general\n"
   ]
  },
  {
   "cell_type": "code",
   "execution_count": 25,
   "metadata": {},
   "outputs": [
    {
     "name": "stdout",
     "output_type": "stream",
     "text": [
      "<class 'pandas.core.frame.DataFrame'>\n",
      "Int64Index: 304 entries, 0 to 303\n",
      "Data columns (total 9 columns):\n",
      " #   Column          Non-Null Count  Dtype  \n",
      "---  ------          --------------  -----  \n",
      " 0   cve_entidad     304 non-null    int64  \n",
      " 1   desc_entidad    304 non-null    object \n",
      " 2   cve_municipio   304 non-null    int64  \n",
      " 3   desc_municipio  304 non-null    object \n",
      " 4   id_indicador    304 non-null    int64  \n",
      " 5   indicador       304 non-null    object \n",
      " 6   año             304 non-null    int64  \n",
      " 7   valor           304 non-null    float64\n",
      " 8   unidad_medida   304 non-null    object \n",
      "dtypes: float64(1), int64(4), object(4)\n",
      "memory usage: 23.8+ KB\n"
     ]
    }
   ],
   "source": [
    "m_estado.info()"
   ]
  },
  {
   "attachments": {},
   "cell_type": "markdown",
   "metadata": {},
   "source": [
    "Considerando defunciones y porcentajes dividimos el dataframe"
   ]
  },
  {
   "cell_type": "code",
   "execution_count": 26,
   "metadata": {},
   "outputs": [
    {
     "data": {
      "text/plain": [
       "Defunciones    248\n",
       "Porcentaje      56\n",
       "Name: unidad_medida, dtype: int64"
      ]
     },
     "execution_count": 26,
     "metadata": {},
     "output_type": "execute_result"
    }
   ],
   "source": [
    "m_estado['unidad_medida'].value_counts()"
   ]
  },
  {
   "cell_type": "code",
   "execution_count": 27,
   "metadata": {},
   "outputs": [],
   "source": [
    "m_estado_def = m_estado[m_estado['unidad_medida'] == 'Defunciones']\n",
    "m_estado_por = m_estado[m_estado['unidad_medida'] == 'Porcentaje']"
   ]
  },
  {
   "attachments": {},
   "cell_type": "markdown",
   "metadata": {},
   "source": [
    "#### Analisis de defunciones en el estado"
   ]
  },
  {
   "cell_type": "code",
   "execution_count": 30,
   "metadata": {},
   "outputs": [
    {
     "data": {
      "text/plain": [
       "count      248.000000\n",
       "mean      6702.185484\n",
       "std       9985.790077\n",
       "min          0.000000\n",
       "25%        171.750000\n",
       "50%       1127.500000\n",
       "75%      11786.500000\n",
       "max      56279.000000\n",
       "Name: valor, dtype: float64"
      ]
     },
     "execution_count": 30,
     "metadata": {},
     "output_type": "execute_result"
    }
   ],
   "source": [
    "m_estado_def['valor'].describe()"
   ]
  },
  {
   "cell_type": "code",
   "execution_count": 40,
   "metadata": {},
   "outputs": [
    {
     "data": {
      "text/plain": [
       "Index(['cve_entidad', 'desc_entidad', 'cve_municipio', 'desc_municipio',\n",
       "       'id_indicador', 'indicador', 'año', 'valor', 'unidad_medida'],\n",
       "      dtype='object')"
      ]
     },
     "execution_count": 40,
     "metadata": {},
     "output_type": "execute_result"
    }
   ],
   "source": [
    "m_estado_def.columns"
   ]
  },
  {
   "attachments": {},
   "cell_type": "markdown",
   "metadata": {},
   "source": [
    "### Visualizando los datos"
   ]
  },
  {
   "cell_type": "code",
   "execution_count": 43,
   "metadata": {},
   "outputs": [
    {
     "data": {
      "text/html": [
       "<div>\n",
       "<style scoped>\n",
       "    .dataframe tbody tr th:only-of-type {\n",
       "        vertical-align: middle;\n",
       "    }\n",
       "\n",
       "    .dataframe tbody tr th {\n",
       "        vertical-align: top;\n",
       "    }\n",
       "\n",
       "    .dataframe thead th {\n",
       "        text-align: right;\n",
       "    }\n",
       "</style>\n",
       "<table border=\"1\" class=\"dataframe\">\n",
       "  <thead>\n",
       "    <tr style=\"text-align: right;\">\n",
       "      <th></th>\n",
       "      <th>cve_entidad</th>\n",
       "      <th>desc_entidad</th>\n",
       "      <th>cve_municipio</th>\n",
       "      <th>desc_municipio</th>\n",
       "      <th>id_indicador</th>\n",
       "      <th>indicador</th>\n",
       "      <th>año</th>\n",
       "      <th>valor</th>\n",
       "      <th>unidad_medida</th>\n",
       "    </tr>\n",
       "  </thead>\n",
       "  <tbody>\n",
       "    <tr>\n",
       "      <th>0</th>\n",
       "      <td>11</td>\n",
       "      <td>Guanajuato</td>\n",
       "      <td>0</td>\n",
       "      <td>Estatal</td>\n",
       "      <td>1002000030</td>\n",
       "      <td>Defunciones generales</td>\n",
       "      <td>1994</td>\n",
       "      <td>20798.0</td>\n",
       "      <td>Defunciones</td>\n",
       "    </tr>\n",
       "    <tr>\n",
       "      <th>1</th>\n",
       "      <td>11</td>\n",
       "      <td>Guanajuato</td>\n",
       "      <td>0</td>\n",
       "      <td>Estatal</td>\n",
       "      <td>1002000030</td>\n",
       "      <td>Defunciones generales</td>\n",
       "      <td>1995</td>\n",
       "      <td>21482.0</td>\n",
       "      <td>Defunciones</td>\n",
       "    </tr>\n",
       "    <tr>\n",
       "      <th>2</th>\n",
       "      <td>11</td>\n",
       "      <td>Guanajuato</td>\n",
       "      <td>0</td>\n",
       "      <td>Estatal</td>\n",
       "      <td>1002000030</td>\n",
       "      <td>Defunciones generales</td>\n",
       "      <td>1996</td>\n",
       "      <td>21469.0</td>\n",
       "      <td>Defunciones</td>\n",
       "    </tr>\n",
       "    <tr>\n",
       "      <th>3</th>\n",
       "      <td>11</td>\n",
       "      <td>Guanajuato</td>\n",
       "      <td>0</td>\n",
       "      <td>Estatal</td>\n",
       "      <td>1002000030</td>\n",
       "      <td>Defunciones generales</td>\n",
       "      <td>1997</td>\n",
       "      <td>21492.0</td>\n",
       "      <td>Defunciones</td>\n",
       "    </tr>\n",
       "    <tr>\n",
       "      <th>4</th>\n",
       "      <td>11</td>\n",
       "      <td>Guanajuato</td>\n",
       "      <td>0</td>\n",
       "      <td>Estatal</td>\n",
       "      <td>1002000030</td>\n",
       "      <td>Defunciones generales</td>\n",
       "      <td>1998</td>\n",
       "      <td>21759.0</td>\n",
       "      <td>Defunciones</td>\n",
       "    </tr>\n",
       "    <tr>\n",
       "      <th>...</th>\n",
       "      <td>...</td>\n",
       "      <td>...</td>\n",
       "      <td>...</td>\n",
       "      <td>...</td>\n",
       "      <td>...</td>\n",
       "      <td>...</td>\n",
       "      <td>...</td>\n",
       "      <td>...</td>\n",
       "      <td>...</td>\n",
       "    </tr>\n",
       "    <tr>\n",
       "      <th>243</th>\n",
       "      <td>11</td>\n",
       "      <td>Guanajuato</td>\n",
       "      <td>0</td>\n",
       "      <td>Estatal</td>\n",
       "      <td>6200240338</td>\n",
       "      <td>Suicidios registrados</td>\n",
       "      <td>2017</td>\n",
       "      <td>494.0</td>\n",
       "      <td>Defunciones</td>\n",
       "    </tr>\n",
       "    <tr>\n",
       "      <th>244</th>\n",
       "      <td>11</td>\n",
       "      <td>Guanajuato</td>\n",
       "      <td>0</td>\n",
       "      <td>Estatal</td>\n",
       "      <td>6200240338</td>\n",
       "      <td>Suicidios registrados</td>\n",
       "      <td>2018</td>\n",
       "      <td>504.0</td>\n",
       "      <td>Defunciones</td>\n",
       "    </tr>\n",
       "    <tr>\n",
       "      <th>245</th>\n",
       "      <td>11</td>\n",
       "      <td>Guanajuato</td>\n",
       "      <td>0</td>\n",
       "      <td>Estatal</td>\n",
       "      <td>6200240338</td>\n",
       "      <td>Suicidios registrados</td>\n",
       "      <td>2019</td>\n",
       "      <td>493.0</td>\n",
       "      <td>Defunciones</td>\n",
       "    </tr>\n",
       "    <tr>\n",
       "      <th>246</th>\n",
       "      <td>11</td>\n",
       "      <td>Guanajuato</td>\n",
       "      <td>0</td>\n",
       "      <td>Estatal</td>\n",
       "      <td>6200240338</td>\n",
       "      <td>Suicidios registrados</td>\n",
       "      <td>2020</td>\n",
       "      <td>501.0</td>\n",
       "      <td>Defunciones</td>\n",
       "    </tr>\n",
       "    <tr>\n",
       "      <th>247</th>\n",
       "      <td>11</td>\n",
       "      <td>Guanajuato</td>\n",
       "      <td>0</td>\n",
       "      <td>Estatal</td>\n",
       "      <td>6200240338</td>\n",
       "      <td>Suicidios registrados</td>\n",
       "      <td>2021</td>\n",
       "      <td>449.0</td>\n",
       "      <td>Defunciones</td>\n",
       "    </tr>\n",
       "  </tbody>\n",
       "</table>\n",
       "<p>248 rows × 9 columns</p>\n",
       "</div>"
      ],
      "text/plain": [
       "     cve_entidad desc_entidad  cve_municipio desc_municipio  id_indicador  \\\n",
       "0             11   Guanajuato              0        Estatal    1002000030   \n",
       "1             11   Guanajuato              0        Estatal    1002000030   \n",
       "2             11   Guanajuato              0        Estatal    1002000030   \n",
       "3             11   Guanajuato              0        Estatal    1002000030   \n",
       "4             11   Guanajuato              0        Estatal    1002000030   \n",
       "..           ...          ...            ...            ...           ...   \n",
       "243           11   Guanajuato              0        Estatal    6200240338   \n",
       "244           11   Guanajuato              0        Estatal    6200240338   \n",
       "245           11   Guanajuato              0        Estatal    6200240338   \n",
       "246           11   Guanajuato              0        Estatal    6200240338   \n",
       "247           11   Guanajuato              0        Estatal    6200240338   \n",
       "\n",
       "                 indicador   año    valor unidad_medida  \n",
       "0    Defunciones generales  1994  20798.0   Defunciones  \n",
       "1    Defunciones generales  1995  21482.0   Defunciones  \n",
       "2    Defunciones generales  1996  21469.0   Defunciones  \n",
       "3    Defunciones generales  1997  21492.0   Defunciones  \n",
       "4    Defunciones generales  1998  21759.0   Defunciones  \n",
       "..                     ...   ...      ...           ...  \n",
       "243  Suicidios registrados  2017    494.0   Defunciones  \n",
       "244  Suicidios registrados  2018    504.0   Defunciones  \n",
       "245  Suicidios registrados  2019    493.0   Defunciones  \n",
       "246  Suicidios registrados  2020    501.0   Defunciones  \n",
       "247  Suicidios registrados  2021    449.0   Defunciones  \n",
       "\n",
       "[248 rows x 9 columns]"
      ]
     },
     "execution_count": 43,
     "metadata": {},
     "output_type": "execute_result"
    }
   ],
   "source": [
    "m_estado_def"
   ]
  },
  {
   "cell_type": "code",
   "execution_count": 52,
   "metadata": {},
   "outputs": [
    {
     "data": {
      "image/png": "[encoded data removed]",
      "text/plain": [
       "<Figure size 1000x500 with 1 Axes>"
      ]
     },
     "metadata": {},
     "output_type": "display_data"
    }
   ],
   "source": [
    "defunciones_tiempo = m_estado_def.groupby('año')['valor'].sum()\n",
    "\n",
    "defunciones_tiempo.plot(kind='line',figsize=(10,5))\n",
    "\n",
    "plt.show()"
   ]
  },
  {
   "cell_type": "code",
   "execution_count": 56,
   "metadata": {},
   "outputs": [
    {
     "data": {
      "text/plain": [
       "indicador\n",
       "Defunciones de menores de un año                             51294.0\n",
       "Defunciones de menores de un año de sexo no especificado       111.0\n",
       "Defunciones de menores de un año hombres                     29025.0\n",
       "Defunciones de menores de un año mujeres                     22158.0\n",
       "Defunciones generales                                       775725.0\n",
       "Defunciones generales de sexo no especificado                  187.0\n",
       "Defunciones generales hombres                               431162.0\n",
       "Defunciones generales mujeres                               344376.0\n",
       "Suicidios registrados                                         8104.0\n",
       "Name: valor, dtype: float64"
      ]
     },
     "execution_count": 56,
     "metadata": {},
     "output_type": "execute_result"
    }
   ],
   "source": [
    "categoria_total = m_estado_def.groupby('indicador')['valor'].sum()\n",
    "\n",
    "categoria_total"
   ]
  },
  {
   "cell_type": "code",
   "execution_count": 66,
   "metadata": {},
   "outputs": [
    {
     "data": {
      "image/png": "[encoded data removed]",
      "text/plain": [
       "<Figure size 1000x500 with 1 Axes>"
      ]
     },
     "metadata": {},
     "output_type": "display_data"
    }
   ],
   "source": [
    "categoria_total.plot(kind='bar',alpha=0.80,rot=90,figsize=(10,5))\n",
    "\n",
    "plt.show()"
   ]
  }
 ],
 "metadata": {
  "kernelspec": {
   "display_name": "Python 3",
   "language": "python",
   "name": "python3"
  },
  "language_info": {
   "codemirror_mode": {
    "name": "ipython",
    "version": 3
   },
   "file_extension": ".py",
   "mimetype": "text/x-python",
   "name": "python",
   "nbconvert_exporter": "python",
   "pygments_lexer": "ipython3",
   "version": "3.10.7"
  },
  "orig_nbformat": 4,
  "vscode": {
   "interpreter": {
    "hash": "9b08c9044cd959939240cbf789e09a957ff3db95952f3f867613436645c90b3d"
   }
  }
 },
 "nbformat": 4,
 "nbformat_minor": 2
}
